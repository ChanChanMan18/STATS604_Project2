{
 "cells": [
  {
   "cell_type": "markdown",
   "id": "6c05e088-6e89-4a13-9780-feff4774a4e7",
   "metadata": {},
   "source": [
    "## Loading Libraries"
   ]
  },
  {
   "cell_type": "code",
   "execution_count": 55,
   "id": "f3162157-3f3d-4677-a257-f019bcb09c2d",
   "metadata": {},
   "outputs": [],
   "source": [
    "import pyreadr\n",
    "import pandas as pd\n",
    "import numpy as np\n",
    "from sklearn.manifold import TSNE\n",
    "from sklearn.preprocessing import StandardScaler\n",
    "from sklearn.decomposition import PCA\n",
    "import matplotlib.pyplot as plt\n",
    "import seaborn as sns\n",
    "import plotly.express as px\n",
    "import plotly.graph_objects as go\n",
    "from plotly.subplots import make_subplots\n",
    "%matplotlib widget"
   ]
  },
  {
   "cell_type": "markdown",
   "id": "eed7ac15-b051-49c1-af48-9008ed9e9a02",
   "metadata": {},
   "source": [
    "## Reading in Data"
   ]
  },
  {
   "cell_type": "code",
   "execution_count": 57,
   "id": "6119c392-cd7e-4080-946b-aa4a6d2f5ce4",
   "metadata": {},
   "outputs": [],
   "source": [
    "# Reading in Data\n",
    "dataset = pyreadr.read_r(\"../data/raw_data/brain.rda\")"
   ]
  },
  {
   "cell_type": "code",
   "execution_count": 58,
   "id": "7cc4ffd4-8b3e-468a-a8d8-92f1889f5db5",
   "metadata": {},
   "outputs": [],
   "source": [
    "arraymeta_data = dataset['arraymeta']"
   ]
  },
  {
   "cell_type": "code",
   "execution_count": 59,
   "id": "b5872a12-8c36-412e-be2e-c3ce82a55849",
   "metadata": {},
   "outputs": [],
   "source": [
    "expression_data = dataset['expression']"
   ]
  },
  {
   "cell_type": "code",
   "execution_count": 60,
   "id": "b39a5d99-cdf6-4bea-be7f-c26200dc3ef7",
   "metadata": {},
   "outputs": [],
   "source": [
    "genemeta_data = dataset['genemeta']"
   ]
  },
  {
   "cell_type": "markdown",
   "id": "73b84f62-e705-407e-a173-48dae667e8c5",
   "metadata": {},
   "source": [
    "## Initial EDA"
   ]
  },
  {
   "cell_type": "markdown",
   "id": "198b2d39-a7b0-4bae-9222-2732f342bdd5",
   "metadata": {},
   "source": [
    "### Counts from each brain region"
   ]
  },
  {
   "cell_type": "code",
   "execution_count": 61,
   "id": "25aca278-c46a-414b-8c9d-f297ce55b5dd",
   "metadata": {},
   "outputs": [
    {
     "data": {
      "text/plain": [
       "array([1.])"
      ]
     },
     "execution_count": 61,
     "metadata": {},
     "output_type": "execute_result"
    }
   ],
   "source": [
    "# Determining the number of brain regions in each sample (apparently always 1)\n",
    "arraymeta_data[['region.ancg', 'region.cb', 'region.dlpfc']].sum(axis=1).unique()"
   ]
  },
  {
   "cell_type": "code",
   "execution_count": 62,
   "id": "8feb4aa7-ea4e-4f48-aff0-d03324f43012",
   "metadata": {},
   "outputs": [
    {
     "data": {
      "text/plain": [
       "region.ancg     127.0\n",
       "region.cb        81.0\n",
       "region.dlpfc    178.0\n",
       "dtype: float64"
      ]
     },
     "execution_count": 62,
     "metadata": {},
     "output_type": "execute_result"
    }
   ],
   "source": [
    "# Total number of samples from each brain region\n",
    "arraymeta_data[['region.ancg', 'region.cb', 'region.dlpfc']].sum(axis = 0)"
   ]
  },
  {
   "cell_type": "code",
   "execution_count": 63,
   "id": "77d9c141-ff06-4031-a552-239c36a5ccd9",
   "metadata": {},
   "outputs": [
    {
     "name": "stdout",
     "output_type": "stream",
     "text": [
      "lab     davis  irvine  michigan\n",
      "region                         \n",
      "ancg        0      66        61\n",
      "cb         21      42        18\n",
      "dlpfc      85       9        84\n"
     ]
    }
   ],
   "source": [
    "### Cross tab by brain region and lab\n",
    "# Create factors for brain region and lab\n",
    "arraymeta_data['region'] = arraymeta_data[['region.ancg', 'region.cb', 'region.dlpfc']].idxmax(axis=1).str.replace('region.', '')\n",
    "arraymeta_data['lab'] = arraymeta_data[['lab.davis', 'lab.irvine', 'lab.michigan']].idxmax(axis=1).str.replace('lab.', '')\n",
    "\n",
    "# Cross tab\n",
    "cross_tab_region_lab = pd.crosstab(arraymeta_data['region'], arraymeta_data['lab'])\n",
    "\n",
    "# Print results\n",
    "print(cross_tab_region_lab)"
   ]
  },
  {
   "cell_type": "markdown",
   "id": "d097d123-a70e-419b-bff0-09113440c77b",
   "metadata": {},
   "source": [
    "### Counts by age"
   ]
  },
  {
   "cell_type": "code",
   "execution_count": 64,
   "id": "a15d7cc4-a6d7-4c21-9bee-3ae9d40827b0",
   "metadata": {},
   "outputs": [],
   "source": [
    "### Cross tab by brain region and age\n",
    "# Cross tab\n",
    "cross_tab_br_age = pd.crosstab(arraymeta_data['age'], arraymeta_data['region'])\n"
   ]
  },
  {
   "cell_type": "code",
   "execution_count": 65,
   "id": "224d7daa-7ee6-4c44-bcfb-4be70aa54b76",
   "metadata": {},
   "outputs": [
    {
     "name": "stdout",
     "output_type": "stream",
     "text": [
      "age_group  <70  >=70\n",
      "region              \n",
      "ancg       104    23\n",
      "cb          70    11\n",
      "dlpfc      146    32\n"
     ]
    }
   ],
   "source": [
    "### Cross tab by brain region and age ranges of interest\n",
    "# Split pandas dataframe by age group\n",
    "def categorize_age(age):\n",
    "    if age < 70:\n",
    "        return '<70'\n",
    "    else:\n",
    "        return '>=70'\n",
    "\n",
    "arraymeta_data['age_group'] = arraymeta_data['age'].apply(categorize_age)\n",
    "\n",
    "# Cross tab\n",
    "cross_tab_region_agegrp = pd.crosstab(arraymeta_data['region'], arraymeta_data['age_group'])\n",
    "\n",
    "# Print results\n",
    "print(cross_tab_region_agegrp)"
   ]
  },
  {
   "cell_type": "markdown",
   "id": "23835dd1-23e3-4aab-ba7c-17ab82057f63",
   "metadata": {},
   "source": [
    "### Investigating Missingness"
   ]
  },
  {
   "cell_type": "code",
   "execution_count": 66,
   "id": "874076d0",
   "metadata": {},
   "outputs": [
    {
     "data": {
      "text/plain": [
       "np.False_"
      ]
     },
     "execution_count": 66,
     "metadata": {},
     "output_type": "execute_result"
    }
   ],
   "source": [
    "any_NaN = expression_data.isna().any().any()\n",
    "any_NaN"
   ]
  },
  {
   "cell_type": "markdown",
   "id": "f8161418",
   "metadata": {},
   "source": [
    "Evidently, there is no missing expression data."
   ]
  },
  {
   "cell_type": "code",
   "execution_count": 67,
   "id": "8855540a",
   "metadata": {},
   "outputs": [
    {
     "data": {
      "text/plain": [
       "np.False_"
      ]
     },
     "execution_count": 67,
     "metadata": {},
     "output_type": "execute_result"
    }
   ],
   "source": [
    "inf_mask = np.isinf(expression_data.to_numpy())\n",
    "has_inf = inf_mask.any()\n",
    "has_inf"
   ]
  },
  {
   "cell_type": "markdown",
   "id": "1576ddf9",
   "metadata": {},
   "source": [
    "Evidently, there were no spots for which there was zero count. Therefore, we can blindly convert to raw count data."
   ]
  },
  {
   "cell_type": "markdown",
   "id": "9b75fdc4",
   "metadata": {},
   "source": [
    "### Converting to raw counts"
   ]
  },
  {
   "cell_type": "code",
   "execution_count": 68,
   "id": "f2bb4854",
   "metadata": {},
   "outputs": [],
   "source": [
    "raw_counts = 2.0**expression_data"
   ]
  },
  {
   "cell_type": "code",
   "execution_count": 69,
   "id": "1829c5c6",
   "metadata": {},
   "outputs": [
    {
     "data": {
      "text/html": [
       "<div>\n",
       "<style scoped>\n",
       "    .dataframe tbody tr th:only-of-type {\n",
       "        vertical-align: middle;\n",
       "    }\n",
       "\n",
       "    .dataframe tbody tr th {\n",
       "        vertical-align: top;\n",
       "    }\n",
       "\n",
       "    .dataframe thead th {\n",
       "        text-align: right;\n",
       "    }\n",
       "</style>\n",
       "<table border=\"1\" class=\"dataframe\">\n",
       "  <thead>\n",
       "    <tr style=\"text-align: right;\">\n",
       "      <th></th>\n",
       "      <th>1007_s_at</th>\n",
       "      <th>1053_at</th>\n",
       "      <th>117_at</th>\n",
       "      <th>121_at</th>\n",
       "      <th>1255_g_at</th>\n",
       "      <th>1294_at</th>\n",
       "      <th>1316_at</th>\n",
       "      <th>1320_at</th>\n",
       "      <th>1405_i_at</th>\n",
       "      <th>1431_at</th>\n",
       "      <th>...</th>\n",
       "      <th>AFFX-r2-Ec-bioD-3_at</th>\n",
       "      <th>AFFX-r2-Ec-bioD-5_at</th>\n",
       "      <th>AFFX-r2-P1-cre-3_at</th>\n",
       "      <th>AFFX-r2-P1-cre-5_at</th>\n",
       "      <th>AFFX-ThrX-3_at</th>\n",
       "      <th>AFFX-ThrX-5_at</th>\n",
       "      <th>AFFX-ThrX-M_at</th>\n",
       "      <th>AFFX-TrpnX-3_at</th>\n",
       "      <th>AFFX-TrpnX-5_at</th>\n",
       "      <th>AFFX-TrpnX-M_at</th>\n",
       "    </tr>\n",
       "  </thead>\n",
       "  <tbody>\n",
       "    <tr>\n",
       "      <th>0</th>\n",
       "      <td>387.319762</td>\n",
       "      <td>99.995390</td>\n",
       "      <td>107.069361</td>\n",
       "      <td>213.580369</td>\n",
       "      <td>89.099783</td>\n",
       "      <td>167.536728</td>\n",
       "      <td>106.504334</td>\n",
       "      <td>90.602868</td>\n",
       "      <td>79.456965</td>\n",
       "      <td>77.437849</td>\n",
       "      <td>...</td>\n",
       "      <td>710.216462</td>\n",
       "      <td>614.581285</td>\n",
       "      <td>2956.635385</td>\n",
       "      <td>2536.878315</td>\n",
       "      <td>86.073393</td>\n",
       "      <td>74.141082</td>\n",
       "      <td>67.477990</td>\n",
       "      <td>61.518134</td>\n",
       "      <td>66.267422</td>\n",
       "      <td>66.697899</td>\n",
       "    </tr>\n",
       "    <tr>\n",
       "      <th>1</th>\n",
       "      <td>181.952916</td>\n",
       "      <td>72.796081</td>\n",
       "      <td>83.120395</td>\n",
       "      <td>142.286599</td>\n",
       "      <td>64.123319</td>\n",
       "      <td>91.517089</td>\n",
       "      <td>86.253694</td>\n",
       "      <td>68.853105</td>\n",
       "      <td>61.731534</td>\n",
       "      <td>61.713913</td>\n",
       "      <td>...</td>\n",
       "      <td>406.000000</td>\n",
       "      <td>461.920071</td>\n",
       "      <td>1911.190794</td>\n",
       "      <td>1821.064081</td>\n",
       "      <td>67.522006</td>\n",
       "      <td>57.810543</td>\n",
       "      <td>53.158979</td>\n",
       "      <td>55.608221</td>\n",
       "      <td>55.277904</td>\n",
       "      <td>59.509673</td>\n",
       "    </tr>\n",
       "    <tr>\n",
       "      <th>2</th>\n",
       "      <td>568.816523</td>\n",
       "      <td>182.144997</td>\n",
       "      <td>242.990359</td>\n",
       "      <td>878.528816</td>\n",
       "      <td>127.251571</td>\n",
       "      <td>266.827919</td>\n",
       "      <td>293.804928</td>\n",
       "      <td>172.850960</td>\n",
       "      <td>132.277616</td>\n",
       "      <td>144.005460</td>\n",
       "      <td>...</td>\n",
       "      <td>1725.599603</td>\n",
       "      <td>1646.239938</td>\n",
       "      <td>7159.503900</td>\n",
       "      <td>6010.863650</td>\n",
       "      <td>151.393851</td>\n",
       "      <td>137.913580</td>\n",
       "      <td>121.364314</td>\n",
       "      <td>94.579821</td>\n",
       "      <td>130.154275</td>\n",
       "      <td>126.981356</td>\n",
       "    </tr>\n",
       "    <tr>\n",
       "      <th>3</th>\n",
       "      <td>714.478698</td>\n",
       "      <td>150.059950</td>\n",
       "      <td>160.955522</td>\n",
       "      <td>422.935589</td>\n",
       "      <td>119.184219</td>\n",
       "      <td>252.372614</td>\n",
       "      <td>148.405140</td>\n",
       "      <td>123.347625</td>\n",
       "      <td>92.441725</td>\n",
       "      <td>102.564434</td>\n",
       "      <td>...</td>\n",
       "      <td>1621.500000</td>\n",
       "      <td>1578.500000</td>\n",
       "      <td>6217.186078</td>\n",
       "      <td>5189.241045</td>\n",
       "      <td>117.079125</td>\n",
       "      <td>89.734632</td>\n",
       "      <td>80.498447</td>\n",
       "      <td>77.718044</td>\n",
       "      <td>83.253507</td>\n",
       "      <td>81.731268</td>\n",
       "    </tr>\n",
       "    <tr>\n",
       "      <th>4</th>\n",
       "      <td>1853.007231</td>\n",
       "      <td>380.905140</td>\n",
       "      <td>366.904789</td>\n",
       "      <td>1056.802057</td>\n",
       "      <td>265.735867</td>\n",
       "      <td>527.142253</td>\n",
       "      <td>332.986646</td>\n",
       "      <td>277.482769</td>\n",
       "      <td>197.160947</td>\n",
       "      <td>255.521948</td>\n",
       "      <td>...</td>\n",
       "      <td>5676.013135</td>\n",
       "      <td>4519.128223</td>\n",
       "      <td>15419.000000</td>\n",
       "      <td>15838.380766</td>\n",
       "      <td>295.362776</td>\n",
       "      <td>184.489809</td>\n",
       "      <td>156.316473</td>\n",
       "      <td>152.540475</td>\n",
       "      <td>161.040698</td>\n",
       "      <td>166.389461</td>\n",
       "    </tr>\n",
       "    <tr>\n",
       "      <th>...</th>\n",
       "      <td>...</td>\n",
       "      <td>...</td>\n",
       "      <td>...</td>\n",
       "      <td>...</td>\n",
       "      <td>...</td>\n",
       "      <td>...</td>\n",
       "      <td>...</td>\n",
       "      <td>...</td>\n",
       "      <td>...</td>\n",
       "      <td>...</td>\n",
       "      <td>...</td>\n",
       "      <td>...</td>\n",
       "      <td>...</td>\n",
       "      <td>...</td>\n",
       "      <td>...</td>\n",
       "      <td>...</td>\n",
       "      <td>...</td>\n",
       "      <td>...</td>\n",
       "      <td>...</td>\n",
       "      <td>...</td>\n",
       "      <td>...</td>\n",
       "    </tr>\n",
       "    <tr>\n",
       "      <th>381</th>\n",
       "      <td>884.497808</td>\n",
       "      <td>254.243143</td>\n",
       "      <td>308.459930</td>\n",
       "      <td>671.970093</td>\n",
       "      <td>192.455857</td>\n",
       "      <td>352.572584</td>\n",
       "      <td>349.122204</td>\n",
       "      <td>232.089964</td>\n",
       "      <td>181.232530</td>\n",
       "      <td>162.219440</td>\n",
       "      <td>...</td>\n",
       "      <td>2511.683933</td>\n",
       "      <td>2172.133829</td>\n",
       "      <td>7999.244943</td>\n",
       "      <td>6631.000000</td>\n",
       "      <td>195.810323</td>\n",
       "      <td>168.935993</td>\n",
       "      <td>147.511324</td>\n",
       "      <td>130.781689</td>\n",
       "      <td>148.869539</td>\n",
       "      <td>157.160307</td>\n",
       "    </tr>\n",
       "    <tr>\n",
       "      <th>382</th>\n",
       "      <td>1105.382192</td>\n",
       "      <td>292.750501</td>\n",
       "      <td>277.136027</td>\n",
       "      <td>677.357661</td>\n",
       "      <td>197.636075</td>\n",
       "      <td>363.512240</td>\n",
       "      <td>324.591934</td>\n",
       "      <td>221.521906</td>\n",
       "      <td>191.907476</td>\n",
       "      <td>185.552288</td>\n",
       "      <td>...</td>\n",
       "      <td>4972.108083</td>\n",
       "      <td>4024.000000</td>\n",
       "      <td>12735.500106</td>\n",
       "      <td>10587.261548</td>\n",
       "      <td>196.598365</td>\n",
       "      <td>169.877272</td>\n",
       "      <td>149.663071</td>\n",
       "      <td>133.697916</td>\n",
       "      <td>155.655627</td>\n",
       "      <td>159.864875</td>\n",
       "    </tr>\n",
       "    <tr>\n",
       "      <th>383</th>\n",
       "      <td>1411.067554</td>\n",
       "      <td>361.087946</td>\n",
       "      <td>299.491670</td>\n",
       "      <td>822.571064</td>\n",
       "      <td>200.483319</td>\n",
       "      <td>449.383565</td>\n",
       "      <td>513.816399</td>\n",
       "      <td>269.527099</td>\n",
       "      <td>181.641731</td>\n",
       "      <td>211.902213</td>\n",
       "      <td>...</td>\n",
       "      <td>8574.641373</td>\n",
       "      <td>8673.663027</td>\n",
       "      <td>19252.206450</td>\n",
       "      <td>18261.000000</td>\n",
       "      <td>203.691161</td>\n",
       "      <td>162.461503</td>\n",
       "      <td>144.756131</td>\n",
       "      <td>134.172796</td>\n",
       "      <td>144.830645</td>\n",
       "      <td>163.699309</td>\n",
       "    </tr>\n",
       "    <tr>\n",
       "      <th>384</th>\n",
       "      <td>955.962463</td>\n",
       "      <td>283.633550</td>\n",
       "      <td>324.449824</td>\n",
       "      <td>657.072527</td>\n",
       "      <td>226.728469</td>\n",
       "      <td>346.784114</td>\n",
       "      <td>343.488894</td>\n",
       "      <td>228.994897</td>\n",
       "      <td>185.009308</td>\n",
       "      <td>169.153864</td>\n",
       "      <td>...</td>\n",
       "      <td>2022.228409</td>\n",
       "      <td>2016.940801</td>\n",
       "      <td>7184.000000</td>\n",
       "      <td>6179.190081</td>\n",
       "      <td>203.775918</td>\n",
       "      <td>188.569094</td>\n",
       "      <td>159.349699</td>\n",
       "      <td>140.853810</td>\n",
       "      <td>171.583195</td>\n",
       "      <td>174.641182</td>\n",
       "    </tr>\n",
       "    <tr>\n",
       "      <th>385</th>\n",
       "      <td>934.371599</td>\n",
       "      <td>227.974646</td>\n",
       "      <td>209.566704</td>\n",
       "      <td>567.606788</td>\n",
       "      <td>172.213337</td>\n",
       "      <td>317.950447</td>\n",
       "      <td>273.286626</td>\n",
       "      <td>184.866221</td>\n",
       "      <td>153.472842</td>\n",
       "      <td>165.935910</td>\n",
       "      <td>...</td>\n",
       "      <td>4735.442225</td>\n",
       "      <td>3463.000000</td>\n",
       "      <td>11802.000000</td>\n",
       "      <td>10027.557030</td>\n",
       "      <td>165.412683</td>\n",
       "      <td>145.748816</td>\n",
       "      <td>125.777539</td>\n",
       "      <td>115.757457</td>\n",
       "      <td>129.591046</td>\n",
       "      <td>126.418955</td>\n",
       "    </tr>\n",
       "  </tbody>\n",
       "</table>\n",
       "<p>386 rows × 22277 columns</p>\n",
       "</div>"
      ],
      "text/plain": [
       "       1007_s_at     1053_at      117_at       121_at   1255_g_at     1294_at  \\\n",
       "0     387.319762   99.995390  107.069361   213.580369   89.099783  167.536728   \n",
       "1     181.952916   72.796081   83.120395   142.286599   64.123319   91.517089   \n",
       "2     568.816523  182.144997  242.990359   878.528816  127.251571  266.827919   \n",
       "3     714.478698  150.059950  160.955522   422.935589  119.184219  252.372614   \n",
       "4    1853.007231  380.905140  366.904789  1056.802057  265.735867  527.142253   \n",
       "..           ...         ...         ...          ...         ...         ...   \n",
       "381   884.497808  254.243143  308.459930   671.970093  192.455857  352.572584   \n",
       "382  1105.382192  292.750501  277.136027   677.357661  197.636075  363.512240   \n",
       "383  1411.067554  361.087946  299.491670   822.571064  200.483319  449.383565   \n",
       "384   955.962463  283.633550  324.449824   657.072527  226.728469  346.784114   \n",
       "385   934.371599  227.974646  209.566704   567.606788  172.213337  317.950447   \n",
       "\n",
       "        1316_at     1320_at   1405_i_at     1431_at  ...  \\\n",
       "0    106.504334   90.602868   79.456965   77.437849  ...   \n",
       "1     86.253694   68.853105   61.731534   61.713913  ...   \n",
       "2    293.804928  172.850960  132.277616  144.005460  ...   \n",
       "3    148.405140  123.347625   92.441725  102.564434  ...   \n",
       "4    332.986646  277.482769  197.160947  255.521948  ...   \n",
       "..          ...         ...         ...         ...  ...   \n",
       "381  349.122204  232.089964  181.232530  162.219440  ...   \n",
       "382  324.591934  221.521906  191.907476  185.552288  ...   \n",
       "383  513.816399  269.527099  181.641731  211.902213  ...   \n",
       "384  343.488894  228.994897  185.009308  169.153864  ...   \n",
       "385  273.286626  184.866221  153.472842  165.935910  ...   \n",
       "\n",
       "     AFFX-r2-Ec-bioD-3_at  AFFX-r2-Ec-bioD-5_at  AFFX-r2-P1-cre-3_at  \\\n",
       "0              710.216462            614.581285          2956.635385   \n",
       "1              406.000000            461.920071          1911.190794   \n",
       "2             1725.599603           1646.239938          7159.503900   \n",
       "3             1621.500000           1578.500000          6217.186078   \n",
       "4             5676.013135           4519.128223         15419.000000   \n",
       "..                    ...                   ...                  ...   \n",
       "381           2511.683933           2172.133829          7999.244943   \n",
       "382           4972.108083           4024.000000         12735.500106   \n",
       "383           8574.641373           8673.663027         19252.206450   \n",
       "384           2022.228409           2016.940801          7184.000000   \n",
       "385           4735.442225           3463.000000         11802.000000   \n",
       "\n",
       "     AFFX-r2-P1-cre-5_at  AFFX-ThrX-3_at  AFFX-ThrX-5_at  AFFX-ThrX-M_at  \\\n",
       "0            2536.878315       86.073393       74.141082       67.477990   \n",
       "1            1821.064081       67.522006       57.810543       53.158979   \n",
       "2            6010.863650      151.393851      137.913580      121.364314   \n",
       "3            5189.241045      117.079125       89.734632       80.498447   \n",
       "4           15838.380766      295.362776      184.489809      156.316473   \n",
       "..                   ...             ...             ...             ...   \n",
       "381          6631.000000      195.810323      168.935993      147.511324   \n",
       "382         10587.261548      196.598365      169.877272      149.663071   \n",
       "383         18261.000000      203.691161      162.461503      144.756131   \n",
       "384          6179.190081      203.775918      188.569094      159.349699   \n",
       "385         10027.557030      165.412683      145.748816      125.777539   \n",
       "\n",
       "     AFFX-TrpnX-3_at  AFFX-TrpnX-5_at  AFFX-TrpnX-M_at  \n",
       "0          61.518134        66.267422        66.697899  \n",
       "1          55.608221        55.277904        59.509673  \n",
       "2          94.579821       130.154275       126.981356  \n",
       "3          77.718044        83.253507        81.731268  \n",
       "4         152.540475       161.040698       166.389461  \n",
       "..               ...              ...              ...  \n",
       "381       130.781689       148.869539       157.160307  \n",
       "382       133.697916       155.655627       159.864875  \n",
       "383       134.172796       144.830645       163.699309  \n",
       "384       140.853810       171.583195       174.641182  \n",
       "385       115.757457       129.591046       126.418955  \n",
       "\n",
       "[386 rows x 22277 columns]"
      ]
     },
     "execution_count": 69,
     "metadata": {},
     "output_type": "execute_result"
    }
   ],
   "source": [
    "raw_counts"
   ]
  },
  {
   "cell_type": "code",
   "execution_count": 70,
   "id": "7bd0ef9f",
   "metadata": {},
   "outputs": [
    {
     "data": {
      "text/html": [
       "<div>\n",
       "<style scoped>\n",
       "    .dataframe tbody tr th:only-of-type {\n",
       "        vertical-align: middle;\n",
       "    }\n",
       "\n",
       "    .dataframe tbody tr th {\n",
       "        vertical-align: top;\n",
       "    }\n",
       "\n",
       "    .dataframe thead th {\n",
       "        text-align: right;\n",
       "    }\n",
       "</style>\n",
       "<table border=\"1\" class=\"dataframe\">\n",
       "  <thead>\n",
       "    <tr style=\"text-align: right;\">\n",
       "      <th></th>\n",
       "      <th>patient</th>\n",
       "      <th>region.ancg</th>\n",
       "      <th>region.cb</th>\n",
       "      <th>region.dlpfc</th>\n",
       "      <th>lab.davis</th>\n",
       "      <th>lab.irvine</th>\n",
       "      <th>lab.michigan</th>\n",
       "      <th>age</th>\n",
       "      <th>sex</th>\n",
       "      <th>arrayversion</th>\n",
       "      <th>region</th>\n",
       "      <th>lab</th>\n",
       "      <th>age_group</th>\n",
       "    </tr>\n",
       "  </thead>\n",
       "  <tbody>\n",
       "    <tr>\n",
       "      <th>0</th>\n",
       "      <td>1834</td>\n",
       "      <td>1.0</td>\n",
       "      <td>0.0</td>\n",
       "      <td>0.0</td>\n",
       "      <td>0.0</td>\n",
       "      <td>1.0</td>\n",
       "      <td>0.0</td>\n",
       "      <td>40</td>\n",
       "      <td>M</td>\n",
       "      <td>1.0</td>\n",
       "      <td>ancg</td>\n",
       "      <td>irvine</td>\n",
       "      <td>&lt;70</td>\n",
       "    </tr>\n",
       "    <tr>\n",
       "      <th>1</th>\n",
       "      <td>1834</td>\n",
       "      <td>0.0</td>\n",
       "      <td>1.0</td>\n",
       "      <td>0.0</td>\n",
       "      <td>0.0</td>\n",
       "      <td>1.0</td>\n",
       "      <td>0.0</td>\n",
       "      <td>40</td>\n",
       "      <td>M</td>\n",
       "      <td>1.0</td>\n",
       "      <td>cb</td>\n",
       "      <td>irvine</td>\n",
       "      <td>&lt;70</td>\n",
       "    </tr>\n",
       "    <tr>\n",
       "      <th>2</th>\n",
       "      <td>1834</td>\n",
       "      <td>0.0</td>\n",
       "      <td>1.0</td>\n",
       "      <td>0.0</td>\n",
       "      <td>0.0</td>\n",
       "      <td>0.0</td>\n",
       "      <td>1.0</td>\n",
       "      <td>40</td>\n",
       "      <td>M</td>\n",
       "      <td>1.0</td>\n",
       "      <td>cb</td>\n",
       "      <td>michigan</td>\n",
       "      <td>&lt;70</td>\n",
       "    </tr>\n",
       "    <tr>\n",
       "      <th>3</th>\n",
       "      <td>1834</td>\n",
       "      <td>0.0</td>\n",
       "      <td>0.0</td>\n",
       "      <td>1.0</td>\n",
       "      <td>1.0</td>\n",
       "      <td>0.0</td>\n",
       "      <td>0.0</td>\n",
       "      <td>40</td>\n",
       "      <td>M</td>\n",
       "      <td>1.0</td>\n",
       "      <td>dlpfc</td>\n",
       "      <td>davis</td>\n",
       "      <td>&lt;70</td>\n",
       "    </tr>\n",
       "    <tr>\n",
       "      <th>4</th>\n",
       "      <td>1834</td>\n",
       "      <td>0.0</td>\n",
       "      <td>0.0</td>\n",
       "      <td>1.0</td>\n",
       "      <td>1.0</td>\n",
       "      <td>0.0</td>\n",
       "      <td>0.0</td>\n",
       "      <td>40</td>\n",
       "      <td>M</td>\n",
       "      <td>2.0</td>\n",
       "      <td>dlpfc</td>\n",
       "      <td>davis</td>\n",
       "      <td>&lt;70</td>\n",
       "    </tr>\n",
       "    <tr>\n",
       "      <th>...</th>\n",
       "      <td>...</td>\n",
       "      <td>...</td>\n",
       "      <td>...</td>\n",
       "      <td>...</td>\n",
       "      <td>...</td>\n",
       "      <td>...</td>\n",
       "      <td>...</td>\n",
       "      <td>...</td>\n",
       "      <td>...</td>\n",
       "      <td>...</td>\n",
       "      <td>...</td>\n",
       "      <td>...</td>\n",
       "      <td>...</td>\n",
       "    </tr>\n",
       "    <tr>\n",
       "      <th>381</th>\n",
       "      <td>4236</td>\n",
       "      <td>1.0</td>\n",
       "      <td>0.0</td>\n",
       "      <td>0.0</td>\n",
       "      <td>0.0</td>\n",
       "      <td>0.0</td>\n",
       "      <td>1.0</td>\n",
       "      <td>63</td>\n",
       "      <td>M</td>\n",
       "      <td>2.0</td>\n",
       "      <td>ancg</td>\n",
       "      <td>michigan</td>\n",
       "      <td>&lt;70</td>\n",
       "    </tr>\n",
       "    <tr>\n",
       "      <th>382</th>\n",
       "      <td>4236</td>\n",
       "      <td>0.0</td>\n",
       "      <td>0.0</td>\n",
       "      <td>1.0</td>\n",
       "      <td>0.0</td>\n",
       "      <td>0.0</td>\n",
       "      <td>1.0</td>\n",
       "      <td>63</td>\n",
       "      <td>M</td>\n",
       "      <td>2.0</td>\n",
       "      <td>dlpfc</td>\n",
       "      <td>michigan</td>\n",
       "      <td>&lt;70</td>\n",
       "    </tr>\n",
       "    <tr>\n",
       "      <th>383</th>\n",
       "      <td>4250</td>\n",
       "      <td>1.0</td>\n",
       "      <td>0.0</td>\n",
       "      <td>0.0</td>\n",
       "      <td>0.0</td>\n",
       "      <td>1.0</td>\n",
       "      <td>0.0</td>\n",
       "      <td>64</td>\n",
       "      <td>M</td>\n",
       "      <td>2.0</td>\n",
       "      <td>ancg</td>\n",
       "      <td>irvine</td>\n",
       "      <td>&lt;70</td>\n",
       "    </tr>\n",
       "    <tr>\n",
       "      <th>384</th>\n",
       "      <td>4250</td>\n",
       "      <td>1.0</td>\n",
       "      <td>0.0</td>\n",
       "      <td>0.0</td>\n",
       "      <td>0.0</td>\n",
       "      <td>0.0</td>\n",
       "      <td>1.0</td>\n",
       "      <td>64</td>\n",
       "      <td>M</td>\n",
       "      <td>2.0</td>\n",
       "      <td>ancg</td>\n",
       "      <td>michigan</td>\n",
       "      <td>&lt;70</td>\n",
       "    </tr>\n",
       "    <tr>\n",
       "      <th>385</th>\n",
       "      <td>4250</td>\n",
       "      <td>0.0</td>\n",
       "      <td>0.0</td>\n",
       "      <td>1.0</td>\n",
       "      <td>0.0</td>\n",
       "      <td>0.0</td>\n",
       "      <td>1.0</td>\n",
       "      <td>64</td>\n",
       "      <td>M</td>\n",
       "      <td>2.0</td>\n",
       "      <td>dlpfc</td>\n",
       "      <td>michigan</td>\n",
       "      <td>&lt;70</td>\n",
       "    </tr>\n",
       "  </tbody>\n",
       "</table>\n",
       "<p>386 rows × 13 columns</p>\n",
       "</div>"
      ],
      "text/plain": [
       "    patient  region.ancg  region.cb  region.dlpfc  lab.davis  lab.irvine  \\\n",
       "0      1834          1.0        0.0           0.0        0.0         1.0   \n",
       "1      1834          0.0        1.0           0.0        0.0         1.0   \n",
       "2      1834          0.0        1.0           0.0        0.0         0.0   \n",
       "3      1834          0.0        0.0           1.0        1.0         0.0   \n",
       "4      1834          0.0        0.0           1.0        1.0         0.0   \n",
       "..      ...          ...        ...           ...        ...         ...   \n",
       "381    4236          1.0        0.0           0.0        0.0         0.0   \n",
       "382    4236          0.0        0.0           1.0        0.0         0.0   \n",
       "383    4250          1.0        0.0           0.0        0.0         1.0   \n",
       "384    4250          1.0        0.0           0.0        0.0         0.0   \n",
       "385    4250          0.0        0.0           1.0        0.0         0.0   \n",
       "\n",
       "     lab.michigan  age sex  arrayversion region       lab age_group  \n",
       "0             0.0   40   M           1.0   ancg    irvine       <70  \n",
       "1             0.0   40   M           1.0     cb    irvine       <70  \n",
       "2             1.0   40   M           1.0     cb  michigan       <70  \n",
       "3             0.0   40   M           1.0  dlpfc     davis       <70  \n",
       "4             0.0   40   M           2.0  dlpfc     davis       <70  \n",
       "..            ...  ...  ..           ...    ...       ...       ...  \n",
       "381           1.0   63   M           2.0   ancg  michigan       <70  \n",
       "382           1.0   63   M           2.0  dlpfc  michigan       <70  \n",
       "383           0.0   64   M           2.0   ancg    irvine       <70  \n",
       "384           1.0   64   M           2.0   ancg  michigan       <70  \n",
       "385           1.0   64   M           2.0  dlpfc  michigan       <70  \n",
       "\n",
       "[386 rows x 13 columns]"
      ]
     },
     "execution_count": 70,
     "metadata": {},
     "output_type": "execute_result"
    }
   ],
   "source": [
    "arraymeta_data"
   ]
  },
  {
   "cell_type": "code",
   "execution_count": 71,
   "id": "ee77eeea",
   "metadata": {},
   "outputs": [],
   "source": [
    "raw_counts_w_covariates = pd.concat([arraymeta_data[[\"age\", \"sex\", \"arrayversion\", \"region\", \"lab\", \"age_group\"]], raw_counts], axis = 1)"
   ]
  },
  {
   "cell_type": "code",
   "execution_count": 72,
   "id": "b76390ba",
   "metadata": {},
   "outputs": [],
   "source": [
    "raw_counts_w_covariates_transposed = raw_counts_w_covariates.T"
   ]
  },
  {
   "cell_type": "code",
   "execution_count": 73,
   "id": "ec61d363",
   "metadata": {},
   "outputs": [],
   "source": [
    "raw_counts_w_covariates_transposed.to_excel('../data/processed_data/processed_brain.xlsx', index=False)"
   ]
  },
  {
   "cell_type": "code",
   "execution_count": null,
   "id": "0e0f7511",
   "metadata": {},
   "outputs": [],
   "source": []
  },
  {
   "cell_type": "markdown",
   "id": "2820f3ea-54e7-4f09-b84b-bd568bec543f",
   "metadata": {},
   "source": [
    "Important to note that we have much more data for the less than 70 group than for the more than 70 group. Moving on to analysis of expression rates."
   ]
  },
  {
   "cell_type": "markdown",
   "id": "c6062923-d2f5-4deb-bc82-19d433b41bb8",
   "metadata": {},
   "source": [
    "## Exploring Expression Rates"
   ]
  },
  {
   "cell_type": "code",
   "execution_count": 11,
   "id": "8bd04310-dac0-4cd7-9da8-899a92ac870d",
   "metadata": {},
   "outputs": [],
   "source": [
    "# Expression data, no controls\n",
    "expression_data_NC = expression_data.loc[:, ~expression_data.columns.str.startswith('AFFX-')]"
   ]
  },
  {
   "cell_type": "code",
   "execution_count": 124,
   "id": "6b4ac614-2f29-4be1-b224-898191fc7356",
   "metadata": {},
   "outputs": [],
   "source": [
    "# Concatenate array metadata and gene expression data\n",
    "# arraymeta_n_expression = pd.concat([arraymeta_data, expression_data], axis = 1)\n",
    "# arraymeta_n_expression"
   ]
  },
  {
   "cell_type": "code",
   "execution_count": 12,
   "id": "d6e17594-4f2e-4216-8cd4-a02595c26e39",
   "metadata": {},
   "outputs": [
    {
     "data": {
      "text/html": [
       "<div>\n",
       "<style scoped>\n",
       "    .dataframe tbody tr th:only-of-type {\n",
       "        vertical-align: middle;\n",
       "    }\n",
       "\n",
       "    .dataframe tbody tr th {\n",
       "        vertical-align: top;\n",
       "    }\n",
       "\n",
       "    .dataframe thead th {\n",
       "        text-align: right;\n",
       "    }\n",
       "</style>\n",
       "<table border=\"1\" class=\"dataframe\">\n",
       "  <thead>\n",
       "    <tr style=\"text-align: right;\">\n",
       "      <th></th>\n",
       "      <th>1007_s_at</th>\n",
       "      <th>1053_at</th>\n",
       "      <th>117_at</th>\n",
       "      <th>121_at</th>\n",
       "      <th>1255_g_at</th>\n",
       "      <th>1294_at</th>\n",
       "      <th>1316_at</th>\n",
       "      <th>1320_at</th>\n",
       "      <th>1405_i_at</th>\n",
       "      <th>1431_at</th>\n",
       "      <th>...</th>\n",
       "      <th>90610_at</th>\n",
       "      <th>91580_at</th>\n",
       "      <th>91617_at</th>\n",
       "      <th>91682_at</th>\n",
       "      <th>91684_g_at</th>\n",
       "      <th>91703_at</th>\n",
       "      <th>91816_f_at</th>\n",
       "      <th>91826_at</th>\n",
       "      <th>91920_at</th>\n",
       "      <th>91952_at</th>\n",
       "    </tr>\n",
       "  </thead>\n",
       "  <tbody>\n",
       "    <tr>\n",
       "      <th>0</th>\n",
       "      <td>8.597381</td>\n",
       "      <td>6.643790</td>\n",
       "      <td>6.742402</td>\n",
       "      <td>7.738635</td>\n",
       "      <td>6.477350</td>\n",
       "      <td>7.388334</td>\n",
       "      <td>6.734768</td>\n",
       "      <td>6.501485</td>\n",
       "      <td>6.312102</td>\n",
       "      <td>6.274967</td>\n",
       "      <td>...</td>\n",
       "      <td>7.408764</td>\n",
       "      <td>6.194929</td>\n",
       "      <td>6.577738</td>\n",
       "      <td>6.797697</td>\n",
       "      <td>6.808708</td>\n",
       "      <td>6.657397</td>\n",
       "      <td>6.667741</td>\n",
       "      <td>6.877755</td>\n",
       "      <td>7.829561</td>\n",
       "      <td>7.007025</td>\n",
       "    </tr>\n",
       "    <tr>\n",
       "      <th>1</th>\n",
       "      <td>7.507421</td>\n",
       "      <td>6.185789</td>\n",
       "      <td>6.377131</td>\n",
       "      <td>7.152656</td>\n",
       "      <td>6.002777</td>\n",
       "      <td>6.515969</td>\n",
       "      <td>6.430514</td>\n",
       "      <td>6.105450</td>\n",
       "      <td>5.947936</td>\n",
       "      <td>5.947524</td>\n",
       "      <td>...</td>\n",
       "      <td>6.923182</td>\n",
       "      <td>5.905811</td>\n",
       "      <td>6.624491</td>\n",
       "      <td>6.596047</td>\n",
       "      <td>6.408747</td>\n",
       "      <td>6.282058</td>\n",
       "      <td>6.308528</td>\n",
       "      <td>6.335732</td>\n",
       "      <td>7.147709</td>\n",
       "      <td>6.905695</td>\n",
       "    </tr>\n",
       "    <tr>\n",
       "      <th>2</th>\n",
       "      <td>9.151820</td>\n",
       "      <td>7.508944</td>\n",
       "      <td>7.924755</td>\n",
       "      <td>9.778946</td>\n",
       "      <td>6.991540</td>\n",
       "      <td>8.059766</td>\n",
       "      <td>8.198715</td>\n",
       "      <td>7.433385</td>\n",
       "      <td>7.047425</td>\n",
       "      <td>7.169980</td>\n",
       "      <td>...</td>\n",
       "      <td>8.654531</td>\n",
       "      <td>6.993808</td>\n",
       "      <td>7.941144</td>\n",
       "      <td>8.395062</td>\n",
       "      <td>8.109849</td>\n",
       "      <td>7.638189</td>\n",
       "      <td>7.777217</td>\n",
       "      <td>8.270511</td>\n",
       "      <td>9.153971</td>\n",
       "      <td>8.376190</td>\n",
       "    </tr>\n",
       "    <tr>\n",
       "      <th>3</th>\n",
       "      <td>9.480747</td>\n",
       "      <td>7.229395</td>\n",
       "      <td>7.330518</td>\n",
       "      <td>8.724294</td>\n",
       "      <td>6.897049</td>\n",
       "      <td>7.979412</td>\n",
       "      <td>7.213397</td>\n",
       "      <td>6.946586</td>\n",
       "      <td>6.530472</td>\n",
       "      <td>6.680387</td>\n",
       "      <td>...</td>\n",
       "      <td>8.076502</td>\n",
       "      <td>6.508246</td>\n",
       "      <td>7.272083</td>\n",
       "      <td>7.627558</td>\n",
       "      <td>7.452189</td>\n",
       "      <td>7.398643</td>\n",
       "      <td>7.221647</td>\n",
       "      <td>7.386523</td>\n",
       "      <td>8.627450</td>\n",
       "      <td>7.436969</td>\n",
       "    </tr>\n",
       "    <tr>\n",
       "      <th>4</th>\n",
       "      <td>10.855653</td>\n",
       "      <td>8.573288</td>\n",
       "      <td>8.519262</td>\n",
       "      <td>10.045489</td>\n",
       "      <td>8.053849</td>\n",
       "      <td>9.042049</td>\n",
       "      <td>8.379321</td>\n",
       "      <td>8.116254</td>\n",
       "      <td>7.623230</td>\n",
       "      <td>7.997303</td>\n",
       "      <td>...</td>\n",
       "      <td>9.345059</td>\n",
       "      <td>7.533039</td>\n",
       "      <td>8.439095</td>\n",
       "      <td>8.948477</td>\n",
       "      <td>8.827563</td>\n",
       "      <td>8.402366</td>\n",
       "      <td>9.082882</td>\n",
       "      <td>8.457960</td>\n",
       "      <td>10.078353</td>\n",
       "      <td>8.583880</td>\n",
       "    </tr>\n",
       "    <tr>\n",
       "      <th>...</th>\n",
       "      <td>...</td>\n",
       "      <td>...</td>\n",
       "      <td>...</td>\n",
       "      <td>...</td>\n",
       "      <td>...</td>\n",
       "      <td>...</td>\n",
       "      <td>...</td>\n",
       "      <td>...</td>\n",
       "      <td>...</td>\n",
       "      <td>...</td>\n",
       "      <td>...</td>\n",
       "      <td>...</td>\n",
       "      <td>...</td>\n",
       "      <td>...</td>\n",
       "      <td>...</td>\n",
       "      <td>...</td>\n",
       "      <td>...</td>\n",
       "      <td>...</td>\n",
       "      <td>...</td>\n",
       "      <td>...</td>\n",
       "      <td>...</td>\n",
       "    </tr>\n",
       "    <tr>\n",
       "      <th>381</th>\n",
       "      <td>9.788715</td>\n",
       "      <td>7.990065</td>\n",
       "      <td>8.268939</td>\n",
       "      <td>9.392253</td>\n",
       "      <td>7.588384</td>\n",
       "      <td>8.461776</td>\n",
       "      <td>8.447588</td>\n",
       "      <td>7.858540</td>\n",
       "      <td>7.501698</td>\n",
       "      <td>7.341803</td>\n",
       "      <td>...</td>\n",
       "      <td>8.976301</td>\n",
       "      <td>7.395264</td>\n",
       "      <td>8.056124</td>\n",
       "      <td>8.249175</td>\n",
       "      <td>8.079989</td>\n",
       "      <td>7.871611</td>\n",
       "      <td>8.174875</td>\n",
       "      <td>8.620443</td>\n",
       "      <td>9.579849</td>\n",
       "      <td>8.046445</td>\n",
       "    </tr>\n",
       "    <tr>\n",
       "      <th>382</th>\n",
       "      <td>10.110330</td>\n",
       "      <td>8.193528</td>\n",
       "      <td>8.114450</td>\n",
       "      <td>9.403774</td>\n",
       "      <td>7.626703</td>\n",
       "      <td>8.505860</td>\n",
       "      <td>8.342483</td>\n",
       "      <td>7.791306</td>\n",
       "      <td>7.584267</td>\n",
       "      <td>7.535682</td>\n",
       "      <td>...</td>\n",
       "      <td>9.027578</td>\n",
       "      <td>7.284062</td>\n",
       "      <td>8.125525</td>\n",
       "      <td>8.589722</td>\n",
       "      <td>8.322550</td>\n",
       "      <td>7.880925</td>\n",
       "      <td>8.260587</td>\n",
       "      <td>8.548490</td>\n",
       "      <td>9.506943</td>\n",
       "      <td>8.071258</td>\n",
       "    </tr>\n",
       "    <tr>\n",
       "      <th>383</th>\n",
       "      <td>10.462571</td>\n",
       "      <td>8.496206</td>\n",
       "      <td>8.226372</td>\n",
       "      <td>9.683997</td>\n",
       "      <td>7.647338</td>\n",
       "      <td>8.811804</td>\n",
       "      <td>9.005109</td>\n",
       "      <td>8.074287</td>\n",
       "      <td>7.504952</td>\n",
       "      <td>7.727255</td>\n",
       "      <td>...</td>\n",
       "      <td>9.152998</td>\n",
       "      <td>7.364501</td>\n",
       "      <td>8.079706</td>\n",
       "      <td>8.494462</td>\n",
       "      <td>8.515618</td>\n",
       "      <td>8.145256</td>\n",
       "      <td>7.924811</td>\n",
       "      <td>8.534315</td>\n",
       "      <td>9.714715</td>\n",
       "      <td>8.488281</td>\n",
       "    </tr>\n",
       "    <tr>\n",
       "      <th>384</th>\n",
       "      <td>9.900810</td>\n",
       "      <td>8.147884</td>\n",
       "      <td>8.341852</td>\n",
       "      <td>9.359909</td>\n",
       "      <td>7.824822</td>\n",
       "      <td>8.437894</td>\n",
       "      <td>8.424120</td>\n",
       "      <td>7.839172</td>\n",
       "      <td>7.531454</td>\n",
       "      <td>7.402192</td>\n",
       "      <td>...</td>\n",
       "      <td>9.057280</td>\n",
       "      <td>7.584480</td>\n",
       "      <td>8.151156</td>\n",
       "      <td>8.061232</td>\n",
       "      <td>8.195951</td>\n",
       "      <td>7.987534</td>\n",
       "      <td>8.040881</td>\n",
       "      <td>8.605511</td>\n",
       "      <td>9.271022</td>\n",
       "      <td>8.048346</td>\n",
       "    </tr>\n",
       "    <tr>\n",
       "      <th>385</th>\n",
       "      <td>9.867853</td>\n",
       "      <td>7.832730</td>\n",
       "      <td>7.711266</td>\n",
       "      <td>9.148748</td>\n",
       "      <td>7.428053</td>\n",
       "      <td>8.312658</td>\n",
       "      <td>8.094271</td>\n",
       "      <td>7.530338</td>\n",
       "      <td>7.261840</td>\n",
       "      <td>7.374482</td>\n",
       "      <td>...</td>\n",
       "      <td>8.657567</td>\n",
       "      <td>6.988937</td>\n",
       "      <td>7.901547</td>\n",
       "      <td>8.258729</td>\n",
       "      <td>8.031136</td>\n",
       "      <td>7.713875</td>\n",
       "      <td>8.098616</td>\n",
       "      <td>8.285314</td>\n",
       "      <td>9.193585</td>\n",
       "      <td>7.979875</td>\n",
       "    </tr>\n",
       "  </tbody>\n",
       "</table>\n",
       "<p>386 rows × 22215 columns</p>\n",
       "</div>"
      ],
      "text/plain": [
       "     1007_s_at   1053_at    117_at     121_at  1255_g_at   1294_at   1316_at  \\\n",
       "0     8.597381  6.643790  6.742402   7.738635   6.477350  7.388334  6.734768   \n",
       "1     7.507421  6.185789  6.377131   7.152656   6.002777  6.515969  6.430514   \n",
       "2     9.151820  7.508944  7.924755   9.778946   6.991540  8.059766  8.198715   \n",
       "3     9.480747  7.229395  7.330518   8.724294   6.897049  7.979412  7.213397   \n",
       "4    10.855653  8.573288  8.519262  10.045489   8.053849  9.042049  8.379321   \n",
       "..         ...       ...       ...        ...        ...       ...       ...   \n",
       "381   9.788715  7.990065  8.268939   9.392253   7.588384  8.461776  8.447588   \n",
       "382  10.110330  8.193528  8.114450   9.403774   7.626703  8.505860  8.342483   \n",
       "383  10.462571  8.496206  8.226372   9.683997   7.647338  8.811804  9.005109   \n",
       "384   9.900810  8.147884  8.341852   9.359909   7.824822  8.437894  8.424120   \n",
       "385   9.867853  7.832730  7.711266   9.148748   7.428053  8.312658  8.094271   \n",
       "\n",
       "      1320_at  1405_i_at   1431_at  ...  90610_at  91580_at  91617_at  \\\n",
       "0    6.501485   6.312102  6.274967  ...  7.408764  6.194929  6.577738   \n",
       "1    6.105450   5.947936  5.947524  ...  6.923182  5.905811  6.624491   \n",
       "2    7.433385   7.047425  7.169980  ...  8.654531  6.993808  7.941144   \n",
       "3    6.946586   6.530472  6.680387  ...  8.076502  6.508246  7.272083   \n",
       "4    8.116254   7.623230  7.997303  ...  9.345059  7.533039  8.439095   \n",
       "..        ...        ...       ...  ...       ...       ...       ...   \n",
       "381  7.858540   7.501698  7.341803  ...  8.976301  7.395264  8.056124   \n",
       "382  7.791306   7.584267  7.535682  ...  9.027578  7.284062  8.125525   \n",
       "383  8.074287   7.504952  7.727255  ...  9.152998  7.364501  8.079706   \n",
       "384  7.839172   7.531454  7.402192  ...  9.057280  7.584480  8.151156   \n",
       "385  7.530338   7.261840  7.374482  ...  8.657567  6.988937  7.901547   \n",
       "\n",
       "     91682_at  91684_g_at  91703_at  91816_f_at  91826_at   91920_at  91952_at  \n",
       "0    6.797697    6.808708  6.657397    6.667741  6.877755   7.829561  7.007025  \n",
       "1    6.596047    6.408747  6.282058    6.308528  6.335732   7.147709  6.905695  \n",
       "2    8.395062    8.109849  7.638189    7.777217  8.270511   9.153971  8.376190  \n",
       "3    7.627558    7.452189  7.398643    7.221647  7.386523   8.627450  7.436969  \n",
       "4    8.948477    8.827563  8.402366    9.082882  8.457960  10.078353  8.583880  \n",
       "..        ...         ...       ...         ...       ...        ...       ...  \n",
       "381  8.249175    8.079989  7.871611    8.174875  8.620443   9.579849  8.046445  \n",
       "382  8.589722    8.322550  7.880925    8.260587  8.548490   9.506943  8.071258  \n",
       "383  8.494462    8.515618  8.145256    7.924811  8.534315   9.714715  8.488281  \n",
       "384  8.061232    8.195951  7.987534    8.040881  8.605511   9.271022  8.048346  \n",
       "385  8.258729    8.031136  7.713875    8.098616  8.285314   9.193585  7.979875  \n",
       "\n",
       "[386 rows x 22215 columns]"
      ]
     },
     "execution_count": 12,
     "metadata": {},
     "output_type": "execute_result"
    }
   ],
   "source": [
    "expression_data_NC"
   ]
  },
  {
   "cell_type": "code",
   "execution_count": null,
   "id": "41e21a03-c5d1-4f95-8a59-6e5a6d8ee4f1",
   "metadata": {},
   "outputs": [],
   "source": []
  },
  {
   "cell_type": "code",
   "execution_count": null,
   "id": "37766b43-20df-4587-814c-f8fe2bf79107",
   "metadata": {},
   "outputs": [],
   "source": []
  },
  {
   "cell_type": "markdown",
   "id": "d5551d29-6177-4f38-82f3-12b8c21324ad",
   "metadata": {},
   "source": [
    "### PCA"
   ]
  },
  {
   "cell_type": "code",
   "execution_count": 13,
   "id": "c02f9fd9-178e-493b-a1df-b120bcf887e4",
   "metadata": {},
   "outputs": [],
   "source": [
    "# Separating out target\n",
    "brain_region_target = arraymeta_data['region']"
   ]
  },
  {
   "cell_type": "code",
   "execution_count": 14,
   "id": "1ca2e5f4-8241-4bf7-9b7c-ff755e42f61a",
   "metadata": {},
   "outputs": [],
   "source": [
    "# Standardize the features\n",
    "X_expression_NC = StandardScaler().fit_transform(expression_data_NC)"
   ]
  },
  {
   "cell_type": "code",
   "execution_count": 15,
   "id": "d18e293f-82da-4cbe-b5be-3caa3dc21210",
   "metadata": {},
   "outputs": [],
   "source": [
    "# Setting number of principal components\n",
    "pca = PCA(n_components = 50)"
   ]
  },
  {
   "cell_type": "code",
   "execution_count": 16,
   "id": "278dcf74-d735-41e1-ad53-ae5983bb2a14",
   "metadata": {},
   "outputs": [],
   "source": [
    "# Extracting principal components\n",
    "principalComponents = pca.fit_transform(X_expression_NC)"
   ]
  },
  {
   "cell_type": "code",
   "execution_count": 17,
   "id": "326cf213-eef5-4660-9049-d447c0b763f3",
   "metadata": {},
   "outputs": [
    {
     "data": {
      "text/html": [
       "<div>\n",
       "<style scoped>\n",
       "    .dataframe tbody tr th:only-of-type {\n",
       "        vertical-align: middle;\n",
       "    }\n",
       "\n",
       "    .dataframe tbody tr th {\n",
       "        vertical-align: top;\n",
       "    }\n",
       "\n",
       "    .dataframe thead th {\n",
       "        text-align: right;\n",
       "    }\n",
       "</style>\n",
       "<table border=\"1\" class=\"dataframe\">\n",
       "  <thead>\n",
       "    <tr style=\"text-align: right;\">\n",
       "      <th></th>\n",
       "      <th>0</th>\n",
       "      <th>1</th>\n",
       "      <th>2</th>\n",
       "      <th>3</th>\n",
       "      <th>4</th>\n",
       "      <th>5</th>\n",
       "      <th>6</th>\n",
       "      <th>7</th>\n",
       "      <th>8</th>\n",
       "      <th>9</th>\n",
       "      <th>...</th>\n",
       "      <th>41</th>\n",
       "      <th>42</th>\n",
       "      <th>43</th>\n",
       "      <th>44</th>\n",
       "      <th>45</th>\n",
       "      <th>46</th>\n",
       "      <th>47</th>\n",
       "      <th>48</th>\n",
       "      <th>49</th>\n",
       "      <th>region</th>\n",
       "    </tr>\n",
       "  </thead>\n",
       "  <tbody>\n",
       "    <tr>\n",
       "      <th>0</th>\n",
       "      <td>-241.394620</td>\n",
       "      <td>8.389363</td>\n",
       "      <td>-0.044469</td>\n",
       "      <td>-12.885234</td>\n",
       "      <td>-2.581314</td>\n",
       "      <td>-3.055921</td>\n",
       "      <td>-14.431948</td>\n",
       "      <td>-2.148430</td>\n",
       "      <td>4.896703</td>\n",
       "      <td>7.348053</td>\n",
       "      <td>...</td>\n",
       "      <td>1.138696</td>\n",
       "      <td>-0.287437</td>\n",
       "      <td>1.903101</td>\n",
       "      <td>-0.593957</td>\n",
       "      <td>-1.547113</td>\n",
       "      <td>1.731062</td>\n",
       "      <td>-1.366029</td>\n",
       "      <td>1.688854</td>\n",
       "      <td>2.903923</td>\n",
       "      <td>ancg</td>\n",
       "    </tr>\n",
       "    <tr>\n",
       "      <th>1</th>\n",
       "      <td>-324.430258</td>\n",
       "      <td>-10.076295</td>\n",
       "      <td>37.329415</td>\n",
       "      <td>-10.567751</td>\n",
       "      <td>10.350082</td>\n",
       "      <td>0.796032</td>\n",
       "      <td>-20.941473</td>\n",
       "      <td>-4.337129</td>\n",
       "      <td>-1.204544</td>\n",
       "      <td>-1.212139</td>\n",
       "      <td>...</td>\n",
       "      <td>-2.537842</td>\n",
       "      <td>0.742557</td>\n",
       "      <td>-0.938681</td>\n",
       "      <td>0.126496</td>\n",
       "      <td>2.783103</td>\n",
       "      <td>-0.969666</td>\n",
       "      <td>-2.528195</td>\n",
       "      <td>-0.055695</td>\n",
       "      <td>0.410793</td>\n",
       "      <td>cb</td>\n",
       "    </tr>\n",
       "    <tr>\n",
       "      <th>2</th>\n",
       "      <td>-31.354534</td>\n",
       "      <td>-20.218450</td>\n",
       "      <td>27.855337</td>\n",
       "      <td>16.860970</td>\n",
       "      <td>5.221065</td>\n",
       "      <td>-2.054197</td>\n",
       "      <td>6.708242</td>\n",
       "      <td>-0.435252</td>\n",
       "      <td>3.779758</td>\n",
       "      <td>1.829316</td>\n",
       "      <td>...</td>\n",
       "      <td>-0.757631</td>\n",
       "      <td>2.213736</td>\n",
       "      <td>0.973531</td>\n",
       "      <td>-0.193916</td>\n",
       "      <td>1.229263</td>\n",
       "      <td>0.518104</td>\n",
       "      <td>-0.581221</td>\n",
       "      <td>0.094924</td>\n",
       "      <td>2.263941</td>\n",
       "      <td>cb</td>\n",
       "    </tr>\n",
       "    <tr>\n",
       "      <th>3</th>\n",
       "      <td>-124.381406</td>\n",
       "      <td>31.720574</td>\n",
       "      <td>-2.241897</td>\n",
       "      <td>-0.279448</td>\n",
       "      <td>-21.087420</td>\n",
       "      <td>-3.231646</td>\n",
       "      <td>-8.064244</td>\n",
       "      <td>-1.411616</td>\n",
       "      <td>-11.896375</td>\n",
       "      <td>-4.504295</td>\n",
       "      <td>...</td>\n",
       "      <td>-0.962552</td>\n",
       "      <td>0.003083</td>\n",
       "      <td>-1.371586</td>\n",
       "      <td>-0.347740</td>\n",
       "      <td>-1.630371</td>\n",
       "      <td>-0.496629</td>\n",
       "      <td>-2.114136</td>\n",
       "      <td>0.085743</td>\n",
       "      <td>2.250786</td>\n",
       "      <td>dlpfc</td>\n",
       "    </tr>\n",
       "    <tr>\n",
       "      <th>4</th>\n",
       "      <td>134.635472</td>\n",
       "      <td>25.228737</td>\n",
       "      <td>-4.712797</td>\n",
       "      <td>-18.630727</td>\n",
       "      <td>-11.384066</td>\n",
       "      <td>-8.069399</td>\n",
       "      <td>6.833284</td>\n",
       "      <td>7.110004</td>\n",
       "      <td>-14.782843</td>\n",
       "      <td>-3.171621</td>\n",
       "      <td>...</td>\n",
       "      <td>-2.725229</td>\n",
       "      <td>-0.599265</td>\n",
       "      <td>-3.551284</td>\n",
       "      <td>-0.406245</td>\n",
       "      <td>0.937557</td>\n",
       "      <td>-3.251148</td>\n",
       "      <td>-3.983269</td>\n",
       "      <td>5.232815</td>\n",
       "      <td>5.330716</td>\n",
       "      <td>dlpfc</td>\n",
       "    </tr>\n",
       "    <tr>\n",
       "      <th>...</th>\n",
       "      <td>...</td>\n",
       "      <td>...</td>\n",
       "      <td>...</td>\n",
       "      <td>...</td>\n",
       "      <td>...</td>\n",
       "      <td>...</td>\n",
       "      <td>...</td>\n",
       "      <td>...</td>\n",
       "      <td>...</td>\n",
       "      <td>...</td>\n",
       "      <td>...</td>\n",
       "      <td>...</td>\n",
       "      <td>...</td>\n",
       "      <td>...</td>\n",
       "      <td>...</td>\n",
       "      <td>...</td>\n",
       "      <td>...</td>\n",
       "      <td>...</td>\n",
       "      <td>...</td>\n",
       "      <td>...</td>\n",
       "      <td>...</td>\n",
       "    </tr>\n",
       "    <tr>\n",
       "      <th>381</th>\n",
       "      <td>49.243013</td>\n",
       "      <td>0.321841</td>\n",
       "      <td>-21.112378</td>\n",
       "      <td>-1.725965</td>\n",
       "      <td>20.123499</td>\n",
       "      <td>-6.622513</td>\n",
       "      <td>2.019680</td>\n",
       "      <td>-2.926181</td>\n",
       "      <td>-4.474775</td>\n",
       "      <td>6.585415</td>\n",
       "      <td>...</td>\n",
       "      <td>-1.849812</td>\n",
       "      <td>-3.501131</td>\n",
       "      <td>-0.089851</td>\n",
       "      <td>0.134827</td>\n",
       "      <td>-0.526364</td>\n",
       "      <td>2.301921</td>\n",
       "      <td>1.375488</td>\n",
       "      <td>0.667603</td>\n",
       "      <td>0.159048</td>\n",
       "      <td>ancg</td>\n",
       "    </tr>\n",
       "    <tr>\n",
       "      <th>382</th>\n",
       "      <td>61.321936</td>\n",
       "      <td>17.044585</td>\n",
       "      <td>-14.799379</td>\n",
       "      <td>-13.042483</td>\n",
       "      <td>21.100090</td>\n",
       "      <td>-7.147367</td>\n",
       "      <td>6.204182</td>\n",
       "      <td>-10.142042</td>\n",
       "      <td>-4.832194</td>\n",
       "      <td>-1.425636</td>\n",
       "      <td>...</td>\n",
       "      <td>-2.864652</td>\n",
       "      <td>-2.117953</td>\n",
       "      <td>-2.926994</td>\n",
       "      <td>0.448590</td>\n",
       "      <td>-0.218117</td>\n",
       "      <td>1.538828</td>\n",
       "      <td>1.144228</td>\n",
       "      <td>0.706457</td>\n",
       "      <td>2.738598</td>\n",
       "      <td>dlpfc</td>\n",
       "    </tr>\n",
       "    <tr>\n",
       "      <th>383</th>\n",
       "      <td>97.064292</td>\n",
       "      <td>33.355602</td>\n",
       "      <td>-10.021014</td>\n",
       "      <td>-18.427506</td>\n",
       "      <td>1.782453</td>\n",
       "      <td>1.041464</td>\n",
       "      <td>-5.732291</td>\n",
       "      <td>-0.345488</td>\n",
       "      <td>12.595078</td>\n",
       "      <td>13.237270</td>\n",
       "      <td>...</td>\n",
       "      <td>-0.274951</td>\n",
       "      <td>2.690706</td>\n",
       "      <td>0.187292</td>\n",
       "      <td>0.486725</td>\n",
       "      <td>-1.699834</td>\n",
       "      <td>1.151958</td>\n",
       "      <td>0.947187</td>\n",
       "      <td>4.113363</td>\n",
       "      <td>-0.850986</td>\n",
       "      <td>ancg</td>\n",
       "    </tr>\n",
       "    <tr>\n",
       "      <th>384</th>\n",
       "      <td>64.008859</td>\n",
       "      <td>-1.617070</td>\n",
       "      <td>-18.729140</td>\n",
       "      <td>-11.610589</td>\n",
       "      <td>23.017516</td>\n",
       "      <td>-7.669948</td>\n",
       "      <td>-2.200760</td>\n",
       "      <td>-6.846546</td>\n",
       "      <td>-8.208842</td>\n",
       "      <td>6.451569</td>\n",
       "      <td>...</td>\n",
       "      <td>-0.974284</td>\n",
       "      <td>0.679121</td>\n",
       "      <td>0.813299</td>\n",
       "      <td>-0.258060</td>\n",
       "      <td>0.805209</td>\n",
       "      <td>-0.195428</td>\n",
       "      <td>2.523198</td>\n",
       "      <td>0.343353</td>\n",
       "      <td>-0.834224</td>\n",
       "      <td>ancg</td>\n",
       "    </tr>\n",
       "    <tr>\n",
       "      <th>385</th>\n",
       "      <td>9.917301</td>\n",
       "      <td>24.440333</td>\n",
       "      <td>-12.684058</td>\n",
       "      <td>-14.163036</td>\n",
       "      <td>21.930372</td>\n",
       "      <td>-3.823641</td>\n",
       "      <td>5.802057</td>\n",
       "      <td>-12.582509</td>\n",
       "      <td>-4.787266</td>\n",
       "      <td>-1.167946</td>\n",
       "      <td>...</td>\n",
       "      <td>-2.145176</td>\n",
       "      <td>-1.805292</td>\n",
       "      <td>-3.041238</td>\n",
       "      <td>-0.067504</td>\n",
       "      <td>-1.666289</td>\n",
       "      <td>0.775363</td>\n",
       "      <td>1.801297</td>\n",
       "      <td>1.063529</td>\n",
       "      <td>3.080475</td>\n",
       "      <td>dlpfc</td>\n",
       "    </tr>\n",
       "  </tbody>\n",
       "</table>\n",
       "<p>386 rows × 51 columns</p>\n",
       "</div>"
      ],
      "text/plain": [
       "              0          1          2          3          4         5  \\\n",
       "0   -241.394620   8.389363  -0.044469 -12.885234  -2.581314 -3.055921   \n",
       "1   -324.430258 -10.076295  37.329415 -10.567751  10.350082  0.796032   \n",
       "2    -31.354534 -20.218450  27.855337  16.860970   5.221065 -2.054197   \n",
       "3   -124.381406  31.720574  -2.241897  -0.279448 -21.087420 -3.231646   \n",
       "4    134.635472  25.228737  -4.712797 -18.630727 -11.384066 -8.069399   \n",
       "..          ...        ...        ...        ...        ...       ...   \n",
       "381   49.243013   0.321841 -21.112378  -1.725965  20.123499 -6.622513   \n",
       "382   61.321936  17.044585 -14.799379 -13.042483  21.100090 -7.147367   \n",
       "383   97.064292  33.355602 -10.021014 -18.427506   1.782453  1.041464   \n",
       "384   64.008859  -1.617070 -18.729140 -11.610589  23.017516 -7.669948   \n",
       "385    9.917301  24.440333 -12.684058 -14.163036  21.930372 -3.823641   \n",
       "\n",
       "             6          7          8          9  ...        41        42  \\\n",
       "0   -14.431948  -2.148430   4.896703   7.348053  ...  1.138696 -0.287437   \n",
       "1   -20.941473  -4.337129  -1.204544  -1.212139  ... -2.537842  0.742557   \n",
       "2     6.708242  -0.435252   3.779758   1.829316  ... -0.757631  2.213736   \n",
       "3    -8.064244  -1.411616 -11.896375  -4.504295  ... -0.962552  0.003083   \n",
       "4     6.833284   7.110004 -14.782843  -3.171621  ... -2.725229 -0.599265   \n",
       "..         ...        ...        ...        ...  ...       ...       ...   \n",
       "381   2.019680  -2.926181  -4.474775   6.585415  ... -1.849812 -3.501131   \n",
       "382   6.204182 -10.142042  -4.832194  -1.425636  ... -2.864652 -2.117953   \n",
       "383  -5.732291  -0.345488  12.595078  13.237270  ... -0.274951  2.690706   \n",
       "384  -2.200760  -6.846546  -8.208842   6.451569  ... -0.974284  0.679121   \n",
       "385   5.802057 -12.582509  -4.787266  -1.167946  ... -2.145176 -1.805292   \n",
       "\n",
       "           43        44        45        46        47        48        49  \\\n",
       "0    1.903101 -0.593957 -1.547113  1.731062 -1.366029  1.688854  2.903923   \n",
       "1   -0.938681  0.126496  2.783103 -0.969666 -2.528195 -0.055695  0.410793   \n",
       "2    0.973531 -0.193916  1.229263  0.518104 -0.581221  0.094924  2.263941   \n",
       "3   -1.371586 -0.347740 -1.630371 -0.496629 -2.114136  0.085743  2.250786   \n",
       "4   -3.551284 -0.406245  0.937557 -3.251148 -3.983269  5.232815  5.330716   \n",
       "..        ...       ...       ...       ...       ...       ...       ...   \n",
       "381 -0.089851  0.134827 -0.526364  2.301921  1.375488  0.667603  0.159048   \n",
       "382 -2.926994  0.448590 -0.218117  1.538828  1.144228  0.706457  2.738598   \n",
       "383  0.187292  0.486725 -1.699834  1.151958  0.947187  4.113363 -0.850986   \n",
       "384  0.813299 -0.258060  0.805209 -0.195428  2.523198  0.343353 -0.834224   \n",
       "385 -3.041238 -0.067504 -1.666289  0.775363  1.801297  1.063529  3.080475   \n",
       "\n",
       "     region  \n",
       "0      ancg  \n",
       "1        cb  \n",
       "2        cb  \n",
       "3     dlpfc  \n",
       "4     dlpfc  \n",
       "..      ...  \n",
       "381    ancg  \n",
       "382   dlpfc  \n",
       "383    ancg  \n",
       "384    ancg  \n",
       "385   dlpfc  \n",
       "\n",
       "[386 rows x 51 columns]"
      ]
     },
     "execution_count": 17,
     "metadata": {},
     "output_type": "execute_result"
    }
   ],
   "source": [
    "PC_df = pd.DataFrame(data = principalComponents)\n",
    "final_PC_df = pd.concat([PC_df, brain_region_target], axis = 1)\n",
    "final_PC_df"
   ]
  },
  {
   "cell_type": "code",
   "execution_count": 18,
   "id": "7ca08f2b-dc3f-40c2-9db9-dfc34b97d30a",
   "metadata": {},
   "outputs": [
    {
     "data": {
      "text/plain": [
       "np.float64(0.945127836439256)"
      ]
     },
     "execution_count": 18,
     "metadata": {},
     "output_type": "execute_result"
    }
   ],
   "source": [
    "sum((pca.explained_variance_ / sum(pca.explained_variance_))[0:3])"
   ]
  },
  {
   "cell_type": "code",
   "execution_count": 19,
   "id": "ce1a539a-8574-4e11-b58d-303df0773c27",
   "metadata": {},
   "outputs": [],
   "source": [
    "# Renaming columns\n",
    "n = min(50, final_PC_df.shape[1])  # just in case there are < 50 cols\n",
    "new_names = {old: f\"PC{i+1}\" for i, old in enumerate(final_PC_df.columns[:n])}\n",
    "final_PC_df = final_PC_df.rename(columns=new_names)"
   ]
  },
  {
   "cell_type": "code",
   "execution_count": 20,
   "id": "b84f802b-902d-4a97-bf47-e53c342d1536",
   "metadata": {},
   "outputs": [
    {
     "data": {
      "text/html": [
       "<div>\n",
       "<style scoped>\n",
       "    .dataframe tbody tr th:only-of-type {\n",
       "        vertical-align: middle;\n",
       "    }\n",
       "\n",
       "    .dataframe tbody tr th {\n",
       "        vertical-align: top;\n",
       "    }\n",
       "\n",
       "    .dataframe thead th {\n",
       "        text-align: right;\n",
       "    }\n",
       "</style>\n",
       "<table border=\"1\" class=\"dataframe\">\n",
       "  <thead>\n",
       "    <tr style=\"text-align: right;\">\n",
       "      <th></th>\n",
       "      <th>PC1</th>\n",
       "      <th>PC2</th>\n",
       "      <th>PC3</th>\n",
       "      <th>PC4</th>\n",
       "      <th>PC5</th>\n",
       "      <th>PC6</th>\n",
       "      <th>PC7</th>\n",
       "      <th>PC8</th>\n",
       "      <th>PC9</th>\n",
       "      <th>PC10</th>\n",
       "      <th>...</th>\n",
       "      <th>PC42</th>\n",
       "      <th>PC43</th>\n",
       "      <th>PC44</th>\n",
       "      <th>PC45</th>\n",
       "      <th>PC46</th>\n",
       "      <th>PC47</th>\n",
       "      <th>PC48</th>\n",
       "      <th>PC49</th>\n",
       "      <th>PC50</th>\n",
       "      <th>region</th>\n",
       "    </tr>\n",
       "  </thead>\n",
       "  <tbody>\n",
       "    <tr>\n",
       "      <th>0</th>\n",
       "      <td>-241.394620</td>\n",
       "      <td>8.389363</td>\n",
       "      <td>-0.044469</td>\n",
       "      <td>-12.885234</td>\n",
       "      <td>-2.581314</td>\n",
       "      <td>-3.055921</td>\n",
       "      <td>-14.431948</td>\n",
       "      <td>-2.148430</td>\n",
       "      <td>4.896703</td>\n",
       "      <td>7.348053</td>\n",
       "      <td>...</td>\n",
       "      <td>1.138696</td>\n",
       "      <td>-0.287437</td>\n",
       "      <td>1.903101</td>\n",
       "      <td>-0.593957</td>\n",
       "      <td>-1.547113</td>\n",
       "      <td>1.731062</td>\n",
       "      <td>-1.366029</td>\n",
       "      <td>1.688854</td>\n",
       "      <td>2.903923</td>\n",
       "      <td>ancg</td>\n",
       "    </tr>\n",
       "    <tr>\n",
       "      <th>1</th>\n",
       "      <td>-324.430258</td>\n",
       "      <td>-10.076295</td>\n",
       "      <td>37.329415</td>\n",
       "      <td>-10.567751</td>\n",
       "      <td>10.350082</td>\n",
       "      <td>0.796032</td>\n",
       "      <td>-20.941473</td>\n",
       "      <td>-4.337129</td>\n",
       "      <td>-1.204544</td>\n",
       "      <td>-1.212139</td>\n",
       "      <td>...</td>\n",
       "      <td>-2.537842</td>\n",
       "      <td>0.742557</td>\n",
       "      <td>-0.938681</td>\n",
       "      <td>0.126496</td>\n",
       "      <td>2.783103</td>\n",
       "      <td>-0.969666</td>\n",
       "      <td>-2.528195</td>\n",
       "      <td>-0.055695</td>\n",
       "      <td>0.410793</td>\n",
       "      <td>cb</td>\n",
       "    </tr>\n",
       "    <tr>\n",
       "      <th>2</th>\n",
       "      <td>-31.354534</td>\n",
       "      <td>-20.218450</td>\n",
       "      <td>27.855337</td>\n",
       "      <td>16.860970</td>\n",
       "      <td>5.221065</td>\n",
       "      <td>-2.054197</td>\n",
       "      <td>6.708242</td>\n",
       "      <td>-0.435252</td>\n",
       "      <td>3.779758</td>\n",
       "      <td>1.829316</td>\n",
       "      <td>...</td>\n",
       "      <td>-0.757631</td>\n",
       "      <td>2.213736</td>\n",
       "      <td>0.973531</td>\n",
       "      <td>-0.193916</td>\n",
       "      <td>1.229263</td>\n",
       "      <td>0.518104</td>\n",
       "      <td>-0.581221</td>\n",
       "      <td>0.094924</td>\n",
       "      <td>2.263941</td>\n",
       "      <td>cb</td>\n",
       "    </tr>\n",
       "    <tr>\n",
       "      <th>3</th>\n",
       "      <td>-124.381406</td>\n",
       "      <td>31.720574</td>\n",
       "      <td>-2.241897</td>\n",
       "      <td>-0.279448</td>\n",
       "      <td>-21.087420</td>\n",
       "      <td>-3.231646</td>\n",
       "      <td>-8.064244</td>\n",
       "      <td>-1.411616</td>\n",
       "      <td>-11.896375</td>\n",
       "      <td>-4.504295</td>\n",
       "      <td>...</td>\n",
       "      <td>-0.962552</td>\n",
       "      <td>0.003083</td>\n",
       "      <td>-1.371586</td>\n",
       "      <td>-0.347740</td>\n",
       "      <td>-1.630371</td>\n",
       "      <td>-0.496629</td>\n",
       "      <td>-2.114136</td>\n",
       "      <td>0.085743</td>\n",
       "      <td>2.250786</td>\n",
       "      <td>dlpfc</td>\n",
       "    </tr>\n",
       "    <tr>\n",
       "      <th>4</th>\n",
       "      <td>134.635472</td>\n",
       "      <td>25.228737</td>\n",
       "      <td>-4.712797</td>\n",
       "      <td>-18.630727</td>\n",
       "      <td>-11.384066</td>\n",
       "      <td>-8.069399</td>\n",
       "      <td>6.833284</td>\n",
       "      <td>7.110004</td>\n",
       "      <td>-14.782843</td>\n",
       "      <td>-3.171621</td>\n",
       "      <td>...</td>\n",
       "      <td>-2.725229</td>\n",
       "      <td>-0.599265</td>\n",
       "      <td>-3.551284</td>\n",
       "      <td>-0.406245</td>\n",
       "      <td>0.937557</td>\n",
       "      <td>-3.251148</td>\n",
       "      <td>-3.983269</td>\n",
       "      <td>5.232815</td>\n",
       "      <td>5.330716</td>\n",
       "      <td>dlpfc</td>\n",
       "    </tr>\n",
       "    <tr>\n",
       "      <th>...</th>\n",
       "      <td>...</td>\n",
       "      <td>...</td>\n",
       "      <td>...</td>\n",
       "      <td>...</td>\n",
       "      <td>...</td>\n",
       "      <td>...</td>\n",
       "      <td>...</td>\n",
       "      <td>...</td>\n",
       "      <td>...</td>\n",
       "      <td>...</td>\n",
       "      <td>...</td>\n",
       "      <td>...</td>\n",
       "      <td>...</td>\n",
       "      <td>...</td>\n",
       "      <td>...</td>\n",
       "      <td>...</td>\n",
       "      <td>...</td>\n",
       "      <td>...</td>\n",
       "      <td>...</td>\n",
       "      <td>...</td>\n",
       "      <td>...</td>\n",
       "    </tr>\n",
       "    <tr>\n",
       "      <th>381</th>\n",
       "      <td>49.243013</td>\n",
       "      <td>0.321841</td>\n",
       "      <td>-21.112378</td>\n",
       "      <td>-1.725965</td>\n",
       "      <td>20.123499</td>\n",
       "      <td>-6.622513</td>\n",
       "      <td>2.019680</td>\n",
       "      <td>-2.926181</td>\n",
       "      <td>-4.474775</td>\n",
       "      <td>6.585415</td>\n",
       "      <td>...</td>\n",
       "      <td>-1.849812</td>\n",
       "      <td>-3.501131</td>\n",
       "      <td>-0.089851</td>\n",
       "      <td>0.134827</td>\n",
       "      <td>-0.526364</td>\n",
       "      <td>2.301921</td>\n",
       "      <td>1.375488</td>\n",
       "      <td>0.667603</td>\n",
       "      <td>0.159048</td>\n",
       "      <td>ancg</td>\n",
       "    </tr>\n",
       "    <tr>\n",
       "      <th>382</th>\n",
       "      <td>61.321936</td>\n",
       "      <td>17.044585</td>\n",
       "      <td>-14.799379</td>\n",
       "      <td>-13.042483</td>\n",
       "      <td>21.100090</td>\n",
       "      <td>-7.147367</td>\n",
       "      <td>6.204182</td>\n",
       "      <td>-10.142042</td>\n",
       "      <td>-4.832194</td>\n",
       "      <td>-1.425636</td>\n",
       "      <td>...</td>\n",
       "      <td>-2.864652</td>\n",
       "      <td>-2.117953</td>\n",
       "      <td>-2.926994</td>\n",
       "      <td>0.448590</td>\n",
       "      <td>-0.218117</td>\n",
       "      <td>1.538828</td>\n",
       "      <td>1.144228</td>\n",
       "      <td>0.706457</td>\n",
       "      <td>2.738598</td>\n",
       "      <td>dlpfc</td>\n",
       "    </tr>\n",
       "    <tr>\n",
       "      <th>383</th>\n",
       "      <td>97.064292</td>\n",
       "      <td>33.355602</td>\n",
       "      <td>-10.021014</td>\n",
       "      <td>-18.427506</td>\n",
       "      <td>1.782453</td>\n",
       "      <td>1.041464</td>\n",
       "      <td>-5.732291</td>\n",
       "      <td>-0.345488</td>\n",
       "      <td>12.595078</td>\n",
       "      <td>13.237270</td>\n",
       "      <td>...</td>\n",
       "      <td>-0.274951</td>\n",
       "      <td>2.690706</td>\n",
       "      <td>0.187292</td>\n",
       "      <td>0.486725</td>\n",
       "      <td>-1.699834</td>\n",
       "      <td>1.151958</td>\n",
       "      <td>0.947187</td>\n",
       "      <td>4.113363</td>\n",
       "      <td>-0.850986</td>\n",
       "      <td>ancg</td>\n",
       "    </tr>\n",
       "    <tr>\n",
       "      <th>384</th>\n",
       "      <td>64.008859</td>\n",
       "      <td>-1.617070</td>\n",
       "      <td>-18.729140</td>\n",
       "      <td>-11.610589</td>\n",
       "      <td>23.017516</td>\n",
       "      <td>-7.669948</td>\n",
       "      <td>-2.200760</td>\n",
       "      <td>-6.846546</td>\n",
       "      <td>-8.208842</td>\n",
       "      <td>6.451569</td>\n",
       "      <td>...</td>\n",
       "      <td>-0.974284</td>\n",
       "      <td>0.679121</td>\n",
       "      <td>0.813299</td>\n",
       "      <td>-0.258060</td>\n",
       "      <td>0.805209</td>\n",
       "      <td>-0.195428</td>\n",
       "      <td>2.523198</td>\n",
       "      <td>0.343353</td>\n",
       "      <td>-0.834224</td>\n",
       "      <td>ancg</td>\n",
       "    </tr>\n",
       "    <tr>\n",
       "      <th>385</th>\n",
       "      <td>9.917301</td>\n",
       "      <td>24.440333</td>\n",
       "      <td>-12.684058</td>\n",
       "      <td>-14.163036</td>\n",
       "      <td>21.930372</td>\n",
       "      <td>-3.823641</td>\n",
       "      <td>5.802057</td>\n",
       "      <td>-12.582509</td>\n",
       "      <td>-4.787266</td>\n",
       "      <td>-1.167946</td>\n",
       "      <td>...</td>\n",
       "      <td>-2.145176</td>\n",
       "      <td>-1.805292</td>\n",
       "      <td>-3.041238</td>\n",
       "      <td>-0.067504</td>\n",
       "      <td>-1.666289</td>\n",
       "      <td>0.775363</td>\n",
       "      <td>1.801297</td>\n",
       "      <td>1.063529</td>\n",
       "      <td>3.080475</td>\n",
       "      <td>dlpfc</td>\n",
       "    </tr>\n",
       "  </tbody>\n",
       "</table>\n",
       "<p>386 rows × 51 columns</p>\n",
       "</div>"
      ],
      "text/plain": [
       "            PC1        PC2        PC3        PC4        PC5       PC6  \\\n",
       "0   -241.394620   8.389363  -0.044469 -12.885234  -2.581314 -3.055921   \n",
       "1   -324.430258 -10.076295  37.329415 -10.567751  10.350082  0.796032   \n",
       "2    -31.354534 -20.218450  27.855337  16.860970   5.221065 -2.054197   \n",
       "3   -124.381406  31.720574  -2.241897  -0.279448 -21.087420 -3.231646   \n",
       "4    134.635472  25.228737  -4.712797 -18.630727 -11.384066 -8.069399   \n",
       "..          ...        ...        ...        ...        ...       ...   \n",
       "381   49.243013   0.321841 -21.112378  -1.725965  20.123499 -6.622513   \n",
       "382   61.321936  17.044585 -14.799379 -13.042483  21.100090 -7.147367   \n",
       "383   97.064292  33.355602 -10.021014 -18.427506   1.782453  1.041464   \n",
       "384   64.008859  -1.617070 -18.729140 -11.610589  23.017516 -7.669948   \n",
       "385    9.917301  24.440333 -12.684058 -14.163036  21.930372 -3.823641   \n",
       "\n",
       "           PC7        PC8        PC9       PC10  ...      PC42      PC43  \\\n",
       "0   -14.431948  -2.148430   4.896703   7.348053  ...  1.138696 -0.287437   \n",
       "1   -20.941473  -4.337129  -1.204544  -1.212139  ... -2.537842  0.742557   \n",
       "2     6.708242  -0.435252   3.779758   1.829316  ... -0.757631  2.213736   \n",
       "3    -8.064244  -1.411616 -11.896375  -4.504295  ... -0.962552  0.003083   \n",
       "4     6.833284   7.110004 -14.782843  -3.171621  ... -2.725229 -0.599265   \n",
       "..         ...        ...        ...        ...  ...       ...       ...   \n",
       "381   2.019680  -2.926181  -4.474775   6.585415  ... -1.849812 -3.501131   \n",
       "382   6.204182 -10.142042  -4.832194  -1.425636  ... -2.864652 -2.117953   \n",
       "383  -5.732291  -0.345488  12.595078  13.237270  ... -0.274951  2.690706   \n",
       "384  -2.200760  -6.846546  -8.208842   6.451569  ... -0.974284  0.679121   \n",
       "385   5.802057 -12.582509  -4.787266  -1.167946  ... -2.145176 -1.805292   \n",
       "\n",
       "         PC44      PC45      PC46      PC47      PC48      PC49      PC50  \\\n",
       "0    1.903101 -0.593957 -1.547113  1.731062 -1.366029  1.688854  2.903923   \n",
       "1   -0.938681  0.126496  2.783103 -0.969666 -2.528195 -0.055695  0.410793   \n",
       "2    0.973531 -0.193916  1.229263  0.518104 -0.581221  0.094924  2.263941   \n",
       "3   -1.371586 -0.347740 -1.630371 -0.496629 -2.114136  0.085743  2.250786   \n",
       "4   -3.551284 -0.406245  0.937557 -3.251148 -3.983269  5.232815  5.330716   \n",
       "..        ...       ...       ...       ...       ...       ...       ...   \n",
       "381 -0.089851  0.134827 -0.526364  2.301921  1.375488  0.667603  0.159048   \n",
       "382 -2.926994  0.448590 -0.218117  1.538828  1.144228  0.706457  2.738598   \n",
       "383  0.187292  0.486725 -1.699834  1.151958  0.947187  4.113363 -0.850986   \n",
       "384  0.813299 -0.258060  0.805209 -0.195428  2.523198  0.343353 -0.834224   \n",
       "385 -3.041238 -0.067504 -1.666289  0.775363  1.801297  1.063529  3.080475   \n",
       "\n",
       "     region  \n",
       "0      ancg  \n",
       "1        cb  \n",
       "2        cb  \n",
       "3     dlpfc  \n",
       "4     dlpfc  \n",
       "..      ...  \n",
       "381    ancg  \n",
       "382   dlpfc  \n",
       "383    ancg  \n",
       "384    ancg  \n",
       "385   dlpfc  \n",
       "\n",
       "[386 rows x 51 columns]"
      ]
     },
     "execution_count": 20,
     "metadata": {},
     "output_type": "execute_result"
    }
   ],
   "source": [
    "final_PC_df"
   ]
  },
  {
   "cell_type": "code",
   "execution_count": 25,
   "id": "bb18a751-b8cd-4f7e-bbd2-fb0359c1f214",
   "metadata": {},
   "outputs": [
    {
     "data": {
      "application/vnd.plotly.v1+json": {
       "config": {
        "plotlyServerURL": "https://plot.ly"
       },
       "data": [
        {
         "hovertemplate": "region=ancg<br>PC1=%{x}<br>PC2=%{y}<br>PC3=%{z}<extra></extra>",
         "legendgroup": "ancg",
         "marker": {
          "color": "#636efa",
          "opacity": 0.85,
          "size": 4,
          "symbol": "circle"
         },
         "mode": "markers",
         "name": "ancg",
         "scene": "scene",
         "showlegend": true,
         "type": "scatter3d",
         "x": {
          "bdata": "r94AuqAsbsA5cvbQryJswCuwGp376nPAtTS+nZ/dYkBOEXKEaJYxQEyhzBS/5GjAksBec7ObWEBVRxCqbc45QCzxkQfB3V5AJgcRXTKpLUB9yTwFFSdtwEi4WCvog2zATC9cnSoAbsArveKWy1BvQNwfTOiE2TRAXWcqkqZnYECPedhsPB5EwBcLAZS5RGlAZki+KR8EEsCKwUGZLpJbQEiPQafrW0bApM/YeW1KccDUiQiiDwxvQJEM1d5X0SxALXTU+uu4E8BjlKxfBddhQE7wkD52akPA+8Xn+g/jZEB44TvqpppXQErXsT4/NErAYmuZh0OLY0AC0jz18bc1QIY9vqQHgGVACzbEDKqBaECrwby/u0BkQARz5gbi5STA4WEeMmp7VcD3NiVXZJJwwFe4UjQuGV1A0AdgUWn6ZUDd9DCN7WVcQBKAqBSwd0zA6CcgIX8hXECy57jIRuMmQK73kbyiSVlAALzhFBZOScAnp5c8MjNawJk6L2NB3UvAuTuAOG5lW0DJBLOryhlKwOMr/cqf0FnAW8PFrmSXR0DjbtwZgWFcwBQEZebLkVdAhg9D/+j6RsDaWfiZPrNQwEsdwKLABlTA+Hc8JMuBY0APDW3ok69bwDR3c1gW315AB3pdrL6HRMDlj6LtYOBoQCzCK9LXs3RAx80nxkF4ZEDLPaqg/8FNwAy056SQF2RA5EA5+h0aRMAG133q6l9pQC8Sh9ucOUjABH3Jq2KJd0CVuFrZWmxgQCz1ZAdnrEFAR+4aCkYKSMDfHczXJ/xmQN9S1UzeD1ZAMSa/3vWLW0BLzqhEYWxXQNDuy+RHlGRAZNVoZkS9SkBgnasamXNlQAGETWnA/GtAAXqzvyG4b0DhdqfSKcFvQF3kLzDODmtAgUg20GgzbkCFl108zW1nQKpyz4++sjpA49UL7jjIXECTvCyLLC5XwAMKiRjgTVtAVqgkTyIOYkD5CEove3dgQMx41HBXXTLAJ8i1gcgRZEBDJkuXTjZFQNdGzDO/YFpAVR22FJ+tIEA9pTKMSkViQJulSHHF80JAAKTZyGLRVEBMu7pyyKEjwKWjFtoy7lVA4aGZQwLiWUCw739QI9ZPQNK0PVt2fVDAuuBbeNv/ZkC3/JDt1bYYQLwHi5sjD1NA/IX7fZ5yN8ANjfdT9xhlQB3F1AyEmQJARghFcLVBXUAV2lgVjMZIQH+XXlQeaWRAEk4PUsQ4PUBbd9ez6gVNQDCQBp8hU1ZA8bg8wHzUUECml+CMyHg8QLKXKRUCV2VA9GqqGCFxUkAv0jCi9b9aQB24WebfXT5Attyn8ZdzZ0BujJkNG59IQK1wMlwdRFhA7KXwJZEAUEA=",
          "dtype": "f8"
         },
         "y": {
          "bdata": "FHMhk1rHIEC1dkkQdkHVvz9Z22MkREDAVUNYYiJ6O8CA8PwRdD0/QHQ3zZDUlC7AZnHSpVlZMsCJAbqCjxQ5QH9+wu/EnSdAO1C/NKGnJ0CXjq9F41oPwKrEAy9aFyvApoS/2jBOK8DcQQzEBRZDwCbD3pqPgTlANXysqBbXJ8Bw/IFlJIUMQK61fyuMHhrAYz2y2fwALEASjDVO/bUzwLQn6JIGlTJAv9Z8mp1NBMAxbu9V0Ec8wCGGXdMGdkFA397layBaN8C17ufVM6QwQAmMtp8YYALADqOYbYKiNsCuzDwMldwaQIgqhz4NcSBA/KkB1b4HMcD+27t1L9AnQNyiow4sVCfA1H7klrB3OsDlhG3+tLQgwHxLb++pbzhAUWyXJy2KQMAgh87RXwQxwL/ax7sp1xfAt7mLvtJlJEBjczxXvpsowBAEDw4fhCFAcguOSFl+LUAy5Ycghb81QE194sYXS0HAUGwLIsVwMMBA7sVBnplPwG8OlOT+TTHA0jQVdfA6IsBPNC/NjJgOwC+emF08dDrAjvwotwsqC0C2Rz3LnQcswHabT3q+TjdAzjDU+tsGLkAYUbpBG/oBwN8B8knFdDvApeVyoDcNCEC0bxW7G6glwLpLHUtwKiFAcUApRFsJF8AGa2mZVcQwQDg+JNAnWArAWgvIXCblGUBGt8ETBE4RwHoNclsmyi/ApxCC8qduHMCoH1OkvC0FQCIqr2XRsRzA/T+KFTNVScABtFhE+Of8P1YuzWEPISjAq1MCLJv0QsByAltWxLk5wOP4q/6Pwi/Ar70P8OYs779HKaEsyKACwM/8HvSQpEVAoIJuI4a4REDPD2sl294NwPd7uSEOJOA/92ckjgm5G8AefVUeAZ0UQM2b/0Vk2ybAYGHMHvtHLkBMTPiPgdw6QEVH+aTypkNAlqAwOj8QQUD2HgQDfwxCQPDA6dw5oUHA6D7IsINkMsAcAxx05nJHQIT2PMzh50ZAwlccEaGjRUBbrdwGZHlAQHZ+XyYcxDRAQht53EXDRECscWJhYpEtQKwFhv0i7ENAdjycikQOPEBs1aLxiIhEQEUYNKUjYkFATV5CzfLEKUDW8jiWVagpQHgZCvLrFhVAl6/EzZ/hQUA85T0x1LlAQE3Anecx10NAU5G5uMqVPkCMuF+aPFw+QMLFKosy8EBAynJ+oym1QkDYuL68CrVFQKsJ7N37GkJA5EgLdS1/RkBzh3JN43Y7QC5ek1SMBw/AKPKAXDZqP0B7L4CTT68rQDpTDWMqgkRA1tGZTbYRLkDt67bcL5JKQGwUtbwOxTNAvDlbbeHTREAZp8h+CZnUP+wcRWCErUBAWSgr34Tf+b8=",
          "dtype": "f8"
         },
         "z": {
          "bdata": "trnKt53Epr/4jhVgVCrwPzUthfe7cfE/7Le9Cb/hLMBOQBsLpvc0wOHiwKaKA9U/k9oO9MMWKsCEP5saYOc1wEriqBjKPijAhpc+JR29NcDm1p/PovMBwMqLL4+V0uE/2036vCbWDUAsm0sGIe4twKY3tc3uNDTA3WPgpnTaJ8Dn9JwR62QzwIq1g8DE3SbAajmtDjrAM8AU+TTAM+ojwHq5m7JhKTLAhJADL06wIUCyt7SjYAAswDEXUEy29y3AzOC/lKaRMMAuQb9sY2YmwDB+UieVKDHARXfGjhRJKMCWR8Zl6I4swJzxXejAEDfAZNiL/fajKsDXNhVGlfYzwHUX9updeijA2wsSvMJiKcDStanOEZMswACUScmMbjTAv/A4rBTCMMCAzcysw9P9PwnULogY8iHAy7kFkJT1NMBHQUD+ruUnwF4tDjN0QTPAYssXEUVQKcB5fLRUvhQ2wDfU17l03irAte743m5RM8D0GS20OzgtwKshqXw1kTLAFmSffqyMJ8BxYRiFYfg1wPp8WVwNQi/AozJGeKdvKMBXhiGruP0xwM40tCM85iXA4SCGmQT6NMAxM06wCbwxwF09ZTCJFDHA2UgeLVJYKsAOuBSd2UoywDFLklbwqyfA4KyDWz7mMcATbPJaDkMkwAwpgssFlDjAFoxQX6EELcB62cfk9Y8ywMb5V/pFfSbAwRllyGGyMcCpd3ZSNs0rwEJnNzhbNDPA8abg27J9MMAnH0q5Ld81wIYsWj0hGinAcrF4DLj6NMDf/3uvUj0hwG2gBJQx6zLAnvWEdd5QI8ATjaHUX7czwB6euT6nDxvAu90msqwTMMAJgYYKtqUgwG52wpTwMzXAiByxEnxLJsAq7mdM34E3wPL3nBhh1ibAxqu+mMJ3NcCRCgC5abglwP68I2QdDDPAE0w5RpePH8AsyPlQ800qwPzS0XlB3yLA+qt5CU26NMCvOfeNEAUdwJ7LWc2ngC3AKCe+EpipGMBWl9Yi89IxwDAijdN1eCHA0CpePs2wMMAje93yULcgwH82OJlQozHAz0NqbvjVIcBtstEF2zoywK62lHD8bSLAlUD1imneMcAU130fIDkbwPzAvurlTjDAnhtVPIJ/JMCif13Y5NAywELzwSQ7YgPAPDKJ6umELMCE0Sqrk60ewC34rvy9ATHAad7DYk41HsCRrTsSupcxwBjPsj1a1RnA1B9qOzYgMMBE0Fsf6RIhwHYq50MGIzPA0dxdmvojIMCW6WYSbRowwPpf5jRygSHAYLLV8otmMcAhkfZmmVAYwByMKO33ajDAJHhuKLIlJMAKzYLKxBw1wFpiqVfCCiTA387A5qi6MsA=",
          "dtype": "f8"
         }
        },
        {
         "hovertemplate": "region=cb<br>PC1=%{x}<br>PC2=%{y}<br>PC3=%{z}<extra></extra>",
         "legendgroup": "cb",
         "marker": {
          "color": "#EF553B",
          "opacity": 0.85,
          "size": 4,
          "symbol": "circle"
         },
         "mode": "markers",
         "name": "cb",
         "scene": "scene",
         "showlegend": true,
         "type": "scatter3d",
         "x": {
          "bdata": "hm5bVuJGdMDfyZHEwlo/wI2cDbxxNHPAlYMeoglcAMCU+OjrDJN1wNcz784JIGDAIgoHUgrwakAsOfTLA25xwB3cVWur+DfAI08E0v4ba0CfHdggj15lQAb15f9zq2/AblEMa0TPQsBwzMrrzQ5xwC0ZJ48jwVjAgWbELvzMcMD+OS5cuC9RwCtkzBMAEmFAa8oHJFcEY0BvneSU8lhcQHNESN8FFURA4vW53av2dsBW2eA1+N1LwNucHi2nMltAK9WT6GS3TsCDTAvB1j9lQOKph1bDeFBAdAVlR3qX/z/JsAa90ONhQFijGYhEWmBAe9bYg/5dWED+ET29L9pfQPohpJAmSzxA8mMVCl01X0ByLNh25KxfwNtIV2j1sWbA2ZgkVVtIYUAl+GM47K9ZQD9qG0HGk0VA3EPWF8ZQZkByqBaN5XtiQFyQBJkbRmBAMtzEfIa+VsCbMGT8r3AlQO/0sRzmS0NAf6dkPecFYsAC+EMOUJY1wGRVRpOb1kbA4NHhPzADTUA9dalCu0hmQPeDKanZbBjABQ4oFY1eVsBC98JT78w8QEyDGiKozWVAiG5ICnZFUkBynr2qlQEewH4tv+N5oV9AC048u6G+N0BKOjmPMUpRQP4xsSNwn2RAW+TXljdxaUD6Qm0JHAVGwK7A6GdJzFdAWUOkb7A1FMANHgO3i4UqwAXGtTBygV9AbZi1GEO4XEAVNyUdUKdgQHqQ3Qacj2RAmNZsds5OXED0fELdgTBjQHhbiXO3imNAA9XVnj0DaEAO/Nd6ULRjQHAchnJm8mtA+XddOh/MW0Bew/R+PEhjQCPaohjtTV9A73ArC+D4MMDNdBDIePRjQK1jlMgAhlhA",
          "dtype": "f8"
         },
         "y": {
          "bdata": "whGVGRAnJMAahhdZ7Dc0wJNN62sDPz3AF9kFRaG/QMB6/+xF0/FBwOK2oIamFUPAXQJk7X/3PcApq/Ho0a0wwH2vlfh2ZTTA5s4XvjfSQsCaWf98Glo5wHHCHoihnSnAND4M6+KvH8CCJJ95t0wzwKX45ddOtyzAS/vpR4nZLcAd/ptRP5MswAlpMV0E4zXAM9OmmpuKRMAfboXFXl4+wEACj/buFzLApslIzjwpQMC6PoIxxDEuwMtssVuMpTnAcyO/tU5WR0Bsi6dlPqUqwLPhsEHJEj/As+OEwDK3IUCcCG08hGwTQCpoBIVykyzAgOHA/AxKNsC77SHmM6k0wMm2KjZaZyHAzqRC5jcl6D+D5rDCZoRBQBAp7T7U4zzAhPadZvDLMECGlM42py35v5fblZE4+RbAXKzYy3q5NMCwRlYThS0YQDfX3DUBqSbA3CBlQOfeRECMJ/1cwBUxQFUkgbl/pRRAhUwzhrAJOEAP/i6VDx4QwDV1+wGtbDrAgmfzxBDdOMBaJatgHjgzwKAduqjzKUXAcUhrHsxHPUBEoyVPfV8swMgDUOjjRyTAlH/7dWOcQcB0UUgQpy4YQC5USf3DGh1A0vZEuvyKA0CHUUicKvcsQGidnHhwlz1AHvJEJlOIIMCxMZe8a+H8v0iIATcouO+/9pBdphsgI0Bh1+H2K/siQLdIu7sea/G/rx5NsmEXQkDoZtcWR/ztv5VUaU5uHizAdUcMM51lQUD4Hol2n6gMwPIrtFN2cT9AUm3d2HKOBECBlNOY5vMzQA9PSjwXYzDAZEPIyx4uQkBl3f5yim4gQGUN9cVpPEDAI0U9KizTEMCw0CqDzZUwQDtGLYHu3tu/",
          "dtype": "f8"
         },
         "z": {
          "bdata": "7E7+QyqqQkAkC45c99o7QBND1drpjT1AnFNykpVSNUCvuhEkdao6QJxUdzOtETJAIzKDbwiYQUCiZFdbfYNCQCLHGo/wlT1ATTZL1tVEQUAVYktgaClCQAAgFK3fh0JAEc2Beu2rQEBnRAfuv39BQGxPpCA2iD5AigAKYayFQEBkp/BpjWw6QITlp4JH+kJA/INNaTZBQEDsX3nYob9BQIFR67hqqERAAQBzl27zPkD1dx9c4ghAQK3NgwSqokFA39NOdm4dTED7QQVTW9BDQNu/RwrjQT5AUm2RZYQVR0DLDElPY99HQGjoOG3rG0RAIc7h/0utRECluoODsJdCQPAMY3GRRERA3Di7sFXdRkBhJBP/WJJJQP5gkkaWMjNAbhSXThp/SkCjjQKJsxJEQDW0RPizh0RAQFl+tKUiQ0CU9XOamHdIQEqT8Y1EL0VAZLkgiZ3vSkCngG4foRNIQB+QZJAdvUdAkm5x+4XTTECEMzO5sM5GQPpCDBDPlTpAH4SiDMVGQ0BIX7qHPyhGQEk/xnKa8jpA/Jla5H0hSkAnk0nU6DhEQOBZkNBYkUZAvRhGfKvUQUDKdSpzujlGQA5HdhGCr0dAxCsaViYaRUCCK0SeHdlHQNh++hCW8E5A42d/yjZsREC+E4tuN4BHQDCXhyFO60hAuDR3UmqiR0AyEu944DJIQLrM0/j5H0dAC5wWwh3MTEA5Hv2xAg9EQN3IMBpfb0NABJvDNFq4TkDt/pyj/wZFQKSsgCw5Pk1ANfTqxnWfREB9G8AHKqxMQPNB4RVumkNAt7HWfaX3TkBQKWxPZdNGQLbGN/jolEBA7cZIW4kbQUBOzHPBsf9LQDYw7YTrLEVA",
          "dtype": "f8"
         }
        },
        {
         "hovertemplate": "region=dlpfc<br>PC1=%{x}<br>PC2=%{y}<br>PC3=%{z}<extra></extra>",
         "legendgroup": "dlpfc",
         "marker": {
          "color": "#00cc96",
          "opacity": 0.85,
          "size": 4,
          "symbol": "circle"
         },
         "mode": "markers",
         "name": "dlpfc",
         "scene": "scene",
         "showlegend": true,
         "type": "scatter3d",
         "x": {
          "bdata": "Fk/F9GgYX8B7h3/IVdRgQCLBv5fF7lDAcpyQb4j7c8CcWQ/0cBMuQIKxtT2hS1zA3ovvmy8LcsBQtyzN848tQMpF3Zo63WDAOXmuD5ygecDMBXR1sUdXwET04lQ3yFXA0KdLC6J9UsCvI7am+2ZQwFDwpwjvQ0PA/DdrUUqrYsCsrbkaClJbwEA3nmys7jHA9OVry393XsBIDIIwsBZ1wDHEoQvRvxfAiTQH/8F1VMDzpPhzjkE8QMBKRjbduFfAqhYB7CvwVcAX5sumuvkhQLt3CsSVpGDArX9LBop5YcCyBKPs8DUoQJKjqAnyK1DApn0F/FljdcCF5F7MrHBAwBnCeTKSLFPAWnnXEJN8d8ACredHtdldwLTuC8GQ3VFAN+u3up8HUMC8BOCT1jJ2wBQD1bC9F0vAzuVFj6siZMCOqTY3ued1wCpbfSbBMUlAA8qz7BGXUsDeFUqRT1RAwK6M2nGBoWbAKWiJ104HUMDT4k5A/FVowC+PxnuHBELAJ4jgLcyiRsAKy+YCZbFhwFyZTXhl01fAvaq1Nl+ccsBNJCn5IplhwEhYU+1E8lbAQlLWepJZXEBL+aGU/xxAwFef5F+OQHTAOyWqaXc6ScAtk7IjZLRiwFO9jTQaFGHALDNL9Y9JYMCpE/Vjn5tgwP4DcneqlSPARM89TyDpA8B0GVRSdkFaQEsoXzfWP1RAcMEIk7y6aEAq4XSHyVJcQEofOlBtSEXA6VkI2l4cUUAO+V/MX1JWwK+YSJ3Mdk5AhSivYbxCVMDU3GPITYFYQMXVyfrJf0jAd9zYdYB/Y8DkvDekllFHwBcNVYSuxFjA2giNXA4LSUB5rjifRVBFwPspF7uUx1fAcX2fuAwwdMA7Mzc3E8VhwFms9uQU40PAuW67+sMMTkChrkZiGntCQCb47i8TLk1AX0GwnAEtR8DqMPKge/FEQOn1p1Sr6ErAgh35aur4YEDK/+eV8eBCQLFFU4gTAy/AtyobDcM4Z8AELGH23YhHQCt4yaPS7zxATVoE1K7PXkBOMhU3wfpAQAJANwXK+SXAdNRCNPQzRcB0cGtObABjwKe1PYhpPjBAguQcPUheY8Cmmof3YFpPwDnR5otwrBDAYUg0vFNkZ8DjC5UGEeZ2QLu3l42myDjAok7QNnD84r9X3+o9XIZQwGLLB74sTVfAyr2vrwr9VMByNOVHLQtLwHu+FXxxZF/A2xC1G2HMX8CKyaWj5pw/wNstkqbNvDXAPqREU4wYSEChEQbNZN4xQDIrMnvsgC1An/WT1yWURMC5gmrZbk1WwKAqZ2+hvGfAfcZGKKN4R8DAbPJiUo40wIbtPhaQG0hAbhcRdKXYOcCTx+mUbg5NwObdFlH3cU7ADG71qyXwNED9evZa9ldcwDZnPezBbjvA4grtp/7sBsAG4hYl6BVGQItJKA1dRmjAIZohI6OBQEDxbr2NCX1XwIITBD9d3GTAzdahPFv/VUBZNIfL45JQQMSxmAL17VjApNj71EsMVUB++YRGkttZwE6CPfqKs0RAK1Lr7ZJJREBavNhonf5swIPHYklK9GBAzOh9BofmMkAYoVJpNIE3QL90AgE0YW/A0NB7FKlqaEDb49ECzRpmwAA09mbxIGBAswz4NRODacDyC9+HFLFXQOJm7F5KOG3ARCGVndgFXkB34XVIwJNuwKFMp03AX2JA1XsIJL3T/T9tjAJJcv1uwJl1GoXUeVhAc+nlJhOQZsDM0E6BvKliQD08/R3RK0PAkfwNuD55YUBqoOCSfRprwGEszTuTHllA9ifTr2alWMCWtegAOJldQJzemMzFnW3A23OjE0oPYUCnLKnzkJAlQAIXC6VNKkBAS/8ot+RERUDQ4dj8Pbc7wOGRkS81qU5AW+fScKjVI0A=",
          "dtype": "f8"
         },
         "y": {
          "bdata": "K30igne4P0CFvIeBjjo5QGfAC1ZbKjdARl7qOcJzNcAwU+xBcfk0wMQ9oYdXKDRAu1CxbqirGsB8n2pWUccowPs1oXVsET/AyN5bDxMdSMD4dQTGvmlNwIf16Jw7xi1AKJtDK3RAK8B85B8U1oJAQD0L/hrpMgZAFgg+XAfqHEDN4cZLk9RMQDWl6fhh8Ng/pbuZgv6UHkCIh0fmdbs1wCIpXersOCbAuZ0hu2rzMUDNA4qI5FInwG6XDI8blTvACgEZXviOP0DARPhq6XrtPz6zYA/JOzDAznMpkVQdN0CNmUnlOl8fQJMMxlv2TyxAsluHlKpVFMA3zop9XZMywDQWS3GwsRdAltAhI5mcUMDhitGeBWMlQHEXuFI4tSDA293NMhCrBcBf0fXThZYjwCoaPd9YJRNAxTfSr8KEKcAE6VwaINo3wLi+tKjpp1DAPWGOdbDGQUCONctizsEqwExRAVDQeSxAwaIPsZJasr8mcsOMuoU6wDv7fIc/m0tA+Q+fZmIQFcDLgcf70+XpvzxT6/uIgj1Apw5jP2HcPsC8770Ak0wSwPe8ROXJbSxAjGxXohEnLMB8f1Tdq4wZQFocnS+XLBzA+Hz8MNBMGMCzYjY8oiI7QJ4SWhZ5gTtAlgf8GOa0TMDCEZ+EjbkUQErsxSHrkzfAV78qi/yXJMCovvg4Tww5wH8FkXRr1CTAFG32HboUQ8AaW5hCSZVHwD7/HlrRU0DAf3LjPFAhQcARrfYB3hojwDCyKtstOv4/mvSGF64IL8A0+7nF2QEqwMk7Ms3NETRAsauHekJ+VMC2C6tUMYhRwJyZUJuaZyxA6vZYD/KMPMD5qkL9wl1BwLObrVy2jBpAbndHPLLIIsBqxBonzRg2QPjQiQfHd0bA9AMCSw0KGMC5cbTXpSQbQOiiB8GoLDvAuEUBZ9t8IUBN2c5M4K4qwKJ+oFS6lgBAGcx9fRpNMMATxBmN390WwIiaJHO4GDrAFyu7kw7CK8BcJqupkx5PwCVIjv34q1TAxhp3splbPcCSfn/10qw2wAHtL2H8Xk7AY3ON30MRNMAKnYJUrCwlwMYpygSSizDA48bMo1BHLMAfnvockLgWwORfyq34KEHAnsZoV5leM8C4Ej6liJdhwPf2stxQDJm/9HiwbSi9A8Aii+dBVhwtQKd5D7e9VSBA+bA9XFpaG0B0zWPG8TsrwDaMMlkceAnAH8hEKJgh4r8l2uxq4vn/P0LHQ0fg7kHAbU/BzQxNMEDQMBgRgMQnQLCPxtYwJbQ/y+dbhMoGJsA6OvhZHgAcwFbiWQA31j7APSaGvtayAkCjwfCQoRYxwLJi9jpfIec/Jl9Z5pklJ8DQ5h/ZhxEBQEaa+EBdoD/AiyEnDgsEJ0Arc9mq5apJwJ7gG931iyrAgdat5Ed3MMCqjqrOHyAowBfs48Gau0XAPzOLc6rxIUD9DGgC/q1BwPsFtU3PHVNA7ApfuLNzQkDrSlLPB4giQKB9pWkbBT/A1QaGd4zH278cY1WALIZEwFo26SDtVilAWoBQLB/yHEB6+qjpq2BTQJd3Yn9BRBJA4v/cfNyt3T8iVIofOI4xQGgYgY9Sj09An1aqsNq+KMA4GzpjerxRQNrg1uibqjJA69tVw9wZUUC/a3c8AIk5QANmftTb1VFACf5ea8RkSEDfJ7jPTTVSQHsadaz1HSJA9HZk4H/K8L85yZwK7P9DQExA2ecAAxHAy/wT/NlQUkDgExu/f8c6QD55MGTBsqw/q07ZHQbXPUC+Vytss3ZSQIU/5t3Moz9AFwEwn9jeUUA2QRFEjONBQIaS8TaIr1NAl0RtbWoTNECTncn1cQMvQFMdjhwsDAzAeu+wObBkJ0A3WNv4j8I0QHvwHOhpCzFAap9HqrlwOEA=",
          "dtype": "f8"
         },
         "z": {
          "bdata": "RhVqsGfvAcC+y6N759kSwJ/M0Nm1owXA9eIycP3WC0DeYo0LeGcxwDjhJNdYkNs/PeqLVQp7EEADYVZIpBkwwDh5hFZ8pAXAF4gfrOguIkBYesjRZyYwwPwoGPIp9wTAE8JBw1zKLMC9k8LXPpEewB21CfbqbS7A35258DKqMMBS48xwPjcUwO+WIoVwlDLAc85eSfiDC8AsT8hQSTQSQAi6HzEawDDAXmlGtHkAH8A3mMs0CeIywICi/qfswTDAStS6VWHwFsD7wVM+Pe4vwD5IA0Nz6DDAOqAHKxCe5b8Grd1JRHwLwGZ4uUiaGvK/UEFYOyfXFEAN5UINGL8twKlcNVfvFhLAivX3nUc1EUAuQcSladgEwMN8z35kQBbAzJ3B18bqAsAZPqH8JH0RQABorVc71C7AE+s8jhZ8479JfoJUSxcaQPYACgUdLCrAq+4EmROcHcBidXAh/hI1wHMAiS4wfQzA18ipsEAuMMAMGSqJNBUuwMLcrwmAnhDAZhoDwky6MMCCAVcZjs0wwNFiaxcwsAnAMCMFFdp+/78fySS2w5wxwCoONZotpBXAgXeRBPhuIMBOML2YH7UOwDFS/zAvcQpAuEjZWcbILcBajWWwusYBwAr/CLKByw9AsdF3defOLMBGsy4mHvMRwIlvLQDKSCDAjQjyM0jaM8CB65LF8YMiwMRWsqCWTTPAkzavTOszKMCdGlRZfCg0wHUU5sAncBzAO8m5Ogc+I8B7xIm56JIywHOajFjobiLADpETpROzMMDJI3ltoAAkwDaK/0qJsRfAedc/D7XAFEDVXhSGVgohwIWQpwm/JAfAlVhG6mwsI8CsFyxufA8xwJVdTwf4Kv2/NQS7zProFkBbnkaX1fobwIPGQh7PEyHA5TPYZWlaJcB822x36LwvwAPY1mYhxBzAlp+w+LQKM8BWWpy2cZYYwJWZtdso1DHA8IjBRaWdKMAMWq8/9J0zwCiThfVjBhXAo0xWz4+iK8BwpCjilcgjwLqiqC32KzHAw0ctt6AVI8AX8QTM48AxwC+8bxxQEA3AnY7jr4tLC8C40+BUuXsuwMu3V8/lpBzA8JeJTG4AMcCtjHlM6AQGwDh+olYMKjDAixxT+34l7z/EeJcQuHY0wE6WThPclhrA8s8b8CNbMcCsMxZRlcEKwIqqE+ylyjHAYUic5nQcE8C9kas1hnkwwJAqSD3ijtW/vCnEvT+bMMBuuQVg1gkVwCr+FQLpjy7AslmzZyhBIcB/FoKFDFUzwNany8moxR3AULVpNpiVMMDU38JLFM8twAhjMRr6niDAYy4AFNpBHsCa+AcMZ/wzwPp4yg4A7h3A9jZstdZUMcBI38QC03MXwHel6MOMeDHAmPOy6mRBIsATcN0Zh70UwNPPFB+9bB3AcquS8N5VNMB4bX/SPHgiwDH22ACP9yDAA1M9YqKWIcC+zeK/M4QowGucz9t8hhZA6A9XRH9GJ8BZ9U/31hMgwEwDN/WezCPAwlfpqriEJcCRBl6q7tgrwF4xNLryph/AF4+Id/ISKcBn6lhYDbkRQC6BkRd9sTHABdAvT234GcCa9x99kuYnwAhL8yX2JhJApUIz5Q9WM8CkI83JLIz6P+hXzX9zwTHA+rNmyJElC0DV9zBPRBcwwOu9ZpGNUxRAX9zUJtnRKMBUxfP4HQoSQLmoK/LUhDDAgt88/lpXLMBz0IAwqHAWQDFQD/HfjS7AaneC2n747T/OzRv6jh0zwHVr4WqaswrAEHTdDwmeLsDmt2HpXcEHQLsNWnmaIC7AwiypsjmJvz9MX1M8/UgwwGAFOUfYUBFAZZAGkdafMMAImXaV/hkqwKiSthx4VS/AVtn2p39mLcDvo/3U/QsrwJjQKztImS3AHhWH0zxeKcA=",
          "dtype": "f8"
         }
        }
       ],
       "layout": {
        "legend": {
         "title": {
          "text": "region"
         },
         "tracegroupgap": 0
        },
        "scene": {
         "domain": {
          "x": [
           0,
           1
          ],
          "y": [
           0,
           1
          ]
         },
         "xaxis": {
          "title": {
           "text": "PC1"
          }
         },
         "yaxis": {
          "title": {
           "text": "PC2"
          }
         },
         "zaxis": {
          "title": {
           "text": "PC3"
          }
         }
        },
        "template": {
         "data": {
          "bar": [
           {
            "error_x": {
             "color": "#2a3f5f"
            },
            "error_y": {
             "color": "#2a3f5f"
            },
            "marker": {
             "line": {
              "color": "#E5ECF6",
              "width": 0.5
             },
             "pattern": {
              "fillmode": "overlay",
              "size": 10,
              "solidity": 0.2
             }
            },
            "type": "bar"
           }
          ],
          "barpolar": [
           {
            "marker": {
             "line": {
              "color": "#E5ECF6",
              "width": 0.5
             },
             "pattern": {
              "fillmode": "overlay",
              "size": 10,
              "solidity": 0.2
             }
            },
            "type": "barpolar"
           }
          ],
          "carpet": [
           {
            "aaxis": {
             "endlinecolor": "#2a3f5f",
             "gridcolor": "white",
             "linecolor": "white",
             "minorgridcolor": "white",
             "startlinecolor": "#2a3f5f"
            },
            "baxis": {
             "endlinecolor": "#2a3f5f",
             "gridcolor": "white",
             "linecolor": "white",
             "minorgridcolor": "white",
             "startlinecolor": "#2a3f5f"
            },
            "type": "carpet"
           }
          ],
          "choropleth": [
           {
            "colorbar": {
             "outlinewidth": 0,
             "ticks": ""
            },
            "type": "choropleth"
           }
          ],
          "contour": [
           {
            "colorbar": {
             "outlinewidth": 0,
             "ticks": ""
            },
            "colorscale": [
             [
              0,
              "#0d0887"
             ],
             [
              0.1111111111111111,
              "#46039f"
             ],
             [
              0.2222222222222222,
              "#7201a8"
             ],
             [
              0.3333333333333333,
              "#9c179e"
             ],
             [
              0.4444444444444444,
              "#bd3786"
             ],
             [
              0.5555555555555556,
              "#d8576b"
             ],
             [
              0.6666666666666666,
              "#ed7953"
             ],
             [
              0.7777777777777778,
              "#fb9f3a"
             ],
             [
              0.8888888888888888,
              "#fdca26"
             ],
             [
              1,
              "#f0f921"
             ]
            ],
            "type": "contour"
           }
          ],
          "contourcarpet": [
           {
            "colorbar": {
             "outlinewidth": 0,
             "ticks": ""
            },
            "type": "contourcarpet"
           }
          ],
          "heatmap": [
           {
            "colorbar": {
             "outlinewidth": 0,
             "ticks": ""
            },
            "colorscale": [
             [
              0,
              "#0d0887"
             ],
             [
              0.1111111111111111,
              "#46039f"
             ],
             [
              0.2222222222222222,
              "#7201a8"
             ],
             [
              0.3333333333333333,
              "#9c179e"
             ],
             [
              0.4444444444444444,
              "#bd3786"
             ],
             [
              0.5555555555555556,
              "#d8576b"
             ],
             [
              0.6666666666666666,
              "#ed7953"
             ],
             [
              0.7777777777777778,
              "#fb9f3a"
             ],
             [
              0.8888888888888888,
              "#fdca26"
             ],
             [
              1,
              "#f0f921"
             ]
            ],
            "type": "heatmap"
           }
          ],
          "histogram": [
           {
            "marker": {
             "pattern": {
              "fillmode": "overlay",
              "size": 10,
              "solidity": 0.2
             }
            },
            "type": "histogram"
           }
          ],
          "histogram2d": [
           {
            "colorbar": {
             "outlinewidth": 0,
             "ticks": ""
            },
            "colorscale": [
             [
              0,
              "#0d0887"
             ],
             [
              0.1111111111111111,
              "#46039f"
             ],
             [
              0.2222222222222222,
              "#7201a8"
             ],
             [
              0.3333333333333333,
              "#9c179e"
             ],
             [
              0.4444444444444444,
              "#bd3786"
             ],
             [
              0.5555555555555556,
              "#d8576b"
             ],
             [
              0.6666666666666666,
              "#ed7953"
             ],
             [
              0.7777777777777778,
              "#fb9f3a"
             ],
             [
              0.8888888888888888,
              "#fdca26"
             ],
             [
              1,
              "#f0f921"
             ]
            ],
            "type": "histogram2d"
           }
          ],
          "histogram2dcontour": [
           {
            "colorbar": {
             "outlinewidth": 0,
             "ticks": ""
            },
            "colorscale": [
             [
              0,
              "#0d0887"
             ],
             [
              0.1111111111111111,
              "#46039f"
             ],
             [
              0.2222222222222222,
              "#7201a8"
             ],
             [
              0.3333333333333333,
              "#9c179e"
             ],
             [
              0.4444444444444444,
              "#bd3786"
             ],
             [
              0.5555555555555556,
              "#d8576b"
             ],
             [
              0.6666666666666666,
              "#ed7953"
             ],
             [
              0.7777777777777778,
              "#fb9f3a"
             ],
             [
              0.8888888888888888,
              "#fdca26"
             ],
             [
              1,
              "#f0f921"
             ]
            ],
            "type": "histogram2dcontour"
           }
          ],
          "mesh3d": [
           {
            "colorbar": {
             "outlinewidth": 0,
             "ticks": ""
            },
            "type": "mesh3d"
           }
          ],
          "parcoords": [
           {
            "line": {
             "colorbar": {
              "outlinewidth": 0,
              "ticks": ""
             }
            },
            "type": "parcoords"
           }
          ],
          "pie": [
           {
            "automargin": true,
            "type": "pie"
           }
          ],
          "scatter": [
           {
            "fillpattern": {
             "fillmode": "overlay",
             "size": 10,
             "solidity": 0.2
            },
            "type": "scatter"
           }
          ],
          "scatter3d": [
           {
            "line": {
             "colorbar": {
              "outlinewidth": 0,
              "ticks": ""
             }
            },
            "marker": {
             "colorbar": {
              "outlinewidth": 0,
              "ticks": ""
             }
            },
            "type": "scatter3d"
           }
          ],
          "scattercarpet": [
           {
            "marker": {
             "colorbar": {
              "outlinewidth": 0,
              "ticks": ""
             }
            },
            "type": "scattercarpet"
           }
          ],
          "scattergeo": [
           {
            "marker": {
             "colorbar": {
              "outlinewidth": 0,
              "ticks": ""
             }
            },
            "type": "scattergeo"
           }
          ],
          "scattergl": [
           {
            "marker": {
             "colorbar": {
              "outlinewidth": 0,
              "ticks": ""
             }
            },
            "type": "scattergl"
           }
          ],
          "scattermap": [
           {
            "marker": {
             "colorbar": {
              "outlinewidth": 0,
              "ticks": ""
             }
            },
            "type": "scattermap"
           }
          ],
          "scattermapbox": [
           {
            "marker": {
             "colorbar": {
              "outlinewidth": 0,
              "ticks": ""
             }
            },
            "type": "scattermapbox"
           }
          ],
          "scatterpolar": [
           {
            "marker": {
             "colorbar": {
              "outlinewidth": 0,
              "ticks": ""
             }
            },
            "type": "scatterpolar"
           }
          ],
          "scatterpolargl": [
           {
            "marker": {
             "colorbar": {
              "outlinewidth": 0,
              "ticks": ""
             }
            },
            "type": "scatterpolargl"
           }
          ],
          "scatterternary": [
           {
            "marker": {
             "colorbar": {
              "outlinewidth": 0,
              "ticks": ""
             }
            },
            "type": "scatterternary"
           }
          ],
          "surface": [
           {
            "colorbar": {
             "outlinewidth": 0,
             "ticks": ""
            },
            "colorscale": [
             [
              0,
              "#0d0887"
             ],
             [
              0.1111111111111111,
              "#46039f"
             ],
             [
              0.2222222222222222,
              "#7201a8"
             ],
             [
              0.3333333333333333,
              "#9c179e"
             ],
             [
              0.4444444444444444,
              "#bd3786"
             ],
             [
              0.5555555555555556,
              "#d8576b"
             ],
             [
              0.6666666666666666,
              "#ed7953"
             ],
             [
              0.7777777777777778,
              "#fb9f3a"
             ],
             [
              0.8888888888888888,
              "#fdca26"
             ],
             [
              1,
              "#f0f921"
             ]
            ],
            "type": "surface"
           }
          ],
          "table": [
           {
            "cells": {
             "fill": {
              "color": "#EBF0F8"
             },
             "line": {
              "color": "white"
             }
            },
            "header": {
             "fill": {
              "color": "#C8D4E3"
             },
             "line": {
              "color": "white"
             }
            },
            "type": "table"
           }
          ]
         },
         "layout": {
          "annotationdefaults": {
           "arrowcolor": "#2a3f5f",
           "arrowhead": 0,
           "arrowwidth": 1
          },
          "autotypenumbers": "strict",
          "coloraxis": {
           "colorbar": {
            "outlinewidth": 0,
            "ticks": ""
           }
          },
          "colorscale": {
           "diverging": [
            [
             0,
             "#8e0152"
            ],
            [
             0.1,
             "#c51b7d"
            ],
            [
             0.2,
             "#de77ae"
            ],
            [
             0.3,
             "#f1b6da"
            ],
            [
             0.4,
             "#fde0ef"
            ],
            [
             0.5,
             "#f7f7f7"
            ],
            [
             0.6,
             "#e6f5d0"
            ],
            [
             0.7,
             "#b8e186"
            ],
            [
             0.8,
             "#7fbc41"
            ],
            [
             0.9,
             "#4d9221"
            ],
            [
             1,
             "#276419"
            ]
           ],
           "sequential": [
            [
             0,
             "#0d0887"
            ],
            [
             0.1111111111111111,
             "#46039f"
            ],
            [
             0.2222222222222222,
             "#7201a8"
            ],
            [
             0.3333333333333333,
             "#9c179e"
            ],
            [
             0.4444444444444444,
             "#bd3786"
            ],
            [
             0.5555555555555556,
             "#d8576b"
            ],
            [
             0.6666666666666666,
             "#ed7953"
            ],
            [
             0.7777777777777778,
             "#fb9f3a"
            ],
            [
             0.8888888888888888,
             "#fdca26"
            ],
            [
             1,
             "#f0f921"
            ]
           ],
           "sequentialminus": [
            [
             0,
             "#0d0887"
            ],
            [
             0.1111111111111111,
             "#46039f"
            ],
            [
             0.2222222222222222,
             "#7201a8"
            ],
            [
             0.3333333333333333,
             "#9c179e"
            ],
            [
             0.4444444444444444,
             "#bd3786"
            ],
            [
             0.5555555555555556,
             "#d8576b"
            ],
            [
             0.6666666666666666,
             "#ed7953"
            ],
            [
             0.7777777777777778,
             "#fb9f3a"
            ],
            [
             0.8888888888888888,
             "#fdca26"
            ],
            [
             1,
             "#f0f921"
            ]
           ]
          },
          "colorway": [
           "#636efa",
           "#EF553B",
           "#00cc96",
           "#ab63fa",
           "#FFA15A",
           "#19d3f3",
           "#FF6692",
           "#B6E880",
           "#FF97FF",
           "#FECB52"
          ],
          "font": {
           "color": "#2a3f5f"
          },
          "geo": {
           "bgcolor": "white",
           "lakecolor": "white",
           "landcolor": "#E5ECF6",
           "showlakes": true,
           "showland": true,
           "subunitcolor": "white"
          },
          "hoverlabel": {
           "align": "left"
          },
          "hovermode": "closest",
          "mapbox": {
           "style": "light"
          },
          "paper_bgcolor": "white",
          "plot_bgcolor": "#E5ECF6",
          "polar": {
           "angularaxis": {
            "gridcolor": "white",
            "linecolor": "white",
            "ticks": ""
           },
           "bgcolor": "#E5ECF6",
           "radialaxis": {
            "gridcolor": "white",
            "linecolor": "white",
            "ticks": ""
           }
          },
          "scene": {
           "xaxis": {
            "backgroundcolor": "#E5ECF6",
            "gridcolor": "white",
            "gridwidth": 2,
            "linecolor": "white",
            "showbackground": true,
            "ticks": "",
            "zerolinecolor": "white"
           },
           "yaxis": {
            "backgroundcolor": "#E5ECF6",
            "gridcolor": "white",
            "gridwidth": 2,
            "linecolor": "white",
            "showbackground": true,
            "ticks": "",
            "zerolinecolor": "white"
           },
           "zaxis": {
            "backgroundcolor": "#E5ECF6",
            "gridcolor": "white",
            "gridwidth": 2,
            "linecolor": "white",
            "showbackground": true,
            "ticks": "",
            "zerolinecolor": "white"
           }
          },
          "shapedefaults": {
           "line": {
            "color": "#2a3f5f"
           }
          },
          "ternary": {
           "aaxis": {
            "gridcolor": "white",
            "linecolor": "white",
            "ticks": ""
           },
           "baxis": {
            "gridcolor": "white",
            "linecolor": "white",
            "ticks": ""
           },
           "bgcolor": "#E5ECF6",
           "caxis": {
            "gridcolor": "white",
            "linecolor": "white",
            "ticks": ""
           }
          },
          "title": {
           "x": 0.05
          },
          "xaxis": {
           "automargin": true,
           "gridcolor": "white",
           "linecolor": "white",
           "ticks": "",
           "title": {
            "standoff": 15
           },
           "zerolinecolor": "white",
           "zerolinewidth": 2
          },
          "yaxis": {
           "automargin": true,
           "gridcolor": "white",
           "linecolor": "white",
           "ticks": "",
           "title": {
            "standoff": 15
           },
           "zerolinecolor": "white",
           "zerolinewidth": 2
          }
         }
        },
        "title": {
         "text": "3-component PCA"
        }
       }
      }
     },
     "metadata": {},
     "output_type": "display_data"
    }
   ],
   "source": [
    "fig = px.scatter_3d(\n",
    "    final_PC_df,\n",
    "    x=\"PC1\", y=\"PC2\", z=\"PC3\",\n",
    "    color=\"region\",\n",
    "    category_orders={\"region\": [\"ancg\", \"cb\", \"dlpfc\"]},\n",
    "    opacity=0.85,\n",
    "    title=\"3-component PCA\"\n",
    ")\n",
    "fig.update_traces(marker=dict(size=4))\n",
    "fig.update_layout(scene=dict(xaxis_title=\"PC1\", yaxis_title=\"PC2\", zaxis_title=\"PC3\"))\n",
    "fig.show()  # drag to rotate\n",
    "\n"
   ]
  },
  {
   "cell_type": "code",
   "execution_count": 27,
   "id": "16acdeb6",
   "metadata": {},
   "outputs": [
    {
     "data": {
      "application/vnd.plotly.v1+json": {
       "config": {
        "plotlyServerURL": "https://plot.ly"
       },
       "data": [
        {
         "marker": {
          "size": 3
         },
         "mode": "markers",
         "name": "ancg",
         "scene": "scene",
         "showlegend": false,
         "type": "scatter3d",
         "x": {
          "bdata": "r94AuqAsbsA5cvbQryJswCuwGp376nPAtTS+nZ/dYkBOEXKEaJYxQEyhzBS/5GjAksBec7ObWEBVRxCqbc45QCzxkQfB3V5AJgcRXTKpLUB9yTwFFSdtwEi4WCvog2zATC9cnSoAbsArveKWy1BvQNwfTOiE2TRAXWcqkqZnYECPedhsPB5EwBcLAZS5RGlAZki+KR8EEsCKwUGZLpJbQEiPQafrW0bApM/YeW1KccDUiQiiDwxvQJEM1d5X0SxALXTU+uu4E8BjlKxfBddhQE7wkD52akPA+8Xn+g/jZEB44TvqpppXQErXsT4/NErAYmuZh0OLY0AC0jz18bc1QIY9vqQHgGVACzbEDKqBaECrwby/u0BkQARz5gbi5STA4WEeMmp7VcD3NiVXZJJwwFe4UjQuGV1A0AdgUWn6ZUDd9DCN7WVcQBKAqBSwd0zA6CcgIX8hXECy57jIRuMmQK73kbyiSVlAALzhFBZOScAnp5c8MjNawJk6L2NB3UvAuTuAOG5lW0DJBLOryhlKwOMr/cqf0FnAW8PFrmSXR0DjbtwZgWFcwBQEZebLkVdAhg9D/+j6RsDaWfiZPrNQwEsdwKLABlTA+Hc8JMuBY0APDW3ok69bwDR3c1gW315AB3pdrL6HRMDlj6LtYOBoQCzCK9LXs3RAx80nxkF4ZEDLPaqg/8FNwAy056SQF2RA5EA5+h0aRMAG133q6l9pQC8Sh9ucOUjABH3Jq2KJd0CVuFrZWmxgQCz1ZAdnrEFAR+4aCkYKSMDfHczXJ/xmQN9S1UzeD1ZAMSa/3vWLW0BLzqhEYWxXQNDuy+RHlGRAZNVoZkS9SkBgnasamXNlQAGETWnA/GtAAXqzvyG4b0DhdqfSKcFvQF3kLzDODmtAgUg20GgzbkCFl108zW1nQKpyz4++sjpA49UL7jjIXECTvCyLLC5XwAMKiRjgTVtAVqgkTyIOYkD5CEove3dgQMx41HBXXTLAJ8i1gcgRZEBDJkuXTjZFQNdGzDO/YFpAVR22FJ+tIEA9pTKMSkViQJulSHHF80JAAKTZyGLRVEBMu7pyyKEjwKWjFtoy7lVA4aGZQwLiWUCw739QI9ZPQNK0PVt2fVDAuuBbeNv/ZkC3/JDt1bYYQLwHi5sjD1NA/IX7fZ5yN8ANjfdT9xhlQB3F1AyEmQJARghFcLVBXUAV2lgVjMZIQH+XXlQeaWRAEk4PUsQ4PUBbd9ez6gVNQDCQBp8hU1ZA8bg8wHzUUECml+CMyHg8QLKXKRUCV2VA9GqqGCFxUkAv0jCi9b9aQB24WebfXT5Attyn8ZdzZ0BujJkNG59IQK1wMlwdRFhA7KXwJZEAUEA=",
          "dtype": "f8"
         },
         "y": {
          "bdata": "FHMhk1rHIEC1dkkQdkHVvz9Z22MkREDAVUNYYiJ6O8CA8PwRdD0/QHQ3zZDUlC7AZnHSpVlZMsCJAbqCjxQ5QH9+wu/EnSdAO1C/NKGnJ0CXjq9F41oPwKrEAy9aFyvApoS/2jBOK8DcQQzEBRZDwCbD3pqPgTlANXysqBbXJ8Bw/IFlJIUMQK61fyuMHhrAYz2y2fwALEASjDVO/bUzwLQn6JIGlTJAv9Z8mp1NBMAxbu9V0Ec8wCGGXdMGdkFA397layBaN8C17ufVM6QwQAmMtp8YYALADqOYbYKiNsCuzDwMldwaQIgqhz4NcSBA/KkB1b4HMcD+27t1L9AnQNyiow4sVCfA1H7klrB3OsDlhG3+tLQgwHxLb++pbzhAUWyXJy2KQMAgh87RXwQxwL/ax7sp1xfAt7mLvtJlJEBjczxXvpsowBAEDw4fhCFAcguOSFl+LUAy5Ycghb81QE194sYXS0HAUGwLIsVwMMBA7sVBnplPwG8OlOT+TTHA0jQVdfA6IsBPNC/NjJgOwC+emF08dDrAjvwotwsqC0C2Rz3LnQcswHabT3q+TjdAzjDU+tsGLkAYUbpBG/oBwN8B8knFdDvApeVyoDcNCEC0bxW7G6glwLpLHUtwKiFAcUApRFsJF8AGa2mZVcQwQDg+JNAnWArAWgvIXCblGUBGt8ETBE4RwHoNclsmyi/ApxCC8qduHMCoH1OkvC0FQCIqr2XRsRzA/T+KFTNVScABtFhE+Of8P1YuzWEPISjAq1MCLJv0QsByAltWxLk5wOP4q/6Pwi/Ar70P8OYs779HKaEsyKACwM/8HvSQpEVAoIJuI4a4REDPD2sl294NwPd7uSEOJOA/92ckjgm5G8AefVUeAZ0UQM2b/0Vk2ybAYGHMHvtHLkBMTPiPgdw6QEVH+aTypkNAlqAwOj8QQUD2HgQDfwxCQPDA6dw5oUHA6D7IsINkMsAcAxx05nJHQIT2PMzh50ZAwlccEaGjRUBbrdwGZHlAQHZ+XyYcxDRAQht53EXDRECscWJhYpEtQKwFhv0i7ENAdjycikQOPEBs1aLxiIhEQEUYNKUjYkFATV5CzfLEKUDW8jiWVagpQHgZCvLrFhVAl6/EzZ/hQUA85T0x1LlAQE3Anecx10NAU5G5uMqVPkCMuF+aPFw+QMLFKosy8EBAynJ+oym1QkDYuL68CrVFQKsJ7N37GkJA5EgLdS1/RkBzh3JN43Y7QC5ek1SMBw/AKPKAXDZqP0B7L4CTT68rQDpTDWMqgkRA1tGZTbYRLkDt67bcL5JKQGwUtbwOxTNAvDlbbeHTREAZp8h+CZnUP+wcRWCErUBAWSgr34Tf+b8=",
          "dtype": "f8"
         },
         "z": {
          "bdata": "trnKt53Epr/4jhVgVCrwPzUthfe7cfE/7Le9Cb/hLMBOQBsLpvc0wOHiwKaKA9U/k9oO9MMWKsCEP5saYOc1wEriqBjKPijAhpc+JR29NcDm1p/PovMBwMqLL4+V0uE/2036vCbWDUAsm0sGIe4twKY3tc3uNDTA3WPgpnTaJ8Dn9JwR62QzwIq1g8DE3SbAajmtDjrAM8AU+TTAM+ojwHq5m7JhKTLAhJADL06wIUCyt7SjYAAswDEXUEy29y3AzOC/lKaRMMAuQb9sY2YmwDB+UieVKDHARXfGjhRJKMCWR8Zl6I4swJzxXejAEDfAZNiL/fajKsDXNhVGlfYzwHUX9updeijA2wsSvMJiKcDStanOEZMswACUScmMbjTAv/A4rBTCMMCAzcysw9P9PwnULogY8iHAy7kFkJT1NMBHQUD+ruUnwF4tDjN0QTPAYssXEUVQKcB5fLRUvhQ2wDfU17l03irAte743m5RM8D0GS20OzgtwKshqXw1kTLAFmSffqyMJ8BxYRiFYfg1wPp8WVwNQi/AozJGeKdvKMBXhiGruP0xwM40tCM85iXA4SCGmQT6NMAxM06wCbwxwF09ZTCJFDHA2UgeLVJYKsAOuBSd2UoywDFLklbwqyfA4KyDWz7mMcATbPJaDkMkwAwpgssFlDjAFoxQX6EELcB62cfk9Y8ywMb5V/pFfSbAwRllyGGyMcCpd3ZSNs0rwEJnNzhbNDPA8abg27J9MMAnH0q5Ld81wIYsWj0hGinAcrF4DLj6NMDf/3uvUj0hwG2gBJQx6zLAnvWEdd5QI8ATjaHUX7czwB6euT6nDxvAu90msqwTMMAJgYYKtqUgwG52wpTwMzXAiByxEnxLJsAq7mdM34E3wPL3nBhh1ibAxqu+mMJ3NcCRCgC5abglwP68I2QdDDPAE0w5RpePH8AsyPlQ800qwPzS0XlB3yLA+qt5CU26NMCvOfeNEAUdwJ7LWc2ngC3AKCe+EpipGMBWl9Yi89IxwDAijdN1eCHA0CpePs2wMMAje93yULcgwH82OJlQozHAz0NqbvjVIcBtstEF2zoywK62lHD8bSLAlUD1imneMcAU130fIDkbwPzAvurlTjDAnhtVPIJ/JMCif13Y5NAywELzwSQ7YgPAPDKJ6umELMCE0Sqrk60ewC34rvy9ATHAad7DYk41HsCRrTsSupcxwBjPsj1a1RnA1B9qOzYgMMBE0Fsf6RIhwHYq50MGIzPA0dxdmvojIMCW6WYSbRowwPpf5jRygSHAYLLV8otmMcAhkfZmmVAYwByMKO33ajDAJHhuKLIlJMAKzYLKxBw1wFpiqVfCCiTA387A5qi6MsA=",
          "dtype": "f8"
         }
        },
        {
         "marker": {
          "size": 3
         },
         "mode": "markers",
         "name": "cb",
         "scene": "scene2",
         "showlegend": false,
         "type": "scatter3d",
         "x": {
          "bdata": "hm5bVuJGdMDfyZHEwlo/wI2cDbxxNHPAlYMeoglcAMCU+OjrDJN1wNcz784JIGDAIgoHUgrwakAsOfTLA25xwB3cVWur+DfAI08E0v4ba0CfHdggj15lQAb15f9zq2/AblEMa0TPQsBwzMrrzQ5xwC0ZJ48jwVjAgWbELvzMcMD+OS5cuC9RwCtkzBMAEmFAa8oHJFcEY0BvneSU8lhcQHNESN8FFURA4vW53av2dsBW2eA1+N1LwNucHi2nMltAK9WT6GS3TsCDTAvB1j9lQOKph1bDeFBAdAVlR3qX/z/JsAa90ONhQFijGYhEWmBAe9bYg/5dWED+ET29L9pfQPohpJAmSzxA8mMVCl01X0ByLNh25KxfwNtIV2j1sWbA2ZgkVVtIYUAl+GM47K9ZQD9qG0HGk0VA3EPWF8ZQZkByqBaN5XtiQFyQBJkbRmBAMtzEfIa+VsCbMGT8r3AlQO/0sRzmS0NAf6dkPecFYsAC+EMOUJY1wGRVRpOb1kbA4NHhPzADTUA9dalCu0hmQPeDKanZbBjABQ4oFY1eVsBC98JT78w8QEyDGiKozWVAiG5ICnZFUkBynr2qlQEewH4tv+N5oV9AC048u6G+N0BKOjmPMUpRQP4xsSNwn2RAW+TXljdxaUD6Qm0JHAVGwK7A6GdJzFdAWUOkb7A1FMANHgO3i4UqwAXGtTBygV9AbZi1GEO4XEAVNyUdUKdgQHqQ3Qacj2RAmNZsds5OXED0fELdgTBjQHhbiXO3imNAA9XVnj0DaEAO/Nd6ULRjQHAchnJm8mtA+XddOh/MW0Bew/R+PEhjQCPaohjtTV9A73ArC+D4MMDNdBDIePRjQK1jlMgAhlhA",
          "dtype": "f8"
         },
         "y": {
          "bdata": "whGVGRAnJMAahhdZ7Dc0wJNN62sDPz3AF9kFRaG/QMB6/+xF0/FBwOK2oIamFUPAXQJk7X/3PcApq/Ho0a0wwH2vlfh2ZTTA5s4XvjfSQsCaWf98Glo5wHHCHoihnSnAND4M6+KvH8CCJJ95t0wzwKX45ddOtyzAS/vpR4nZLcAd/ptRP5MswAlpMV0E4zXAM9OmmpuKRMAfboXFXl4+wEACj/buFzLApslIzjwpQMC6PoIxxDEuwMtssVuMpTnAcyO/tU5WR0Bsi6dlPqUqwLPhsEHJEj/As+OEwDK3IUCcCG08hGwTQCpoBIVykyzAgOHA/AxKNsC77SHmM6k0wMm2KjZaZyHAzqRC5jcl6D+D5rDCZoRBQBAp7T7U4zzAhPadZvDLMECGlM42py35v5fblZE4+RbAXKzYy3q5NMCwRlYThS0YQDfX3DUBqSbA3CBlQOfeRECMJ/1cwBUxQFUkgbl/pRRAhUwzhrAJOEAP/i6VDx4QwDV1+wGtbDrAgmfzxBDdOMBaJatgHjgzwKAduqjzKUXAcUhrHsxHPUBEoyVPfV8swMgDUOjjRyTAlH/7dWOcQcB0UUgQpy4YQC5USf3DGh1A0vZEuvyKA0CHUUicKvcsQGidnHhwlz1AHvJEJlOIIMCxMZe8a+H8v0iIATcouO+/9pBdphsgI0Bh1+H2K/siQLdIu7sea/G/rx5NsmEXQkDoZtcWR/ztv5VUaU5uHizAdUcMM51lQUD4Hol2n6gMwPIrtFN2cT9AUm3d2HKOBECBlNOY5vMzQA9PSjwXYzDAZEPIyx4uQkBl3f5yim4gQGUN9cVpPEDAI0U9KizTEMCw0CqDzZUwQDtGLYHu3tu/",
          "dtype": "f8"
         },
         "z": {
          "bdata": "7E7+QyqqQkAkC45c99o7QBND1drpjT1AnFNykpVSNUCvuhEkdao6QJxUdzOtETJAIzKDbwiYQUCiZFdbfYNCQCLHGo/wlT1ATTZL1tVEQUAVYktgaClCQAAgFK3fh0JAEc2Beu2rQEBnRAfuv39BQGxPpCA2iD5AigAKYayFQEBkp/BpjWw6QITlp4JH+kJA/INNaTZBQEDsX3nYob9BQIFR67hqqERAAQBzl27zPkD1dx9c4ghAQK3NgwSqokFA39NOdm4dTED7QQVTW9BDQNu/RwrjQT5AUm2RZYQVR0DLDElPY99HQGjoOG3rG0RAIc7h/0utRECluoODsJdCQPAMY3GRRERA3Di7sFXdRkBhJBP/WJJJQP5gkkaWMjNAbhSXThp/SkCjjQKJsxJEQDW0RPizh0RAQFl+tKUiQ0CU9XOamHdIQEqT8Y1EL0VAZLkgiZ3vSkCngG4foRNIQB+QZJAdvUdAkm5x+4XTTECEMzO5sM5GQPpCDBDPlTpAH4SiDMVGQ0BIX7qHPyhGQEk/xnKa8jpA/Jla5H0hSkAnk0nU6DhEQOBZkNBYkUZAvRhGfKvUQUDKdSpzujlGQA5HdhGCr0dAxCsaViYaRUCCK0SeHdlHQNh++hCW8E5A42d/yjZsREC+E4tuN4BHQDCXhyFO60hAuDR3UmqiR0AyEu944DJIQLrM0/j5H0dAC5wWwh3MTEA5Hv2xAg9EQN3IMBpfb0NABJvDNFq4TkDt/pyj/wZFQKSsgCw5Pk1ANfTqxnWfREB9G8AHKqxMQPNB4RVumkNAt7HWfaX3TkBQKWxPZdNGQLbGN/jolEBA7cZIW4kbQUBOzHPBsf9LQDYw7YTrLEVA",
          "dtype": "f8"
         }
        },
        {
         "marker": {
          "size": 3
         },
         "mode": "markers",
         "name": "dlpfc",
         "scene": "scene3",
         "showlegend": false,
         "type": "scatter3d",
         "x": {
          "bdata": "Fk/F9GgYX8B7h3/IVdRgQCLBv5fF7lDAcpyQb4j7c8CcWQ/0cBMuQIKxtT2hS1zA3ovvmy8LcsBQtyzN848tQMpF3Zo63WDAOXmuD5ygecDMBXR1sUdXwET04lQ3yFXA0KdLC6J9UsCvI7am+2ZQwFDwpwjvQ0PA/DdrUUqrYsCsrbkaClJbwEA3nmys7jHA9OVry393XsBIDIIwsBZ1wDHEoQvRvxfAiTQH/8F1VMDzpPhzjkE8QMBKRjbduFfAqhYB7CvwVcAX5sumuvkhQLt3CsSVpGDArX9LBop5YcCyBKPs8DUoQJKjqAnyK1DApn0F/FljdcCF5F7MrHBAwBnCeTKSLFPAWnnXEJN8d8ACredHtdldwLTuC8GQ3VFAN+u3up8HUMC8BOCT1jJ2wBQD1bC9F0vAzuVFj6siZMCOqTY3ued1wCpbfSbBMUlAA8qz7BGXUsDeFUqRT1RAwK6M2nGBoWbAKWiJ104HUMDT4k5A/FVowC+PxnuHBELAJ4jgLcyiRsAKy+YCZbFhwFyZTXhl01fAvaq1Nl+ccsBNJCn5IplhwEhYU+1E8lbAQlLWepJZXEBL+aGU/xxAwFef5F+OQHTAOyWqaXc6ScAtk7IjZLRiwFO9jTQaFGHALDNL9Y9JYMCpE/Vjn5tgwP4DcneqlSPARM89TyDpA8B0GVRSdkFaQEsoXzfWP1RAcMEIk7y6aEAq4XSHyVJcQEofOlBtSEXA6VkI2l4cUUAO+V/MX1JWwK+YSJ3Mdk5AhSivYbxCVMDU3GPITYFYQMXVyfrJf0jAd9zYdYB/Y8DkvDekllFHwBcNVYSuxFjA2giNXA4LSUB5rjifRVBFwPspF7uUx1fAcX2fuAwwdMA7Mzc3E8VhwFms9uQU40PAuW67+sMMTkChrkZiGntCQCb47i8TLk1AX0GwnAEtR8DqMPKge/FEQOn1p1Sr6ErAgh35aur4YEDK/+eV8eBCQLFFU4gTAy/AtyobDcM4Z8AELGH23YhHQCt4yaPS7zxATVoE1K7PXkBOMhU3wfpAQAJANwXK+SXAdNRCNPQzRcB0cGtObABjwKe1PYhpPjBAguQcPUheY8Cmmof3YFpPwDnR5otwrBDAYUg0vFNkZ8DjC5UGEeZ2QLu3l42myDjAok7QNnD84r9X3+o9XIZQwGLLB74sTVfAyr2vrwr9VMByNOVHLQtLwHu+FXxxZF/A2xC1G2HMX8CKyaWj5pw/wNstkqbNvDXAPqREU4wYSEChEQbNZN4xQDIrMnvsgC1An/WT1yWURMC5gmrZbk1WwKAqZ2+hvGfAfcZGKKN4R8DAbPJiUo40wIbtPhaQG0hAbhcRdKXYOcCTx+mUbg5NwObdFlH3cU7ADG71qyXwNED9evZa9ldcwDZnPezBbjvA4grtp/7sBsAG4hYl6BVGQItJKA1dRmjAIZohI6OBQEDxbr2NCX1XwIITBD9d3GTAzdahPFv/VUBZNIfL45JQQMSxmAL17VjApNj71EsMVUB++YRGkttZwE6CPfqKs0RAK1Lr7ZJJREBavNhonf5swIPHYklK9GBAzOh9BofmMkAYoVJpNIE3QL90AgE0YW/A0NB7FKlqaEDb49ECzRpmwAA09mbxIGBAswz4NRODacDyC9+HFLFXQOJm7F5KOG3ARCGVndgFXkB34XVIwJNuwKFMp03AX2JA1XsIJL3T/T9tjAJJcv1uwJl1GoXUeVhAc+nlJhOQZsDM0E6BvKliQD08/R3RK0PAkfwNuD55YUBqoOCSfRprwGEszTuTHllA9ifTr2alWMCWtegAOJldQJzemMzFnW3A23OjE0oPYUCnLKnzkJAlQAIXC6VNKkBAS/8ot+RERUDQ4dj8Pbc7wOGRkS81qU5AW+fScKjVI0A=",
          "dtype": "f8"
         },
         "y": {
          "bdata": "K30igne4P0CFvIeBjjo5QGfAC1ZbKjdARl7qOcJzNcAwU+xBcfk0wMQ9oYdXKDRAu1CxbqirGsB8n2pWUccowPs1oXVsET/AyN5bDxMdSMD4dQTGvmlNwIf16Jw7xi1AKJtDK3RAK8B85B8U1oJAQD0L/hrpMgZAFgg+XAfqHEDN4cZLk9RMQDWl6fhh8Ng/pbuZgv6UHkCIh0fmdbs1wCIpXersOCbAuZ0hu2rzMUDNA4qI5FInwG6XDI8blTvACgEZXviOP0DARPhq6XrtPz6zYA/JOzDAznMpkVQdN0CNmUnlOl8fQJMMxlv2TyxAsluHlKpVFMA3zop9XZMywDQWS3GwsRdAltAhI5mcUMDhitGeBWMlQHEXuFI4tSDA293NMhCrBcBf0fXThZYjwCoaPd9YJRNAxTfSr8KEKcAE6VwaINo3wLi+tKjpp1DAPWGOdbDGQUCONctizsEqwExRAVDQeSxAwaIPsZJasr8mcsOMuoU6wDv7fIc/m0tA+Q+fZmIQFcDLgcf70+XpvzxT6/uIgj1Apw5jP2HcPsC8770Ak0wSwPe8ROXJbSxAjGxXohEnLMB8f1Tdq4wZQFocnS+XLBzA+Hz8MNBMGMCzYjY8oiI7QJ4SWhZ5gTtAlgf8GOa0TMDCEZ+EjbkUQErsxSHrkzfAV78qi/yXJMCovvg4Tww5wH8FkXRr1CTAFG32HboUQ8AaW5hCSZVHwD7/HlrRU0DAf3LjPFAhQcARrfYB3hojwDCyKtstOv4/mvSGF64IL8A0+7nF2QEqwMk7Ms3NETRAsauHekJ+VMC2C6tUMYhRwJyZUJuaZyxA6vZYD/KMPMD5qkL9wl1BwLObrVy2jBpAbndHPLLIIsBqxBonzRg2QPjQiQfHd0bA9AMCSw0KGMC5cbTXpSQbQOiiB8GoLDvAuEUBZ9t8IUBN2c5M4K4qwKJ+oFS6lgBAGcx9fRpNMMATxBmN390WwIiaJHO4GDrAFyu7kw7CK8BcJqupkx5PwCVIjv34q1TAxhp3splbPcCSfn/10qw2wAHtL2H8Xk7AY3ON30MRNMAKnYJUrCwlwMYpygSSizDA48bMo1BHLMAfnvockLgWwORfyq34KEHAnsZoV5leM8C4Ej6liJdhwPf2stxQDJm/9HiwbSi9A8Aii+dBVhwtQKd5D7e9VSBA+bA9XFpaG0B0zWPG8TsrwDaMMlkceAnAH8hEKJgh4r8l2uxq4vn/P0LHQ0fg7kHAbU/BzQxNMEDQMBgRgMQnQLCPxtYwJbQ/y+dbhMoGJsA6OvhZHgAcwFbiWQA31j7APSaGvtayAkCjwfCQoRYxwLJi9jpfIec/Jl9Z5pklJ8DQ5h/ZhxEBQEaa+EBdoD/AiyEnDgsEJ0Arc9mq5apJwJ7gG931iyrAgdat5Ed3MMCqjqrOHyAowBfs48Gau0XAPzOLc6rxIUD9DGgC/q1BwPsFtU3PHVNA7ApfuLNzQkDrSlLPB4giQKB9pWkbBT/A1QaGd4zH278cY1WALIZEwFo26SDtVilAWoBQLB/yHEB6+qjpq2BTQJd3Yn9BRBJA4v/cfNyt3T8iVIofOI4xQGgYgY9Sj09An1aqsNq+KMA4GzpjerxRQNrg1uibqjJA69tVw9wZUUC/a3c8AIk5QANmftTb1VFACf5ea8RkSEDfJ7jPTTVSQHsadaz1HSJA9HZk4H/K8L85yZwK7P9DQExA2ecAAxHAy/wT/NlQUkDgExu/f8c6QD55MGTBsqw/q07ZHQbXPUC+Vytss3ZSQIU/5t3Moz9AFwEwn9jeUUA2QRFEjONBQIaS8TaIr1NAl0RtbWoTNECTncn1cQMvQFMdjhwsDAzAeu+wObBkJ0A3WNv4j8I0QHvwHOhpCzFAap9HqrlwOEA=",
          "dtype": "f8"
         },
         "z": {
          "bdata": "RhVqsGfvAcC+y6N759kSwJ/M0Nm1owXA9eIycP3WC0DeYo0LeGcxwDjhJNdYkNs/PeqLVQp7EEADYVZIpBkwwDh5hFZ8pAXAF4gfrOguIkBYesjRZyYwwPwoGPIp9wTAE8JBw1zKLMC9k8LXPpEewB21CfbqbS7A35258DKqMMBS48xwPjcUwO+WIoVwlDLAc85eSfiDC8AsT8hQSTQSQAi6HzEawDDAXmlGtHkAH8A3mMs0CeIywICi/qfswTDAStS6VWHwFsD7wVM+Pe4vwD5IA0Nz6DDAOqAHKxCe5b8Grd1JRHwLwGZ4uUiaGvK/UEFYOyfXFEAN5UINGL8twKlcNVfvFhLAivX3nUc1EUAuQcSladgEwMN8z35kQBbAzJ3B18bqAsAZPqH8JH0RQABorVc71C7AE+s8jhZ8479JfoJUSxcaQPYACgUdLCrAq+4EmROcHcBidXAh/hI1wHMAiS4wfQzA18ipsEAuMMAMGSqJNBUuwMLcrwmAnhDAZhoDwky6MMCCAVcZjs0wwNFiaxcwsAnAMCMFFdp+/78fySS2w5wxwCoONZotpBXAgXeRBPhuIMBOML2YH7UOwDFS/zAvcQpAuEjZWcbILcBajWWwusYBwAr/CLKByw9AsdF3defOLMBGsy4mHvMRwIlvLQDKSCDAjQjyM0jaM8CB65LF8YMiwMRWsqCWTTPAkzavTOszKMCdGlRZfCg0wHUU5sAncBzAO8m5Ogc+I8B7xIm56JIywHOajFjobiLADpETpROzMMDJI3ltoAAkwDaK/0qJsRfAedc/D7XAFEDVXhSGVgohwIWQpwm/JAfAlVhG6mwsI8CsFyxufA8xwJVdTwf4Kv2/NQS7zProFkBbnkaX1fobwIPGQh7PEyHA5TPYZWlaJcB822x36LwvwAPY1mYhxBzAlp+w+LQKM8BWWpy2cZYYwJWZtdso1DHA8IjBRaWdKMAMWq8/9J0zwCiThfVjBhXAo0xWz4+iK8BwpCjilcgjwLqiqC32KzHAw0ctt6AVI8AX8QTM48AxwC+8bxxQEA3AnY7jr4tLC8C40+BUuXsuwMu3V8/lpBzA8JeJTG4AMcCtjHlM6AQGwDh+olYMKjDAixxT+34l7z/EeJcQuHY0wE6WThPclhrA8s8b8CNbMcCsMxZRlcEKwIqqE+ylyjHAYUic5nQcE8C9kas1hnkwwJAqSD3ijtW/vCnEvT+bMMBuuQVg1gkVwCr+FQLpjy7AslmzZyhBIcB/FoKFDFUzwNany8moxR3AULVpNpiVMMDU38JLFM8twAhjMRr6niDAYy4AFNpBHsCa+AcMZ/wzwPp4yg4A7h3A9jZstdZUMcBI38QC03MXwHel6MOMeDHAmPOy6mRBIsATcN0Zh70UwNPPFB+9bB3AcquS8N5VNMB4bX/SPHgiwDH22ACP9yDAA1M9YqKWIcC+zeK/M4QowGucz9t8hhZA6A9XRH9GJ8BZ9U/31hMgwEwDN/WezCPAwlfpqriEJcCRBl6q7tgrwF4xNLryph/AF4+Id/ISKcBn6lhYDbkRQC6BkRd9sTHABdAvT234GcCa9x99kuYnwAhL8yX2JhJApUIz5Q9WM8CkI83JLIz6P+hXzX9zwTHA+rNmyJElC0DV9zBPRBcwwOu9ZpGNUxRAX9zUJtnRKMBUxfP4HQoSQLmoK/LUhDDAgt88/lpXLMBz0IAwqHAWQDFQD/HfjS7AaneC2n747T/OzRv6jh0zwHVr4WqaswrAEHTdDwmeLsDmt2HpXcEHQLsNWnmaIC7AwiypsjmJvz9MX1M8/UgwwGAFOUfYUBFAZZAGkdafMMAImXaV/hkqwKiSthx4VS/AVtn2p39mLcDvo/3U/QsrwJjQKztImS3AHhWH0zxeKcA=",
          "dtype": "f8"
         }
        }
       ],
       "layout": {
        "annotations": [
         {
          "font": {
           "size": 16
          },
          "showarrow": false,
          "text": "ancg",
          "x": 0.14444444444444446,
          "xanchor": "center",
          "xref": "paper",
          "y": 1,
          "yanchor": "bottom",
          "yref": "paper"
         },
         {
          "font": {
           "size": 16
          },
          "showarrow": false,
          "text": "cb",
          "x": 0.5,
          "xanchor": "center",
          "xref": "paper",
          "y": 1,
          "yanchor": "bottom",
          "yref": "paper"
         },
         {
          "font": {
           "size": 16
          },
          "showarrow": false,
          "text": "dlpfc",
          "x": 0.8555555555555556,
          "xanchor": "center",
          "xref": "paper",
          "y": 1,
          "yanchor": "bottom",
          "yref": "paper"
         }
        ],
        "margin": {
         "b": 0,
         "l": 0,
         "r": 0,
         "t": 40
        },
        "scene": {
         "aspectmode": "cube",
         "domain": {
          "x": [
           0,
           0.2888888888888889
          ],
          "y": [
           0,
           1
          ]
         },
         "xaxis": {
          "title": {
           "text": "PC1"
          }
         },
         "yaxis": {
          "title": {
           "text": "PC2"
          }
         },
         "zaxis": {
          "title": {
           "text": "PC3"
          }
         }
        },
        "scene2": {
         "aspectmode": "cube",
         "domain": {
          "x": [
           0.35555555555555557,
           0.6444444444444445
          ],
          "y": [
           0,
           1
          ]
         },
         "xaxis": {
          "title": {
           "text": "PC1"
          }
         },
         "yaxis": {
          "title": {
           "text": "PC2"
          }
         },
         "zaxis": {
          "title": {
           "text": "PC3"
          }
         }
        },
        "scene3": {
         "aspectmode": "cube",
         "domain": {
          "x": [
           0.7111111111111111,
           1
          ],
          "y": [
           0,
           1
          ]
         },
         "xaxis": {
          "title": {
           "text": "PC1"
          }
         },
         "yaxis": {
          "title": {
           "text": "PC2"
          }
         },
         "zaxis": {
          "title": {
           "text": "PC3"
          }
         }
        },
        "template": {
         "data": {
          "bar": [
           {
            "error_x": {
             "color": "#2a3f5f"
            },
            "error_y": {
             "color": "#2a3f5f"
            },
            "marker": {
             "line": {
              "color": "#E5ECF6",
              "width": 0.5
             },
             "pattern": {
              "fillmode": "overlay",
              "size": 10,
              "solidity": 0.2
             }
            },
            "type": "bar"
           }
          ],
          "barpolar": [
           {
            "marker": {
             "line": {
              "color": "#E5ECF6",
              "width": 0.5
             },
             "pattern": {
              "fillmode": "overlay",
              "size": 10,
              "solidity": 0.2
             }
            },
            "type": "barpolar"
           }
          ],
          "carpet": [
           {
            "aaxis": {
             "endlinecolor": "#2a3f5f",
             "gridcolor": "white",
             "linecolor": "white",
             "minorgridcolor": "white",
             "startlinecolor": "#2a3f5f"
            },
            "baxis": {
             "endlinecolor": "#2a3f5f",
             "gridcolor": "white",
             "linecolor": "white",
             "minorgridcolor": "white",
             "startlinecolor": "#2a3f5f"
            },
            "type": "carpet"
           }
          ],
          "choropleth": [
           {
            "colorbar": {
             "outlinewidth": 0,
             "ticks": ""
            },
            "type": "choropleth"
           }
          ],
          "contour": [
           {
            "colorbar": {
             "outlinewidth": 0,
             "ticks": ""
            },
            "colorscale": [
             [
              0,
              "#0d0887"
             ],
             [
              0.1111111111111111,
              "#46039f"
             ],
             [
              0.2222222222222222,
              "#7201a8"
             ],
             [
              0.3333333333333333,
              "#9c179e"
             ],
             [
              0.4444444444444444,
              "#bd3786"
             ],
             [
              0.5555555555555556,
              "#d8576b"
             ],
             [
              0.6666666666666666,
              "#ed7953"
             ],
             [
              0.7777777777777778,
              "#fb9f3a"
             ],
             [
              0.8888888888888888,
              "#fdca26"
             ],
             [
              1,
              "#f0f921"
             ]
            ],
            "type": "contour"
           }
          ],
          "contourcarpet": [
           {
            "colorbar": {
             "outlinewidth": 0,
             "ticks": ""
            },
            "type": "contourcarpet"
           }
          ],
          "heatmap": [
           {
            "colorbar": {
             "outlinewidth": 0,
             "ticks": ""
            },
            "colorscale": [
             [
              0,
              "#0d0887"
             ],
             [
              0.1111111111111111,
              "#46039f"
             ],
             [
              0.2222222222222222,
              "#7201a8"
             ],
             [
              0.3333333333333333,
              "#9c179e"
             ],
             [
              0.4444444444444444,
              "#bd3786"
             ],
             [
              0.5555555555555556,
              "#d8576b"
             ],
             [
              0.6666666666666666,
              "#ed7953"
             ],
             [
              0.7777777777777778,
              "#fb9f3a"
             ],
             [
              0.8888888888888888,
              "#fdca26"
             ],
             [
              1,
              "#f0f921"
             ]
            ],
            "type": "heatmap"
           }
          ],
          "histogram": [
           {
            "marker": {
             "pattern": {
              "fillmode": "overlay",
              "size": 10,
              "solidity": 0.2
             }
            },
            "type": "histogram"
           }
          ],
          "histogram2d": [
           {
            "colorbar": {
             "outlinewidth": 0,
             "ticks": ""
            },
            "colorscale": [
             [
              0,
              "#0d0887"
             ],
             [
              0.1111111111111111,
              "#46039f"
             ],
             [
              0.2222222222222222,
              "#7201a8"
             ],
             [
              0.3333333333333333,
              "#9c179e"
             ],
             [
              0.4444444444444444,
              "#bd3786"
             ],
             [
              0.5555555555555556,
              "#d8576b"
             ],
             [
              0.6666666666666666,
              "#ed7953"
             ],
             [
              0.7777777777777778,
              "#fb9f3a"
             ],
             [
              0.8888888888888888,
              "#fdca26"
             ],
             [
              1,
              "#f0f921"
             ]
            ],
            "type": "histogram2d"
           }
          ],
          "histogram2dcontour": [
           {
            "colorbar": {
             "outlinewidth": 0,
             "ticks": ""
            },
            "colorscale": [
             [
              0,
              "#0d0887"
             ],
             [
              0.1111111111111111,
              "#46039f"
             ],
             [
              0.2222222222222222,
              "#7201a8"
             ],
             [
              0.3333333333333333,
              "#9c179e"
             ],
             [
              0.4444444444444444,
              "#bd3786"
             ],
             [
              0.5555555555555556,
              "#d8576b"
             ],
             [
              0.6666666666666666,
              "#ed7953"
             ],
             [
              0.7777777777777778,
              "#fb9f3a"
             ],
             [
              0.8888888888888888,
              "#fdca26"
             ],
             [
              1,
              "#f0f921"
             ]
            ],
            "type": "histogram2dcontour"
           }
          ],
          "mesh3d": [
           {
            "colorbar": {
             "outlinewidth": 0,
             "ticks": ""
            },
            "type": "mesh3d"
           }
          ],
          "parcoords": [
           {
            "line": {
             "colorbar": {
              "outlinewidth": 0,
              "ticks": ""
             }
            },
            "type": "parcoords"
           }
          ],
          "pie": [
           {
            "automargin": true,
            "type": "pie"
           }
          ],
          "scatter": [
           {
            "fillpattern": {
             "fillmode": "overlay",
             "size": 10,
             "solidity": 0.2
            },
            "type": "scatter"
           }
          ],
          "scatter3d": [
           {
            "line": {
             "colorbar": {
              "outlinewidth": 0,
              "ticks": ""
             }
            },
            "marker": {
             "colorbar": {
              "outlinewidth": 0,
              "ticks": ""
             }
            },
            "type": "scatter3d"
           }
          ],
          "scattercarpet": [
           {
            "marker": {
             "colorbar": {
              "outlinewidth": 0,
              "ticks": ""
             }
            },
            "type": "scattercarpet"
           }
          ],
          "scattergeo": [
           {
            "marker": {
             "colorbar": {
              "outlinewidth": 0,
              "ticks": ""
             }
            },
            "type": "scattergeo"
           }
          ],
          "scattergl": [
           {
            "marker": {
             "colorbar": {
              "outlinewidth": 0,
              "ticks": ""
             }
            },
            "type": "scattergl"
           }
          ],
          "scattermap": [
           {
            "marker": {
             "colorbar": {
              "outlinewidth": 0,
              "ticks": ""
             }
            },
            "type": "scattermap"
           }
          ],
          "scattermapbox": [
           {
            "marker": {
             "colorbar": {
              "outlinewidth": 0,
              "ticks": ""
             }
            },
            "type": "scattermapbox"
           }
          ],
          "scatterpolar": [
           {
            "marker": {
             "colorbar": {
              "outlinewidth": 0,
              "ticks": ""
             }
            },
            "type": "scatterpolar"
           }
          ],
          "scatterpolargl": [
           {
            "marker": {
             "colorbar": {
              "outlinewidth": 0,
              "ticks": ""
             }
            },
            "type": "scatterpolargl"
           }
          ],
          "scatterternary": [
           {
            "marker": {
             "colorbar": {
              "outlinewidth": 0,
              "ticks": ""
             }
            },
            "type": "scatterternary"
           }
          ],
          "surface": [
           {
            "colorbar": {
             "outlinewidth": 0,
             "ticks": ""
            },
            "colorscale": [
             [
              0,
              "#0d0887"
             ],
             [
              0.1111111111111111,
              "#46039f"
             ],
             [
              0.2222222222222222,
              "#7201a8"
             ],
             [
              0.3333333333333333,
              "#9c179e"
             ],
             [
              0.4444444444444444,
              "#bd3786"
             ],
             [
              0.5555555555555556,
              "#d8576b"
             ],
             [
              0.6666666666666666,
              "#ed7953"
             ],
             [
              0.7777777777777778,
              "#fb9f3a"
             ],
             [
              0.8888888888888888,
              "#fdca26"
             ],
             [
              1,
              "#f0f921"
             ]
            ],
            "type": "surface"
           }
          ],
          "table": [
           {
            "cells": {
             "fill": {
              "color": "#EBF0F8"
             },
             "line": {
              "color": "white"
             }
            },
            "header": {
             "fill": {
              "color": "#C8D4E3"
             },
             "line": {
              "color": "white"
             }
            },
            "type": "table"
           }
          ]
         },
         "layout": {
          "annotationdefaults": {
           "arrowcolor": "#2a3f5f",
           "arrowhead": 0,
           "arrowwidth": 1
          },
          "autotypenumbers": "strict",
          "coloraxis": {
           "colorbar": {
            "outlinewidth": 0,
            "ticks": ""
           }
          },
          "colorscale": {
           "diverging": [
            [
             0,
             "#8e0152"
            ],
            [
             0.1,
             "#c51b7d"
            ],
            [
             0.2,
             "#de77ae"
            ],
            [
             0.3,
             "#f1b6da"
            ],
            [
             0.4,
             "#fde0ef"
            ],
            [
             0.5,
             "#f7f7f7"
            ],
            [
             0.6,
             "#e6f5d0"
            ],
            [
             0.7,
             "#b8e186"
            ],
            [
             0.8,
             "#7fbc41"
            ],
            [
             0.9,
             "#4d9221"
            ],
            [
             1,
             "#276419"
            ]
           ],
           "sequential": [
            [
             0,
             "#0d0887"
            ],
            [
             0.1111111111111111,
             "#46039f"
            ],
            [
             0.2222222222222222,
             "#7201a8"
            ],
            [
             0.3333333333333333,
             "#9c179e"
            ],
            [
             0.4444444444444444,
             "#bd3786"
            ],
            [
             0.5555555555555556,
             "#d8576b"
            ],
            [
             0.6666666666666666,
             "#ed7953"
            ],
            [
             0.7777777777777778,
             "#fb9f3a"
            ],
            [
             0.8888888888888888,
             "#fdca26"
            ],
            [
             1,
             "#f0f921"
            ]
           ],
           "sequentialminus": [
            [
             0,
             "#0d0887"
            ],
            [
             0.1111111111111111,
             "#46039f"
            ],
            [
             0.2222222222222222,
             "#7201a8"
            ],
            [
             0.3333333333333333,
             "#9c179e"
            ],
            [
             0.4444444444444444,
             "#bd3786"
            ],
            [
             0.5555555555555556,
             "#d8576b"
            ],
            [
             0.6666666666666666,
             "#ed7953"
            ],
            [
             0.7777777777777778,
             "#fb9f3a"
            ],
            [
             0.8888888888888888,
             "#fdca26"
            ],
            [
             1,
             "#f0f921"
            ]
           ]
          },
          "colorway": [
           "#636efa",
           "#EF553B",
           "#00cc96",
           "#ab63fa",
           "#FFA15A",
           "#19d3f3",
           "#FF6692",
           "#B6E880",
           "#FF97FF",
           "#FECB52"
          ],
          "font": {
           "color": "#2a3f5f"
          },
          "geo": {
           "bgcolor": "white",
           "lakecolor": "white",
           "landcolor": "#E5ECF6",
           "showlakes": true,
           "showland": true,
           "subunitcolor": "white"
          },
          "hoverlabel": {
           "align": "left"
          },
          "hovermode": "closest",
          "mapbox": {
           "style": "light"
          },
          "paper_bgcolor": "white",
          "plot_bgcolor": "#E5ECF6",
          "polar": {
           "angularaxis": {
            "gridcolor": "white",
            "linecolor": "white",
            "ticks": ""
           },
           "bgcolor": "#E5ECF6",
           "radialaxis": {
            "gridcolor": "white",
            "linecolor": "white",
            "ticks": ""
           }
          },
          "scene": {
           "xaxis": {
            "backgroundcolor": "#E5ECF6",
            "gridcolor": "white",
            "gridwidth": 2,
            "linecolor": "white",
            "showbackground": true,
            "ticks": "",
            "zerolinecolor": "white"
           },
           "yaxis": {
            "backgroundcolor": "#E5ECF6",
            "gridcolor": "white",
            "gridwidth": 2,
            "linecolor": "white",
            "showbackground": true,
            "ticks": "",
            "zerolinecolor": "white"
           },
           "zaxis": {
            "backgroundcolor": "#E5ECF6",
            "gridcolor": "white",
            "gridwidth": 2,
            "linecolor": "white",
            "showbackground": true,
            "ticks": "",
            "zerolinecolor": "white"
           }
          },
          "shapedefaults": {
           "line": {
            "color": "#2a3f5f"
           }
          },
          "ternary": {
           "aaxis": {
            "gridcolor": "white",
            "linecolor": "white",
            "ticks": ""
           },
           "baxis": {
            "gridcolor": "white",
            "linecolor": "white",
            "ticks": ""
           },
           "bgcolor": "#E5ECF6",
           "caxis": {
            "gridcolor": "white",
            "linecolor": "white",
            "ticks": ""
           }
          },
          "title": {
           "x": 0.05
          },
          "xaxis": {
           "automargin": true,
           "gridcolor": "white",
           "linecolor": "white",
           "ticks": "",
           "title": {
            "standoff": 15
           },
           "zerolinecolor": "white",
           "zerolinewidth": 2
          },
          "yaxis": {
           "automargin": true,
           "gridcolor": "white",
           "linecolor": "white",
           "ticks": "",
           "title": {
            "standoff": 15
           },
           "zerolinecolor": "white",
           "zerolinewidth": 2
          }
         }
        },
        "title": {
         "text": "3D PCA by Region"
        }
       }
      }
     },
     "metadata": {},
     "output_type": "display_data"
    }
   ],
   "source": [
    "regions = [\"ancg\", \"cb\", \"dlpfc\"]\n",
    "colors  = {\"ancg\":\"red\", \"cb\":\"green\", \"dlpfc\":\"blue\"}\n",
    "\n",
    "fig = make_subplots(\n",
    "    rows=1, cols=3,\n",
    "    specs=[[{\"type\":\"scene\"}]*3],\n",
    "    subplot_titles=regions\n",
    ")\n",
    "\n",
    "for i, reg in enumerate(regions, start=1):\n",
    "    df = final_PC_df[final_PC_df[\"region\"] == reg]\n",
    "    fig.add_trace(\n",
    "        go.Scatter3d(\n",
    "            x=df[\"PC1\"], y=df[\"PC2\"], z=df[\"PC3\"],\n",
    "            mode=\"markers\",\n",
    "            marker=dict(size=3),\n",
    "            name=reg,\n",
    "            showlegend=False\n",
    "        ),\n",
    "        row=1, col=i\n",
    "    )\n",
    "\n",
    "fig.update_scenes(\n",
    "    xaxis_title=\"PC1\", yaxis_title=\"PC2\", zaxis_title=\"PC3\",\n",
    "    aspectmode=\"cube\"\n",
    ")\n",
    "fig.update_layout(title=\"3D PCA by Region\", margin=dict(l=0, r=0, b=0, t=40))\n",
    "fig.show()  # drag to rotate each subplot"
   ]
  },
  {
   "cell_type": "code",
   "execution_count": null,
   "id": "b827cf30",
   "metadata": {},
   "outputs": [],
   "source": []
  },
  {
   "cell_type": "code",
   "execution_count": null,
   "id": "30eb709b",
   "metadata": {},
   "outputs": [],
   "source": []
  },
  {
   "cell_type": "markdown",
   "id": "2a354e2b-b513-43b6-a8b6-9e83d0b24307",
   "metadata": {},
   "source": [
    "### t-SNE Plot"
   ]
  },
  {
   "cell_type": "code",
   "execution_count": 205,
   "id": "288181b1-794b-4548-b5e1-8ca998fa3d54",
   "metadata": {},
   "outputs": [],
   "source": [
    "# Standardize data if not done for PCA#\n",
    "expression_data_NC = expression_data.loc[:, ~expression_data.columns.str.startswith('AFFX-')]\n",
    "X_expression_NC = StandardScaler().fit_transform(expression_data_NC)"
   ]
  },
  {
   "cell_type": "code",
   "execution_count": 207,
   "id": "3138e714-9125-4f3d-a317-e9ae2aa01713",
   "metadata": {},
   "outputs": [],
   "source": [
    "# Changing brain region targets into numbers\n",
    "brain_region_target = arraymeta_data['region']\n",
    "mapping = {'cb': 0, 'dlpfc': 1, 'ancg': 2}\n",
    "number_target = brain_region_target.map(mapping)"
   ]
  },
  {
   "cell_type": "code",
   "execution_count": 209,
   "id": "1a5a7fec-8c88-4f5a-ab48-35c0b9be0ba5",
   "metadata": {},
   "outputs": [],
   "source": [
    "# Initialize t-SNE model\n",
    "tsne = TSNE(n_components = 2,\n",
    "            perplexity = 5,\n",
    "            random_state = 82803)"
   ]
  },
  {
   "cell_type": "code",
   "execution_count": 211,
   "id": "11925db9-2188-4341-9949-a08a4db6455a",
   "metadata": {},
   "outputs": [],
   "source": [
    "# Fit t-SNE model\n",
    "X_tsne = tsne.fit_transform(X_expression_NC)"
   ]
  },
  {
   "cell_type": "code",
   "execution_count": 212,
   "id": "b4346b24-c4cf-440b-97af-ba1206300b11",
   "metadata": {},
   "outputs": [],
   "source": [
    "# Concatenate for plotting and rename\n",
    "final_tsne_df = pd.concat([pd.DataFrame(X_tsne), brain_region_target], axis = 1)\n",
    "\n",
    "# Rename\n",
    "n = min(50, final_PC_df.shape[1])  # just in case there are < 50 cols\n",
    "new_names = {old: f\"vec{i+1}\" for i, old in enumerate(final_tsne_df.columns[:n])}\n",
    "final_tsne_df = final_tsne_df.rename(columns=new_names)"
   ]
  },
  {
   "cell_type": "code",
   "execution_count": 215,
   "id": "7d38c2f8-a393-4d02-b9c3-f363225c8b07",
   "metadata": {},
   "outputs": [
    {
     "data": {
      "text/html": [
       "<div>\n",
       "<style scoped>\n",
       "    .dataframe tbody tr th:only-of-type {\n",
       "        vertical-align: middle;\n",
       "    }\n",
       "\n",
       "    .dataframe tbody tr th {\n",
       "        vertical-align: top;\n",
       "    }\n",
       "\n",
       "    .dataframe thead th {\n",
       "        text-align: right;\n",
       "    }\n",
       "</style>\n",
       "<table border=\"1\" class=\"dataframe\">\n",
       "  <thead>\n",
       "    <tr style=\"text-align: right;\">\n",
       "      <th></th>\n",
       "      <th>vec1</th>\n",
       "      <th>vec2</th>\n",
       "      <th>vec3</th>\n",
       "    </tr>\n",
       "  </thead>\n",
       "  <tbody>\n",
       "    <tr>\n",
       "      <th>0</th>\n",
       "      <td>-28.751646</td>\n",
       "      <td>-29.196880</td>\n",
       "      <td>ancg</td>\n",
       "    </tr>\n",
       "    <tr>\n",
       "      <th>1</th>\n",
       "      <td>-40.745319</td>\n",
       "      <td>-30.511812</td>\n",
       "      <td>cb</td>\n",
       "    </tr>\n",
       "    <tr>\n",
       "      <th>2</th>\n",
       "      <td>22.039387</td>\n",
       "      <td>-22.536015</td>\n",
       "      <td>cb</td>\n",
       "    </tr>\n",
       "    <tr>\n",
       "      <th>3</th>\n",
       "      <td>38.649826</td>\n",
       "      <td>-5.875682</td>\n",
       "      <td>dlpfc</td>\n",
       "    </tr>\n",
       "    <tr>\n",
       "      <th>4</th>\n",
       "      <td>-50.947140</td>\n",
       "      <td>22.774872</td>\n",
       "      <td>dlpfc</td>\n",
       "    </tr>\n",
       "    <tr>\n",
       "      <th>...</th>\n",
       "      <td>...</td>\n",
       "      <td>...</td>\n",
       "      <td>...</td>\n",
       "    </tr>\n",
       "    <tr>\n",
       "      <th>381</th>\n",
       "      <td>-19.817881</td>\n",
       "      <td>30.846157</td>\n",
       "      <td>ancg</td>\n",
       "    </tr>\n",
       "    <tr>\n",
       "      <th>382</th>\n",
       "      <td>-19.366108</td>\n",
       "      <td>32.629776</td>\n",
       "      <td>dlpfc</td>\n",
       "    </tr>\n",
       "    <tr>\n",
       "      <th>383</th>\n",
       "      <td>-39.712090</td>\n",
       "      <td>44.032543</td>\n",
       "      <td>ancg</td>\n",
       "    </tr>\n",
       "    <tr>\n",
       "      <th>384</th>\n",
       "      <td>-20.737617</td>\n",
       "      <td>30.470827</td>\n",
       "      <td>ancg</td>\n",
       "    </tr>\n",
       "    <tr>\n",
       "      <th>385</th>\n",
       "      <td>-11.997659</td>\n",
       "      <td>31.807804</td>\n",
       "      <td>dlpfc</td>\n",
       "    </tr>\n",
       "  </tbody>\n",
       "</table>\n",
       "<p>386 rows × 3 columns</p>\n",
       "</div>"
      ],
      "text/plain": [
       "          vec1       vec2   vec3\n",
       "0   -28.751646 -29.196880   ancg\n",
       "1   -40.745319 -30.511812     cb\n",
       "2    22.039387 -22.536015     cb\n",
       "3    38.649826  -5.875682  dlpfc\n",
       "4   -50.947140  22.774872  dlpfc\n",
       "..         ...        ...    ...\n",
       "381 -19.817881  30.846157   ancg\n",
       "382 -19.366108  32.629776  dlpfc\n",
       "383 -39.712090  44.032543   ancg\n",
       "384 -20.737617  30.470827   ancg\n",
       "385 -11.997659  31.807804  dlpfc\n",
       "\n",
       "[386 rows x 3 columns]"
      ]
     },
     "execution_count": 215,
     "metadata": {},
     "output_type": "execute_result"
    }
   ],
   "source": [
    "final_tsne_df"
   ]
  },
  {
   "cell_type": "code",
   "execution_count": 217,
   "id": "630c738b-f080-44a9-8b55-9ff838a1d193",
   "metadata": {},
   "outputs": [
    {
     "data": {
      "image/png": "[encoded data removed]",
      "text/plain": [
       "<Figure size 800x800 with 1 Axes>"
      ]
     },
     "metadata": {},
     "output_type": "display_data"
    }
   ],
   "source": [
    "fig = plt.figure(figsize = (8,8))\n",
    "ax = fig.add_subplot(1,1,1) \n",
    "ax.set_xlabel('tSNE Vector 1', fontsize = 15)\n",
    "ax.set_ylabel('tSNE Vector 2', fontsize = 15)\n",
    "ax.set_title('2-Dimensional tSNE', fontsize = 20)\n",
    "\n",
    "targets = ['ancg', 'cb', 'dlpfc']\n",
    "colors = ['r', 'g', 'b']\n",
    "for target, color in zip(targets,colors):\n",
    "    indicesToKeep = final_tsne_df['vec3'] == target\n",
    "    ax.scatter(final_tsne_df.loc[indicesToKeep, 'vec1']\n",
    "               , final_tsne_df.loc[indicesToKeep, 'vec2']\n",
    "               , c = color\n",
    "               , s = 50)\n",
    "ax.legend(targets)\n",
    "ax.grid()"
   ]
  }
 ],
 "metadata": {
  "kernelspec": {
   "display_name": "Python 3",
   "language": "python",
   "name": "python3"
  },
  "language_info": {
   "codemirror_mode": {
    "name": "ipython",
    "version": 3
   },
   "file_extension": ".py",
   "mimetype": "text/x-python",
   "name": "python",
   "nbconvert_exporter": "python",
   "pygments_lexer": "ipython3",
   "version": "3.12.5"
  }
 },
 "nbformat": 4,
 "nbformat_minor": 5
}
