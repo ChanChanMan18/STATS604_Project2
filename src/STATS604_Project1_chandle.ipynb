{
 "cells": [
  {
   "cell_type": "markdown",
   "id": "6c05e088-6e89-4a13-9780-feff4774a4e7",
   "metadata": {},
   "source": [
    "## Loading Libraries"
   ]
  },
  {
   "cell_type": "code",
   "execution_count": 10,
   "id": "f3162157-3f3d-4677-a257-f019bcb09c2d",
   "metadata": {},
   "outputs": [],
   "source": [
    "import pyreadr\n",
    "import pandas as pd\n",
    "import numpy as np\n",
    "import csv\n",
    "from sklearn.manifold import TSNE\n",
    "from sklearn.preprocessing import StandardScaler\n",
    "from sklearn.decomposition import PCA\n",
    "import matplotlib.pyplot as plt\n",
    "import seaborn as sns\n",
    "import plotly.express as px\n",
    "import plotly.graph_objects as go\n",
    "from plotly.subplots import make_subplots\n",
    "from statsmodels.formula.api import ols\n",
    "from statsmodels.stats.anova import anova_lm\n",
    "%matplotlib widget"
   ]
  },
  {
   "cell_type": "markdown",
   "id": "eed7ac15-b051-49c1-af48-9008ed9e9a02",
   "metadata": {},
   "source": [
    "## Reading in Data"
   ]
  },
  {
   "cell_type": "code",
   "execution_count": 11,
   "id": "6119c392-cd7e-4080-946b-aa4a6d2f5ce4",
   "metadata": {},
   "outputs": [],
   "source": [
    "# Reading in Data\n",
    "dataset = pyreadr.read_r(\"../data/raw_data/brain.rda\")"
   ]
  },
  {
   "cell_type": "code",
   "execution_count": 12,
   "id": "7cc4ffd4-8b3e-468a-a8d8-92f1889f5db5",
   "metadata": {},
   "outputs": [
    {
     "data": {
      "text/html": [
       "<div>\n",
       "<style scoped>\n",
       "    .dataframe tbody tr th:only-of-type {\n",
       "        vertical-align: middle;\n",
       "    }\n",
       "\n",
       "    .dataframe tbody tr th {\n",
       "        vertical-align: top;\n",
       "    }\n",
       "\n",
       "    .dataframe thead th {\n",
       "        text-align: right;\n",
       "    }\n",
       "</style>\n",
       "<table border=\"1\" class=\"dataframe\">\n",
       "  <thead>\n",
       "    <tr style=\"text-align: right;\">\n",
       "      <th></th>\n",
       "      <th>patient</th>\n",
       "      <th>region.ancg</th>\n",
       "      <th>region.cb</th>\n",
       "      <th>region.dlpfc</th>\n",
       "      <th>lab.davis</th>\n",
       "      <th>lab.irvine</th>\n",
       "      <th>lab.michigan</th>\n",
       "      <th>age</th>\n",
       "      <th>sex</th>\n",
       "      <th>arrayversion</th>\n",
       "    </tr>\n",
       "  </thead>\n",
       "  <tbody>\n",
       "    <tr>\n",
       "      <th>0</th>\n",
       "      <td>1834</td>\n",
       "      <td>1.0</td>\n",
       "      <td>0.0</td>\n",
       "      <td>0.0</td>\n",
       "      <td>0.0</td>\n",
       "      <td>1.0</td>\n",
       "      <td>0.0</td>\n",
       "      <td>40</td>\n",
       "      <td>M</td>\n",
       "      <td>1.0</td>\n",
       "    </tr>\n",
       "    <tr>\n",
       "      <th>1</th>\n",
       "      <td>1834</td>\n",
       "      <td>0.0</td>\n",
       "      <td>1.0</td>\n",
       "      <td>0.0</td>\n",
       "      <td>0.0</td>\n",
       "      <td>1.0</td>\n",
       "      <td>0.0</td>\n",
       "      <td>40</td>\n",
       "      <td>M</td>\n",
       "      <td>1.0</td>\n",
       "    </tr>\n",
       "    <tr>\n",
       "      <th>2</th>\n",
       "      <td>1834</td>\n",
       "      <td>0.0</td>\n",
       "      <td>1.0</td>\n",
       "      <td>0.0</td>\n",
       "      <td>0.0</td>\n",
       "      <td>0.0</td>\n",
       "      <td>1.0</td>\n",
       "      <td>40</td>\n",
       "      <td>M</td>\n",
       "      <td>1.0</td>\n",
       "    </tr>\n",
       "    <tr>\n",
       "      <th>3</th>\n",
       "      <td>1834</td>\n",
       "      <td>0.0</td>\n",
       "      <td>0.0</td>\n",
       "      <td>1.0</td>\n",
       "      <td>1.0</td>\n",
       "      <td>0.0</td>\n",
       "      <td>0.0</td>\n",
       "      <td>40</td>\n",
       "      <td>M</td>\n",
       "      <td>1.0</td>\n",
       "    </tr>\n",
       "    <tr>\n",
       "      <th>4</th>\n",
       "      <td>1834</td>\n",
       "      <td>0.0</td>\n",
       "      <td>0.0</td>\n",
       "      <td>1.0</td>\n",
       "      <td>1.0</td>\n",
       "      <td>0.0</td>\n",
       "      <td>0.0</td>\n",
       "      <td>40</td>\n",
       "      <td>M</td>\n",
       "      <td>2.0</td>\n",
       "    </tr>\n",
       "    <tr>\n",
       "      <th>...</th>\n",
       "      <td>...</td>\n",
       "      <td>...</td>\n",
       "      <td>...</td>\n",
       "      <td>...</td>\n",
       "      <td>...</td>\n",
       "      <td>...</td>\n",
       "      <td>...</td>\n",
       "      <td>...</td>\n",
       "      <td>...</td>\n",
       "      <td>...</td>\n",
       "    </tr>\n",
       "    <tr>\n",
       "      <th>381</th>\n",
       "      <td>4236</td>\n",
       "      <td>1.0</td>\n",
       "      <td>0.0</td>\n",
       "      <td>0.0</td>\n",
       "      <td>0.0</td>\n",
       "      <td>0.0</td>\n",
       "      <td>1.0</td>\n",
       "      <td>63</td>\n",
       "      <td>M</td>\n",
       "      <td>2.0</td>\n",
       "    </tr>\n",
       "    <tr>\n",
       "      <th>382</th>\n",
       "      <td>4236</td>\n",
       "      <td>0.0</td>\n",
       "      <td>0.0</td>\n",
       "      <td>1.0</td>\n",
       "      <td>0.0</td>\n",
       "      <td>0.0</td>\n",
       "      <td>1.0</td>\n",
       "      <td>63</td>\n",
       "      <td>M</td>\n",
       "      <td>2.0</td>\n",
       "    </tr>\n",
       "    <tr>\n",
       "      <th>383</th>\n",
       "      <td>4250</td>\n",
       "      <td>1.0</td>\n",
       "      <td>0.0</td>\n",
       "      <td>0.0</td>\n",
       "      <td>0.0</td>\n",
       "      <td>1.0</td>\n",
       "      <td>0.0</td>\n",
       "      <td>64</td>\n",
       "      <td>M</td>\n",
       "      <td>2.0</td>\n",
       "    </tr>\n",
       "    <tr>\n",
       "      <th>384</th>\n",
       "      <td>4250</td>\n",
       "      <td>1.0</td>\n",
       "      <td>0.0</td>\n",
       "      <td>0.0</td>\n",
       "      <td>0.0</td>\n",
       "      <td>0.0</td>\n",
       "      <td>1.0</td>\n",
       "      <td>64</td>\n",
       "      <td>M</td>\n",
       "      <td>2.0</td>\n",
       "    </tr>\n",
       "    <tr>\n",
       "      <th>385</th>\n",
       "      <td>4250</td>\n",
       "      <td>0.0</td>\n",
       "      <td>0.0</td>\n",
       "      <td>1.0</td>\n",
       "      <td>0.0</td>\n",
       "      <td>0.0</td>\n",
       "      <td>1.0</td>\n",
       "      <td>64</td>\n",
       "      <td>M</td>\n",
       "      <td>2.0</td>\n",
       "    </tr>\n",
       "  </tbody>\n",
       "</table>\n",
       "<p>386 rows × 10 columns</p>\n",
       "</div>"
      ],
      "text/plain": [
       "    patient  region.ancg  region.cb  region.dlpfc  lab.davis  lab.irvine  \\\n",
       "0      1834          1.0        0.0           0.0        0.0         1.0   \n",
       "1      1834          0.0        1.0           0.0        0.0         1.0   \n",
       "2      1834          0.0        1.0           0.0        0.0         0.0   \n",
       "3      1834          0.0        0.0           1.0        1.0         0.0   \n",
       "4      1834          0.0        0.0           1.0        1.0         0.0   \n",
       "..      ...          ...        ...           ...        ...         ...   \n",
       "381    4236          1.0        0.0           0.0        0.0         0.0   \n",
       "382    4236          0.0        0.0           1.0        0.0         0.0   \n",
       "383    4250          1.0        0.0           0.0        0.0         1.0   \n",
       "384    4250          1.0        0.0           0.0        0.0         0.0   \n",
       "385    4250          0.0        0.0           1.0        0.0         0.0   \n",
       "\n",
       "     lab.michigan  age sex  arrayversion  \n",
       "0             0.0   40   M           1.0  \n",
       "1             0.0   40   M           1.0  \n",
       "2             1.0   40   M           1.0  \n",
       "3             0.0   40   M           1.0  \n",
       "4             0.0   40   M           2.0  \n",
       "..            ...  ...  ..           ...  \n",
       "381           1.0   63   M           2.0  \n",
       "382           1.0   63   M           2.0  \n",
       "383           0.0   64   M           2.0  \n",
       "384           1.0   64   M           2.0  \n",
       "385           1.0   64   M           2.0  \n",
       "\n",
       "[386 rows x 10 columns]"
      ]
     },
     "execution_count": 12,
     "metadata": {},
     "output_type": "execute_result"
    }
   ],
   "source": [
    "arraymeta_data = dataset['arraymeta']\n",
    "arraymeta_data"
   ]
  },
  {
   "cell_type": "code",
   "execution_count": 13,
   "id": "b5872a12-8c36-412e-be2e-c3ce82a55849",
   "metadata": {},
   "outputs": [
    {
     "data": {
      "text/html": [
       "<div>\n",
       "<style scoped>\n",
       "    .dataframe tbody tr th:only-of-type {\n",
       "        vertical-align: middle;\n",
       "    }\n",
       "\n",
       "    .dataframe tbody tr th {\n",
       "        vertical-align: top;\n",
       "    }\n",
       "\n",
       "    .dataframe thead th {\n",
       "        text-align: right;\n",
       "    }\n",
       "</style>\n",
       "<table border=\"1\" class=\"dataframe\">\n",
       "  <thead>\n",
       "    <tr style=\"text-align: right;\">\n",
       "      <th></th>\n",
       "      <th>1007_s_at</th>\n",
       "      <th>1053_at</th>\n",
       "      <th>117_at</th>\n",
       "      <th>121_at</th>\n",
       "      <th>1255_g_at</th>\n",
       "      <th>1294_at</th>\n",
       "      <th>1316_at</th>\n",
       "      <th>1320_at</th>\n",
       "      <th>1405_i_at</th>\n",
       "      <th>1431_at</th>\n",
       "      <th>...</th>\n",
       "      <th>AFFX-r2-Ec-bioD-3_at</th>\n",
       "      <th>AFFX-r2-Ec-bioD-5_at</th>\n",
       "      <th>AFFX-r2-P1-cre-3_at</th>\n",
       "      <th>AFFX-r2-P1-cre-5_at</th>\n",
       "      <th>AFFX-ThrX-3_at</th>\n",
       "      <th>AFFX-ThrX-5_at</th>\n",
       "      <th>AFFX-ThrX-M_at</th>\n",
       "      <th>AFFX-TrpnX-3_at</th>\n",
       "      <th>AFFX-TrpnX-5_at</th>\n",
       "      <th>AFFX-TrpnX-M_at</th>\n",
       "    </tr>\n",
       "  </thead>\n",
       "  <tbody>\n",
       "    <tr>\n",
       "      <th>0</th>\n",
       "      <td>8.597381</td>\n",
       "      <td>6.643790</td>\n",
       "      <td>6.742402</td>\n",
       "      <td>7.738635</td>\n",
       "      <td>6.477350</td>\n",
       "      <td>7.388334</td>\n",
       "      <td>6.734768</td>\n",
       "      <td>6.501485</td>\n",
       "      <td>6.312102</td>\n",
       "      <td>6.274967</td>\n",
       "      <td>...</td>\n",
       "      <td>9.472115</td>\n",
       "      <td>9.263460</td>\n",
       "      <td>11.529741</td>\n",
       "      <td>11.308839</td>\n",
       "      <td>6.427495</td>\n",
       "      <td>6.212201</td>\n",
       "      <td>6.076345</td>\n",
       "      <td>5.942940</td>\n",
       "      <td>6.050228</td>\n",
       "      <td>6.059569</td>\n",
       "    </tr>\n",
       "    <tr>\n",
       "      <th>1</th>\n",
       "      <td>7.507421</td>\n",
       "      <td>6.185789</td>\n",
       "      <td>6.377131</td>\n",
       "      <td>7.152656</td>\n",
       "      <td>6.002777</td>\n",
       "      <td>6.515969</td>\n",
       "      <td>6.430514</td>\n",
       "      <td>6.105450</td>\n",
       "      <td>5.947936</td>\n",
       "      <td>5.947524</td>\n",
       "      <td>...</td>\n",
       "      <td>8.665336</td>\n",
       "      <td>8.851499</td>\n",
       "      <td>10.900256</td>\n",
       "      <td>10.830566</td>\n",
       "      <td>6.077286</td>\n",
       "      <td>5.853261</td>\n",
       "      <td>5.732241</td>\n",
       "      <td>5.797226</td>\n",
       "      <td>5.788631</td>\n",
       "      <td>5.895052</td>\n",
       "    </tr>\n",
       "    <tr>\n",
       "      <th>2</th>\n",
       "      <td>9.151820</td>\n",
       "      <td>7.508944</td>\n",
       "      <td>7.924755</td>\n",
       "      <td>9.778946</td>\n",
       "      <td>6.991540</td>\n",
       "      <td>8.059766</td>\n",
       "      <td>8.198715</td>\n",
       "      <td>7.433385</td>\n",
       "      <td>7.047425</td>\n",
       "      <td>7.169980</td>\n",
       "      <td>...</td>\n",
       "      <td>10.752882</td>\n",
       "      <td>10.684959</td>\n",
       "      <td>12.805644</td>\n",
       "      <td>12.553357</td>\n",
       "      <td>7.242163</td>\n",
       "      <td>7.107621</td>\n",
       "      <td>6.923200</td>\n",
       "      <td>6.563461</td>\n",
       "      <td>7.024079</td>\n",
       "      <td>6.988473</td>\n",
       "    </tr>\n",
       "    <tr>\n",
       "      <th>3</th>\n",
       "      <td>9.480747</td>\n",
       "      <td>7.229395</td>\n",
       "      <td>7.330518</td>\n",
       "      <td>8.724294</td>\n",
       "      <td>6.897049</td>\n",
       "      <td>7.979412</td>\n",
       "      <td>7.213397</td>\n",
       "      <td>6.946586</td>\n",
       "      <td>6.530472</td>\n",
       "      <td>6.680387</td>\n",
       "      <td>...</td>\n",
       "      <td>10.663113</td>\n",
       "      <td>10.624339</td>\n",
       "      <td>12.602046</td>\n",
       "      <td>12.341308</td>\n",
       "      <td>6.871340</td>\n",
       "      <td>6.487593</td>\n",
       "      <td>6.330889</td>\n",
       "      <td>6.280178</td>\n",
       "      <td>6.379439</td>\n",
       "      <td>6.352816</td>\n",
       "    </tr>\n",
       "    <tr>\n",
       "      <th>4</th>\n",
       "      <td>10.855653</td>\n",
       "      <td>8.573288</td>\n",
       "      <td>8.519262</td>\n",
       "      <td>10.045489</td>\n",
       "      <td>8.053849</td>\n",
       "      <td>9.042049</td>\n",
       "      <td>8.379321</td>\n",
       "      <td>8.116254</td>\n",
       "      <td>7.623230</td>\n",
       "      <td>7.997303</td>\n",
       "      <td>...</td>\n",
       "      <td>12.470662</td>\n",
       "      <td>12.141829</td>\n",
       "      <td>13.912422</td>\n",
       "      <td>13.951137</td>\n",
       "      <td>8.206344</td>\n",
       "      <td>7.527397</td>\n",
       "      <td>7.288326</td>\n",
       "      <td>7.253048</td>\n",
       "      <td>7.331282</td>\n",
       "      <td>7.378420</td>\n",
       "    </tr>\n",
       "    <tr>\n",
       "      <th>...</th>\n",
       "      <td>...</td>\n",
       "      <td>...</td>\n",
       "      <td>...</td>\n",
       "      <td>...</td>\n",
       "      <td>...</td>\n",
       "      <td>...</td>\n",
       "      <td>...</td>\n",
       "      <td>...</td>\n",
       "      <td>...</td>\n",
       "      <td>...</td>\n",
       "      <td>...</td>\n",
       "      <td>...</td>\n",
       "      <td>...</td>\n",
       "      <td>...</td>\n",
       "      <td>...</td>\n",
       "      <td>...</td>\n",
       "      <td>...</td>\n",
       "      <td>...</td>\n",
       "      <td>...</td>\n",
       "      <td>...</td>\n",
       "      <td>...</td>\n",
       "    </tr>\n",
       "    <tr>\n",
       "      <th>381</th>\n",
       "      <td>9.788715</td>\n",
       "      <td>7.990065</td>\n",
       "      <td>8.268939</td>\n",
       "      <td>9.392253</td>\n",
       "      <td>7.588384</td>\n",
       "      <td>8.461776</td>\n",
       "      <td>8.447588</td>\n",
       "      <td>7.858540</td>\n",
       "      <td>7.501698</td>\n",
       "      <td>7.341803</td>\n",
       "      <td>...</td>\n",
       "      <td>11.294439</td>\n",
       "      <td>11.084897</td>\n",
       "      <td>12.965648</td>\n",
       "      <td>12.695011</td>\n",
       "      <td>7.613313</td>\n",
       "      <td>7.400333</td>\n",
       "      <td>7.204682</td>\n",
       "      <td>7.031017</td>\n",
       "      <td>7.217905</td>\n",
       "      <td>7.296093</td>\n",
       "    </tr>\n",
       "    <tr>\n",
       "      <th>382</th>\n",
       "      <td>10.110330</td>\n",
       "      <td>8.193528</td>\n",
       "      <td>8.114450</td>\n",
       "      <td>9.403774</td>\n",
       "      <td>7.626703</td>\n",
       "      <td>8.505860</td>\n",
       "      <td>8.342483</td>\n",
       "      <td>7.791306</td>\n",
       "      <td>7.584267</td>\n",
       "      <td>7.535682</td>\n",
       "      <td>...</td>\n",
       "      <td>12.279642</td>\n",
       "      <td>11.974415</td>\n",
       "      <td>13.636568</td>\n",
       "      <td>13.370042</td>\n",
       "      <td>7.619108</td>\n",
       "      <td>7.408349</td>\n",
       "      <td>7.225574</td>\n",
       "      <td>7.062833</td>\n",
       "      <td>7.282214</td>\n",
       "      <td>7.320709</td>\n",
       "    </tr>\n",
       "    <tr>\n",
       "      <th>383</th>\n",
       "      <td>10.462571</td>\n",
       "      <td>8.496206</td>\n",
       "      <td>8.226372</td>\n",
       "      <td>9.683997</td>\n",
       "      <td>7.647338</td>\n",
       "      <td>8.811804</td>\n",
       "      <td>9.005109</td>\n",
       "      <td>8.074287</td>\n",
       "      <td>7.504952</td>\n",
       "      <td>7.727255</td>\n",
       "      <td>...</td>\n",
       "      <td>13.065861</td>\n",
       "      <td>13.082426</td>\n",
       "      <td>14.232736</td>\n",
       "      <td>14.156478</td>\n",
       "      <td>7.670240</td>\n",
       "      <td>7.343954</td>\n",
       "      <td>7.177481</td>\n",
       "      <td>7.067948</td>\n",
       "      <td>7.178223</td>\n",
       "      <td>7.354904</td>\n",
       "    </tr>\n",
       "    <tr>\n",
       "      <th>384</th>\n",
       "      <td>9.900810</td>\n",
       "      <td>8.147884</td>\n",
       "      <td>8.341852</td>\n",
       "      <td>9.359909</td>\n",
       "      <td>7.824822</td>\n",
       "      <td>8.437894</td>\n",
       "      <td>8.424120</td>\n",
       "      <td>7.839172</td>\n",
       "      <td>7.531454</td>\n",
       "      <td>7.402192</td>\n",
       "      <td>...</td>\n",
       "      <td>10.981730</td>\n",
       "      <td>10.977953</td>\n",
       "      <td>12.810572</td>\n",
       "      <td>12.593202</td>\n",
       "      <td>7.670840</td>\n",
       "      <td>7.558949</td>\n",
       "      <td>7.316052</td>\n",
       "      <td>7.138055</td>\n",
       "      <td>7.422764</td>\n",
       "      <td>7.448250</td>\n",
       "    </tr>\n",
       "    <tr>\n",
       "      <th>385</th>\n",
       "      <td>9.867853</td>\n",
       "      <td>7.832730</td>\n",
       "      <td>7.711266</td>\n",
       "      <td>9.148748</td>\n",
       "      <td>7.428053</td>\n",
       "      <td>8.312658</td>\n",
       "      <td>8.094271</td>\n",
       "      <td>7.530338</td>\n",
       "      <td>7.261840</td>\n",
       "      <td>7.374482</td>\n",
       "      <td>...</td>\n",
       "      <td>12.209283</td>\n",
       "      <td>11.757807</td>\n",
       "      <td>13.526744</td>\n",
       "      <td>13.291683</td>\n",
       "      <td>7.369926</td>\n",
       "      <td>7.187340</td>\n",
       "      <td>6.974730</td>\n",
       "      <td>6.854961</td>\n",
       "      <td>7.017822</td>\n",
       "      <td>6.982069</td>\n",
       "    </tr>\n",
       "  </tbody>\n",
       "</table>\n",
       "<p>386 rows × 22277 columns</p>\n",
       "</div>"
      ],
      "text/plain": [
       "     1007_s_at   1053_at    117_at     121_at  1255_g_at   1294_at   1316_at  \\\n",
       "0     8.597381  6.643790  6.742402   7.738635   6.477350  7.388334  6.734768   \n",
       "1     7.507421  6.185789  6.377131   7.152656   6.002777  6.515969  6.430514   \n",
       "2     9.151820  7.508944  7.924755   9.778946   6.991540  8.059766  8.198715   \n",
       "3     9.480747  7.229395  7.330518   8.724294   6.897049  7.979412  7.213397   \n",
       "4    10.855653  8.573288  8.519262  10.045489   8.053849  9.042049  8.379321   \n",
       "..         ...       ...       ...        ...        ...       ...       ...   \n",
       "381   9.788715  7.990065  8.268939   9.392253   7.588384  8.461776  8.447588   \n",
       "382  10.110330  8.193528  8.114450   9.403774   7.626703  8.505860  8.342483   \n",
       "383  10.462571  8.496206  8.226372   9.683997   7.647338  8.811804  9.005109   \n",
       "384   9.900810  8.147884  8.341852   9.359909   7.824822  8.437894  8.424120   \n",
       "385   9.867853  7.832730  7.711266   9.148748   7.428053  8.312658  8.094271   \n",
       "\n",
       "      1320_at  1405_i_at   1431_at  ...  AFFX-r2-Ec-bioD-3_at  \\\n",
       "0    6.501485   6.312102  6.274967  ...              9.472115   \n",
       "1    6.105450   5.947936  5.947524  ...              8.665336   \n",
       "2    7.433385   7.047425  7.169980  ...             10.752882   \n",
       "3    6.946586   6.530472  6.680387  ...             10.663113   \n",
       "4    8.116254   7.623230  7.997303  ...             12.470662   \n",
       "..        ...        ...       ...  ...                   ...   \n",
       "381  7.858540   7.501698  7.341803  ...             11.294439   \n",
       "382  7.791306   7.584267  7.535682  ...             12.279642   \n",
       "383  8.074287   7.504952  7.727255  ...             13.065861   \n",
       "384  7.839172   7.531454  7.402192  ...             10.981730   \n",
       "385  7.530338   7.261840  7.374482  ...             12.209283   \n",
       "\n",
       "     AFFX-r2-Ec-bioD-5_at  AFFX-r2-P1-cre-3_at  AFFX-r2-P1-cre-5_at  \\\n",
       "0                9.263460            11.529741            11.308839   \n",
       "1                8.851499            10.900256            10.830566   \n",
       "2               10.684959            12.805644            12.553357   \n",
       "3               10.624339            12.602046            12.341308   \n",
       "4               12.141829            13.912422            13.951137   \n",
       "..                    ...                  ...                  ...   \n",
       "381             11.084897            12.965648            12.695011   \n",
       "382             11.974415            13.636568            13.370042   \n",
       "383             13.082426            14.232736            14.156478   \n",
       "384             10.977953            12.810572            12.593202   \n",
       "385             11.757807            13.526744            13.291683   \n",
       "\n",
       "     AFFX-ThrX-3_at  AFFX-ThrX-5_at  AFFX-ThrX-M_at  AFFX-TrpnX-3_at  \\\n",
       "0          6.427495        6.212201        6.076345         5.942940   \n",
       "1          6.077286        5.853261        5.732241         5.797226   \n",
       "2          7.242163        7.107621        6.923200         6.563461   \n",
       "3          6.871340        6.487593        6.330889         6.280178   \n",
       "4          8.206344        7.527397        7.288326         7.253048   \n",
       "..              ...             ...             ...              ...   \n",
       "381        7.613313        7.400333        7.204682         7.031017   \n",
       "382        7.619108        7.408349        7.225574         7.062833   \n",
       "383        7.670240        7.343954        7.177481         7.067948   \n",
       "384        7.670840        7.558949        7.316052         7.138055   \n",
       "385        7.369926        7.187340        6.974730         6.854961   \n",
       "\n",
       "     AFFX-TrpnX-5_at  AFFX-TrpnX-M_at  \n",
       "0           6.050228         6.059569  \n",
       "1           5.788631         5.895052  \n",
       "2           7.024079         6.988473  \n",
       "3           6.379439         6.352816  \n",
       "4           7.331282         7.378420  \n",
       "..               ...              ...  \n",
       "381         7.217905         7.296093  \n",
       "382         7.282214         7.320709  \n",
       "383         7.178223         7.354904  \n",
       "384         7.422764         7.448250  \n",
       "385         7.017822         6.982069  \n",
       "\n",
       "[386 rows x 22277 columns]"
      ]
     },
     "execution_count": 13,
     "metadata": {},
     "output_type": "execute_result"
    }
   ],
   "source": [
    "expression_data = dataset['expression']\n",
    "expression_data"
   ]
  },
  {
   "cell_type": "code",
   "execution_count": 14,
   "id": "b39a5d99-cdf6-4bea-be7f-c26200dc3ef7",
   "metadata": {},
   "outputs": [
    {
     "data": {
      "text/html": [
       "<div>\n",
       "<style scoped>\n",
       "    .dataframe tbody tr th:only-of-type {\n",
       "        vertical-align: middle;\n",
       "    }\n",
       "\n",
       "    .dataframe tbody tr th {\n",
       "        vertical-align: top;\n",
       "    }\n",
       "\n",
       "    .dataframe thead th {\n",
       "        text-align: right;\n",
       "    }\n",
       "</style>\n",
       "<table border=\"1\" class=\"dataframe\">\n",
       "  <thead>\n",
       "    <tr style=\"text-align: right;\">\n",
       "      <th></th>\n",
       "      <th>1007_s_at</th>\n",
       "      <th>1053_at</th>\n",
       "      <th>117_at</th>\n",
       "      <th>121_at</th>\n",
       "      <th>1255_g_at</th>\n",
       "      <th>1294_at</th>\n",
       "      <th>1316_at</th>\n",
       "      <th>1320_at</th>\n",
       "      <th>1405_i_at</th>\n",
       "      <th>1431_at</th>\n",
       "      <th>...</th>\n",
       "      <th>AFFX-r2-Bs-thr-M_s_at</th>\n",
       "      <th>AFFX-r2-Ec-bioB-3_at</th>\n",
       "      <th>AFFX-r2-Hs18SrRNA-3_s_at</th>\n",
       "      <th>AFFX-r2-Hs18SrRNA-5_at</th>\n",
       "      <th>AFFX-r2-Hs18SrRNA-M_x_at</th>\n",
       "      <th>AFFX-r2-Hs28SrRNA-3_at</th>\n",
       "      <th>AFFX-r2-Hs28SrRNA-5_at</th>\n",
       "      <th>AFFX-r2-Hs28SrRNA-M_at</th>\n",
       "      <th>AFFX-r2-P1-cre-3_at</th>\n",
       "      <th>AFFX-r2-P1-cre-5_at</th>\n",
       "    </tr>\n",
       "  </thead>\n",
       "  <tbody>\n",
       "    <tr>\n",
       "      <th>chrom</th>\n",
       "      <td>6</td>\n",
       "      <td>7</td>\n",
       "      <td>1</td>\n",
       "      <td>2</td>\n",
       "      <td>6</td>\n",
       "      <td>3</td>\n",
       "      <td>17</td>\n",
       "      <td>14</td>\n",
       "      <td>17</td>\n",
       "      <td>10</td>\n",
       "      <td>...</td>\n",
       "      <td>NaN</td>\n",
       "      <td>NaN</td>\n",
       "      <td>NaN</td>\n",
       "      <td>NaN</td>\n",
       "      <td>NaN</td>\n",
       "      <td>NaN</td>\n",
       "      <td>NaN</td>\n",
       "      <td>NaN</td>\n",
       "      <td>NaN</td>\n",
       "      <td>NaN</td>\n",
       "    </tr>\n",
       "    <tr>\n",
       "      <th>sym</th>\n",
       "      <td>DDR1</td>\n",
       "      <td>RFC2</td>\n",
       "      <td>HSPA6</td>\n",
       "      <td>PAX8</td>\n",
       "      <td>GUCA1A</td>\n",
       "      <td>UBA7</td>\n",
       "      <td>THRA</td>\n",
       "      <td>PTPN21</td>\n",
       "      <td>CCL5</td>\n",
       "      <td>CYP2E1</td>\n",
       "      <td>...</td>\n",
       "      <td>NaN</td>\n",
       "      <td>NaN</td>\n",
       "      <td>NaN</td>\n",
       "      <td>NaN</td>\n",
       "      <td>NaN</td>\n",
       "      <td>NaN</td>\n",
       "      <td>NaN</td>\n",
       "      <td>NaN</td>\n",
       "      <td>NaN</td>\n",
       "      <td>NaN</td>\n",
       "    </tr>\n",
       "  </tbody>\n",
       "</table>\n",
       "<p>2 rows × 22277 columns</p>\n",
       "</div>"
      ],
      "text/plain": [
       "      1007_s_at 1053_at 117_at 121_at 1255_g_at 1294_at 1316_at 1320_at  \\\n",
       "chrom         6       7      1      2         6       3      17      14   \n",
       "sym        DDR1    RFC2  HSPA6   PAX8    GUCA1A    UBA7    THRA  PTPN21   \n",
       "\n",
       "      1405_i_at 1431_at  ... AFFX-r2-Bs-thr-M_s_at AFFX-r2-Ec-bioB-3_at  \\\n",
       "chrom        17      10  ...                   NaN                  NaN   \n",
       "sym        CCL5  CYP2E1  ...                   NaN                  NaN   \n",
       "\n",
       "      AFFX-r2-Hs18SrRNA-3_s_at AFFX-r2-Hs18SrRNA-5_at  \\\n",
       "chrom                      NaN                    NaN   \n",
       "sym                        NaN                    NaN   \n",
       "\n",
       "      AFFX-r2-Hs18SrRNA-M_x_at AFFX-r2-Hs28SrRNA-3_at AFFX-r2-Hs28SrRNA-5_at  \\\n",
       "chrom                      NaN                    NaN                    NaN   \n",
       "sym                        NaN                    NaN                    NaN   \n",
       "\n",
       "      AFFX-r2-Hs28SrRNA-M_at AFFX-r2-P1-cre-3_at AFFX-r2-P1-cre-5_at  \n",
       "chrom                    NaN                 NaN                 NaN  \n",
       "sym                      NaN                 NaN                 NaN  \n",
       "\n",
       "[2 rows x 22277 columns]"
      ]
     },
     "execution_count": 14,
     "metadata": {},
     "output_type": "execute_result"
    }
   ],
   "source": [
    "genemeta_data = dataset['genemeta']\n",
    "genemeta_data"
   ]
  },
  {
   "cell_type": "markdown",
   "id": "73b84f62-e705-407e-a173-48dae667e8c5",
   "metadata": {},
   "source": [
    "## Initial EDA"
   ]
  },
  {
   "cell_type": "markdown",
   "id": "198b2d39-a7b0-4bae-9222-2732f342bdd5",
   "metadata": {},
   "source": [
    "### Counts from each brain region"
   ]
  },
  {
   "cell_type": "code",
   "execution_count": 15,
   "id": "25aca278-c46a-414b-8c9d-f297ce55b5dd",
   "metadata": {},
   "outputs": [
    {
     "data": {
      "text/plain": [
       "array([1.])"
      ]
     },
     "execution_count": 15,
     "metadata": {},
     "output_type": "execute_result"
    }
   ],
   "source": [
    "# Determining the number of brain regions in each sample (apparently always 1)\n",
    "arraymeta_data[['region.ancg', 'region.cb', 'region.dlpfc']].sum(axis=1).unique()"
   ]
  },
  {
   "cell_type": "code",
   "execution_count": 16,
   "id": "8feb4aa7-ea4e-4f48-aff0-d03324f43012",
   "metadata": {},
   "outputs": [
    {
     "data": {
      "text/plain": [
       "region.ancg     127.0\n",
       "region.cb        81.0\n",
       "region.dlpfc    178.0\n",
       "dtype: float64"
      ]
     },
     "execution_count": 16,
     "metadata": {},
     "output_type": "execute_result"
    }
   ],
   "source": [
    "# Total number of samples from each brain region\n",
    "arraymeta_data[['region.ancg', 'region.cb', 'region.dlpfc']].sum(axis = 0)"
   ]
  },
  {
   "cell_type": "code",
   "execution_count": null,
   "id": "77d9c141-ff06-4031-a552-239c36a5ccd9",
   "metadata": {},
   "outputs": [
    {
     "name": "stdout",
     "output_type": "stream",
     "text": [
      "lab     davis  irvine  michigan\n",
      "region                         \n",
      "ancg        0      66        61\n",
      "cb         21      42        18\n",
      "dlpfc      85       9        84\n"
     ]
    }
   ],
   "source": [
    "### Cross tab by brain region and lab\n",
    "# Create factors for brain region and lab\n",
    "arraymeta_data['region'] = arraymeta_data[['region.ancg', 'region.cb', 'region.dlpfc']].idxmax(axis=1).str.replace('region.', '')\n",
    "arraymeta_data['lab'] = arraymeta_data[['lab.davis', 'lab.irvine', 'lab.michigan']].idxmax(axis=1).str.replace('lab.', '')\n",
    "\n",
    "# Cross tab\n",
    "cross_tab_region_lab = pd.crosstab(arraymeta_data['region'], arraymeta_data['lab'])\n",
    "\n",
    "# Print results\n",
    "print(cross_tab_region_lab)"
   ]
  },
  {
   "cell_type": "code",
   "execution_count": null,
   "id": "d9b2b936",
   "metadata": {},
   "outputs": [
    {
     "name": "stdout",
     "output_type": "stream",
     "text": [
      "lab          davis     irvine     michigan    \n",
      "arrayversion   1.0 2.0    1.0 2.0      1.0 2.0\n",
      "region                                        \n",
      "ancg             0   0     36  30       31  30\n",
      "cb              11  10     33   9        9   9\n",
      "dlpfc           56  29      9   0       55  29\n"
     ]
    }
   ],
   "source": [
    "### Cross tab on Lab, Array Version, and Brain Region\n",
    "crosstab_full = pd.crosstab(index=arraymeta_data['region'], columns=[arraymeta_data['lab'], arraymeta_data['arrayversion']])\n",
    "print(crosstab_full)"
   ]
  },
  {
   "cell_type": "code",
   "execution_count": null,
   "id": "77f7fd25",
   "metadata": {},
   "outputs": [],
   "source": []
  },
  {
   "cell_type": "markdown",
   "id": "d097d123-a70e-419b-bff0-09113440c77b",
   "metadata": {},
   "source": [
    "### Counts by age"
   ]
  },
  {
   "cell_type": "code",
   "execution_count": 107,
   "id": "a15d7cc4-a6d7-4c21-9bee-3ae9d40827b0",
   "metadata": {},
   "outputs": [],
   "source": [
    "### Cross tab by brain region and age\n",
    "# Cross tab\n",
    "cross_tab_br_age = pd.crosstab(arraymeta_data['age'], arraymeta_data['region'])"
   ]
  },
  {
   "cell_type": "code",
   "execution_count": 108,
   "id": "224d7daa-7ee6-4c44-bcfb-4be70aa54b76",
   "metadata": {},
   "outputs": [
    {
     "name": "stdout",
     "output_type": "stream",
     "text": [
      "age_group  <70  >=70\n",
      "region              \n",
      "ancg       104    23\n",
      "cb          70    11\n",
      "dlpfc      146    32\n"
     ]
    }
   ],
   "source": [
    "### Cross tab by brain region and age ranges of interest\n",
    "# Split pandas dataframe by age group\n",
    "def categorize_age(age):\n",
    "    if age < 70:\n",
    "        return '<70'\n",
    "    else:\n",
    "        return '>=70'\n",
    "\n",
    "arraymeta_data['age_group'] = arraymeta_data['age'].apply(categorize_age)\n",
    "\n",
    "# Cross tab\n",
    "cross_tab_region_agegrp = pd.crosstab(arraymeta_data['region'], arraymeta_data['age_group'])\n",
    "\n",
    "# Print results\n",
    "print(cross_tab_region_agegrp)"
   ]
  },
  {
   "cell_type": "markdown",
   "id": "2820f3ea-54e7-4f09-b84b-bd568bec543f",
   "metadata": {},
   "source": [
    "Important to note that we have much more data for the less than 70 group than for the more than 70 group. Moving on to analysis of expression rates."
   ]
  },
  {
   "cell_type": "markdown",
   "id": "23835dd1-23e3-4aab-ba7c-17ab82057f63",
   "metadata": {},
   "source": [
    "### Investigating Missingness"
   ]
  },
  {
   "cell_type": "code",
   "execution_count": 109,
   "id": "874076d0",
   "metadata": {},
   "outputs": [
    {
     "data": {
      "text/plain": [
       "np.False_"
      ]
     },
     "execution_count": 109,
     "metadata": {},
     "output_type": "execute_result"
    }
   ],
   "source": [
    "any_NaN = expression_data.isna().any().any()\n",
    "any_NaN"
   ]
  },
  {
   "cell_type": "markdown",
   "id": "f8161418",
   "metadata": {},
   "source": [
    "Evidently, there is no missing expression data."
   ]
  },
  {
   "cell_type": "code",
   "execution_count": 110,
   "id": "8855540a",
   "metadata": {},
   "outputs": [
    {
     "data": {
      "text/plain": [
       "np.False_"
      ]
     },
     "execution_count": 110,
     "metadata": {},
     "output_type": "execute_result"
    }
   ],
   "source": [
    "inf_mask = np.isinf(expression_data.to_numpy())\n",
    "has_inf = inf_mask.any()\n",
    "has_inf"
   ]
  },
  {
   "cell_type": "markdown",
   "id": "1576ddf9",
   "metadata": {},
   "source": [
    "Evidently, there were no spots for which there was zero count. "
   ]
  },
  {
   "cell_type": "code",
   "execution_count": 111,
   "id": "4c70e966",
   "metadata": {},
   "outputs": [
    {
     "data": {
      "text/plain": [
       "11"
      ]
     },
     "execution_count": 111,
     "metadata": {},
     "output_type": "execute_result"
    }
   ],
   "source": [
    "# Checking to see if there are duplicates in arraymeta_data\n",
    "duplicates = arraymeta_data.duplicated()\n",
    "sum(duplicates)"
   ]
  },
  {
   "cell_type": "markdown",
   "id": "ea5276d4",
   "metadata": {},
   "source": [
    "Evidently, there are 11 duplicates. We print these duplicates below:"
   ]
  },
  {
   "cell_type": "code",
   "execution_count": 112,
   "id": "b8942600",
   "metadata": {},
   "outputs": [
    {
     "data": {
      "text/html": [
       "<div>\n",
       "<style scoped>\n",
       "    .dataframe tbody tr th:only-of-type {\n",
       "        vertical-align: middle;\n",
       "    }\n",
       "\n",
       "    .dataframe tbody tr th {\n",
       "        vertical-align: top;\n",
       "    }\n",
       "\n",
       "    .dataframe thead th {\n",
       "        text-align: right;\n",
       "    }\n",
       "</style>\n",
       "<table border=\"1\" class=\"dataframe\">\n",
       "  <thead>\n",
       "    <tr style=\"text-align: right;\">\n",
       "      <th></th>\n",
       "      <th>patient</th>\n",
       "      <th>region.ancg</th>\n",
       "      <th>region.cb</th>\n",
       "      <th>region.dlpfc</th>\n",
       "      <th>lab.davis</th>\n",
       "      <th>lab.irvine</th>\n",
       "      <th>lab.michigan</th>\n",
       "      <th>age</th>\n",
       "      <th>sex</th>\n",
       "      <th>arrayversion</th>\n",
       "      <th>region</th>\n",
       "      <th>lab</th>\n",
       "      <th>age_group</th>\n",
       "    </tr>\n",
       "  </thead>\n",
       "  <tbody>\n",
       "    <tr>\n",
       "      <th>5</th>\n",
       "      <td>1834</td>\n",
       "      <td>0.0</td>\n",
       "      <td>0.0</td>\n",
       "      <td>1.0</td>\n",
       "      <td>1.0</td>\n",
       "      <td>0.0</td>\n",
       "      <td>0.0</td>\n",
       "      <td>40</td>\n",
       "      <td>M</td>\n",
       "      <td>2.0</td>\n",
       "      <td>dlpfc</td>\n",
       "      <td>davis</td>\n",
       "      <td>&lt;70</td>\n",
       "    </tr>\n",
       "    <tr>\n",
       "      <th>27</th>\n",
       "      <td>2169</td>\n",
       "      <td>0.0</td>\n",
       "      <td>0.0</td>\n",
       "      <td>1.0</td>\n",
       "      <td>0.0</td>\n",
       "      <td>0.0</td>\n",
       "      <td>1.0</td>\n",
       "      <td>18</td>\n",
       "      <td>M</td>\n",
       "      <td>1.0</td>\n",
       "      <td>dlpfc</td>\n",
       "      <td>michigan</td>\n",
       "      <td>&lt;70</td>\n",
       "    </tr>\n",
       "    <tr>\n",
       "      <th>41</th>\n",
       "      <td>2292</td>\n",
       "      <td>0.0</td>\n",
       "      <td>0.0</td>\n",
       "      <td>1.0</td>\n",
       "      <td>0.0</td>\n",
       "      <td>0.0</td>\n",
       "      <td>1.0</td>\n",
       "      <td>55</td>\n",
       "      <td>M</td>\n",
       "      <td>1.0</td>\n",
       "      <td>dlpfc</td>\n",
       "      <td>michigan</td>\n",
       "      <td>&lt;70</td>\n",
       "    </tr>\n",
       "    <tr>\n",
       "      <th>47</th>\n",
       "      <td>2316</td>\n",
       "      <td>0.0</td>\n",
       "      <td>0.0</td>\n",
       "      <td>1.0</td>\n",
       "      <td>0.0</td>\n",
       "      <td>0.0</td>\n",
       "      <td>1.0</td>\n",
       "      <td>58</td>\n",
       "      <td>M</td>\n",
       "      <td>1.0</td>\n",
       "      <td>dlpfc</td>\n",
       "      <td>michigan</td>\n",
       "      <td>&lt;70</td>\n",
       "    </tr>\n",
       "    <tr>\n",
       "      <th>53</th>\n",
       "      <td>2619</td>\n",
       "      <td>0.0</td>\n",
       "      <td>0.0</td>\n",
       "      <td>1.0</td>\n",
       "      <td>1.0</td>\n",
       "      <td>0.0</td>\n",
       "      <td>0.0</td>\n",
       "      <td>48</td>\n",
       "      <td>M</td>\n",
       "      <td>2.0</td>\n",
       "      <td>dlpfc</td>\n",
       "      <td>davis</td>\n",
       "      <td>&lt;70</td>\n",
       "    </tr>\n",
       "    <tr>\n",
       "      <th>63</th>\n",
       "      <td>2664</td>\n",
       "      <td>0.0</td>\n",
       "      <td>0.0</td>\n",
       "      <td>1.0</td>\n",
       "      <td>1.0</td>\n",
       "      <td>0.0</td>\n",
       "      <td>0.0</td>\n",
       "      <td>43</td>\n",
       "      <td>M</td>\n",
       "      <td>2.0</td>\n",
       "      <td>dlpfc</td>\n",
       "      <td>davis</td>\n",
       "      <td>&lt;70</td>\n",
       "    </tr>\n",
       "    <tr>\n",
       "      <th>82</th>\n",
       "      <td>2847</td>\n",
       "      <td>0.0</td>\n",
       "      <td>0.0</td>\n",
       "      <td>1.0</td>\n",
       "      <td>0.0</td>\n",
       "      <td>0.0</td>\n",
       "      <td>1.0</td>\n",
       "      <td>50</td>\n",
       "      <td>M</td>\n",
       "      <td>1.0</td>\n",
       "      <td>dlpfc</td>\n",
       "      <td>michigan</td>\n",
       "      <td>&lt;70</td>\n",
       "    </tr>\n",
       "    <tr>\n",
       "      <th>88</th>\n",
       "      <td>2861</td>\n",
       "      <td>0.0</td>\n",
       "      <td>0.0</td>\n",
       "      <td>1.0</td>\n",
       "      <td>0.0</td>\n",
       "      <td>0.0</td>\n",
       "      <td>1.0</td>\n",
       "      <td>60</td>\n",
       "      <td>F</td>\n",
       "      <td>1.0</td>\n",
       "      <td>dlpfc</td>\n",
       "      <td>michigan</td>\n",
       "      <td>&lt;70</td>\n",
       "    </tr>\n",
       "    <tr>\n",
       "      <th>94</th>\n",
       "      <td>2894</td>\n",
       "      <td>0.0</td>\n",
       "      <td>0.0</td>\n",
       "      <td>1.0</td>\n",
       "      <td>0.0</td>\n",
       "      <td>0.0</td>\n",
       "      <td>1.0</td>\n",
       "      <td>54</td>\n",
       "      <td>M</td>\n",
       "      <td>1.0</td>\n",
       "      <td>dlpfc</td>\n",
       "      <td>michigan</td>\n",
       "      <td>&lt;70</td>\n",
       "    </tr>\n",
       "    <tr>\n",
       "      <th>100</th>\n",
       "      <td>2895</td>\n",
       "      <td>0.0</td>\n",
       "      <td>0.0</td>\n",
       "      <td>1.0</td>\n",
       "      <td>1.0</td>\n",
       "      <td>0.0</td>\n",
       "      <td>0.0</td>\n",
       "      <td>48</td>\n",
       "      <td>M</td>\n",
       "      <td>2.0</td>\n",
       "      <td>dlpfc</td>\n",
       "      <td>davis</td>\n",
       "      <td>&lt;70</td>\n",
       "    </tr>\n",
       "    <tr>\n",
       "      <th>241</th>\n",
       "      <td>3519</td>\n",
       "      <td>0.0</td>\n",
       "      <td>0.0</td>\n",
       "      <td>1.0</td>\n",
       "      <td>0.0</td>\n",
       "      <td>0.0</td>\n",
       "      <td>1.0</td>\n",
       "      <td>65</td>\n",
       "      <td>M</td>\n",
       "      <td>1.0</td>\n",
       "      <td>dlpfc</td>\n",
       "      <td>michigan</td>\n",
       "      <td>&lt;70</td>\n",
       "    </tr>\n",
       "  </tbody>\n",
       "</table>\n",
       "</div>"
      ],
      "text/plain": [
       "    patient  region.ancg  region.cb  region.dlpfc  lab.davis  lab.irvine  \\\n",
       "5      1834          0.0        0.0           1.0        1.0         0.0   \n",
       "27     2169          0.0        0.0           1.0        0.0         0.0   \n",
       "41     2292          0.0        0.0           1.0        0.0         0.0   \n",
       "47     2316          0.0        0.0           1.0        0.0         0.0   \n",
       "53     2619          0.0        0.0           1.0        1.0         0.0   \n",
       "63     2664          0.0        0.0           1.0        1.0         0.0   \n",
       "82     2847          0.0        0.0           1.0        0.0         0.0   \n",
       "88     2861          0.0        0.0           1.0        0.0         0.0   \n",
       "94     2894          0.0        0.0           1.0        0.0         0.0   \n",
       "100    2895          0.0        0.0           1.0        1.0         0.0   \n",
       "241    3519          0.0        0.0           1.0        0.0         0.0   \n",
       "\n",
       "     lab.michigan  age sex  arrayversion region       lab age_group  \n",
       "5             0.0   40   M           2.0  dlpfc     davis       <70  \n",
       "27            1.0   18   M           1.0  dlpfc  michigan       <70  \n",
       "41            1.0   55   M           1.0  dlpfc  michigan       <70  \n",
       "47            1.0   58   M           1.0  dlpfc  michigan       <70  \n",
       "53            0.0   48   M           2.0  dlpfc     davis       <70  \n",
       "63            0.0   43   M           2.0  dlpfc     davis       <70  \n",
       "82            1.0   50   M           1.0  dlpfc  michigan       <70  \n",
       "88            1.0   60   F           1.0  dlpfc  michigan       <70  \n",
       "94            1.0   54   M           1.0  dlpfc  michigan       <70  \n",
       "100           0.0   48   M           2.0  dlpfc     davis       <70  \n",
       "241           1.0   65   M           1.0  dlpfc  michigan       <70  "
      ]
     },
     "execution_count": 112,
     "metadata": {},
     "output_type": "execute_result"
    }
   ],
   "source": [
    "arraymeta_data[arraymeta_data.duplicated()]"
   ]
  },
  {
   "cell_type": "code",
   "execution_count": 113,
   "id": "9ab96c02",
   "metadata": {},
   "outputs": [
    {
     "data": {
      "text/html": [
       "<div>\n",
       "<style scoped>\n",
       "    .dataframe tbody tr th:only-of-type {\n",
       "        vertical-align: middle;\n",
       "    }\n",
       "\n",
       "    .dataframe tbody tr th {\n",
       "        vertical-align: top;\n",
       "    }\n",
       "\n",
       "    .dataframe thead th {\n",
       "        text-align: right;\n",
       "    }\n",
       "</style>\n",
       "<table border=\"1\" class=\"dataframe\">\n",
       "  <thead>\n",
       "    <tr style=\"text-align: right;\">\n",
       "      <th></th>\n",
       "      <th>patient</th>\n",
       "      <th>region.ancg</th>\n",
       "      <th>region.cb</th>\n",
       "      <th>region.dlpfc</th>\n",
       "      <th>lab.davis</th>\n",
       "      <th>lab.irvine</th>\n",
       "      <th>lab.michigan</th>\n",
       "      <th>age</th>\n",
       "      <th>sex</th>\n",
       "      <th>arrayversion</th>\n",
       "      <th>region</th>\n",
       "      <th>lab</th>\n",
       "      <th>age_group</th>\n",
       "    </tr>\n",
       "  </thead>\n",
       "  <tbody>\n",
       "    <tr>\n",
       "      <th>0</th>\n",
       "      <td>1834</td>\n",
       "      <td>1.0</td>\n",
       "      <td>0.0</td>\n",
       "      <td>0.0</td>\n",
       "      <td>0.0</td>\n",
       "      <td>1.0</td>\n",
       "      <td>0.0</td>\n",
       "      <td>40</td>\n",
       "      <td>M</td>\n",
       "      <td>1.0</td>\n",
       "      <td>ancg</td>\n",
       "      <td>irvine</td>\n",
       "      <td>&lt;70</td>\n",
       "    </tr>\n",
       "    <tr>\n",
       "      <th>1</th>\n",
       "      <td>1834</td>\n",
       "      <td>0.0</td>\n",
       "      <td>1.0</td>\n",
       "      <td>0.0</td>\n",
       "      <td>0.0</td>\n",
       "      <td>1.0</td>\n",
       "      <td>0.0</td>\n",
       "      <td>40</td>\n",
       "      <td>M</td>\n",
       "      <td>1.0</td>\n",
       "      <td>cb</td>\n",
       "      <td>irvine</td>\n",
       "      <td>&lt;70</td>\n",
       "    </tr>\n",
       "    <tr>\n",
       "      <th>2</th>\n",
       "      <td>1834</td>\n",
       "      <td>0.0</td>\n",
       "      <td>1.0</td>\n",
       "      <td>0.0</td>\n",
       "      <td>0.0</td>\n",
       "      <td>0.0</td>\n",
       "      <td>1.0</td>\n",
       "      <td>40</td>\n",
       "      <td>M</td>\n",
       "      <td>1.0</td>\n",
       "      <td>cb</td>\n",
       "      <td>michigan</td>\n",
       "      <td>&lt;70</td>\n",
       "    </tr>\n",
       "    <tr>\n",
       "      <th>3</th>\n",
       "      <td>1834</td>\n",
       "      <td>0.0</td>\n",
       "      <td>0.0</td>\n",
       "      <td>1.0</td>\n",
       "      <td>1.0</td>\n",
       "      <td>0.0</td>\n",
       "      <td>0.0</td>\n",
       "      <td>40</td>\n",
       "      <td>M</td>\n",
       "      <td>1.0</td>\n",
       "      <td>dlpfc</td>\n",
       "      <td>davis</td>\n",
       "      <td>&lt;70</td>\n",
       "    </tr>\n",
       "    <tr>\n",
       "      <th>4</th>\n",
       "      <td>1834</td>\n",
       "      <td>0.0</td>\n",
       "      <td>0.0</td>\n",
       "      <td>1.0</td>\n",
       "      <td>1.0</td>\n",
       "      <td>0.0</td>\n",
       "      <td>0.0</td>\n",
       "      <td>40</td>\n",
       "      <td>M</td>\n",
       "      <td>2.0</td>\n",
       "      <td>dlpfc</td>\n",
       "      <td>davis</td>\n",
       "      <td>&lt;70</td>\n",
       "    </tr>\n",
       "    <tr>\n",
       "      <th>5</th>\n",
       "      <td>1834</td>\n",
       "      <td>0.0</td>\n",
       "      <td>0.0</td>\n",
       "      <td>1.0</td>\n",
       "      <td>1.0</td>\n",
       "      <td>0.0</td>\n",
       "      <td>0.0</td>\n",
       "      <td>40</td>\n",
       "      <td>M</td>\n",
       "      <td>2.0</td>\n",
       "      <td>dlpfc</td>\n",
       "      <td>davis</td>\n",
       "      <td>&lt;70</td>\n",
       "    </tr>\n",
       "    <tr>\n",
       "      <th>6</th>\n",
       "      <td>1834</td>\n",
       "      <td>0.0</td>\n",
       "      <td>0.0</td>\n",
       "      <td>1.0</td>\n",
       "      <td>0.0</td>\n",
       "      <td>1.0</td>\n",
       "      <td>0.0</td>\n",
       "      <td>40</td>\n",
       "      <td>M</td>\n",
       "      <td>1.0</td>\n",
       "      <td>dlpfc</td>\n",
       "      <td>irvine</td>\n",
       "      <td>&lt;70</td>\n",
       "    </tr>\n",
       "    <tr>\n",
       "      <th>7</th>\n",
       "      <td>1834</td>\n",
       "      <td>0.0</td>\n",
       "      <td>0.0</td>\n",
       "      <td>1.0</td>\n",
       "      <td>0.0</td>\n",
       "      <td>0.0</td>\n",
       "      <td>1.0</td>\n",
       "      <td>40</td>\n",
       "      <td>M</td>\n",
       "      <td>1.0</td>\n",
       "      <td>dlpfc</td>\n",
       "      <td>michigan</td>\n",
       "      <td>&lt;70</td>\n",
       "    </tr>\n",
       "  </tbody>\n",
       "</table>\n",
       "</div>"
      ],
      "text/plain": [
       "  patient  region.ancg  region.cb  region.dlpfc  lab.davis  lab.irvine  \\\n",
       "0    1834          1.0        0.0           0.0        0.0         1.0   \n",
       "1    1834          0.0        1.0           0.0        0.0         1.0   \n",
       "2    1834          0.0        1.0           0.0        0.0         0.0   \n",
       "3    1834          0.0        0.0           1.0        1.0         0.0   \n",
       "4    1834          0.0        0.0           1.0        1.0         0.0   \n",
       "5    1834          0.0        0.0           1.0        1.0         0.0   \n",
       "6    1834          0.0        0.0           1.0        0.0         1.0   \n",
       "7    1834          0.0        0.0           1.0        0.0         0.0   \n",
       "\n",
       "   lab.michigan  age sex  arrayversion region       lab age_group  \n",
       "0           0.0   40   M           1.0   ancg    irvine       <70  \n",
       "1           0.0   40   M           1.0     cb    irvine       <70  \n",
       "2           1.0   40   M           1.0     cb  michigan       <70  \n",
       "3           0.0   40   M           1.0  dlpfc     davis       <70  \n",
       "4           0.0   40   M           2.0  dlpfc     davis       <70  \n",
       "5           0.0   40   M           2.0  dlpfc     davis       <70  \n",
       "6           0.0   40   M           1.0  dlpfc    irvine       <70  \n",
       "7           1.0   40   M           1.0  dlpfc  michigan       <70  "
      ]
     },
     "execution_count": 113,
     "metadata": {},
     "output_type": "execute_result"
    }
   ],
   "source": [
    "arraymeta_data[arraymeta_data[\"patient\"] == '1834']"
   ]
  },
  {
   "cell_type": "code",
   "execution_count": 114,
   "id": "ec61d363",
   "metadata": {},
   "outputs": [],
   "source": [
    "covariate_data = arraymeta_data[[\"age\", \"sex\", \"arrayversion\", \"region\", \"lab\", \"age_group\"]]"
   ]
  },
  {
   "cell_type": "code",
   "execution_count": 115,
   "id": "491ab944",
   "metadata": {},
   "outputs": [
    {
     "data": {
      "text/html": [
       "<div>\n",
       "<style scoped>\n",
       "    .dataframe tbody tr th:only-of-type {\n",
       "        vertical-align: middle;\n",
       "    }\n",
       "\n",
       "    .dataframe tbody tr th {\n",
       "        vertical-align: top;\n",
       "    }\n",
       "\n",
       "    .dataframe thead th {\n",
       "        text-align: right;\n",
       "    }\n",
       "</style>\n",
       "<table border=\"1\" class=\"dataframe\">\n",
       "  <thead>\n",
       "    <tr style=\"text-align: right;\">\n",
       "      <th></th>\n",
       "      <th>age</th>\n",
       "      <th>sex</th>\n",
       "      <th>arrayversion</th>\n",
       "      <th>region</th>\n",
       "      <th>lab</th>\n",
       "      <th>age_group</th>\n",
       "    </tr>\n",
       "  </thead>\n",
       "  <tbody>\n",
       "    <tr>\n",
       "      <th>0</th>\n",
       "      <td>40</td>\n",
       "      <td>M</td>\n",
       "      <td>1.0</td>\n",
       "      <td>ancg</td>\n",
       "      <td>irvine</td>\n",
       "      <td>&lt;70</td>\n",
       "    </tr>\n",
       "    <tr>\n",
       "      <th>1</th>\n",
       "      <td>40</td>\n",
       "      <td>M</td>\n",
       "      <td>1.0</td>\n",
       "      <td>cb</td>\n",
       "      <td>irvine</td>\n",
       "      <td>&lt;70</td>\n",
       "    </tr>\n",
       "    <tr>\n",
       "      <th>2</th>\n",
       "      <td>40</td>\n",
       "      <td>M</td>\n",
       "      <td>1.0</td>\n",
       "      <td>cb</td>\n",
       "      <td>michigan</td>\n",
       "      <td>&lt;70</td>\n",
       "    </tr>\n",
       "    <tr>\n",
       "      <th>3</th>\n",
       "      <td>40</td>\n",
       "      <td>M</td>\n",
       "      <td>1.0</td>\n",
       "      <td>dlpfc</td>\n",
       "      <td>davis</td>\n",
       "      <td>&lt;70</td>\n",
       "    </tr>\n",
       "    <tr>\n",
       "      <th>4</th>\n",
       "      <td>40</td>\n",
       "      <td>M</td>\n",
       "      <td>2.0</td>\n",
       "      <td>dlpfc</td>\n",
       "      <td>davis</td>\n",
       "      <td>&lt;70</td>\n",
       "    </tr>\n",
       "    <tr>\n",
       "      <th>...</th>\n",
       "      <td>...</td>\n",
       "      <td>...</td>\n",
       "      <td>...</td>\n",
       "      <td>...</td>\n",
       "      <td>...</td>\n",
       "      <td>...</td>\n",
       "    </tr>\n",
       "    <tr>\n",
       "      <th>381</th>\n",
       "      <td>63</td>\n",
       "      <td>M</td>\n",
       "      <td>2.0</td>\n",
       "      <td>ancg</td>\n",
       "      <td>michigan</td>\n",
       "      <td>&lt;70</td>\n",
       "    </tr>\n",
       "    <tr>\n",
       "      <th>382</th>\n",
       "      <td>63</td>\n",
       "      <td>M</td>\n",
       "      <td>2.0</td>\n",
       "      <td>dlpfc</td>\n",
       "      <td>michigan</td>\n",
       "      <td>&lt;70</td>\n",
       "    </tr>\n",
       "    <tr>\n",
       "      <th>383</th>\n",
       "      <td>64</td>\n",
       "      <td>M</td>\n",
       "      <td>2.0</td>\n",
       "      <td>ancg</td>\n",
       "      <td>irvine</td>\n",
       "      <td>&lt;70</td>\n",
       "    </tr>\n",
       "    <tr>\n",
       "      <th>384</th>\n",
       "      <td>64</td>\n",
       "      <td>M</td>\n",
       "      <td>2.0</td>\n",
       "      <td>ancg</td>\n",
       "      <td>michigan</td>\n",
       "      <td>&lt;70</td>\n",
       "    </tr>\n",
       "    <tr>\n",
       "      <th>385</th>\n",
       "      <td>64</td>\n",
       "      <td>M</td>\n",
       "      <td>2.0</td>\n",
       "      <td>dlpfc</td>\n",
       "      <td>michigan</td>\n",
       "      <td>&lt;70</td>\n",
       "    </tr>\n",
       "  </tbody>\n",
       "</table>\n",
       "<p>386 rows × 6 columns</p>\n",
       "</div>"
      ],
      "text/plain": [
       "     age sex  arrayversion region       lab age_group\n",
       "0     40   M           1.0   ancg    irvine       <70\n",
       "1     40   M           1.0     cb    irvine       <70\n",
       "2     40   M           1.0     cb  michigan       <70\n",
       "3     40   M           1.0  dlpfc     davis       <70\n",
       "4     40   M           2.0  dlpfc     davis       <70\n",
       "..   ...  ..           ...    ...       ...       ...\n",
       "381   63   M           2.0   ancg  michigan       <70\n",
       "382   63   M           2.0  dlpfc  michigan       <70\n",
       "383   64   M           2.0   ancg    irvine       <70\n",
       "384   64   M           2.0   ancg  michigan       <70\n",
       "385   64   M           2.0  dlpfc  michigan       <70\n",
       "\n",
       "[386 rows x 6 columns]"
      ]
     },
     "execution_count": 115,
     "metadata": {},
     "output_type": "execute_result"
    }
   ],
   "source": [
    "covariate_data"
   ]
  },
  {
   "cell_type": "code",
   "execution_count": 116,
   "id": "11dafe47",
   "metadata": {},
   "outputs": [],
   "source": [
    "transposed_expression = expression_data.T"
   ]
  },
  {
   "cell_type": "code",
   "execution_count": 117,
   "id": "885c06a5",
   "metadata": {},
   "outputs": [],
   "source": [
    "transposed_expression.to_csv('../data/processed_data/expression.csv')"
   ]
  },
  {
   "cell_type": "code",
   "execution_count": 118,
   "id": "1a4266f4",
   "metadata": {},
   "outputs": [],
   "source": [
    "covariate_data.to_csv('../data/processed_data/covariates.csv')"
   ]
  },
  {
   "cell_type": "markdown",
   "id": "c6062923-d2f5-4deb-bc82-19d433b41bb8",
   "metadata": {},
   "source": [
    "## Exploring Expression Rates"
   ]
  },
  {
   "cell_type": "code",
   "execution_count": 119,
   "id": "8bd04310-dac0-4cd7-9da8-899a92ac870d",
   "metadata": {},
   "outputs": [],
   "source": [
    "# Expression data, no controls\n",
    "expression_data_NC = expression_data.loc[:, ~expression_data.columns.str.startswith('AFFX-')]"
   ]
  },
  {
   "cell_type": "markdown",
   "id": "d5551d29-6177-4f38-82f3-12b8c21324ad",
   "metadata": {},
   "source": [
    "### PCA"
   ]
  },
  {
   "cell_type": "code",
   "execution_count": 120,
   "id": "c02f9fd9-178e-493b-a1df-b120bcf887e4",
   "metadata": {},
   "outputs": [],
   "source": [
    "# Separating out target (for this case, region and lab)\n",
    "brain_region_lab_target = arraymeta_data[['region', 'lab']]"
   ]
  },
  {
   "cell_type": "code",
   "execution_count": 121,
   "id": "1ca2e5f4-8241-4bf7-9b7c-ff755e42f61a",
   "metadata": {},
   "outputs": [],
   "source": [
    "# Standardize the features\n",
    "X_expression_NC = StandardScaler().fit_transform(expression_data_NC)"
   ]
  },
  {
   "cell_type": "code",
   "execution_count": 122,
   "id": "d18e293f-82da-4cbe-b5be-3caa3dc21210",
   "metadata": {},
   "outputs": [],
   "source": [
    "# Setting number of principal components\n",
    "pca = PCA(n_components = 50)"
   ]
  },
  {
   "cell_type": "code",
   "execution_count": 123,
   "id": "278dcf74-d735-41e1-ad53-ae5983bb2a14",
   "metadata": {},
   "outputs": [],
   "source": [
    "# Extracting principal components\n",
    "principalComponents = pca.fit_transform(X_expression_NC)"
   ]
  },
  {
   "cell_type": "code",
   "execution_count": 124,
   "id": "373c77e1",
   "metadata": {},
   "outputs": [
    {
     "data": {
      "text/plain": [
       "np.float64(0.9217974348540379)"
      ]
     },
     "execution_count": 124,
     "metadata": {},
     "output_type": "execute_result"
    }
   ],
   "source": [
    "# Proportion of variance explained\n",
    "sum((pca.explained_variance_ / sum(pca.explained_variance_))[0:2])"
   ]
  },
  {
   "cell_type": "code",
   "execution_count": 125,
   "id": "326cf213-eef5-4660-9049-d447c0b763f3",
   "metadata": {},
   "outputs": [
    {
     "data": {
      "text/html": [
       "<div>\n",
       "<style scoped>\n",
       "    .dataframe tbody tr th:only-of-type {\n",
       "        vertical-align: middle;\n",
       "    }\n",
       "\n",
       "    .dataframe tbody tr th {\n",
       "        vertical-align: top;\n",
       "    }\n",
       "\n",
       "    .dataframe thead th {\n",
       "        text-align: right;\n",
       "    }\n",
       "</style>\n",
       "<table border=\"1\" class=\"dataframe\">\n",
       "  <thead>\n",
       "    <tr style=\"text-align: right;\">\n",
       "      <th></th>\n",
       "      <th>0</th>\n",
       "      <th>1</th>\n",
       "      <th>2</th>\n",
       "      <th>3</th>\n",
       "      <th>4</th>\n",
       "      <th>5</th>\n",
       "      <th>6</th>\n",
       "      <th>7</th>\n",
       "      <th>8</th>\n",
       "      <th>9</th>\n",
       "      <th>...</th>\n",
       "      <th>42</th>\n",
       "      <th>43</th>\n",
       "      <th>44</th>\n",
       "      <th>45</th>\n",
       "      <th>46</th>\n",
       "      <th>47</th>\n",
       "      <th>48</th>\n",
       "      <th>49</th>\n",
       "      <th>region</th>\n",
       "      <th>lab</th>\n",
       "    </tr>\n",
       "  </thead>\n",
       "  <tbody>\n",
       "    <tr>\n",
       "      <th>0</th>\n",
       "      <td>-241.394620</td>\n",
       "      <td>8.389363</td>\n",
       "      <td>-0.044469</td>\n",
       "      <td>-12.885234</td>\n",
       "      <td>-2.581314</td>\n",
       "      <td>-3.055921</td>\n",
       "      <td>-14.431948</td>\n",
       "      <td>-2.148429</td>\n",
       "      <td>4.896703</td>\n",
       "      <td>7.348052</td>\n",
       "      <td>...</td>\n",
       "      <td>-0.277719</td>\n",
       "      <td>2.544893</td>\n",
       "      <td>0.831457</td>\n",
       "      <td>-0.459610</td>\n",
       "      <td>1.687020</td>\n",
       "      <td>2.746637</td>\n",
       "      <td>1.084731</td>\n",
       "      <td>0.747584</td>\n",
       "      <td>ancg</td>\n",
       "      <td>irvine</td>\n",
       "    </tr>\n",
       "    <tr>\n",
       "      <th>1</th>\n",
       "      <td>-324.430258</td>\n",
       "      <td>-10.076295</td>\n",
       "      <td>37.329415</td>\n",
       "      <td>-10.567751</td>\n",
       "      <td>10.350082</td>\n",
       "      <td>0.796032</td>\n",
       "      <td>-20.941473</td>\n",
       "      <td>-4.337130</td>\n",
       "      <td>-1.204543</td>\n",
       "      <td>-1.212140</td>\n",
       "      <td>...</td>\n",
       "      <td>0.827207</td>\n",
       "      <td>-0.808318</td>\n",
       "      <td>-0.652685</td>\n",
       "      <td>2.310083</td>\n",
       "      <td>0.311161</td>\n",
       "      <td>0.375187</td>\n",
       "      <td>2.016081</td>\n",
       "      <td>-0.371923</td>\n",
       "      <td>cb</td>\n",
       "      <td>irvine</td>\n",
       "    </tr>\n",
       "    <tr>\n",
       "      <th>2</th>\n",
       "      <td>-31.354534</td>\n",
       "      <td>-20.218450</td>\n",
       "      <td>27.855337</td>\n",
       "      <td>16.860970</td>\n",
       "      <td>5.221065</td>\n",
       "      <td>-2.054197</td>\n",
       "      <td>6.708242</td>\n",
       "      <td>-0.435252</td>\n",
       "      <td>3.779758</td>\n",
       "      <td>1.829315</td>\n",
       "      <td>...</td>\n",
       "      <td>2.426772</td>\n",
       "      <td>1.753640</td>\n",
       "      <td>0.146135</td>\n",
       "      <td>1.281135</td>\n",
       "      <td>1.009171</td>\n",
       "      <td>0.278942</td>\n",
       "      <td>1.686265</td>\n",
       "      <td>1.146434</td>\n",
       "      <td>cb</td>\n",
       "      <td>michigan</td>\n",
       "    </tr>\n",
       "    <tr>\n",
       "      <th>3</th>\n",
       "      <td>-124.381406</td>\n",
       "      <td>31.720574</td>\n",
       "      <td>-2.241897</td>\n",
       "      <td>-0.279448</td>\n",
       "      <td>-21.087420</td>\n",
       "      <td>-3.231646</td>\n",
       "      <td>-8.064244</td>\n",
       "      <td>-1.411616</td>\n",
       "      <td>-11.896375</td>\n",
       "      <td>-4.504296</td>\n",
       "      <td>...</td>\n",
       "      <td>0.145181</td>\n",
       "      <td>-0.868179</td>\n",
       "      <td>0.602798</td>\n",
       "      <td>-1.451823</td>\n",
       "      <td>0.367481</td>\n",
       "      <td>1.579427</td>\n",
       "      <td>3.040097</td>\n",
       "      <td>0.720119</td>\n",
       "      <td>dlpfc</td>\n",
       "      <td>davis</td>\n",
       "    </tr>\n",
       "    <tr>\n",
       "      <th>4</th>\n",
       "      <td>134.635472</td>\n",
       "      <td>25.228737</td>\n",
       "      <td>-4.712797</td>\n",
       "      <td>-18.630727</td>\n",
       "      <td>-11.384066</td>\n",
       "      <td>-8.069399</td>\n",
       "      <td>6.833284</td>\n",
       "      <td>7.110003</td>\n",
       "      <td>-14.782842</td>\n",
       "      <td>-3.171622</td>\n",
       "      <td>...</td>\n",
       "      <td>-0.378978</td>\n",
       "      <td>-3.624723</td>\n",
       "      <td>0.020226</td>\n",
       "      <td>0.583561</td>\n",
       "      <td>-1.572553</td>\n",
       "      <td>6.302515</td>\n",
       "      <td>3.076313</td>\n",
       "      <td>4.169986</td>\n",
       "      <td>dlpfc</td>\n",
       "      <td>davis</td>\n",
       "    </tr>\n",
       "    <tr>\n",
       "      <th>...</th>\n",
       "      <td>...</td>\n",
       "      <td>...</td>\n",
       "      <td>...</td>\n",
       "      <td>...</td>\n",
       "      <td>...</td>\n",
       "      <td>...</td>\n",
       "      <td>...</td>\n",
       "      <td>...</td>\n",
       "      <td>...</td>\n",
       "      <td>...</td>\n",
       "      <td>...</td>\n",
       "      <td>...</td>\n",
       "      <td>...</td>\n",
       "      <td>...</td>\n",
       "      <td>...</td>\n",
       "      <td>...</td>\n",
       "      <td>...</td>\n",
       "      <td>...</td>\n",
       "      <td>...</td>\n",
       "      <td>...</td>\n",
       "      <td>...</td>\n",
       "    </tr>\n",
       "    <tr>\n",
       "      <th>381</th>\n",
       "      <td>49.243013</td>\n",
       "      <td>0.321841</td>\n",
       "      <td>-21.112378</td>\n",
       "      <td>-1.725965</td>\n",
       "      <td>20.123499</td>\n",
       "      <td>-6.622513</td>\n",
       "      <td>2.019680</td>\n",
       "      <td>-2.926181</td>\n",
       "      <td>-4.474775</td>\n",
       "      <td>6.585415</td>\n",
       "      <td>...</td>\n",
       "      <td>-3.612652</td>\n",
       "      <td>0.440550</td>\n",
       "      <td>0.604790</td>\n",
       "      <td>-0.130609</td>\n",
       "      <td>1.963917</td>\n",
       "      <td>-0.784680</td>\n",
       "      <td>-0.976142</td>\n",
       "      <td>1.073066</td>\n",
       "      <td>ancg</td>\n",
       "      <td>michigan</td>\n",
       "    </tr>\n",
       "    <tr>\n",
       "      <th>382</th>\n",
       "      <td>61.321936</td>\n",
       "      <td>17.044585</td>\n",
       "      <td>-14.799379</td>\n",
       "      <td>-13.042483</td>\n",
       "      <td>21.100090</td>\n",
       "      <td>-7.147367</td>\n",
       "      <td>6.204183</td>\n",
       "      <td>-10.142043</td>\n",
       "      <td>-4.832194</td>\n",
       "      <td>-1.425637</td>\n",
       "      <td>...</td>\n",
       "      <td>-2.218807</td>\n",
       "      <td>-1.797395</td>\n",
       "      <td>0.984807</td>\n",
       "      <td>-0.689681</td>\n",
       "      <td>0.913193</td>\n",
       "      <td>-0.211563</td>\n",
       "      <td>0.591258</td>\n",
       "      <td>1.824673</td>\n",
       "      <td>dlpfc</td>\n",
       "      <td>michigan</td>\n",
       "    </tr>\n",
       "    <tr>\n",
       "      <th>383</th>\n",
       "      <td>97.064292</td>\n",
       "      <td>33.355602</td>\n",
       "      <td>-10.021014</td>\n",
       "      <td>-18.427506</td>\n",
       "      <td>1.782453</td>\n",
       "      <td>1.041464</td>\n",
       "      <td>-5.732291</td>\n",
       "      <td>-0.345489</td>\n",
       "      <td>12.595078</td>\n",
       "      <td>13.237270</td>\n",
       "      <td>...</td>\n",
       "      <td>2.977764</td>\n",
       "      <td>-0.496929</td>\n",
       "      <td>-0.234501</td>\n",
       "      <td>-1.398029</td>\n",
       "      <td>0.254099</td>\n",
       "      <td>3.041907</td>\n",
       "      <td>-3.751911</td>\n",
       "      <td>1.597053</td>\n",
       "      <td>ancg</td>\n",
       "      <td>irvine</td>\n",
       "    </tr>\n",
       "    <tr>\n",
       "      <th>384</th>\n",
       "      <td>64.008859</td>\n",
       "      <td>-1.617070</td>\n",
       "      <td>-18.729140</td>\n",
       "      <td>-11.610589</td>\n",
       "      <td>23.017516</td>\n",
       "      <td>-7.669948</td>\n",
       "      <td>-2.200760</td>\n",
       "      <td>-6.846546</td>\n",
       "      <td>-8.208843</td>\n",
       "      <td>6.451569</td>\n",
       "      <td>...</td>\n",
       "      <td>0.726178</td>\n",
       "      <td>0.797144</td>\n",
       "      <td>0.323871</td>\n",
       "      <td>0.983401</td>\n",
       "      <td>-0.499271</td>\n",
       "      <td>-1.602294</td>\n",
       "      <td>-2.769426</td>\n",
       "      <td>1.173611</td>\n",
       "      <td>ancg</td>\n",
       "      <td>michigan</td>\n",
       "    </tr>\n",
       "    <tr>\n",
       "      <th>385</th>\n",
       "      <td>9.917301</td>\n",
       "      <td>24.440333</td>\n",
       "      <td>-12.684058</td>\n",
       "      <td>-14.163036</td>\n",
       "      <td>21.930372</td>\n",
       "      <td>-3.823641</td>\n",
       "      <td>5.802057</td>\n",
       "      <td>-12.582509</td>\n",
       "      <td>-4.787267</td>\n",
       "      <td>-1.167947</td>\n",
       "      <td>...</td>\n",
       "      <td>-2.006867</td>\n",
       "      <td>-1.975339</td>\n",
       "      <td>1.686858</td>\n",
       "      <td>-2.239004</td>\n",
       "      <td>0.168430</td>\n",
       "      <td>0.169483</td>\n",
       "      <td>-0.078776</td>\n",
       "      <td>2.929570</td>\n",
       "      <td>dlpfc</td>\n",
       "      <td>michigan</td>\n",
       "    </tr>\n",
       "  </tbody>\n",
       "</table>\n",
       "<p>386 rows × 52 columns</p>\n",
       "</div>"
      ],
      "text/plain": [
       "              0          1          2          3          4         5  \\\n",
       "0   -241.394620   8.389363  -0.044469 -12.885234  -2.581314 -3.055921   \n",
       "1   -324.430258 -10.076295  37.329415 -10.567751  10.350082  0.796032   \n",
       "2    -31.354534 -20.218450  27.855337  16.860970   5.221065 -2.054197   \n",
       "3   -124.381406  31.720574  -2.241897  -0.279448 -21.087420 -3.231646   \n",
       "4    134.635472  25.228737  -4.712797 -18.630727 -11.384066 -8.069399   \n",
       "..          ...        ...        ...        ...        ...       ...   \n",
       "381   49.243013   0.321841 -21.112378  -1.725965  20.123499 -6.622513   \n",
       "382   61.321936  17.044585 -14.799379 -13.042483  21.100090 -7.147367   \n",
       "383   97.064292  33.355602 -10.021014 -18.427506   1.782453  1.041464   \n",
       "384   64.008859  -1.617070 -18.729140 -11.610589  23.017516 -7.669948   \n",
       "385    9.917301  24.440333 -12.684058 -14.163036  21.930372 -3.823641   \n",
       "\n",
       "             6          7          8          9  ...        42        43  \\\n",
       "0   -14.431948  -2.148429   4.896703   7.348052  ... -0.277719  2.544893   \n",
       "1   -20.941473  -4.337130  -1.204543  -1.212140  ...  0.827207 -0.808318   \n",
       "2     6.708242  -0.435252   3.779758   1.829315  ...  2.426772  1.753640   \n",
       "3    -8.064244  -1.411616 -11.896375  -4.504296  ...  0.145181 -0.868179   \n",
       "4     6.833284   7.110003 -14.782842  -3.171622  ... -0.378978 -3.624723   \n",
       "..         ...        ...        ...        ...  ...       ...       ...   \n",
       "381   2.019680  -2.926181  -4.474775   6.585415  ... -3.612652  0.440550   \n",
       "382   6.204183 -10.142043  -4.832194  -1.425637  ... -2.218807 -1.797395   \n",
       "383  -5.732291  -0.345489  12.595078  13.237270  ...  2.977764 -0.496929   \n",
       "384  -2.200760  -6.846546  -8.208843   6.451569  ...  0.726178  0.797144   \n",
       "385   5.802057 -12.582509  -4.787267  -1.167947  ... -2.006867 -1.975339   \n",
       "\n",
       "           44        45        46        47        48        49  region  \\\n",
       "0    0.831457 -0.459610  1.687020  2.746637  1.084731  0.747584    ancg   \n",
       "1   -0.652685  2.310083  0.311161  0.375187  2.016081 -0.371923      cb   \n",
       "2    0.146135  1.281135  1.009171  0.278942  1.686265  1.146434      cb   \n",
       "3    0.602798 -1.451823  0.367481  1.579427  3.040097  0.720119   dlpfc   \n",
       "4    0.020226  0.583561 -1.572553  6.302515  3.076313  4.169986   dlpfc   \n",
       "..        ...       ...       ...       ...       ...       ...     ...   \n",
       "381  0.604790 -0.130609  1.963917 -0.784680 -0.976142  1.073066    ancg   \n",
       "382  0.984807 -0.689681  0.913193 -0.211563  0.591258  1.824673   dlpfc   \n",
       "383 -0.234501 -1.398029  0.254099  3.041907 -3.751911  1.597053    ancg   \n",
       "384  0.323871  0.983401 -0.499271 -1.602294 -2.769426  1.173611    ancg   \n",
       "385  1.686858 -2.239004  0.168430  0.169483 -0.078776  2.929570   dlpfc   \n",
       "\n",
       "          lab  \n",
       "0      irvine  \n",
       "1      irvine  \n",
       "2    michigan  \n",
       "3       davis  \n",
       "4       davis  \n",
       "..        ...  \n",
       "381  michigan  \n",
       "382  michigan  \n",
       "383    irvine  \n",
       "384  michigan  \n",
       "385  michigan  \n",
       "\n",
       "[386 rows x 52 columns]"
      ]
     },
     "execution_count": 125,
     "metadata": {},
     "output_type": "execute_result"
    }
   ],
   "source": [
    "PC_df = pd.DataFrame(data = principalComponents)\n",
    "final_PC_df = pd.concat([PC_df, brain_region_lab_target], axis = 1)\n",
    "final_PC_df"
   ]
  },
  {
   "cell_type": "code",
   "execution_count": 126,
   "id": "1f8ce123",
   "metadata": {},
   "outputs": [],
   "source": [
    "# Renaming columns\n",
    "n = min(50, final_PC_df.shape[1])  # just in case there are < 50 cols\n",
    "new_names = {old: f\"PC{i+1}\" for i, old in enumerate(final_PC_df.columns[:n])}\n",
    "final_PC_df = final_PC_df.rename(columns=new_names)"
   ]
  },
  {
   "cell_type": "markdown",
   "id": "819a2941",
   "metadata": {},
   "source": [
    "### ---------------------------- First two PCs by Lab, Region -----------------------------------"
   ]
  },
  {
   "cell_type": "code",
   "execution_count": 127,
   "id": "0e15b3be",
   "metadata": {},
   "outputs": [
    {
     "data": {
      "application/vnd.jupyter.widget-view+json": {
       "model_id": "270966188fe24eb29e9c538159d86cb5",
       "version_major": 2,
       "version_minor": 0
      },
      "image/png": "[encoded data removed]",
      "text/html": [
       "\n",
       "            <div style=\"display: inline-block;\">\n",
       "                <div class=\"jupyter-widgets widget-label\" style=\"text-align: center;\">\n",
       "                    Figure\n",
       "                </div>\n",
       "                <img src='data:image/png;base64,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' width=700.0/>\n",
       "            </div>\n",
       "        "
      ],
      "text/plain": [
       "Canvas(toolbar=Toolbar(toolitems=[('Home', 'Reset original view', 'home', 'home'), ('Back', 'Back to previous …"
      ]
     },
     "metadata": {},
     "output_type": "display_data"
    }
   ],
   "source": [
    "df = final_PC_df.copy()\n",
    "\n",
    "# infer PC columns\n",
    "pc_cols = [c for c in df.columns if c.startswith(\"PC\")]\n",
    "assert {\"lab\",\"region\"}.issubset(df.columns)\n",
    "assert {\"PC1\",\"PC2\"}.issubset(pc_cols), \"Need PC1 and PC2 in final_PC_df\"\n",
    "\n",
    "labs = df[\"lab\"].astype(\"category\")\n",
    "regs = df[\"region\"].astype(\"category\")\n",
    "\n",
    "# simple color/marker maps\n",
    "colors = dict(zip(labs.cat.categories, plt.cm.tab10.colors[:len(labs.cat.categories)]))\n",
    "markers = dict(zip(regs.cat.categories, ['o','s','^','D','P','X','v'][:len(regs.cat.categories)]))\n",
    "\n",
    "fig, ax = plt.subplots(figsize=(7,6))\n",
    "for lab_val in labs.cat.categories:\n",
    "    for reg_val in regs.cat.categories:\n",
    "        m = (labs == lab_val) & (regs == reg_val)\n",
    "        if not m.any(): \n",
    "            continue\n",
    "        ax.scatter(df.loc[m, \"PC1\"], df.loc[m, \"PC2\"],\n",
    "                   c=[colors[lab_val]], marker=markers[reg_val],\n",
    "                   s=40, alpha=0.9, edgecolors='none')\n",
    "\n",
    "ax.set_xlabel(\"PC1\"); ax.set_ylabel(\"PC2\"); ax.set_title(\"First two PCs separated by Lab and Region\")\n",
    "ax.grid(True, linewidth=0.3)\n",
    "\n",
    "# separate legends for lab (colors) and region (markers)\n",
    "from matplotlib.lines import Line2D\n",
    "lab_handles = [Line2D([0],[0], marker='o', color='w', label=lab,\n",
    "                      markerfacecolor=colors[lab], markersize=8) \n",
    "               for lab in labs.cat.categories]\n",
    "reg_handles = [Line2D([0],[0], marker=markers[r], color='k', linestyle='None', label=r) \n",
    "               for r in regs.cat.categories]\n",
    "leg1 = ax.legend(handles=lab_handles, title=\"Lab\", loc=\"best\", frameon=False)\n",
    "ax.add_artist(leg1)\n",
    "ax.legend(handles=reg_handles, title=\"Region\", loc=\"lower right\", frameon=False)\n",
    "plt.tight_layout(); plt.show()\n"
   ]
  },
  {
   "cell_type": "code",
   "execution_count": 128,
   "id": "2e22846b",
   "metadata": {},
   "outputs": [],
   "source": [
    "mods = df[[\"PC1\",\"PC2\",\"lab\",\"region\"]].copy()\n",
    "mods[\"lab\"] = mods[\"lab\"].astype(\"category\")\n",
    "mods[\"region\"] = mods[\"region\"].astype(\"category\")"
   ]
  },
  {
   "cell_type": "code",
   "execution_count": 129,
   "id": "ce75badd",
   "metadata": {},
   "outputs": [
    {
     "name": "stdout",
     "output_type": "stream",
     "text": [
      "\n",
      "ANOVA for PC1:\n",
      "                 sum_sq     df          F        PR(>F)\n",
      "C(lab)     1.616594e+04    2.0   0.470805  6.248621e-01\n",
      "C(region)  5.380387e+05    2.0  15.669452  2.885769e-07\n",
      "Residual   6.541159e+06  381.0        NaN           NaN\n",
      "\n",
      "ANOVA for PC2:\n",
      "                  sum_sq     df          F    PR(>F)\n",
      "C(lab)      20727.743920    2.0  13.959438  0.000001\n",
      "C(region)   19613.606770    2.0  13.209104  0.000003\n",
      "Residual   282864.912718  381.0        NaN       NaN\n"
     ]
    }
   ],
   "source": [
    "for comp in [\"PC1\",\"PC2\"]:\n",
    "    m = ols(f\"{comp} ~ C(lab) + C(region)\", data=mods).fit()\n",
    "    print(f\"\\nANOVA for {comp}:\")\n",
    "    print(anova_lm(m, typ=2))"
   ]
  },
  {
   "cell_type": "markdown",
   "id": "e7d35b7c",
   "metadata": {},
   "source": [
    "### ---------------------------------------- PCs by Lab -------------------------------------------"
   ]
  },
  {
   "cell_type": "code",
   "execution_count": 130,
   "id": "dae6c636",
   "metadata": {},
   "outputs": [
    {
     "data": {
      "application/vnd.plotly.v1+json": {
       "config": {
        "plotlyServerURL": "https://plot.ly"
       },
       "data": [
        {
         "hovertemplate": "lab=davis<br>PC1=%{x}<br>PC2=%{y}<br>PC3=%{z}<extra></extra>",
         "legendgroup": "davis",
         "marker": {
          "color": "#636efa",
          "opacity": 0.85,
          "size": 4,
          "symbol": "circle"
         },
         "mode": "markers",
         "name": "davis",
         "scene": "scene",
         "showlegend": true,
         "type": "scatter3d",
         "x": {
          "bdata": "Ek/F9GgYX8B8h3/IVdRgQB7Bv5fF7lDAfLG1PaFLXMDNRd2aOt1gwEL04lQ3yFXAqiO2pvtmUMCprbkaClJbwPPla8t/d17AhDQH/8F1VMCkFgHsK/BVwKp/SwaKeWHAsgSj7PA1KECRo6gJ8itQwBbCeTKSLFPAA63nR7XZXcCx7gvBkN1RQDLrt7qfB1DAzuVFj6siZMD8ybPsEZdSwLCM2nGBoWbAIY/Ge4cEQsBemU14ZdNXwEpYU+1E8lbAPlLWepJZXEBK+aGU/xxAwCyTsiNktGLATb2NNBoUYcCtE/Vjn5tgwBQEcneqlSPAbRlUUnZBWkAj1ZPoZLdOwGjBCJO8umhAUB86UG1IRcCkBWVHepf/P+JZCNpeHFFAsphIncx2TkDP3GPITYFYQMLVyfrJf0jA9SGkkCZLPEB63Nh1gH9jwBYNVYSuxFjAayzYduSsX8DSCI1cDgtJQPcpF7uUx1fAZaz25BTjQ8C2brv6wwxOQD9qG0HGk0VAGvjuLxMuTUBxqBaN5XtiQOYw8qB78URAJtzEfIa+VsCDHflq6vhgQO70sRzmS0NAy0VTiBMDL8B/p2Q95wViwPYrYfbdiEdARloE1K7PXkAJ+EMOUJY1wEFANwXK+SXAcFVGk5vWRsB21EI09DNFwNrR4T8wA01Ao7U9iGk+MECnmof3YFpPwFOEKanZbBjAYkg0vFNkZ8D9DSgVjV5WwLu3l42myDjAN/fCU+/MPEBU3+o9XIZQwMm9r68K/VTAgW5ICnZFUkB8vhV8cWRfwIbJpaPmnD/AcJ69qpUBHsBFpERTjBhIQAZOPLuhvjdAMisye+yALUD8Qm0JHAVGwHLGRiijeEfARUOkb7A1FMCG7T4WkBtIQP0dA7eLhSrAk8fplG4OTcASbvWrJfA0QDpnPezBbjvAAeIWJegVRkAjmiEjo4FAQHsTBD9d3GTAWzSHy+OSUECi2PvUSwxVQE2CPfqKs0RAUrzYaJ3+bMDM6H0Gh+YyQLh0AgE0YW/AzuPRAs0aZsCoDPg1E4NpwN9m7F5KOG3AbOF1SMCTbsBljAJJcv1uwG3p5SYTkGbAPTz9HdErQ8BloOCSfRprwOkn069mpVjAld6YzMWdbcA=",
          "dtype": "f8"
         },
         "y": {
          "bdata": "UX8igne4P0AmxoeBjjo5QEHAC1ZbKjdA1T2hh1coNED/OaF1bBE/wI4X6Zw7xi1AKOkfFNaCQEBZ6MZLk9RMQJe8mYL+lB5A0pohu2rzMUDoBhle+I4/QMxxKZFUHTdAd5lJ5TpfH0BJA8Zb9k8sQKPiSnGwsRdANIfRngVjJUBoCrhSOLUgwLLxzTIQqwXAVTLSr8KEKcBYXo51sMZBQA5VAVDQeSxA7vx8hz+bS0CkXOv7iII9QPq+ROXJbSxAOl1XohEnLMAcgVTdq4wZQFNeNjyiIjtAVQJaFnmBO0Ck2J6EjbkUQKTzxSHrkzfABLn4OE8MOcDQJr+1TlZHQCpw9h26FEPA+wEfWtFTQMAx2YTAMrchQO9u4zxQIUHAQ6oq2y06/j++ALrF2QEqwIQ6Ms3NETRAJdUqNlpnIcCNqYd6Qn5UwPWLUJuaZyxA+OSwwmaEQUCF+lgP8ow8wH2OrVy2jBpAcdCJB8d3RsAdDQJLDQoYwOTklZE4+RbAKaEHwagsO8AzdlYThS0YQDDczkzgrirA0yNlQOfeREAcy319Gk0wwB4qgbl/pRRAr5wkc7gYOsCfOjOGsAk4QOMkq6mTHk/AxRV3splbPcDTEC+VDx4QwLHoL2H8Xk7Afnr7Aa1sOsBHdI3fQxE0wF5i88QQ3TjA1yXKBJKLMMBIrfockLgWwCweuqjzKUXAMMtoV5leM8AwTGsezEc9QARrs9xQDJm/y6QlT31fLMAZiudBVhwtQG2ePVxaWhtAFH77dWOcQcBanTJZHHgJwAym7Gri+f8/D1ZIEKcuGEA/TMHNDE0wQEodRbr8igNA9djH1jAltD/B0pe8a+H8v/kJhr7WsgJAz6NdphsgI0DipfY6XyHnP/nv4fYr+yJAiggg2YcRAUBEEycOCwQnQBbZG931iyrAhZqqzh8gKMAYMYtzqvEhQB4ItU3PHVNABEtSzweIIkCCcoZ3jMfbv9cx6SDtVilAWfyo6atgU0BQ4dx83K3dPzkVgY9Sj09APho6Y3q8UUAF3FXD3BlRQN9lftTb1VFAsCi4z001UkBrxJwK7P9DQEr9E/zZUFJARcApZMGyrD8vWitss3ZSQGMCMJ/Y3lFADZLxNoivU0A=",
          "dtype": "f8"
         },
         "z": {
          "bdata": "g5JqsGfvAcCCwaN759kSwI2W0Nm1owXAH30j11iQ2z890YRWfKQFwCJAF/Ip9wTAqRnD1z6RHsDMUs1wPjcUwDIMX0n4gwvAcb5GtHkAH8DX47pVYfAWwIbTCSsQnuW/qEHdSUR8C8A8aLlImhryv6UUNVfvFhLA84nFpWnYBMA5cc9+ZEAWwMD+wdfG6gLAvCVBjhZ847/ZXAWZE5wdwNs9iC4wfQzAQBmwCYCeEMDBIGsXMLAJwIdZNZotpBXA1CqRBPhuIMDd/ryYH7UOwOzVZLC6xgHA4rgIsoHLD0Aspi0mHvMRwN8yLQDKSCDAa5iTxfGDIsAHtU52bh1MQPRQr0zrMyjAZFLlwCdwHMA6eJFlhBVHQLAVuToHPiPAmIWMWOhuIsAX3nhtoAAkwHGh/0qJsRfAnxljcZFEREDw1j0PtcAUQCeLpgm/JAfA8QIT/1iSSUAJkUbqbCwjwI1RUAf4Kv2/AIRCHs8TIcA5PNhlaVolwIGzRPizh0RAXJLWZiHEHMB/tHOamHdIQD5DnLZxlhjAjqkgiZ3vSkBm0cFFpZ0owNOcZJAdvUdAFG+F9WMGFcBNjXH7hdNMQD9VKeKVyCPAyYQtt6AVI8DiNTO5sM5GQACebxxQEA3Ap1oMEM+VOkC+PuKvi0sLwK2XogzFRkNAT8pXz+WkHMAWHnhM6AQGwC4yxnKa8jpATFtP+34l7z+roVrkfSFKQNkhThPclhrA/ZxJ1Og4RECchBZRlcEKwAsynOZ0HBPAoRlGfKvUQUC5oEo94o7VvyU8BWDWCRXAOG8qc7o5RkC48LJnKEEhwJMsGlYmGkVA7x7LyajFHcCeJYtuN4BHQJP6/xPaQR7AhzZ3UmqiR0BgxskOAO4dwBMX73jgMkhA7VPEAtNzF8AWC7PqZEEiwDH8FB+9bB3Ai5h/0jx4IsDx0D1iopYhwMb5z9t8hhZAWCVQ99YTIMAuV+mquIQlwFQeNLryph/AQsFYWA25EUAghDBPbfgZwIvF8iX2JhJA2WjNySyM+j8wCmbIkSULQBL6ZpGNUxRAYG30+B0KEkB8hH8wqHAWQK1Nidp++O0/mGThapqzCsCrKWLpXcEHQFc+qrI5ib8/5yA5R9hQEUA=",
          "dtype": "f8"
         }
        },
        {
         "hovertemplate": "lab=michigan<br>PC1=%{x}<br>PC2=%{y}<br>PC3=%{z}<extra></extra>",
         "legendgroup": "michigan",
         "marker": {
          "color": "#EF553B",
          "opacity": 0.85,
          "size": 4,
          "symbol": "circle"
         },
         "mode": "markers",
         "name": "michigan",
         "scene": "scene",
         "showlegend": true,
         "type": "scatter3d",
         "x": {
          "bdata": "6cmRxMJaP8CFWQ/0cBMuQAqEHqIJXADAR7cszfOPLUDXM+/OCSBgwMsFdHWxR1fA06dLC6J9UsBfEXKEaJYxQE/wpwjvQ0PA/DdrUUqrYsA+N55srO4xwCvcVWur+DfATcShC9G/F8BaRxCqbc45QOyk+HOOQTxAxUpGNt24V8AxBxFdMqktQBfmy6a6+SFAuXcKxJWkYMBwUQxrRM9CwInkXsyscEDAXHnXEJN8d8AtGSePI8FYwBcD1bC9F0vAADouXLgvUcAbW30mwTFJQOgfTOiE2TRA3xVKkU9UQMCJedhsPB5EwCxoiddOB1DA1+JOQPxVaMBKSL4pHwQSwCaI4C3MokbACcvmAmWxYcBBj0Gn61tGwLyqtTZfnHLATSQp+SKZYcBV2eA1+N1LwD4lqml3OknALjNL9Y9JYMCzDNXeV9EsQGfPPU8g6QPAWXTU+uu4E8BKKF831j9UQErwkD52akPAJuF0h8lSXEBC17E+PzRKwAz5X8xfUlbABtI89fG3NUCHKK9hvEJUwPJy5gbi5STA9Lw3pJZRR8DqYR4yantVwIeuOJ9FUEXA30hXaPWxZsAzMzc3E8VhwNIHYFFp+mVAKfhjOOyvWUCfrkZiGntCQAiAqBSwd0zAWUGwnAEtR8DK57jIRuMmQOH1p1Sr6ErA/LvhFBZOScDG/+eV8eBCQLcqGw3DOGfAMaeXPDIzWsAGeMmj0u88QJk6L2NB3UvARDIVN8H6QEBzcGtObABjwMgEs6vKGUrAg+QcPUheY8DiK/3Kn9BZwHnR5otwrBDA3guVBhHmdkDcbtwZgWFcwL1O0DZw/OK/hQ9D/+j6RsBgywe+LE1XwNlZ+Jk+s1DAdTTlRy0LS8DQELUbYcxfwFAdwKLABlTA6i2Sps28NcASDW3ok69bwKkRBs1k3jFACHpdrL6HRMCe9ZPXJZREwLeCatluTVbAK8Ir0tezdEBV5NeWN3FpQKMqZ2+hvGfAyT2qoP/BTcDJbPJiUo40wONAOfodGkTAdRcRdKXYOcAwEofbnDlIwOfdFlH3cU7Alrha2VpsYEATNyUdUKdgQAJ79lr2V1zAUO4aCkYKSMAnC+2n/uwGwNZS1UzeD1ZA8nxC3YEwY0CLSSgNXUZowFDOqERhbFdAA9XVnj0DaEDybr2NCX1XwHHVaGZEvUpAzdahPFv/VUD/g01pwPxrQHEchnJm8mtAyrGYAvXtWMDcdqfSKcFvQFzD9H48SGNAgfmERpLbWcCESDbQaDNuQPdwKwvg+DDALlLr7ZJJREDBcs+PvrI6QI28LIssLlfAg8diSUr0YEBQqCRPIg5iQKtjlMgAhlhAIaFSaTSBN0C1eNRwV10ywNPQexSpamhATiZLl042RUAFNPZm8SBgQIYdthSfrSBA8AvfhxSxV0CkpUhxxfNCQEwhlZ3YBV5AIru6csihI8ClTKdNwF9iQN2hmUMC4llA0XsIJL3T/T/RtD1bdn1QwJx1GoXUeVhA/vyQ7dW2GEDQ0E6BvKliQOiF+32ecjfAkPwNuD55YUCUxdQMhJkCQGAszTuTHllAHNpYFYzGSECctegAOJldQCJOD1LEOD1A2HOjE0oPYUAvkAafIVNWQLcsqfOQkCVAppfgjMh4PEAAFwulTSpAQPJqqhghcVJASv8ot+RERUApuFnm310+QMTh2Pw9tzvAaoyZDRufSEDkkZEvNalOQO2l8CWRAFBAb+fScKjVI0A=",
          "dtype": "f8"
         },
         "y": {
          "bdata": "94QXWew3NMCjUexBcfk0wMXaBUWhv0DAsZpqVlHHKMByu6CGphVDwJZ1BMa+aU3AOYhDK3RAK8Dh8fwRdD0/QOI7/hrpMgZAuhg+XAfqHECzver4YfDYP0evlfh2ZTTABi5d6uw4JsAr/7mCjxQ5QIEAiojkUifAu54MjxuVO8B2Ur80oacnQDMO+Grpeu0/oLNgD8k7MMD1Rgzr4q8fwFrQin1dkzLAr9UhI5mcUMAY9eXXTrcswG0mPd9YJRNAAvubUT+TLMBzvLSo6adQwOq83pqPgTlAtzrLYs7BKsDIz4FlJIUMQBP2DLGSWrK/jXLDjLqFOsCFNLLZ/AAsQBoKn2ZiEBXA797H+9Pl6b/pJOiSBpUyQJkLYz9h3D7AGPO9AJNMEsCVPoIxxDEuwKCE/DDQTBjAxwL8GOa0TMAjhV3TBnZBQFfGKov8lyTA1tjlayBaN8Ac/ZB0a9QkwNt3tp8YYALA5FuYQkmVR8D0Joc+DXEgQG6x9gHeGiPAoM67dS/QJ0AcAocXrggvwFZEb++pbzhA5AurVDGIUcC4a5cnLYpAwDirQv3CXUHAKSbtPtTjPMBTwxonzRg2QO3Bi77SZSRAMl/ONqct+b9wdbTXpSQbQI0BDw4fhCFA40EBZ9t8IUCn4ocghb81QKdQoFS6lgBA4G0LIsVwMMCeyRmN390WwCoru5MOwivAJ+vFQZ6ZT8AoR479+KtUwGYJlOT+TTHA5Hx/9dKsNsA4n4JUrCwlwHARL82MmA7AobzMo1BHLMBIoJhdPHQ6wP5gyq34KEHA4RI+pYiXYcD2OD3LnQcswJl7sG0ovQPA0S/U+tsGLkCRbg+3vVUgQIFwukEb+gHAuMhjxvE7K8A7WEUomCHivz8A8knFdDvAx8VDR+DuQcAhbBW7G6glwHA0GBGAxCdAyD0pRFsJF8DL5VuEygYmwFc++FkeABzAfVUk0CdYCsDP9UQmU4ggwP/oWQA31j7Acb3BEwROEcCpwvCQoRYxwMUEgvKnbhzAP1lZ5pklJ8DrJq9l0bEcwIiV+EBdoD/AWUhYRPjn/D87GdcWR/ztv3J02arlqknAfU8CLJv0QsBU0a3kR3cwwNz2q/6Pwi/AkvqIdp+oDMAK6+PBmrtFwDAgoSzIoALAJ2fd2HKOBEBTCmgC/q1BwOeDbiOGuERAtQ1fuLNzQkB4VrohDiTgP4xOSjwXYzDA7HWlaRsFP8A2iVUeAZ0UQDrf/nKKbiBA92ZVgCyGRMBbZ8we+0cuQAtZPSos0xDAXHxQLB/yHEBKSfmk8qZDQA8gBAN/DEJAh3lif0FEEkDPOciwg2QywIpRLIHu3tu/7lSKHziOMUCi8zzM4edGQChgqrDavijA1KjcBmR5QEC52dbom6oyQGscedxFw0RAxGp3PACJOUDVAob9IuxDQNgAX2vEZEhAldWi8YiIREDbGnWs9R0iQO5mQs3yxClAFmBk4H/K8L+NBgry6xYVQBVK2ecAAxHAGOM9MdS5QECpERu/f8c6QNOUubjKlT5Av1HZHQbXPUBIxiqLMvBAQFZE5t3Moz9An7e+vAq1RUArPxFEjONBQDJFC3Utf0ZASEBtbWoTNEBrXZNUjAcPwAKcyfVxAy9AYzOAk0+vK0CSCo4cLAwMwBzUmU22ES5Au+iwObBkJ0DfErW8DsUzQJRV2/iPwjRAciPIfgmZ1D887hzoaQsxQEzxKt+E3/m/46BHqrlwOEA=",
          "dtype": "f8"
         },
         "z": {
          "bdata": "zP+NXPfaO0DiP40LeGcxwBBScpKVUjVAkGJWSKQZMMCNMnczrREyQAWZyNFnJjDABHxBw1zKLMDIIBsLpvc0wDCwCfbqbS7A85658DKqMMD5kiKFcJQywL+/Go/wlT1ARsAfMRrAMMAuFpsaYOc1wBaryzQJ4jLAgLH+p+zBMMByZz4lHb01wAWBUz497i/AT0QDQ3PoMMChy4F67atAQITnQg0Yvy3AxaH4nUc1EUD+V6QgNog+QIaJrVc71C7AsoTwaY1sOkBzAQoFHSwqwIJKtc3uNDTArJFwIf4SNcAXvpwR62QzwCquqbBALjDAtvkpiTQVLsBoGK0OOsAzwN3+AsJMujDAhwBXGY7NMMCPlpuyYSkywLlcBhXafv+/lN4ktsOcMcCHdx9c4ghAQJM12VnGyC3A5Id3defOLMDRI1BMtvctwO3y8TNI2jPAcOe/lKaRMMAxdrKglk0zwIiNUieVKDHAqCFUWXwoNMCy5F3owBA3wHKtibnokjLAcBsVRpX2M8AOmhOlE7MwwNSTScmMbjTA788ThlYKIcDJ+zisFMIwwO8xLG58DzHAFVmSRpYyM0BAvkaX1fobwIjIBZCU9TTA344CibMSREDy1mx36LwvwJ4MDjN0QTPAepOw+LQKM8B2ebRUvhQ2wJmMtdso1DHApgz53m5RM8Duca8/9J0zwANbVs+PoivA89sstDs4LcCfsqgt9isxwDo+qXw1kTLApQkFzOPAMcAFxOBUuXsuwIBuGIVh+DXAwaeJTG4AMcBvTFlcDUIvwM9qolYMKjDAPYKXELh2NMC/nSGruP0xwJ3KG/AjWzHAskaGmQT6NMBcuRPspcoxwDtgTrAJvDHAsrqrNYZ5MMCjJsS9P5swwC0RZTCJFDHAyCwWAumPLsAm1BSd2UoywCYYgoUMVTPAlrCDWz7mMcB8qWk2mJUwwL/UwksUzy3AuEyCywWUOMCka3/KNmxEQPxmMRr6niDAm+fH5PWPMsAXDggMZ/wzwOwnZchhsjHAWTNstdZUMcDrbzc4WzQzwImu6MOMeDHA1ftJuS3fNcALJ/2xAg9EQPtq3RmHvRTAB6p4DLj6NMCGvJLw3lU0wHWRBJQx6zLAo/ico/8GRUBaANkAj/cgwMSzodRftzPAse/qxnWfRED4+uK/M4QowM7BJrKsEzDAWdJWRH9GJ8Aai8KU8DM1wJhK4RVumkNA8hI39Z7MI8Am0mdM34E3wEg6bE9l00ZAkqpdqu7YK8CPkb6Ywnc1wIjFSFuJG0FA+V6Id/ISKcCBwyNkHQwzwMIY+lDzTSrAJoaRF32xMcDjuHkJTbo0wLM47YTrLEVAgwggfZLmJ8AI8lnNp4AtwDxTM+UPVjPAQo7WIvPSMcCOUs1/c8ExwHdRXj7NsDDAbQsxT0QXMMDKNjiZUKMxwGu71CbZ0SjAK4TRBds6MsAfpyvy1IQwwI5A9Ypp3jHAOQQ9/lpXLMCTp77q5U4wwCmZD/HfjS7AKWtd2OTQMsArpRv6jh0zwAs8ierphCzAoErdDwmeLsCE2K78vQExwBfuWXmaIC7AALo7ErqXMcBYb1M8/UgwwLAkajs2IDDA8p4GkdafMMADK+dDBiMzwJ7gdpX+GSrA3fVmEm0aMMCDwbYceFUvwHXc1fKLZjHAl/n2p39mLcDzfCjt92owwJ+M/dT9CyvAEdaCysQcNcC7/ys7SJktwLC9wOaoujLAQkeH0zxeKcA=",
          "dtype": "f8"
         }
        },
        {
         "hovertemplate": "lab=irvine<br>PC1=%{x}<br>PC2=%{y}<br>PC3=%{z}<extra></extra>",
         "legendgroup": "irvine",
         "marker": {
          "color": "#00cc96",
          "opacity": 0.85,
          "size": 4,
          "symbol": "circle"
         },
         "mode": "markers",
         "name": "irvine",
         "scene": "scene",
         "showlegend": true,
         "type": "scatter3d",
         "x": {
          "bdata": "r94AuqAsbsCBbltW4kZ0wG+ckG+I+3PANHL20K8ibMCOnA28cTRzwNqL75svC3LAL7Aanfvqc8CO+OjrDJN1wDh5rg+coHnAsTS+nZ/dYkAcCgdSCvBqQEuhzBS/5GjALjn0ywNuccBKDIIwsBZ1wIbAXnOzm1hAIE8E0v4ba0Ar8ZEHwd1eQJkd2CCPXmVAeMk8BRUnbcAI9eX/c6tvwKR9BfxZY3XARLhYK+iDbMBxzMrrzQ5xwL0E4JPWMnbASy9cnSoAbsCDZsQu/MxwwJCpNje553XALL3ilstQb0AnZMwTABJhQFlnKpKmZ2BAZ8oHJFcEY0ASCwGUuURpQGed5JTyWFxAkMFBmS6SW0ByREjfBRVEQKTP2HltSnHA3/W53av2dsBXn+RfjkB0wNeJCKIPDG9A1ZweLacyW0BklKxfBddhQINMC8HWP2VA+MXn+g/jZEDcqYdWw3hQQHjhO+qmmldAyLAGvdDjYUBka5mHQ4tjQFajGYhEWmBAgj2+pAeAZUB41tiD/l1YQA42xAyqgWhABRI9vS/aX0Cowby/u0BkQO9jFQpdNV9A9zYlV2SScMBvfZ+4DDB0wFO4UjQuGV1A2JgkVVtIYUDV9DCN7WVcQNpD1hfGUGZA8CcgIX8hXEBZkASZG0ZgQK33kbyiSVlAqjBk/K9wJUC5O4A4bmVbQD11qUK7SGZAXcPFrmSXR0AXBGXmy5FXQEmDGiKozWVA93c8JMuBY0B7Lb/jeaFfQCt3c1gW315ATDo5jzFKUUDmj6LtYOBoQP0xsSNwn2RAxc0nxkF4ZECowOhnScxXQAq056SQF2RABdd96upfaUD/xbUwcoFfQAZ9yatiiXdAbZi1GEO4XEAq9WQHZ6xBQHuQ3Qacj2RA3B3M1yf8ZkCT1mx2zk5cQCkmv971i1tAeVuJc7eKY0DV7svkR5RkQFudqxqZc2VADfzXelC0Y0D4ebO/IbhvQPl3XTofzFtAWuQvMM4Oa0Ad2qIY7U1fQISXXTzNbWdA6NUL7jjIXED+CYkY4E1bQMt0EMh49GNA/QhKL3t3YEAtyLWByBFkQNVGzDO/YFpAP6UyjEpFYkD/o9nIYtFUQKqjFtoy7lVAsu9/UCPWT0C24Ft42/9mQMAHi5sjD1NAD433U/cYZUBQCEVwtUFdQHqXXlQeaWRAXXfXs+oFTUD1uDzAfNRQQLCXKRUCV2VANtIwovW/WkC43Kfxl3NnQKxwMlwdRFhA",
          "dtype": "f8"
         },
         "y": {
          "bdata": "43Ahk1rHIED7+5QZECckwM1e6jnCczXAuQ5JEHZB1b/BRutrAz89wGRVsW6oqxrAr1jbYyREQMCF/+xF0/FBwH3fWw8THUjAUkJYYiJ6O8DEBGTtf/c9wLcwzZDUlC7AiKPx6NGtMMAsiUfmdbs1wBl10qVZWTLAgtEXvjfSQsCbe8LvxJ0nQHhd/3waWjnA/5OvReNaD8B5wh6IoZ0pwCJnh5SqVRTAScQDL1oXK8CdIZ95t0wzwErT9dOFliPADHy/2jBOK8AJ8+lHidktwCzpXBog2jfA1UUMxAUWQ8DPbTFdBOM1wN2ErKgW1yfAG9SmmpuKRMBFtn8rjB4awHZwhcVeXj7AlI01Tv21M8DVBo/27hcywBCofJqdTQTAVcZIzjwpQMB0LJ0vlywcwMpy71XQRzzABXCxW4ylOcB78+fVM6QwQAWHp2U+pSrA+6iYbYKiNsDY5LBByRI/wBvgPAyV3BpApB9tPIRsE0DOrQHVvgcxwBp4BIVykyzAQ6ijDixUJ8D848D8DEo2wEGB5JawdzrAP+oh5jOpNMBMi23+tLQgwH5mQuY3Jeg/loXO0V8EMcBdgUc8ssgiwNn4x7sp1xfAIPedZvDLMEA8YzxXvpsowGSl2Mt6uTTAFhuOSFl+LUDVwtw1AakmwHx54sYXS0HACCf9XMAVMUDyHRV18DoiwNgXq2AeODPAN/YotwsqC0CZn096vk43QMH7T+jjRyTAkfZyoDcNCEDBO0n9wxodQDBTHUtwKiFA/FBInCr3LEBJaWmZVcQwQOKVnHhwlz1ApQ7IXCblGUDCSwM3KLjvv+QOclsmyi/AIyZTpLwtBUDJHbu7HmvxvwhAihUzVUnAuB1NsmEXQkAFFM1hDyEowJs/aU5uHizAeARbVsS5OcB8SAwznWVBQE8OEfDmLO+/SCe0U3ZxP0Ar/h70kKRFQM0qayXb3g3AS5DTmObzM0AlcSSOCbkbwBRCyMseLkJAdpj/RWTbJsC8EfXFaTxAwKxP+I+B3DpAUKIwOj8QQUAaxencOaFBwBXTKoPNlTBAogEcdOZyR0B/UxwRoaNFQGB9XyYcxDRAd2liYWKRLUC9PZyKRA48QB8XNKUjYkFA6PY4llWoKUACr8TNn+FBQPjHnecx10NArsBfmjxcPkBpcX6jKbVCQK8H7N37GkJA/4FyTeN2O0D/8YBcNmo/QBJTDWMqgkRAM+u23C+SSkAJOltt4dNEQHAdRWCErUBA",
          "dtype": "f8"
         },
         "z": {
          "bdata": "PzLOt53Epr+WTv5DKqpCQF32MnD91gtA+TIWYFQq8D9lTNXa6Y09QNnli1UKexBA8NaE97tx8T+RsxEkdao6QD9nH6zoLiJA6+i9Cb/hLMAGL4NvCJhBQMRDv6aKA9U/cmVXW32DQkDCXshQSTQSQFvPDvTDFirAtzdL1tVEQUC89KgYyj4owGJeS2BoKUJA4o6gz6LzAcDEHBSt34dCQAsHWDsn1xRANRwwj5XS4T+JVwfuv39BQAUyofwkfRFA5D76vCbWDUDE9wlhrIVAQMN9glRLFxpA1cNLBiHuLcDs3qeCR/pCQM1b4KZ02ifAt41NaTZBQEAv5IPAxN0mwMdjedihv0FAXOQ0wDPqI8CAZeu4aqhEQJ2OAy9OsCFA0Rtzl27zPkCDT/8wL3EKQKqktKNgACzAGNSDBKqiQUA7pr9sY2YmwHAvBVNb0ENAk0TGjhRJKMAm30cK40E+QE+OxmXojizA2Q5JT2PfR0BIA4z99qMqwIjyOG3rG0RAJCb26l16KMDA5uH/S61EQMI7ErzCYinAzpmDg7CXQkCU26nOEZMswM8wu7BV3UZAjIPOrMPT/T9pLrvM+ugWQGSqLogY8iHApQuXThp/SkAcFkD+ruUnwIJWfrSlIkNAOOcXEUVQKcDQifGNRC9FQJCa17l03irAYGxuH6ETSEBUc59+rIwnwCVhuoc/KEZAfFVGeKdvKMA5jLQjPOYlwCdZkNBYkUZAeoIeLVJYKsCwSnYRgq9HQMBeklbwqyfAuSlEnh3ZR0BPx/JaDkMkwGmE+hCW8E5ANKlQX6EELcDTqYchTutIQILVV/pFfSbAVKF2UjbNK8BF29P4+R9HQA2a4NuyfTDAzqEWwh3MTECy/lk9IRopwA+2MBpfb0NAaap7r1I9IcAcicM0WrhOQODVhHXeUCPApJqALDk+TUBuJLk+pw8bwIZphgq2pSDAsRrAByqsTECs5bASfEsmwNHD1n2l905APsKcGGHWJsCF3zf46JRAQMDg/7hpuCXArVc5RpePH8D2StF5Qd8iwFHQc8Gx/0tATP32jRAFHcAOvr0SmKkYwJ9RjdN1eCHAamDd8lC3IMBs2mlu+NUhwAvilHD8bSLA39l9HyA5G8Cq6FQ8gn8kwMBgxCQ7YgPA5GYqq5OtHsBP/MNiTjUewOWXsj1a1RnAK/xbH+kSIcApH16a+iMgwK6M5jRygSHA7b/1ZplQGMDqWm4osiUkwPlmqVfCCiTA",
          "dtype": "f8"
         }
        }
       ],
       "layout": {
        "legend": {
         "title": {
          "text": "lab"
         },
         "tracegroupgap": 0
        },
        "scene": {
         "domain": {
          "x": [
           0,
           1
          ],
          "y": [
           0,
           1
          ]
         },
         "xaxis": {
          "title": {
           "text": "PC1"
          }
         },
         "yaxis": {
          "title": {
           "text": "PC2"
          }
         },
         "zaxis": {
          "title": {
           "text": "PC3"
          }
         }
        },
        "template": {
         "data": {
          "bar": [
           {
            "error_x": {
             "color": "#2a3f5f"
            },
            "error_y": {
             "color": "#2a3f5f"
            },
            "marker": {
             "line": {
              "color": "#E5ECF6",
              "width": 0.5
             },
             "pattern": {
              "fillmode": "overlay",
              "size": 10,
              "solidity": 0.2
             }
            },
            "type": "bar"
           }
          ],
          "barpolar": [
           {
            "marker": {
             "line": {
              "color": "#E5ECF6",
              "width": 0.5
             },
             "pattern": {
              "fillmode": "overlay",
              "size": 10,
              "solidity": 0.2
             }
            },
            "type": "barpolar"
           }
          ],
          "carpet": [
           {
            "aaxis": {
             "endlinecolor": "#2a3f5f",
             "gridcolor": "white",
             "linecolor": "white",
             "minorgridcolor": "white",
             "startlinecolor": "#2a3f5f"
            },
            "baxis": {
             "endlinecolor": "#2a3f5f",
             "gridcolor": "white",
             "linecolor": "white",
             "minorgridcolor": "white",
             "startlinecolor": "#2a3f5f"
            },
            "type": "carpet"
           }
          ],
          "choropleth": [
           {
            "colorbar": {
             "outlinewidth": 0,
             "ticks": ""
            },
            "type": "choropleth"
           }
          ],
          "contour": [
           {
            "colorbar": {
             "outlinewidth": 0,
             "ticks": ""
            },
            "colorscale": [
             [
              0,
              "#0d0887"
             ],
             [
              0.1111111111111111,
              "#46039f"
             ],
             [
              0.2222222222222222,
              "#7201a8"
             ],
             [
              0.3333333333333333,
              "#9c179e"
             ],
             [
              0.4444444444444444,
              "#bd3786"
             ],
             [
              0.5555555555555556,
              "#d8576b"
             ],
             [
              0.6666666666666666,
              "#ed7953"
             ],
             [
              0.7777777777777778,
              "#fb9f3a"
             ],
             [
              0.8888888888888888,
              "#fdca26"
             ],
             [
              1,
              "#f0f921"
             ]
            ],
            "type": "contour"
           }
          ],
          "contourcarpet": [
           {
            "colorbar": {
             "outlinewidth": 0,
             "ticks": ""
            },
            "type": "contourcarpet"
           }
          ],
          "heatmap": [
           {
            "colorbar": {
             "outlinewidth": 0,
             "ticks": ""
            },
            "colorscale": [
             [
              0,
              "#0d0887"
             ],
             [
              0.1111111111111111,
              "#46039f"
             ],
             [
              0.2222222222222222,
              "#7201a8"
             ],
             [
              0.3333333333333333,
              "#9c179e"
             ],
             [
              0.4444444444444444,
              "#bd3786"
             ],
             [
              0.5555555555555556,
              "#d8576b"
             ],
             [
              0.6666666666666666,
              "#ed7953"
             ],
             [
              0.7777777777777778,
              "#fb9f3a"
             ],
             [
              0.8888888888888888,
              "#fdca26"
             ],
             [
              1,
              "#f0f921"
             ]
            ],
            "type": "heatmap"
           }
          ],
          "histogram": [
           {
            "marker": {
             "pattern": {
              "fillmode": "overlay",
              "size": 10,
              "solidity": 0.2
             }
            },
            "type": "histogram"
           }
          ],
          "histogram2d": [
           {
            "colorbar": {
             "outlinewidth": 0,
             "ticks": ""
            },
            "colorscale": [
             [
              0,
              "#0d0887"
             ],
             [
              0.1111111111111111,
              "#46039f"
             ],
             [
              0.2222222222222222,
              "#7201a8"
             ],
             [
              0.3333333333333333,
              "#9c179e"
             ],
             [
              0.4444444444444444,
              "#bd3786"
             ],
             [
              0.5555555555555556,
              "#d8576b"
             ],
             [
              0.6666666666666666,
              "#ed7953"
             ],
             [
              0.7777777777777778,
              "#fb9f3a"
             ],
             [
              0.8888888888888888,
              "#fdca26"
             ],
             [
              1,
              "#f0f921"
             ]
            ],
            "type": "histogram2d"
           }
          ],
          "histogram2dcontour": [
           {
            "colorbar": {
             "outlinewidth": 0,
             "ticks": ""
            },
            "colorscale": [
             [
              0,
              "#0d0887"
             ],
             [
              0.1111111111111111,
              "#46039f"
             ],
             [
              0.2222222222222222,
              "#7201a8"
             ],
             [
              0.3333333333333333,
              "#9c179e"
             ],
             [
              0.4444444444444444,
              "#bd3786"
             ],
             [
              0.5555555555555556,
              "#d8576b"
             ],
             [
              0.6666666666666666,
              "#ed7953"
             ],
             [
              0.7777777777777778,
              "#fb9f3a"
             ],
             [
              0.8888888888888888,
              "#fdca26"
             ],
             [
              1,
              "#f0f921"
             ]
            ],
            "type": "histogram2dcontour"
           }
          ],
          "mesh3d": [
           {
            "colorbar": {
             "outlinewidth": 0,
             "ticks": ""
            },
            "type": "mesh3d"
           }
          ],
          "parcoords": [
           {
            "line": {
             "colorbar": {
              "outlinewidth": 0,
              "ticks": ""
             }
            },
            "type": "parcoords"
           }
          ],
          "pie": [
           {
            "automargin": true,
            "type": "pie"
           }
          ],
          "scatter": [
           {
            "fillpattern": {
             "fillmode": "overlay",
             "size": 10,
             "solidity": 0.2
            },
            "type": "scatter"
           }
          ],
          "scatter3d": [
           {
            "line": {
             "colorbar": {
              "outlinewidth": 0,
              "ticks": ""
             }
            },
            "marker": {
             "colorbar": {
              "outlinewidth": 0,
              "ticks": ""
             }
            },
            "type": "scatter3d"
           }
          ],
          "scattercarpet": [
           {
            "marker": {
             "colorbar": {
              "outlinewidth": 0,
              "ticks": ""
             }
            },
            "type": "scattercarpet"
           }
          ],
          "scattergeo": [
           {
            "marker": {
             "colorbar": {
              "outlinewidth": 0,
              "ticks": ""
             }
            },
            "type": "scattergeo"
           }
          ],
          "scattergl": [
           {
            "marker": {
             "colorbar": {
              "outlinewidth": 0,
              "ticks": ""
             }
            },
            "type": "scattergl"
           }
          ],
          "scattermap": [
           {
            "marker": {
             "colorbar": {
              "outlinewidth": 0,
              "ticks": ""
             }
            },
            "type": "scattermap"
           }
          ],
          "scattermapbox": [
           {
            "marker": {
             "colorbar": {
              "outlinewidth": 0,
              "ticks": ""
             }
            },
            "type": "scattermapbox"
           }
          ],
          "scatterpolar": [
           {
            "marker": {
             "colorbar": {
              "outlinewidth": 0,
              "ticks": ""
             }
            },
            "type": "scatterpolar"
           }
          ],
          "scatterpolargl": [
           {
            "marker": {
             "colorbar": {
              "outlinewidth": 0,
              "ticks": ""
             }
            },
            "type": "scatterpolargl"
           }
          ],
          "scatterternary": [
           {
            "marker": {
             "colorbar": {
              "outlinewidth": 0,
              "ticks": ""
             }
            },
            "type": "scatterternary"
           }
          ],
          "surface": [
           {
            "colorbar": {
             "outlinewidth": 0,
             "ticks": ""
            },
            "colorscale": [
             [
              0,
              "#0d0887"
             ],
             [
              0.1111111111111111,
              "#46039f"
             ],
             [
              0.2222222222222222,
              "#7201a8"
             ],
             [
              0.3333333333333333,
              "#9c179e"
             ],
             [
              0.4444444444444444,
              "#bd3786"
             ],
             [
              0.5555555555555556,
              "#d8576b"
             ],
             [
              0.6666666666666666,
              "#ed7953"
             ],
             [
              0.7777777777777778,
              "#fb9f3a"
             ],
             [
              0.8888888888888888,
              "#fdca26"
             ],
             [
              1,
              "#f0f921"
             ]
            ],
            "type": "surface"
           }
          ],
          "table": [
           {
            "cells": {
             "fill": {
              "color": "#EBF0F8"
             },
             "line": {
              "color": "white"
             }
            },
            "header": {
             "fill": {
              "color": "#C8D4E3"
             },
             "line": {
              "color": "white"
             }
            },
            "type": "table"
           }
          ]
         },
         "layout": {
          "annotationdefaults": {
           "arrowcolor": "#2a3f5f",
           "arrowhead": 0,
           "arrowwidth": 1
          },
          "autotypenumbers": "strict",
          "coloraxis": {
           "colorbar": {
            "outlinewidth": 0,
            "ticks": ""
           }
          },
          "colorscale": {
           "diverging": [
            [
             0,
             "#8e0152"
            ],
            [
             0.1,
             "#c51b7d"
            ],
            [
             0.2,
             "#de77ae"
            ],
            [
             0.3,
             "#f1b6da"
            ],
            [
             0.4,
             "#fde0ef"
            ],
            [
             0.5,
             "#f7f7f7"
            ],
            [
             0.6,
             "#e6f5d0"
            ],
            [
             0.7,
             "#b8e186"
            ],
            [
             0.8,
             "#7fbc41"
            ],
            [
             0.9,
             "#4d9221"
            ],
            [
             1,
             "#276419"
            ]
           ],
           "sequential": [
            [
             0,
             "#0d0887"
            ],
            [
             0.1111111111111111,
             "#46039f"
            ],
            [
             0.2222222222222222,
             "#7201a8"
            ],
            [
             0.3333333333333333,
             "#9c179e"
            ],
            [
             0.4444444444444444,
             "#bd3786"
            ],
            [
             0.5555555555555556,
             "#d8576b"
            ],
            [
             0.6666666666666666,
             "#ed7953"
            ],
            [
             0.7777777777777778,
             "#fb9f3a"
            ],
            [
             0.8888888888888888,
             "#fdca26"
            ],
            [
             1,
             "#f0f921"
            ]
           ],
           "sequentialminus": [
            [
             0,
             "#0d0887"
            ],
            [
             0.1111111111111111,
             "#46039f"
            ],
            [
             0.2222222222222222,
             "#7201a8"
            ],
            [
             0.3333333333333333,
             "#9c179e"
            ],
            [
             0.4444444444444444,
             "#bd3786"
            ],
            [
             0.5555555555555556,
             "#d8576b"
            ],
            [
             0.6666666666666666,
             "#ed7953"
            ],
            [
             0.7777777777777778,
             "#fb9f3a"
            ],
            [
             0.8888888888888888,
             "#fdca26"
            ],
            [
             1,
             "#f0f921"
            ]
           ]
          },
          "colorway": [
           "#636efa",
           "#EF553B",
           "#00cc96",
           "#ab63fa",
           "#FFA15A",
           "#19d3f3",
           "#FF6692",
           "#B6E880",
           "#FF97FF",
           "#FECB52"
          ],
          "font": {
           "color": "#2a3f5f"
          },
          "geo": {
           "bgcolor": "white",
           "lakecolor": "white",
           "landcolor": "#E5ECF6",
           "showlakes": true,
           "showland": true,
           "subunitcolor": "white"
          },
          "hoverlabel": {
           "align": "left"
          },
          "hovermode": "closest",
          "mapbox": {
           "style": "light"
          },
          "paper_bgcolor": "white",
          "plot_bgcolor": "#E5ECF6",
          "polar": {
           "angularaxis": {
            "gridcolor": "white",
            "linecolor": "white",
            "ticks": ""
           },
           "bgcolor": "#E5ECF6",
           "radialaxis": {
            "gridcolor": "white",
            "linecolor": "white",
            "ticks": ""
           }
          },
          "scene": {
           "xaxis": {
            "backgroundcolor": "#E5ECF6",
            "gridcolor": "white",
            "gridwidth": 2,
            "linecolor": "white",
            "showbackground": true,
            "ticks": "",
            "zerolinecolor": "white"
           },
           "yaxis": {
            "backgroundcolor": "#E5ECF6",
            "gridcolor": "white",
            "gridwidth": 2,
            "linecolor": "white",
            "showbackground": true,
            "ticks": "",
            "zerolinecolor": "white"
           },
           "zaxis": {
            "backgroundcolor": "#E5ECF6",
            "gridcolor": "white",
            "gridwidth": 2,
            "linecolor": "white",
            "showbackground": true,
            "ticks": "",
            "zerolinecolor": "white"
           }
          },
          "shapedefaults": {
           "line": {
            "color": "#2a3f5f"
           }
          },
          "ternary": {
           "aaxis": {
            "gridcolor": "white",
            "linecolor": "white",
            "ticks": ""
           },
           "baxis": {
            "gridcolor": "white",
            "linecolor": "white",
            "ticks": ""
           },
           "bgcolor": "#E5ECF6",
           "caxis": {
            "gridcolor": "white",
            "linecolor": "white",
            "ticks": ""
           }
          },
          "title": {
           "x": 0.05
          },
          "xaxis": {
           "automargin": true,
           "gridcolor": "white",
           "linecolor": "white",
           "ticks": "",
           "title": {
            "standoff": 15
           },
           "zerolinecolor": "white",
           "zerolinewidth": 2
          },
          "yaxis": {
           "automargin": true,
           "gridcolor": "white",
           "linecolor": "white",
           "ticks": "",
           "title": {
            "standoff": 15
           },
           "zerolinecolor": "white",
           "zerolinewidth": 2
          }
         }
        },
        "title": {
         "text": "3-component PCA"
        }
       }
      }
     },
     "metadata": {},
     "output_type": "display_data"
    }
   ],
   "source": [
    "fig = px.scatter_3d(\n",
    "    final_PC_df,\n",
    "    x=\"PC1\", y=\"PC2\", z=\"PC3\",\n",
    "    color=\"lab\",\n",
    "    category_orders={\"lab\": [\"davis\", \"michigan\", \"irvine\"]},\n",
    "    opacity=0.85,\n",
    "    title=\"3-component PCA\"\n",
    ")\n",
    "fig.update_traces(marker=dict(size=4))\n",
    "fig.update_layout(scene=dict(xaxis_title=\"PC1\", yaxis_title=\"PC2\", zaxis_title=\"PC3\"))\n",
    "fig.show()  # drag to rotate\n"
   ]
  },
  {
   "cell_type": "code",
   "execution_count": 143,
   "id": "1c4b615a",
   "metadata": {},
   "outputs": [
    {
     "data": {
      "application/vnd.jupyter.widget-view+json": {
       "model_id": "905667883332403fae9ca957360c0bdb",
       "version_major": 2,
       "version_minor": 0
      },
      "image/png": "[encoded data removed]",
      "text/html": [
       "\n",
       "            <div style=\"display: inline-block;\">\n",
       "                <div class=\"jupyter-widgets widget-label\" style=\"text-align: center;\">\n",
       "                    Figure\n",
       "                </div>\n",
       "                <img src='data:image/png;base64,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' width=800.0/>\n",
       "            </div>\n",
       "        "
      ],
      "text/plain": [
       "Canvas(toolbar=Toolbar(toolitems=[('Home', 'Reset original view', 'home', 'home'), ('Back', 'Back to previous …"
      ]
     },
     "metadata": {},
     "output_type": "display_data"
    }
   ],
   "source": [
    "fig = plt.figure(figsize = (8,8))\n",
    "ax = fig.add_subplot(1,1,1) \n",
    "ax.set_xlabel('Principal Component 1', fontsize = 15)\n",
    "ax.set_ylabel('Principal Component 2', fontsize = 15)\n",
    "ax.set_title('2 component PCA', fontsize = 20)\n",
    "\n",
    "targets = ['davis', 'michigan', 'irvine']\n",
    "colors = ['r', 'g', 'b']\n",
    "for target, color in zip(targets,colors):\n",
    "    indicesToKeep = final_PC_df['lab'] == target\n",
    "    ax.scatter(final_PC_df.loc[indicesToKeep, 'PC1']\n",
    "               , final_PC_df.loc[indicesToKeep, 'PC2']\n",
    "               , c = color\n",
    "               , s = 50)\n",
    "ax.legend(targets)\n",
    "ax.grid()"
   ]
  },
  {
   "cell_type": "markdown",
   "id": "4fd8d54e",
   "metadata": {},
   "source": [
    "### --------------------------------------- PCs by Brain Region ----------------------------------------------"
   ]
  },
  {
   "cell_type": "code",
   "execution_count": 131,
   "id": "5645be93",
   "metadata": {},
   "outputs": [],
   "source": [
    "brain_region_target = arraymeta_data['region']"
   ]
  },
  {
   "cell_type": "code",
   "execution_count": 132,
   "id": "9cf81b53",
   "metadata": {},
   "outputs": [
    {
     "data": {
      "text/html": [
       "<div>\n",
       "<style scoped>\n",
       "    .dataframe tbody tr th:only-of-type {\n",
       "        vertical-align: middle;\n",
       "    }\n",
       "\n",
       "    .dataframe tbody tr th {\n",
       "        vertical-align: top;\n",
       "    }\n",
       "\n",
       "    .dataframe thead th {\n",
       "        text-align: right;\n",
       "    }\n",
       "</style>\n",
       "<table border=\"1\" class=\"dataframe\">\n",
       "  <thead>\n",
       "    <tr style=\"text-align: right;\">\n",
       "      <th></th>\n",
       "      <th>0</th>\n",
       "      <th>1</th>\n",
       "      <th>2</th>\n",
       "      <th>3</th>\n",
       "      <th>4</th>\n",
       "      <th>5</th>\n",
       "      <th>6</th>\n",
       "      <th>7</th>\n",
       "      <th>8</th>\n",
       "      <th>9</th>\n",
       "      <th>...</th>\n",
       "      <th>41</th>\n",
       "      <th>42</th>\n",
       "      <th>43</th>\n",
       "      <th>44</th>\n",
       "      <th>45</th>\n",
       "      <th>46</th>\n",
       "      <th>47</th>\n",
       "      <th>48</th>\n",
       "      <th>49</th>\n",
       "      <th>region</th>\n",
       "    </tr>\n",
       "  </thead>\n",
       "  <tbody>\n",
       "    <tr>\n",
       "      <th>0</th>\n",
       "      <td>-241.394620</td>\n",
       "      <td>8.389363</td>\n",
       "      <td>-0.044469</td>\n",
       "      <td>-12.885234</td>\n",
       "      <td>-2.581314</td>\n",
       "      <td>-3.055921</td>\n",
       "      <td>-14.431948</td>\n",
       "      <td>-2.148429</td>\n",
       "      <td>4.896703</td>\n",
       "      <td>7.348052</td>\n",
       "      <td>...</td>\n",
       "      <td>-1.266244</td>\n",
       "      <td>-0.277719</td>\n",
       "      <td>2.544893</td>\n",
       "      <td>0.831457</td>\n",
       "      <td>-0.459610</td>\n",
       "      <td>1.687020</td>\n",
       "      <td>2.746637</td>\n",
       "      <td>1.084731</td>\n",
       "      <td>0.747584</td>\n",
       "      <td>ancg</td>\n",
       "    </tr>\n",
       "    <tr>\n",
       "      <th>1</th>\n",
       "      <td>-324.430258</td>\n",
       "      <td>-10.076295</td>\n",
       "      <td>37.329415</td>\n",
       "      <td>-10.567751</td>\n",
       "      <td>10.350082</td>\n",
       "      <td>0.796032</td>\n",
       "      <td>-20.941473</td>\n",
       "      <td>-4.337130</td>\n",
       "      <td>-1.204543</td>\n",
       "      <td>-1.212140</td>\n",
       "      <td>...</td>\n",
       "      <td>2.574768</td>\n",
       "      <td>0.827207</td>\n",
       "      <td>-0.808318</td>\n",
       "      <td>-0.652685</td>\n",
       "      <td>2.310083</td>\n",
       "      <td>0.311161</td>\n",
       "      <td>0.375187</td>\n",
       "      <td>2.016081</td>\n",
       "      <td>-0.371923</td>\n",
       "      <td>cb</td>\n",
       "    </tr>\n",
       "    <tr>\n",
       "      <th>2</th>\n",
       "      <td>-31.354534</td>\n",
       "      <td>-20.218450</td>\n",
       "      <td>27.855337</td>\n",
       "      <td>16.860970</td>\n",
       "      <td>5.221065</td>\n",
       "      <td>-2.054197</td>\n",
       "      <td>6.708242</td>\n",
       "      <td>-0.435252</td>\n",
       "      <td>3.779758</td>\n",
       "      <td>1.829315</td>\n",
       "      <td>...</td>\n",
       "      <td>0.465199</td>\n",
       "      <td>2.426772</td>\n",
       "      <td>1.753640</td>\n",
       "      <td>0.146135</td>\n",
       "      <td>1.281135</td>\n",
       "      <td>1.009171</td>\n",
       "      <td>0.278942</td>\n",
       "      <td>1.686265</td>\n",
       "      <td>1.146434</td>\n",
       "      <td>cb</td>\n",
       "    </tr>\n",
       "    <tr>\n",
       "      <th>3</th>\n",
       "      <td>-124.381406</td>\n",
       "      <td>31.720574</td>\n",
       "      <td>-2.241897</td>\n",
       "      <td>-0.279448</td>\n",
       "      <td>-21.087420</td>\n",
       "      <td>-3.231646</td>\n",
       "      <td>-8.064244</td>\n",
       "      <td>-1.411616</td>\n",
       "      <td>-11.896375</td>\n",
       "      <td>-4.504296</td>\n",
       "      <td>...</td>\n",
       "      <td>0.935037</td>\n",
       "      <td>0.145181</td>\n",
       "      <td>-0.868179</td>\n",
       "      <td>0.602798</td>\n",
       "      <td>-1.451823</td>\n",
       "      <td>0.367481</td>\n",
       "      <td>1.579427</td>\n",
       "      <td>3.040097</td>\n",
       "      <td>0.720119</td>\n",
       "      <td>dlpfc</td>\n",
       "    </tr>\n",
       "    <tr>\n",
       "      <th>4</th>\n",
       "      <td>134.635472</td>\n",
       "      <td>25.228737</td>\n",
       "      <td>-4.712797</td>\n",
       "      <td>-18.630727</td>\n",
       "      <td>-11.384066</td>\n",
       "      <td>-8.069399</td>\n",
       "      <td>6.833284</td>\n",
       "      <td>7.110003</td>\n",
       "      <td>-14.782842</td>\n",
       "      <td>-3.171622</td>\n",
       "      <td>...</td>\n",
       "      <td>2.871639</td>\n",
       "      <td>-0.378978</td>\n",
       "      <td>-3.624723</td>\n",
       "      <td>0.020226</td>\n",
       "      <td>0.583561</td>\n",
       "      <td>-1.572553</td>\n",
       "      <td>6.302515</td>\n",
       "      <td>3.076313</td>\n",
       "      <td>4.169986</td>\n",
       "      <td>dlpfc</td>\n",
       "    </tr>\n",
       "    <tr>\n",
       "      <th>...</th>\n",
       "      <td>...</td>\n",
       "      <td>...</td>\n",
       "      <td>...</td>\n",
       "      <td>...</td>\n",
       "      <td>...</td>\n",
       "      <td>...</td>\n",
       "      <td>...</td>\n",
       "      <td>...</td>\n",
       "      <td>...</td>\n",
       "      <td>...</td>\n",
       "      <td>...</td>\n",
       "      <td>...</td>\n",
       "      <td>...</td>\n",
       "      <td>...</td>\n",
       "      <td>...</td>\n",
       "      <td>...</td>\n",
       "      <td>...</td>\n",
       "      <td>...</td>\n",
       "      <td>...</td>\n",
       "      <td>...</td>\n",
       "      <td>...</td>\n",
       "    </tr>\n",
       "    <tr>\n",
       "      <th>381</th>\n",
       "      <td>49.243013</td>\n",
       "      <td>0.321841</td>\n",
       "      <td>-21.112378</td>\n",
       "      <td>-1.725965</td>\n",
       "      <td>20.123499</td>\n",
       "      <td>-6.622513</td>\n",
       "      <td>2.019680</td>\n",
       "      <td>-2.926181</td>\n",
       "      <td>-4.474775</td>\n",
       "      <td>6.585415</td>\n",
       "      <td>...</td>\n",
       "      <td>1.858333</td>\n",
       "      <td>-3.612652</td>\n",
       "      <td>0.440550</td>\n",
       "      <td>0.604790</td>\n",
       "      <td>-0.130609</td>\n",
       "      <td>1.963917</td>\n",
       "      <td>-0.784680</td>\n",
       "      <td>-0.976142</td>\n",
       "      <td>1.073066</td>\n",
       "      <td>ancg</td>\n",
       "    </tr>\n",
       "    <tr>\n",
       "      <th>382</th>\n",
       "      <td>61.321936</td>\n",
       "      <td>17.044585</td>\n",
       "      <td>-14.799379</td>\n",
       "      <td>-13.042483</td>\n",
       "      <td>21.100090</td>\n",
       "      <td>-7.147367</td>\n",
       "      <td>6.204183</td>\n",
       "      <td>-10.142043</td>\n",
       "      <td>-4.832194</td>\n",
       "      <td>-1.425637</td>\n",
       "      <td>...</td>\n",
       "      <td>2.808219</td>\n",
       "      <td>-2.218807</td>\n",
       "      <td>-1.797395</td>\n",
       "      <td>0.984807</td>\n",
       "      <td>-0.689681</td>\n",
       "      <td>0.913193</td>\n",
       "      <td>-0.211563</td>\n",
       "      <td>0.591258</td>\n",
       "      <td>1.824673</td>\n",
       "      <td>dlpfc</td>\n",
       "    </tr>\n",
       "    <tr>\n",
       "      <th>383</th>\n",
       "      <td>97.064292</td>\n",
       "      <td>33.355602</td>\n",
       "      <td>-10.021014</td>\n",
       "      <td>-18.427506</td>\n",
       "      <td>1.782453</td>\n",
       "      <td>1.041464</td>\n",
       "      <td>-5.732291</td>\n",
       "      <td>-0.345489</td>\n",
       "      <td>12.595078</td>\n",
       "      <td>13.237270</td>\n",
       "      <td>...</td>\n",
       "      <td>0.435511</td>\n",
       "      <td>2.977764</td>\n",
       "      <td>-0.496929</td>\n",
       "      <td>-0.234501</td>\n",
       "      <td>-1.398029</td>\n",
       "      <td>0.254099</td>\n",
       "      <td>3.041907</td>\n",
       "      <td>-3.751911</td>\n",
       "      <td>1.597053</td>\n",
       "      <td>ancg</td>\n",
       "    </tr>\n",
       "    <tr>\n",
       "      <th>384</th>\n",
       "      <td>64.008859</td>\n",
       "      <td>-1.617070</td>\n",
       "      <td>-18.729140</td>\n",
       "      <td>-11.610589</td>\n",
       "      <td>23.017516</td>\n",
       "      <td>-7.669948</td>\n",
       "      <td>-2.200760</td>\n",
       "      <td>-6.846546</td>\n",
       "      <td>-8.208843</td>\n",
       "      <td>6.451569</td>\n",
       "      <td>...</td>\n",
       "      <td>0.849499</td>\n",
       "      <td>0.726178</td>\n",
       "      <td>0.797144</td>\n",
       "      <td>0.323871</td>\n",
       "      <td>0.983401</td>\n",
       "      <td>-0.499271</td>\n",
       "      <td>-1.602294</td>\n",
       "      <td>-2.769426</td>\n",
       "      <td>1.173611</td>\n",
       "      <td>ancg</td>\n",
       "    </tr>\n",
       "    <tr>\n",
       "      <th>385</th>\n",
       "      <td>9.917301</td>\n",
       "      <td>24.440333</td>\n",
       "      <td>-12.684058</td>\n",
       "      <td>-14.163036</td>\n",
       "      <td>21.930372</td>\n",
       "      <td>-3.823641</td>\n",
       "      <td>5.802057</td>\n",
       "      <td>-12.582509</td>\n",
       "      <td>-4.787267</td>\n",
       "      <td>-1.167947</td>\n",
       "      <td>...</td>\n",
       "      <td>2.211658</td>\n",
       "      <td>-2.006867</td>\n",
       "      <td>-1.975339</td>\n",
       "      <td>1.686858</td>\n",
       "      <td>-2.239004</td>\n",
       "      <td>0.168430</td>\n",
       "      <td>0.169483</td>\n",
       "      <td>-0.078776</td>\n",
       "      <td>2.929570</td>\n",
       "      <td>dlpfc</td>\n",
       "    </tr>\n",
       "  </tbody>\n",
       "</table>\n",
       "<p>386 rows × 51 columns</p>\n",
       "</div>"
      ],
      "text/plain": [
       "              0          1          2          3          4         5  \\\n",
       "0   -241.394620   8.389363  -0.044469 -12.885234  -2.581314 -3.055921   \n",
       "1   -324.430258 -10.076295  37.329415 -10.567751  10.350082  0.796032   \n",
       "2    -31.354534 -20.218450  27.855337  16.860970   5.221065 -2.054197   \n",
       "3   -124.381406  31.720574  -2.241897  -0.279448 -21.087420 -3.231646   \n",
       "4    134.635472  25.228737  -4.712797 -18.630727 -11.384066 -8.069399   \n",
       "..          ...        ...        ...        ...        ...       ...   \n",
       "381   49.243013   0.321841 -21.112378  -1.725965  20.123499 -6.622513   \n",
       "382   61.321936  17.044585 -14.799379 -13.042483  21.100090 -7.147367   \n",
       "383   97.064292  33.355602 -10.021014 -18.427506   1.782453  1.041464   \n",
       "384   64.008859  -1.617070 -18.729140 -11.610589  23.017516 -7.669948   \n",
       "385    9.917301  24.440333 -12.684058 -14.163036  21.930372 -3.823641   \n",
       "\n",
       "             6          7          8          9  ...        41        42  \\\n",
       "0   -14.431948  -2.148429   4.896703   7.348052  ... -1.266244 -0.277719   \n",
       "1   -20.941473  -4.337130  -1.204543  -1.212140  ...  2.574768  0.827207   \n",
       "2     6.708242  -0.435252   3.779758   1.829315  ...  0.465199  2.426772   \n",
       "3    -8.064244  -1.411616 -11.896375  -4.504296  ...  0.935037  0.145181   \n",
       "4     6.833284   7.110003 -14.782842  -3.171622  ...  2.871639 -0.378978   \n",
       "..         ...        ...        ...        ...  ...       ...       ...   \n",
       "381   2.019680  -2.926181  -4.474775   6.585415  ...  1.858333 -3.612652   \n",
       "382   6.204183 -10.142043  -4.832194  -1.425637  ...  2.808219 -2.218807   \n",
       "383  -5.732291  -0.345489  12.595078  13.237270  ...  0.435511  2.977764   \n",
       "384  -2.200760  -6.846546  -8.208843   6.451569  ...  0.849499  0.726178   \n",
       "385   5.802057 -12.582509  -4.787267  -1.167947  ...  2.211658 -2.006867   \n",
       "\n",
       "           43        44        45        46        47        48        49  \\\n",
       "0    2.544893  0.831457 -0.459610  1.687020  2.746637  1.084731  0.747584   \n",
       "1   -0.808318 -0.652685  2.310083  0.311161  0.375187  2.016081 -0.371923   \n",
       "2    1.753640  0.146135  1.281135  1.009171  0.278942  1.686265  1.146434   \n",
       "3   -0.868179  0.602798 -1.451823  0.367481  1.579427  3.040097  0.720119   \n",
       "4   -3.624723  0.020226  0.583561 -1.572553  6.302515  3.076313  4.169986   \n",
       "..        ...       ...       ...       ...       ...       ...       ...   \n",
       "381  0.440550  0.604790 -0.130609  1.963917 -0.784680 -0.976142  1.073066   \n",
       "382 -1.797395  0.984807 -0.689681  0.913193 -0.211563  0.591258  1.824673   \n",
       "383 -0.496929 -0.234501 -1.398029  0.254099  3.041907 -3.751911  1.597053   \n",
       "384  0.797144  0.323871  0.983401 -0.499271 -1.602294 -2.769426  1.173611   \n",
       "385 -1.975339  1.686858 -2.239004  0.168430  0.169483 -0.078776  2.929570   \n",
       "\n",
       "     region  \n",
       "0      ancg  \n",
       "1        cb  \n",
       "2        cb  \n",
       "3     dlpfc  \n",
       "4     dlpfc  \n",
       "..      ...  \n",
       "381    ancg  \n",
       "382   dlpfc  \n",
       "383    ancg  \n",
       "384    ancg  \n",
       "385   dlpfc  \n",
       "\n",
       "[386 rows x 51 columns]"
      ]
     },
     "execution_count": 132,
     "metadata": {},
     "output_type": "execute_result"
    }
   ],
   "source": [
    "PC_df = pd.DataFrame(data = principalComponents)\n",
    "PC_brain_region_df = pd.concat([PC_df, brain_region_target], axis = 1)\n",
    "PC_brain_region_df"
   ]
  },
  {
   "cell_type": "code",
   "execution_count": 133,
   "id": "ce1a539a-8574-4e11-b58d-303df0773c27",
   "metadata": {},
   "outputs": [],
   "source": [
    "# Renaming columns\n",
    "n = min(50, PC_brain_region_df.shape[1])  # just in case there are < 50 cols\n",
    "new_names = {old: f\"PC{i+1}\" for i, old in enumerate(PC_brain_region_df.columns[:n])}\n",
    "PC_brain_region_df = PC_brain_region_df.rename(columns=new_names)"
   ]
  },
  {
   "cell_type": "code",
   "execution_count": 134,
   "id": "b84f802b-902d-4a97-bf47-e53c342d1536",
   "metadata": {},
   "outputs": [
    {
     "data": {
      "text/html": [
       "<div>\n",
       "<style scoped>\n",
       "    .dataframe tbody tr th:only-of-type {\n",
       "        vertical-align: middle;\n",
       "    }\n",
       "\n",
       "    .dataframe tbody tr th {\n",
       "        vertical-align: top;\n",
       "    }\n",
       "\n",
       "    .dataframe thead th {\n",
       "        text-align: right;\n",
       "    }\n",
       "</style>\n",
       "<table border=\"1\" class=\"dataframe\">\n",
       "  <thead>\n",
       "    <tr style=\"text-align: right;\">\n",
       "      <th></th>\n",
       "      <th>PC1</th>\n",
       "      <th>PC2</th>\n",
       "      <th>PC3</th>\n",
       "      <th>PC4</th>\n",
       "      <th>PC5</th>\n",
       "      <th>PC6</th>\n",
       "      <th>PC7</th>\n",
       "      <th>PC8</th>\n",
       "      <th>PC9</th>\n",
       "      <th>PC10</th>\n",
       "      <th>...</th>\n",
       "      <th>PC42</th>\n",
       "      <th>PC43</th>\n",
       "      <th>PC44</th>\n",
       "      <th>PC45</th>\n",
       "      <th>PC46</th>\n",
       "      <th>PC47</th>\n",
       "      <th>PC48</th>\n",
       "      <th>PC49</th>\n",
       "      <th>PC50</th>\n",
       "      <th>region</th>\n",
       "    </tr>\n",
       "  </thead>\n",
       "  <tbody>\n",
       "    <tr>\n",
       "      <th>0</th>\n",
       "      <td>-241.394620</td>\n",
       "      <td>8.389363</td>\n",
       "      <td>-0.044469</td>\n",
       "      <td>-12.885234</td>\n",
       "      <td>-2.581314</td>\n",
       "      <td>-3.055921</td>\n",
       "      <td>-14.431948</td>\n",
       "      <td>-2.148429</td>\n",
       "      <td>4.896703</td>\n",
       "      <td>7.348052</td>\n",
       "      <td>...</td>\n",
       "      <td>-1.266244</td>\n",
       "      <td>-0.277719</td>\n",
       "      <td>2.544893</td>\n",
       "      <td>0.831457</td>\n",
       "      <td>-0.459610</td>\n",
       "      <td>1.687020</td>\n",
       "      <td>2.746637</td>\n",
       "      <td>1.084731</td>\n",
       "      <td>0.747584</td>\n",
       "      <td>ancg</td>\n",
       "    </tr>\n",
       "    <tr>\n",
       "      <th>1</th>\n",
       "      <td>-324.430258</td>\n",
       "      <td>-10.076295</td>\n",
       "      <td>37.329415</td>\n",
       "      <td>-10.567751</td>\n",
       "      <td>10.350082</td>\n",
       "      <td>0.796032</td>\n",
       "      <td>-20.941473</td>\n",
       "      <td>-4.337130</td>\n",
       "      <td>-1.204543</td>\n",
       "      <td>-1.212140</td>\n",
       "      <td>...</td>\n",
       "      <td>2.574768</td>\n",
       "      <td>0.827207</td>\n",
       "      <td>-0.808318</td>\n",
       "      <td>-0.652685</td>\n",
       "      <td>2.310083</td>\n",
       "      <td>0.311161</td>\n",
       "      <td>0.375187</td>\n",
       "      <td>2.016081</td>\n",
       "      <td>-0.371923</td>\n",
       "      <td>cb</td>\n",
       "    </tr>\n",
       "    <tr>\n",
       "      <th>2</th>\n",
       "      <td>-31.354534</td>\n",
       "      <td>-20.218450</td>\n",
       "      <td>27.855337</td>\n",
       "      <td>16.860970</td>\n",
       "      <td>5.221065</td>\n",
       "      <td>-2.054197</td>\n",
       "      <td>6.708242</td>\n",
       "      <td>-0.435252</td>\n",
       "      <td>3.779758</td>\n",
       "      <td>1.829315</td>\n",
       "      <td>...</td>\n",
       "      <td>0.465199</td>\n",
       "      <td>2.426772</td>\n",
       "      <td>1.753640</td>\n",
       "      <td>0.146135</td>\n",
       "      <td>1.281135</td>\n",
       "      <td>1.009171</td>\n",
       "      <td>0.278942</td>\n",
       "      <td>1.686265</td>\n",
       "      <td>1.146434</td>\n",
       "      <td>cb</td>\n",
       "    </tr>\n",
       "    <tr>\n",
       "      <th>3</th>\n",
       "      <td>-124.381406</td>\n",
       "      <td>31.720574</td>\n",
       "      <td>-2.241897</td>\n",
       "      <td>-0.279448</td>\n",
       "      <td>-21.087420</td>\n",
       "      <td>-3.231646</td>\n",
       "      <td>-8.064244</td>\n",
       "      <td>-1.411616</td>\n",
       "      <td>-11.896375</td>\n",
       "      <td>-4.504296</td>\n",
       "      <td>...</td>\n",
       "      <td>0.935037</td>\n",
       "      <td>0.145181</td>\n",
       "      <td>-0.868179</td>\n",
       "      <td>0.602798</td>\n",
       "      <td>-1.451823</td>\n",
       "      <td>0.367481</td>\n",
       "      <td>1.579427</td>\n",
       "      <td>3.040097</td>\n",
       "      <td>0.720119</td>\n",
       "      <td>dlpfc</td>\n",
       "    </tr>\n",
       "    <tr>\n",
       "      <th>4</th>\n",
       "      <td>134.635472</td>\n",
       "      <td>25.228737</td>\n",
       "      <td>-4.712797</td>\n",
       "      <td>-18.630727</td>\n",
       "      <td>-11.384066</td>\n",
       "      <td>-8.069399</td>\n",
       "      <td>6.833284</td>\n",
       "      <td>7.110003</td>\n",
       "      <td>-14.782842</td>\n",
       "      <td>-3.171622</td>\n",
       "      <td>...</td>\n",
       "      <td>2.871639</td>\n",
       "      <td>-0.378978</td>\n",
       "      <td>-3.624723</td>\n",
       "      <td>0.020226</td>\n",
       "      <td>0.583561</td>\n",
       "      <td>-1.572553</td>\n",
       "      <td>6.302515</td>\n",
       "      <td>3.076313</td>\n",
       "      <td>4.169986</td>\n",
       "      <td>dlpfc</td>\n",
       "    </tr>\n",
       "    <tr>\n",
       "      <th>...</th>\n",
       "      <td>...</td>\n",
       "      <td>...</td>\n",
       "      <td>...</td>\n",
       "      <td>...</td>\n",
       "      <td>...</td>\n",
       "      <td>...</td>\n",
       "      <td>...</td>\n",
       "      <td>...</td>\n",
       "      <td>...</td>\n",
       "      <td>...</td>\n",
       "      <td>...</td>\n",
       "      <td>...</td>\n",
       "      <td>...</td>\n",
       "      <td>...</td>\n",
       "      <td>...</td>\n",
       "      <td>...</td>\n",
       "      <td>...</td>\n",
       "      <td>...</td>\n",
       "      <td>...</td>\n",
       "      <td>...</td>\n",
       "      <td>...</td>\n",
       "    </tr>\n",
       "    <tr>\n",
       "      <th>381</th>\n",
       "      <td>49.243013</td>\n",
       "      <td>0.321841</td>\n",
       "      <td>-21.112378</td>\n",
       "      <td>-1.725965</td>\n",
       "      <td>20.123499</td>\n",
       "      <td>-6.622513</td>\n",
       "      <td>2.019680</td>\n",
       "      <td>-2.926181</td>\n",
       "      <td>-4.474775</td>\n",
       "      <td>6.585415</td>\n",
       "      <td>...</td>\n",
       "      <td>1.858333</td>\n",
       "      <td>-3.612652</td>\n",
       "      <td>0.440550</td>\n",
       "      <td>0.604790</td>\n",
       "      <td>-0.130609</td>\n",
       "      <td>1.963917</td>\n",
       "      <td>-0.784680</td>\n",
       "      <td>-0.976142</td>\n",
       "      <td>1.073066</td>\n",
       "      <td>ancg</td>\n",
       "    </tr>\n",
       "    <tr>\n",
       "      <th>382</th>\n",
       "      <td>61.321936</td>\n",
       "      <td>17.044585</td>\n",
       "      <td>-14.799379</td>\n",
       "      <td>-13.042483</td>\n",
       "      <td>21.100090</td>\n",
       "      <td>-7.147367</td>\n",
       "      <td>6.204183</td>\n",
       "      <td>-10.142043</td>\n",
       "      <td>-4.832194</td>\n",
       "      <td>-1.425637</td>\n",
       "      <td>...</td>\n",
       "      <td>2.808219</td>\n",
       "      <td>-2.218807</td>\n",
       "      <td>-1.797395</td>\n",
       "      <td>0.984807</td>\n",
       "      <td>-0.689681</td>\n",
       "      <td>0.913193</td>\n",
       "      <td>-0.211563</td>\n",
       "      <td>0.591258</td>\n",
       "      <td>1.824673</td>\n",
       "      <td>dlpfc</td>\n",
       "    </tr>\n",
       "    <tr>\n",
       "      <th>383</th>\n",
       "      <td>97.064292</td>\n",
       "      <td>33.355602</td>\n",
       "      <td>-10.021014</td>\n",
       "      <td>-18.427506</td>\n",
       "      <td>1.782453</td>\n",
       "      <td>1.041464</td>\n",
       "      <td>-5.732291</td>\n",
       "      <td>-0.345489</td>\n",
       "      <td>12.595078</td>\n",
       "      <td>13.237270</td>\n",
       "      <td>...</td>\n",
       "      <td>0.435511</td>\n",
       "      <td>2.977764</td>\n",
       "      <td>-0.496929</td>\n",
       "      <td>-0.234501</td>\n",
       "      <td>-1.398029</td>\n",
       "      <td>0.254099</td>\n",
       "      <td>3.041907</td>\n",
       "      <td>-3.751911</td>\n",
       "      <td>1.597053</td>\n",
       "      <td>ancg</td>\n",
       "    </tr>\n",
       "    <tr>\n",
       "      <th>384</th>\n",
       "      <td>64.008859</td>\n",
       "      <td>-1.617070</td>\n",
       "      <td>-18.729140</td>\n",
       "      <td>-11.610589</td>\n",
       "      <td>23.017516</td>\n",
       "      <td>-7.669948</td>\n",
       "      <td>-2.200760</td>\n",
       "      <td>-6.846546</td>\n",
       "      <td>-8.208843</td>\n",
       "      <td>6.451569</td>\n",
       "      <td>...</td>\n",
       "      <td>0.849499</td>\n",
       "      <td>0.726178</td>\n",
       "      <td>0.797144</td>\n",
       "      <td>0.323871</td>\n",
       "      <td>0.983401</td>\n",
       "      <td>-0.499271</td>\n",
       "      <td>-1.602294</td>\n",
       "      <td>-2.769426</td>\n",
       "      <td>1.173611</td>\n",
       "      <td>ancg</td>\n",
       "    </tr>\n",
       "    <tr>\n",
       "      <th>385</th>\n",
       "      <td>9.917301</td>\n",
       "      <td>24.440333</td>\n",
       "      <td>-12.684058</td>\n",
       "      <td>-14.163036</td>\n",
       "      <td>21.930372</td>\n",
       "      <td>-3.823641</td>\n",
       "      <td>5.802057</td>\n",
       "      <td>-12.582509</td>\n",
       "      <td>-4.787267</td>\n",
       "      <td>-1.167947</td>\n",
       "      <td>...</td>\n",
       "      <td>2.211658</td>\n",
       "      <td>-2.006867</td>\n",
       "      <td>-1.975339</td>\n",
       "      <td>1.686858</td>\n",
       "      <td>-2.239004</td>\n",
       "      <td>0.168430</td>\n",
       "      <td>0.169483</td>\n",
       "      <td>-0.078776</td>\n",
       "      <td>2.929570</td>\n",
       "      <td>dlpfc</td>\n",
       "    </tr>\n",
       "  </tbody>\n",
       "</table>\n",
       "<p>386 rows × 51 columns</p>\n",
       "</div>"
      ],
      "text/plain": [
       "            PC1        PC2        PC3        PC4        PC5       PC6  \\\n",
       "0   -241.394620   8.389363  -0.044469 -12.885234  -2.581314 -3.055921   \n",
       "1   -324.430258 -10.076295  37.329415 -10.567751  10.350082  0.796032   \n",
       "2    -31.354534 -20.218450  27.855337  16.860970   5.221065 -2.054197   \n",
       "3   -124.381406  31.720574  -2.241897  -0.279448 -21.087420 -3.231646   \n",
       "4    134.635472  25.228737  -4.712797 -18.630727 -11.384066 -8.069399   \n",
       "..          ...        ...        ...        ...        ...       ...   \n",
       "381   49.243013   0.321841 -21.112378  -1.725965  20.123499 -6.622513   \n",
       "382   61.321936  17.044585 -14.799379 -13.042483  21.100090 -7.147367   \n",
       "383   97.064292  33.355602 -10.021014 -18.427506   1.782453  1.041464   \n",
       "384   64.008859  -1.617070 -18.729140 -11.610589  23.017516 -7.669948   \n",
       "385    9.917301  24.440333 -12.684058 -14.163036  21.930372 -3.823641   \n",
       "\n",
       "           PC7        PC8        PC9       PC10  ...      PC42      PC43  \\\n",
       "0   -14.431948  -2.148429   4.896703   7.348052  ... -1.266244 -0.277719   \n",
       "1   -20.941473  -4.337130  -1.204543  -1.212140  ...  2.574768  0.827207   \n",
       "2     6.708242  -0.435252   3.779758   1.829315  ...  0.465199  2.426772   \n",
       "3    -8.064244  -1.411616 -11.896375  -4.504296  ...  0.935037  0.145181   \n",
       "4     6.833284   7.110003 -14.782842  -3.171622  ...  2.871639 -0.378978   \n",
       "..         ...        ...        ...        ...  ...       ...       ...   \n",
       "381   2.019680  -2.926181  -4.474775   6.585415  ...  1.858333 -3.612652   \n",
       "382   6.204183 -10.142043  -4.832194  -1.425637  ...  2.808219 -2.218807   \n",
       "383  -5.732291  -0.345489  12.595078  13.237270  ...  0.435511  2.977764   \n",
       "384  -2.200760  -6.846546  -8.208843   6.451569  ...  0.849499  0.726178   \n",
       "385   5.802057 -12.582509  -4.787267  -1.167947  ...  2.211658 -2.006867   \n",
       "\n",
       "         PC44      PC45      PC46      PC47      PC48      PC49      PC50  \\\n",
       "0    2.544893  0.831457 -0.459610  1.687020  2.746637  1.084731  0.747584   \n",
       "1   -0.808318 -0.652685  2.310083  0.311161  0.375187  2.016081 -0.371923   \n",
       "2    1.753640  0.146135  1.281135  1.009171  0.278942  1.686265  1.146434   \n",
       "3   -0.868179  0.602798 -1.451823  0.367481  1.579427  3.040097  0.720119   \n",
       "4   -3.624723  0.020226  0.583561 -1.572553  6.302515  3.076313  4.169986   \n",
       "..        ...       ...       ...       ...       ...       ...       ...   \n",
       "381  0.440550  0.604790 -0.130609  1.963917 -0.784680 -0.976142  1.073066   \n",
       "382 -1.797395  0.984807 -0.689681  0.913193 -0.211563  0.591258  1.824673   \n",
       "383 -0.496929 -0.234501 -1.398029  0.254099  3.041907 -3.751911  1.597053   \n",
       "384  0.797144  0.323871  0.983401 -0.499271 -1.602294 -2.769426  1.173611   \n",
       "385 -1.975339  1.686858 -2.239004  0.168430  0.169483 -0.078776  2.929570   \n",
       "\n",
       "     region  \n",
       "0      ancg  \n",
       "1        cb  \n",
       "2        cb  \n",
       "3     dlpfc  \n",
       "4     dlpfc  \n",
       "..      ...  \n",
       "381    ancg  \n",
       "382   dlpfc  \n",
       "383    ancg  \n",
       "384    ancg  \n",
       "385   dlpfc  \n",
       "\n",
       "[386 rows x 51 columns]"
      ]
     },
     "execution_count": 134,
     "metadata": {},
     "output_type": "execute_result"
    }
   ],
   "source": [
    "PC_brain_region_df"
   ]
  },
  {
   "cell_type": "code",
   "execution_count": 141,
   "id": "e5fb6943",
   "metadata": {},
   "outputs": [
    {
     "data": {
      "application/vnd.jupyter.widget-view+json": {
       "model_id": "0fdccd2075544cabb6771bb3ae3dd955",
       "version_major": 2,
       "version_minor": 0
      },
      "image/png": "[encoded data removed]",
      "text/html": [
       "\n",
       "            <div style=\"display: inline-block;\">\n",
       "                <div class=\"jupyter-widgets widget-label\" style=\"text-align: center;\">\n",
       "                    Figure\n",
       "                </div>\n",
       "                <img src='data:image/png;base64,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' width=800.0/>\n",
       "            </div>\n",
       "        "
      ],
      "text/plain": [
       "Canvas(toolbar=Toolbar(toolitems=[('Home', 'Reset original view', 'home', 'home'), ('Back', 'Back to previous …"
      ]
     },
     "metadata": {},
     "output_type": "display_data"
    }
   ],
   "source": [
    "fig = plt.figure(figsize = (8,8))\n",
    "ax = fig.add_subplot(1,1,1) \n",
    "ax.set_xlabel('Principal Component 1', fontsize = 15)\n",
    "ax.set_ylabel('Principal Component 2', fontsize = 15)\n",
    "ax.set_title('2 component PCA', fontsize = 20)\n",
    "\n",
    "targets = ['ancg', 'cb', 'dlpfc']\n",
    "colors = ['r', 'g', 'b']\n",
    "for target, color in zip(targets,colors):\n",
    "    indicesToKeep = PC_brain_region_df['region'] == target\n",
    "    ax.scatter(PC_brain_region_df.loc[indicesToKeep, 'PC1']\n",
    "               , PC_brain_region_df.loc[indicesToKeep, 'PC2']\n",
    "               , c = color\n",
    "               , s = 50)\n",
    "ax.legend(targets)\n",
    "ax.grid()"
   ]
  },
  {
   "cell_type": "code",
   "execution_count": 135,
   "id": "bb18a751-b8cd-4f7e-bbd2-fb0359c1f214",
   "metadata": {},
   "outputs": [
    {
     "data": {
      "application/vnd.plotly.v1+json": {
       "config": {
        "plotlyServerURL": "https://plot.ly"
       },
       "data": [
        {
         "hovertemplate": "region=ancg<br>PC1=%{x}<br>PC2=%{y}<br>PC3=%{z}<extra></extra>",
         "legendgroup": "ancg",
         "marker": {
          "color": "#636efa",
          "opacity": 0.85,
          "size": 4,
          "symbol": "circle"
         },
         "mode": "markers",
         "name": "ancg",
         "scene": "scene",
         "showlegend": true,
         "type": "scatter3d",
         "x": {
          "bdata": "r94AuqAsbsA0cvbQryJswC+wGp376nPAsTS+nZ/dYkBfEXKEaJYxQEuhzBS/5GjAhsBec7ObWEBaRxCqbc45QCvxkQfB3V5AMQcRXTKpLUB4yTwFFSdtwES4WCvog2zASy9cnSoAbsAsveKWy1BvQOgfTOiE2TRAWWcqkqZnYECJedhsPB5EwBILAZS5RGlASki+KR8EEsCQwUGZLpJbQEGPQafrW0bApM/YeW1KccDXiQiiDwxvQLMM1d5X0SxAWXTU+uu4E8BklKxfBddhQErwkD52akPA+MXn+g/jZEB44TvqpppXQELXsT4/NErAZGuZh0OLY0AG0jz18bc1QII9vqQHgGVADjbEDKqBaECowby/u0BkQPJy5gbi5STA6mEeMmp7VcD3NiVXZJJwwFO4UjQuGV1A0gdgUWn6ZUDV9DCN7WVcQAiAqBSwd0zA8CcgIX8hXEDK57jIRuMmQK33kbyiSVlA/LvhFBZOScAxp5c8MjNawJk6L2NB3UvAuTuAOG5lW0DIBLOryhlKwOIr/cqf0FnAXcPFrmSXR0DcbtwZgWFcwBcEZebLkVdAhQ9D/+j6RsDZWfiZPrNQwFAdwKLABlTA93c8JMuBY0ASDW3ok69bwCt3c1gW315ACHpdrL6HRMDmj6LtYOBoQCvCK9LXs3RAxc0nxkF4ZEDJPaqg/8FNwAq056SQF2RA40A5+h0aRMAF133q6l9pQDASh9ucOUjABn3Jq2KJd0CWuFrZWmxgQCr1ZAdnrEFAUO4aCkYKSMDcHczXJ/xmQNZS1UzeD1ZAKSa/3vWLW0BQzqhEYWxXQNXuy+RHlGRAcdVoZkS9SkBbnasamXNlQP+DTWnA/GtA+HmzvyG4b0DcdqfSKcFvQFrkLzDODmtAhEg20GgzbkCEl108zW1nQMFyz4++sjpA6NUL7jjIXECNvCyLLC5XwP4JiRjgTVtAUKgkTyIOYkD9CEove3dgQLV41HBXXTLALci1gcgRZEBOJkuXTjZFQNVGzDO/YFpAhh22FJ+tIEA/pTKMSkViQKSlSHHF80JA/6PZyGLRVEAiu7pyyKEjwKqjFtoy7lVA3aGZQwLiWUCy739QI9ZPQNG0PVt2fVDAtuBbeNv/ZkD+/JDt1bYYQMAHi5sjD1NA6IX7fZ5yN8APjfdT9xhlQJTF1AyEmQJAUAhFcLVBXUAc2lgVjMZIQHqXXlQeaWRAIk4PUsQ4PUBdd9ez6gVNQC+QBp8hU1ZA9bg8wHzUUECml+CMyHg8QLCXKRUCV2VA8mqqGCFxUkA20jCi9b9aQCm4WebfXT5AuNyn8ZdzZ0BqjJkNG59IQKxwMlwdRFhA7aXwJZEAUEA=",
          "dtype": "f8"
         },
         "y": {
          "bdata": "43Ahk1rHIEC5DkkQdkHVv69Y22MkREDAUkJYYiJ6O8Dh8fwRdD0/QLcwzZDUlC7AGXXSpVlZMsAr/7mCjxQ5QJt7wu/EnSdAdlK/NKGnJ0D/k69F41oPwEnEAy9aFyvADHy/2jBOK8DVRQzEBRZDwOq83pqPgTlA3YSsqBbXJ8DIz4FlJIUMQEW2fyuMHhrAhTSy2fwALECUjTVO/bUzwOkk6JIGlTJAEKh8mp1NBMDKcu9V0Ec8wCOFXdMGdkFA1tjlayBaN8B78+fVM6QwQNt3tp8YYALA+6iYbYKiNsAb4DwMldwaQPQmhz4NcSBAzq0B1b4HMcCgzrt1L9AnQEOoow4sVCfAQYHklrB3OsBMi23+tLQgwFZEb++pbzhAuGuXJy2KQMCWhc7RXwQxwNn4x7sp1xfA7cGLvtJlJEA8YzxXvpsowI0BDw4fhCFAFhuOSFl+LUCn4ocghb81QHx54sYXS0HA4G0LIsVwMMAn68VBnplPwGYJlOT+TTHA8h0VdfA6IsBwES/NjJgOwEigmF08dDrAN/YotwsqC0D2OD3LnQcswJmfT3q+TjdA0S/U+tsGLkCBcLpBG/oBwD8A8knFdDvAkfZyoDcNCEAhbBW7G6glwDBTHUtwKiFAyD0pRFsJF8BJaWmZVcQwQH1VJNAnWArApQ7IXCblGUBxvcETBE4RwOQOclsmyi/AxQSC8qduHMAjJlOkvC0FQOsmr2XRsRzACECKFTNVScBZSFhE+Of8PwUUzWEPISjAfU8CLJv0QsB4BFtWxLk5wNz2q/6Pwi/ATw4R8OYs778wIKEsyKACwCv+HvSQpEVA54NuI4a4REDNKmsl294NwHhWuiEOJOA/JXEkjgm5G8A2iVUeAZ0UQHaY/0Vk2ybAW2fMHvtHLkCsT/iPgdw6QEpJ+aTypkNAUKIwOj8QQUAPIAQDfwxCQBrF6dw5oUHAzznIsINkMsCiARx05nJHQKLzPMzh50ZAf1McEaGjRUDUqNwGZHlAQGB9XyYcxDRAaxx53EXDREB3aWJhYpEtQNUChv0i7ENAvT2cikQOPECV1aLxiIhEQB8XNKUjYkFA7mZCzfLEKUDo9jiWVagpQI0GCvLrFhVAAq/EzZ/hQUAY4z0x1LlAQPjHnecx10NA05S5uMqVPkCuwF+aPFw+QEjGKosy8EBAaXF+oym1QkCft768CrVFQK8H7N37GkJAMkULdS1/RkD/gXJN43Y7QGtdk1SMBw/A//GAXDZqP0BjM4CTT68rQBJTDWMqgkRAHNSZTbYRLkAz67bcL5JKQN8StbwOxTNACTpbbeHTREByI8h+CZnUP3AdRWCErUBATPEq34Tf+b8=",
          "dtype": "f8"
         },
         "z": {
          "bdata": "PzLOt53Epr/5MhZgVCrwP/DWhPe7cfE/6+i9Cb/hLMDIIBsLpvc0wMRDv6aKA9U/W88O9MMWKsAuFpsaYOc1wLz0qBjKPijAcmc+JR29NcDijqDPovMBwDUcMI+V0uE/5D76vCbWDUDVw0sGIe4twIJKtc3uNDTAzVvgpnTaJ8AXvpwR62QzwC/kg8DE3SbAaBitDjrAM8Bc5DTAM+ojwI+Wm7JhKTLAnY4DL06wIUCqpLSjYAAswNEjUEy29y3AcOe/lKaRMMA7pr9sY2YmwIiNUieVKDHAk0TGjhRJKMBPjsZl6I4swLLkXejAEDfASAOM/fajKsBwGxVGlfYzwCQm9updeijAwjsSvMJiKcCU26nOEZMswNSTScmMbjTAyfs4rBTCMMCMg86sw9P9P2SqLogY8iHAiMgFkJT1NMAcFkD+ruUnwJ4MDjN0QTPAOOcXEUVQKcB2ebRUvhQ2wJCa17l03irApgz53m5RM8Dz2yy0OzgtwDo+qXw1kTLAVHOffqyMJ8CAbhiFYfg1wG9MWVwNQi/AfFVGeKdvKMC/nSGruP0xwDmMtCM85iXAskaGmQT6NMA7YE6wCbwxwC0RZTCJFDHAeoIeLVJYKsAm1BSd2UoywMBeklbwqyfAlrCDWz7mMcBPx/JaDkMkwLhMgssFlDjANKlQX6EELcCb58fk9Y8ywILVV/pFfSbA7CdlyGGyMcBUoXZSNs0rwOtvNzhbNDPADZrg27J9MMDV+0m5Ld81wLL+WT0hGinAB6p4DLj6NMBpqnuvUj0hwHWRBJQx6zLA4NWEdd5QI8DEs6HUX7czwG4kuT6nDxvAzsEmsqwTMMCGaYYKtqUgwBqLwpTwMzXArOWwEnxLJsAm0mdM34E3wD7CnBhh1ibAj5G+mMJ3NcDA4P+4abglwIHDI2QdDDPArVc5RpePH8DCGPpQ800qwPZK0XlB3yLA47h5CU26NMBM/faNEAUdwAjyWc2ngC3ADr69EpipGMBCjtYi89IxwJ9RjdN1eCHAd1FePs2wMMBqYN3yULcgwMo2OJlQozHAbNppbvjVIcArhNEF2zoywAvilHD8bSLAjkD1imneMcDf2X0fIDkbwJOnvurlTjDAquhUPIJ/JMApa13Y5NAywMBgxCQ7YgPACzyJ6umELMDkZiqrk60ewITYrvy9ATHAT/zDYk41HsAAujsSupcxwOWXsj1a1RnAsCRqOzYgMMAr/Fsf6RIhwAMr50MGIzPAKR9emvojIMDd9WYSbRowwK6M5jRygSHAddzV8otmMcDtv/VmmVAYwPN8KO33ajDA6lpuKLIlJMAR1oLKxBw1wPlmqVfCCiTAsL3A5qi6MsA=",
          "dtype": "f8"
         }
        },
        {
         "hovertemplate": "region=cb<br>PC1=%{x}<br>PC2=%{y}<br>PC3=%{z}<extra></extra>",
         "legendgroup": "cb",
         "marker": {
          "color": "#EF553B",
          "opacity": 0.85,
          "size": 4,
          "symbol": "circle"
         },
         "mode": "markers",
         "name": "cb",
         "scene": "scene",
         "showlegend": true,
         "type": "scatter3d",
         "x": {
          "bdata": "gW5bVuJGdMDpyZHEwlo/wI6cDbxxNHPACoQeoglcAMCO+OjrDJN1wNcz784JIGDAHAoHUgrwakAuOfTLA25xwCvcVWur+DfAIE8E0v4ba0CZHdggj15lQAj15f9zq2/AcFEMa0TPQsBxzMrrzQ5xwC0ZJ48jwVjAg2bELvzMcMAAOi5cuC9RwCdkzBMAEmFAZ8oHJFcEY0BnneSU8lhcQHJESN8FFURA3/W53av2dsBV2eA1+N1LwNWcHi2nMltAI9WT6GS3TsCDTAvB1j9lQNyph1bDeFBApAVlR3qX/z/IsAa90ONhQFajGYhEWmBAeNbYg/5dWEAFEj29L9pfQPUhpJAmSzxA72MVCl01X0BrLNh25KxfwN9IV2j1sWbA2JgkVVtIYUAp+GM47K9ZQD9qG0HGk0VA2kPWF8ZQZkBxqBaN5XtiQFmQBJkbRmBAJtzEfIa+VsCqMGT8r3AlQO70sRzmS0NAf6dkPecFYsAJ+EMOUJY1wHBVRpOb1kbA2tHhPzADTUA9dalCu0hmQFOEKanZbBjA/Q0oFY1eVsA398JT78w8QEmDGiKozWVAgW5ICnZFUkBwnr2qlQEewHstv+N5oV9ABk48u6G+N0BMOjmPMUpRQP0xsSNwn2RAVeTXljdxaUD8Qm0JHAVGwKjA6GdJzFdARUOkb7A1FMD9HQO3i4UqwP/FtTBygV9AbZi1GEO4XEATNyUdUKdgQHuQ3Qacj2RAk9Zsds5OXEDyfELdgTBjQHlbiXO3imNAA9XVnj0DaEAN/Nd6ULRjQHEchnJm8mtA+XddOh/MW0Bcw/R+PEhjQB3aohjtTV9A93ArC+D4MMDLdBDIePRjQKtjlMgAhlhA",
          "dtype": "f8"
         },
         "y": {
          "bdata": "+/uUGRAnJMD3hBdZ7Dc0wMFG62sDPz3AxdoFRaG/QMCF/+xF0/FBwHK7oIamFUPAxARk7X/3PcCIo/Ho0a0wwEevlfh2ZTTAgtEXvjfSQsB4Xf98Glo5wHnCHoihnSnA9UYM6+KvH8CdIZ95t0wzwBj15ddOtyzACfPpR4nZLcAC+5tRP5MswM9tMV0E4zXAG9SmmpuKRMB2cIXFXl4+wNUGj/buFzLAVcZIzjwpQMCVPoIxxDEuwAVwsVuMpTnA0Ca/tU5WR0AFh6dlPqUqwNjksEHJEj/AMdmEwDK3IUCkH208hGwTQBp4BIVykyzA/OPA/AxKNsA/6iHmM6k0wCXVKjZaZyHAfmZC5jcl6D/45LDCZoRBQCkm7T7U4zzAIPedZvDLMEAyX842py35v+TklZE4+RbAZKXYy3q5NMAzdlYThS0YQNXC3DUBqSbA0yNlQOfeREAIJ/1cwBUxQB4qgbl/pRRAnzozhrAJOEDTEC+VDx4QwH56+wGtbDrAXmLzxBDdOMDYF6tgHjgzwCweuqjzKUXAMExrHsxHPUDLpCVPfV8swMH7T+jjRyTAFH77dWOcQcAPVkgQpy4YQME7Sf3DGh1ASh1FuvyKA0D8UEicKvcsQOKVnHhwlz1Az/VEJlOIIMDB0pe8a+H8v8JLAzcouO+/z6NdphsgI0D57+H2K/siQMkdu7sea/G/uB1NsmEXQkA7GdcWR/ztv5s/aU5uHizAfEgMM51lQUCS+oh2n6gMwEgntFN2cT9AJ2fd2HKOBEBLkNOY5vMzQIxOSjwXYzDAFELIyx4uQkA63/5yim4gQLwR9cVpPEDAC1k9KizTEMAV0yqDzZUwQIpRLIHu3tu/",
          "dtype": "f8"
         },
         "z": {
          "bdata": "lk7+QyqqQkDM/41c99o7QGVM1drpjT1AEFJykpVSNUCRsxEkdao6QI0ydzOtETJABi+DbwiYQUByZVdbfYNCQL+/Go/wlT1AtzdL1tVEQUBiXktgaClCQMQcFK3fh0JAocuBeu2rQECJVwfuv39BQP5XpCA2iD5AxPcJYayFQECyhPBpjWw6QOzep4JH+kJAt41NaTZBQEDHY3nYob9BQIBl67hqqERA0Rtzl27zPkCHdx9c4ghAQBjUgwSqokFAB7VOdm4dTEBwLwVTW9BDQCbfRwrjQT5AOniRZYQVR0DZDklPY99HQIjyOG3rG0RAwObh/0utREDOmYODsJdCQJ8ZY3GRRERAzzC7sFXdRkDxAhP/WJJJQBVZkkaWMjNApQuXThp/SkDfjgKJsxJEQIGzRPizh0RAglZ+tKUiQ0B/tHOamHdIQNCJ8Y1EL0VAjqkgiZ3vSkBgbG4foRNIQNOcZJAdvUdATY1x+4XTTEDiNTO5sM5GQKdaDBDPlTpArZeiDMVGQ0AlYbqHPyhGQC4yxnKa8jpAq6Fa5H0hSkD9nEnU6DhEQCdZkNBYkUZAoRlGfKvUQUA4bypzujlGQLBKdhGCr0dAkywaViYaRUC5KUSeHdlHQGmE+hCW8E5ApGt/yjZsRECeJYtuN4BHQNOphyFO60hAhzZ3UmqiR0ATF+944DJIQEXb0/j5H0dAzqEWwh3MTEALJ/2xAg9EQA+2MBpfb0NAHInDNFq4TkCj+Jyj/wZFQKSagCw5Pk1Ase/qxnWfRECxGsAHKqxMQJhK4RVumkNA0cPWfaX3TkBIOmxPZdNGQIXfN/jolEBAiMVIW4kbQUBR0HPBsf9LQLM47YTrLEVA",
          "dtype": "f8"
         }
        },
        {
         "hovertemplate": "region=dlpfc<br>PC1=%{x}<br>PC2=%{y}<br>PC3=%{z}<extra></extra>",
         "legendgroup": "dlpfc",
         "marker": {
          "color": "#00cc96",
          "opacity": 0.85,
          "size": 4,
          "symbol": "circle"
         },
         "mode": "markers",
         "name": "dlpfc",
         "scene": "scene",
         "showlegend": true,
         "type": "scatter3d",
         "x": {
          "bdata": "Ek/F9GgYX8B8h3/IVdRgQB7Bv5fF7lDAb5yQb4j7c8CFWQ/0cBMuQHyxtT2hS1zA2ovvmy8LcsBHtyzN848tQM1F3Zo63WDAOHmuD5ygecDLBXR1sUdXwEL04lQ3yFXA06dLC6J9UsCqI7am+2ZQwE/wpwjvQ0PA/DdrUUqrYsCprbkaClJbwD43nmys7jHA8+Vry393XsBKDIIwsBZ1wE3EoQvRvxfAhDQH/8F1VMDspPhzjkE8QMVKRjbduFfApBYB7CvwVcAX5sumuvkhQLl3CsSVpGDAqn9LBop5YcCyBKPs8DUoQJGjqAnyK1DApH0F/FljdcCJ5F7MrHBAwBbCeTKSLFPAXHnXEJN8d8ADredHtdldwLHuC8GQ3VFAMuu3up8HUMC9BOCT1jJ2wBcD1bC9F0vAzuVFj6siZMCQqTY3ued1wBtbfSbBMUlA/Mmz7BGXUsDfFUqRT1RAwLCM2nGBoWbALGiJ104HUMDX4k5A/FVowCGPxnuHBELAJojgLcyiRsAJy+YCZbFhwF6ZTXhl01fAvKq1Nl+ccsBNJCn5IplhwEpYU+1E8lbAPlLWepJZXEBK+aGU/xxAwFef5F+OQHTAPiWqaXc6ScAsk7IjZLRiwE29jTQaFGHALjNL9Y9JYMCtE/Vjn5tgwBQEcneqlSPAZ889TyDpA8BtGVRSdkFaQEooXzfWP1RAaMEIk7y6aEAm4XSHyVJcQFAfOlBtSEXA4lkI2l4cUUAM+V/MX1JWwLKYSJ3Mdk5AhyivYbxCVMDP3GPITYFYQMLVyfrJf0jAetzYdYB/Y8D0vDekllFHwBYNVYSuxFjA0giNXA4LSUCHrjifRVBFwPcpF7uUx1fAb32fuAwwdMAzMzc3E8VhwGWs9uQU40PAtm67+sMMTkCfrkZiGntCQBr47i8TLk1AWUGwnAEtR8DmMPKge/FEQOH1p1Sr6ErAgx35aur4YEDG/+eV8eBCQMtFU4gTAy/AtyobDcM4Z8D2K2H23YhHQAZ4yaPS7zxARloE1K7PXkBEMhU3wfpAQEFANwXK+SXAdtRCNPQzRcBzcGtObABjwKO1PYhpPjBAg+QcPUheY8Cnmof3YFpPwHnR5otwrBDAYkg0vFNkZ8DeC5UGEeZ2QLu3l42myDjAvU7QNnD84r9U3+o9XIZQwGDLB74sTVfAyb2vrwr9VMB1NOVHLQtLwHy+FXxxZF/A0BC1G2HMX8CGyaWj5pw/wOotkqbNvDXARaREU4wYSECpEQbNZN4xQDIrMnvsgC1AnvWT1yWURMC3gmrZbk1WwKMqZ2+hvGfAcsZGKKN4R8DJbPJiUo40wIbtPhaQG0hAdRcRdKXYOcCTx+mUbg5NwOfdFlH3cU7AEm71qyXwNEACe/Za9ldcwDpnPezBbjvAJwvtp/7sBsAB4hYl6BVGQItJKA1dRmjAI5ohI6OBQEDybr2NCX1XwHsTBD9d3GTAzdahPFv/VUBbNIfL45JQQMqxmAL17VjAotj71EsMVUCB+YRGkttZwE2CPfqKs0RALlLr7ZJJREBSvNhonf5swIPHYklK9GBAzOh9BofmMkAhoVJpNIE3QLh0AgE0YW/A09B7FKlqaEDO49ECzRpmwAU09mbxIGBAqAz4NRODacDwC9+HFLFXQN9m7F5KOG3ATCGVndgFXkBs4XVIwJNuwKVMp03AX2JA0XsIJL3T/T9ljAJJcv1uwJx1GoXUeVhAbenlJhOQZsDQ0E6BvKliQD08/R3RK0PAkPwNuD55YUBloOCSfRprwGAszTuTHllA6SfTr2alWMCctegAOJldQJXemMzFnW3A2HOjE0oPYUC3LKnzkJAlQAAXC6VNKkBASv8ot+RERUDE4dj8Pbc7wOSRkS81qU5Ab+fScKjVI0A=",
          "dtype": "f8"
         },
         "y": {
          "bdata": "UX8igne4P0AmxoeBjjo5QEHAC1ZbKjdAzV7qOcJzNcCjUexBcfk0wNU9oYdXKDRAZFWxbqirGsCxmmpWUccowP85oXVsET/Afd9bDxMdSMCWdQTGvmlNwI4X6Zw7xi1AOYhDK3RAK8Ao6R8U1oJAQOI7/hrpMgZAuhg+XAfqHEBZ6MZLk9RMQLO96vhh8Ng/l7yZgv6UHkAsiUfmdbs1wAYuXersOCbA0pohu2rzMUCBAIqI5FInwLueDI8blTvA6AYZXviOP0AzDvhq6XrtP6CzYA/JOzDAzHEpkVQdN0B3mUnlOl8fQEkDxlv2TyxAImeHlKpVFMBa0Ip9XZMywKPiSnGwsRdAr9UhI5mcUMA0h9GeBWMlQGgKuFI4tSDAsvHNMhCrBcBK0/XThZYjwG0mPd9YJRNAVTLSr8KEKcAs6VwaINo3wHO8tKjpp1DAWF6OdbDGQUC3OstizsEqwA5VAVDQeSxAE/YMsZJasr+NcsOMuoU6wO78fIc/m0tAGgqfZmIQFcDv3sf70+Xpv6Rc6/uIgj1AmQtjP2HcPsAY870Ak0wSwPq+ROXJbSxAOl1XohEnLMAcgVTdq4wZQHQsnS+XLBzAoIT8MNBMGMBTXjY8oiI7QFUCWhZ5gTtAxwL8GOa0TMCk2J6EjbkUQKTzxSHrkzfAV8Yqi/yXJMAEufg4Tww5wBz9kHRr1CTAKnD2HboUQ8DkW5hCSZVHwPsBH1rRU0DA727jPFAhQcBusfYB3hojwEOqKtstOv4/HAKHF64IL8C+ALrF2QEqwIQ6Ms3NETRAjamHekJ+VMDkC6tUMYhRwPWLUJuaZyxAhfpYD/KMPMA4q0L9wl1BwH2OrVy2jBpAXYFHPLLIIsBTwxonzRg2QHHQiQfHd0bAHQ0CSw0KGMBwdbTXpSQbQCmhB8GoLDvA40EBZ9t8IUAw3M5M4K4qwKdQoFS6lgBAHMt9fRpNMMCeyRmN390WwK+cJHO4GDrAKiu7kw7CK8DjJKupkx5PwChHjv34q1TAxRV3splbPcDkfH/10qw2wLHoL2H8Xk7AR3SN30MRNMA4n4JUrCwlwNclygSSizDAobzMo1BHLMBIrfockLgWwP5gyq34KEHAMMtoV5leM8DhEj6liJdhwARrs9xQDJm/mXuwbSi9A8AZiudBVhwtQJFuD7e9VSBAbZ49XFpaG0C4yGPG8TsrwFqdMlkceAnAO1hFKJgh4r8Mpuxq4vn/P8fFQ0fg7kHAP0zBzQxNMEBwNBgRgMQnQPXYx9YwJbQ/y+VbhMoGJsBXPvhZHgAcwP/oWQA31j7A+QmGvtayAkCpwvCQoRYxwOKl9jpfIec/P1lZ5pklJ8CKCCDZhxEBQIiV+EBdoD/ARBMnDgsEJ0BydNmq5apJwBbZG931iyrAVNGt5Ed3MMCFmqrOHyAowArr48Gau0XAGDGLc6rxIUBTCmgC/q1BwB4ItU3PHVNAtQ1fuLNzQkAES1LPB4giQOx1pWkbBT/AgnKGd4zH27/3ZlWALIZEwNcx6SDtVilAXHxQLB/yHEBZ/Kjpq2BTQId5Yn9BRBJAUOHcfNyt3T/uVIofOI4xQDkVgY9Sj09AKGCqsNq+KMA+GjpjerxRQLnZ1uibqjJABdxVw9wZUUDEanc8AIk5QN9lftTb1VFA2ABfa8RkSECwKLjPTTVSQNsadaz1HSJAFmBk4H/K8L9rxJwK7P9DQBVK2ecAAxHASv0T/NlQUkCpERu/f8c6QEXAKWTBsqw/v1HZHQbXPUAvWitss3ZSQFZE5t3Moz9AYwIwn9jeUUArPxFEjONBQA2S8TaIr1NASEBtbWoTNEACnMn1cQMvQJIKjhwsDAzAu+iwObBkJ0CUVdv4j8I0QDzuHOhpCzFA46BHqrlwOEA=",
          "dtype": "f8"
         },
         "z": {
          "bdata": "g5JqsGfvAcCCwaN759kSwI2W0Nm1owXAXfYycP3WC0DiP40LeGcxwB99I9dYkNs/2eWLVQp7EECQYlZIpBkwwD3RhFZ8pAXAP2cfrOguIkAFmcjRZyYwwCJAF/Ip9wTABHxBw1zKLMCpGcPXPpEewDCwCfbqbS7A85658DKqMMDMUs1wPjcUwPmSIoVwlDLAMgxfSfiDC8DCXshQSTQSQEbAHzEawDDAcb5GtHkAH8AWq8s0CeIywICx/qfswTDA1+O6VWHwFsAFgVM+Pe4vwE9EA0Nz6DDAhtMJKxCe5b+oQd1JRHwLwDxouUiaGvK/CwdYOyfXFECE50INGL8twKUUNVfvFhLAxaH4nUc1EUDzicWladgEwDlxz35kQBbAwP7B18bqAsAFMqH8JH0RQIaJrVc71C7AvCVBjhZ847/DfYJUSxcaQHMBCgUdLCrA2VwFmROcHcCskXAh/hI1wNs9iC4wfQzAKq6psEAuMMC2+SmJNBUuwEAZsAmAnhDA3f4Cwky6MMCHAFcZjs0wwMEgaxcwsAnAuVwGFdp+/7+U3iS2w5wxwIdZNZotpBXA1CqRBPhuIMDd/ryYH7UOwINP/zAvcQpAkzXZWcbILcDs1WSwusYBwOK4CLKByw9A5Id3defOLMAspi0mHvMRwN8yLQDKSCDA7fLxM0jaM8BrmJPF8YMiwDF2sqCWTTPA9FCvTOszKMCoIVRZfCg0wGRS5cAncBzAsBW5Ogc+I8ByrYm56JIywJiFjFjobiLADpoTpROzMMAX3nhtoAAkwHGh/0qJsRfA8NY9D7XAFEDvzxOGVgohwCeLpgm/JAfACZFG6mwsI8DvMSxufA8xwI1RUAf4Kv2/aS67zProFkBAvkaX1fobwACEQh7PEyHAOTzYZWlaJcDy1mx36LwvwFyS1mYhxBzAepOw+LQKM8A+Q5y2cZYYwJmMtdso1DHAZtHBRaWdKMDuca8/9J0zwBRvhfVjBhXAA1tWz4+iK8A/VSnilcgjwJ+yqC32KzHAyYQtt6AVI8ClCQXM48AxwACebxxQEA3Avj7ir4tLC8AFxOBUuXsuwE/KV8/lpBzAwaeJTG4AMcAWHnhM6AQGwM9qolYMKjDATFtP+34l7z89gpcQuHY0wNkhThPclhrAncob8CNbMcCchBZRlcEKwFy5E+ylyjHACzKc5nQcE8Cyuqs1hnkwwLmgSj3ijtW/oybEvT+bMMAlPAVg1gkVwMgsFgLpjy7AuPCyZyhBIcAmGIKFDFUzwO8ey8moxR3AfKlpNpiVMMC/1MJLFM8twPxmMRr6niDAk/r/E9pBHsAXDggMZ/wzwGDGyQ4A7h3AWTNstdZUMcDtU8QC03MXwImu6MOMeDHAFguz6mRBIsD7at0Zh70UwDH8FB+9bB3AhryS8N5VNMCLmH/SPHgiwFoA2QCP9yDA8dA9YqKWIcD4+uK/M4QowMb5z9t8hhZAWdJWRH9GJ8BYJVD31hMgwPISN/WezCPALlfpqriEJcCSql2q7tgrwFQeNLryph/A+V6Id/ISKcBCwVhYDbkRQCaGkRd9sTHAIIQwT234GcCDCCB9kuYnwIvF8iX2JhJAPFMz5Q9WM8DZaM3JLIz6P45SzX9zwTHAMApmyJElC0BtCzFPRBcwwBL6ZpGNUxRAa7vUJtnRKMBgbfT4HQoSQB+nK/LUhDDAOQQ9/lpXLMB8hH8wqHAWQCmZD/HfjS7ArU2J2n747T8rpRv6jh0zwJhk4WqaswrAoErdDwmeLsCrKWLpXcEHQBfuWXmaIC7AVz6qsjmJvz9Yb1M8/UgwwOcgOUfYUBFA8p4GkdafMMCe4HaV/hkqwIPBthx4VS/Al/n2p39mLcCfjP3U/QsrwLv/KztImS3AQkeH0zxeKcA=",
          "dtype": "f8"
         }
        }
       ],
       "layout": {
        "legend": {
         "title": {
          "text": "region"
         },
         "tracegroupgap": 0
        },
        "scene": {
         "domain": {
          "x": [
           0,
           1
          ],
          "y": [
           0,
           1
          ]
         },
         "xaxis": {
          "title": {
           "text": "PC1"
          }
         },
         "yaxis": {
          "title": {
           "text": "PC2"
          }
         },
         "zaxis": {
          "title": {
           "text": "PC3"
          }
         }
        },
        "template": {
         "data": {
          "bar": [
           {
            "error_x": {
             "color": "#2a3f5f"
            },
            "error_y": {
             "color": "#2a3f5f"
            },
            "marker": {
             "line": {
              "color": "#E5ECF6",
              "width": 0.5
             },
             "pattern": {
              "fillmode": "overlay",
              "size": 10,
              "solidity": 0.2
             }
            },
            "type": "bar"
           }
          ],
          "barpolar": [
           {
            "marker": {
             "line": {
              "color": "#E5ECF6",
              "width": 0.5
             },
             "pattern": {
              "fillmode": "overlay",
              "size": 10,
              "solidity": 0.2
             }
            },
            "type": "barpolar"
           }
          ],
          "carpet": [
           {
            "aaxis": {
             "endlinecolor": "#2a3f5f",
             "gridcolor": "white",
             "linecolor": "white",
             "minorgridcolor": "white",
             "startlinecolor": "#2a3f5f"
            },
            "baxis": {
             "endlinecolor": "#2a3f5f",
             "gridcolor": "white",
             "linecolor": "white",
             "minorgridcolor": "white",
             "startlinecolor": "#2a3f5f"
            },
            "type": "carpet"
           }
          ],
          "choropleth": [
           {
            "colorbar": {
             "outlinewidth": 0,
             "ticks": ""
            },
            "type": "choropleth"
           }
          ],
          "contour": [
           {
            "colorbar": {
             "outlinewidth": 0,
             "ticks": ""
            },
            "colorscale": [
             [
              0,
              "#0d0887"
             ],
             [
              0.1111111111111111,
              "#46039f"
             ],
             [
              0.2222222222222222,
              "#7201a8"
             ],
             [
              0.3333333333333333,
              "#9c179e"
             ],
             [
              0.4444444444444444,
              "#bd3786"
             ],
             [
              0.5555555555555556,
              "#d8576b"
             ],
             [
              0.6666666666666666,
              "#ed7953"
             ],
             [
              0.7777777777777778,
              "#fb9f3a"
             ],
             [
              0.8888888888888888,
              "#fdca26"
             ],
             [
              1,
              "#f0f921"
             ]
            ],
            "type": "contour"
           }
          ],
          "contourcarpet": [
           {
            "colorbar": {
             "outlinewidth": 0,
             "ticks": ""
            },
            "type": "contourcarpet"
           }
          ],
          "heatmap": [
           {
            "colorbar": {
             "outlinewidth": 0,
             "ticks": ""
            },
            "colorscale": [
             [
              0,
              "#0d0887"
             ],
             [
              0.1111111111111111,
              "#46039f"
             ],
             [
              0.2222222222222222,
              "#7201a8"
             ],
             [
              0.3333333333333333,
              "#9c179e"
             ],
             [
              0.4444444444444444,
              "#bd3786"
             ],
             [
              0.5555555555555556,
              "#d8576b"
             ],
             [
              0.6666666666666666,
              "#ed7953"
             ],
             [
              0.7777777777777778,
              "#fb9f3a"
             ],
             [
              0.8888888888888888,
              "#fdca26"
             ],
             [
              1,
              "#f0f921"
             ]
            ],
            "type": "heatmap"
           }
          ],
          "histogram": [
           {
            "marker": {
             "pattern": {
              "fillmode": "overlay",
              "size": 10,
              "solidity": 0.2
             }
            },
            "type": "histogram"
           }
          ],
          "histogram2d": [
           {
            "colorbar": {
             "outlinewidth": 0,
             "ticks": ""
            },
            "colorscale": [
             [
              0,
              "#0d0887"
             ],
             [
              0.1111111111111111,
              "#46039f"
             ],
             [
              0.2222222222222222,
              "#7201a8"
             ],
             [
              0.3333333333333333,
              "#9c179e"
             ],
             [
              0.4444444444444444,
              "#bd3786"
             ],
             [
              0.5555555555555556,
              "#d8576b"
             ],
             [
              0.6666666666666666,
              "#ed7953"
             ],
             [
              0.7777777777777778,
              "#fb9f3a"
             ],
             [
              0.8888888888888888,
              "#fdca26"
             ],
             [
              1,
              "#f0f921"
             ]
            ],
            "type": "histogram2d"
           }
          ],
          "histogram2dcontour": [
           {
            "colorbar": {
             "outlinewidth": 0,
             "ticks": ""
            },
            "colorscale": [
             [
              0,
              "#0d0887"
             ],
             [
              0.1111111111111111,
              "#46039f"
             ],
             [
              0.2222222222222222,
              "#7201a8"
             ],
             [
              0.3333333333333333,
              "#9c179e"
             ],
             [
              0.4444444444444444,
              "#bd3786"
             ],
             [
              0.5555555555555556,
              "#d8576b"
             ],
             [
              0.6666666666666666,
              "#ed7953"
             ],
             [
              0.7777777777777778,
              "#fb9f3a"
             ],
             [
              0.8888888888888888,
              "#fdca26"
             ],
             [
              1,
              "#f0f921"
             ]
            ],
            "type": "histogram2dcontour"
           }
          ],
          "mesh3d": [
           {
            "colorbar": {
             "outlinewidth": 0,
             "ticks": ""
            },
            "type": "mesh3d"
           }
          ],
          "parcoords": [
           {
            "line": {
             "colorbar": {
              "outlinewidth": 0,
              "ticks": ""
             }
            },
            "type": "parcoords"
           }
          ],
          "pie": [
           {
            "automargin": true,
            "type": "pie"
           }
          ],
          "scatter": [
           {
            "fillpattern": {
             "fillmode": "overlay",
             "size": 10,
             "solidity": 0.2
            },
            "type": "scatter"
           }
          ],
          "scatter3d": [
           {
            "line": {
             "colorbar": {
              "outlinewidth": 0,
              "ticks": ""
             }
            },
            "marker": {
             "colorbar": {
              "outlinewidth": 0,
              "ticks": ""
             }
            },
            "type": "scatter3d"
           }
          ],
          "scattercarpet": [
           {
            "marker": {
             "colorbar": {
              "outlinewidth": 0,
              "ticks": ""
             }
            },
            "type": "scattercarpet"
           }
          ],
          "scattergeo": [
           {
            "marker": {
             "colorbar": {
              "outlinewidth": 0,
              "ticks": ""
             }
            },
            "type": "scattergeo"
           }
          ],
          "scattergl": [
           {
            "marker": {
             "colorbar": {
              "outlinewidth": 0,
              "ticks": ""
             }
            },
            "type": "scattergl"
           }
          ],
          "scattermap": [
           {
            "marker": {
             "colorbar": {
              "outlinewidth": 0,
              "ticks": ""
             }
            },
            "type": "scattermap"
           }
          ],
          "scattermapbox": [
           {
            "marker": {
             "colorbar": {
              "outlinewidth": 0,
              "ticks": ""
             }
            },
            "type": "scattermapbox"
           }
          ],
          "scatterpolar": [
           {
            "marker": {
             "colorbar": {
              "outlinewidth": 0,
              "ticks": ""
             }
            },
            "type": "scatterpolar"
           }
          ],
          "scatterpolargl": [
           {
            "marker": {
             "colorbar": {
              "outlinewidth": 0,
              "ticks": ""
             }
            },
            "type": "scatterpolargl"
           }
          ],
          "scatterternary": [
           {
            "marker": {
             "colorbar": {
              "outlinewidth": 0,
              "ticks": ""
             }
            },
            "type": "scatterternary"
           }
          ],
          "surface": [
           {
            "colorbar": {
             "outlinewidth": 0,
             "ticks": ""
            },
            "colorscale": [
             [
              0,
              "#0d0887"
             ],
             [
              0.1111111111111111,
              "#46039f"
             ],
             [
              0.2222222222222222,
              "#7201a8"
             ],
             [
              0.3333333333333333,
              "#9c179e"
             ],
             [
              0.4444444444444444,
              "#bd3786"
             ],
             [
              0.5555555555555556,
              "#d8576b"
             ],
             [
              0.6666666666666666,
              "#ed7953"
             ],
             [
              0.7777777777777778,
              "#fb9f3a"
             ],
             [
              0.8888888888888888,
              "#fdca26"
             ],
             [
              1,
              "#f0f921"
             ]
            ],
            "type": "surface"
           }
          ],
          "table": [
           {
            "cells": {
             "fill": {
              "color": "#EBF0F8"
             },
             "line": {
              "color": "white"
             }
            },
            "header": {
             "fill": {
              "color": "#C8D4E3"
             },
             "line": {
              "color": "white"
             }
            },
            "type": "table"
           }
          ]
         },
         "layout": {
          "annotationdefaults": {
           "arrowcolor": "#2a3f5f",
           "arrowhead": 0,
           "arrowwidth": 1
          },
          "autotypenumbers": "strict",
          "coloraxis": {
           "colorbar": {
            "outlinewidth": 0,
            "ticks": ""
           }
          },
          "colorscale": {
           "diverging": [
            [
             0,
             "#8e0152"
            ],
            [
             0.1,
             "#c51b7d"
            ],
            [
             0.2,
             "#de77ae"
            ],
            [
             0.3,
             "#f1b6da"
            ],
            [
             0.4,
             "#fde0ef"
            ],
            [
             0.5,
             "#f7f7f7"
            ],
            [
             0.6,
             "#e6f5d0"
            ],
            [
             0.7,
             "#b8e186"
            ],
            [
             0.8,
             "#7fbc41"
            ],
            [
             0.9,
             "#4d9221"
            ],
            [
             1,
             "#276419"
            ]
           ],
           "sequential": [
            [
             0,
             "#0d0887"
            ],
            [
             0.1111111111111111,
             "#46039f"
            ],
            [
             0.2222222222222222,
             "#7201a8"
            ],
            [
             0.3333333333333333,
             "#9c179e"
            ],
            [
             0.4444444444444444,
             "#bd3786"
            ],
            [
             0.5555555555555556,
             "#d8576b"
            ],
            [
             0.6666666666666666,
             "#ed7953"
            ],
            [
             0.7777777777777778,
             "#fb9f3a"
            ],
            [
             0.8888888888888888,
             "#fdca26"
            ],
            [
             1,
             "#f0f921"
            ]
           ],
           "sequentialminus": [
            [
             0,
             "#0d0887"
            ],
            [
             0.1111111111111111,
             "#46039f"
            ],
            [
             0.2222222222222222,
             "#7201a8"
            ],
            [
             0.3333333333333333,
             "#9c179e"
            ],
            [
             0.4444444444444444,
             "#bd3786"
            ],
            [
             0.5555555555555556,
             "#d8576b"
            ],
            [
             0.6666666666666666,
             "#ed7953"
            ],
            [
             0.7777777777777778,
             "#fb9f3a"
            ],
            [
             0.8888888888888888,
             "#fdca26"
            ],
            [
             1,
             "#f0f921"
            ]
           ]
          },
          "colorway": [
           "#636efa",
           "#EF553B",
           "#00cc96",
           "#ab63fa",
           "#FFA15A",
           "#19d3f3",
           "#FF6692",
           "#B6E880",
           "#FF97FF",
           "#FECB52"
          ],
          "font": {
           "color": "#2a3f5f"
          },
          "geo": {
           "bgcolor": "white",
           "lakecolor": "white",
           "landcolor": "#E5ECF6",
           "showlakes": true,
           "showland": true,
           "subunitcolor": "white"
          },
          "hoverlabel": {
           "align": "left"
          },
          "hovermode": "closest",
          "mapbox": {
           "style": "light"
          },
          "paper_bgcolor": "white",
          "plot_bgcolor": "#E5ECF6",
          "polar": {
           "angularaxis": {
            "gridcolor": "white",
            "linecolor": "white",
            "ticks": ""
           },
           "bgcolor": "#E5ECF6",
           "radialaxis": {
            "gridcolor": "white",
            "linecolor": "white",
            "ticks": ""
           }
          },
          "scene": {
           "xaxis": {
            "backgroundcolor": "#E5ECF6",
            "gridcolor": "white",
            "gridwidth": 2,
            "linecolor": "white",
            "showbackground": true,
            "ticks": "",
            "zerolinecolor": "white"
           },
           "yaxis": {
            "backgroundcolor": "#E5ECF6",
            "gridcolor": "white",
            "gridwidth": 2,
            "linecolor": "white",
            "showbackground": true,
            "ticks": "",
            "zerolinecolor": "white"
           },
           "zaxis": {
            "backgroundcolor": "#E5ECF6",
            "gridcolor": "white",
            "gridwidth": 2,
            "linecolor": "white",
            "showbackground": true,
            "ticks": "",
            "zerolinecolor": "white"
           }
          },
          "shapedefaults": {
           "line": {
            "color": "#2a3f5f"
           }
          },
          "ternary": {
           "aaxis": {
            "gridcolor": "white",
            "linecolor": "white",
            "ticks": ""
           },
           "baxis": {
            "gridcolor": "white",
            "linecolor": "white",
            "ticks": ""
           },
           "bgcolor": "#E5ECF6",
           "caxis": {
            "gridcolor": "white",
            "linecolor": "white",
            "ticks": ""
           }
          },
          "title": {
           "x": 0.05
          },
          "xaxis": {
           "automargin": true,
           "gridcolor": "white",
           "linecolor": "white",
           "ticks": "",
           "title": {
            "standoff": 15
           },
           "zerolinecolor": "white",
           "zerolinewidth": 2
          },
          "yaxis": {
           "automargin": true,
           "gridcolor": "white",
           "linecolor": "white",
           "ticks": "",
           "title": {
            "standoff": 15
           },
           "zerolinecolor": "white",
           "zerolinewidth": 2
          }
         }
        },
        "title": {
         "text": "Plot of first three Principal Components by Brain Region"
        }
       }
      }
     },
     "metadata": {},
     "output_type": "display_data"
    }
   ],
   "source": [
    "fig = px.scatter_3d(\n",
    "    PC_brain_region_df,\n",
    "    x=\"PC1\", y=\"PC2\", z=\"PC3\",\n",
    "    color=\"region\",\n",
    "    category_orders={\"region\": [\"ancg\", \"cb\", \"dlpfc\"]},\n",
    "    opacity=0.85,\n",
    "    title=\"Plot of first three Principal Components by Brain Region\"\n",
    ")\n",
    "fig.update_traces(marker=dict(size=4))\n",
    "fig.update_layout(scene=dict(xaxis_title=\"PC1\", yaxis_title=\"PC2\", zaxis_title=\"PC3\"))\n",
    "fig.show()  # drag to rotate\n",
    "\n"
   ]
  },
  {
   "cell_type": "code",
   "execution_count": 136,
   "id": "16acdeb6",
   "metadata": {},
   "outputs": [
    {
     "data": {
      "application/vnd.plotly.v1+json": {
       "config": {
        "plotlyServerURL": "https://plot.ly"
       },
       "data": [
        {
         "marker": {
          "size": 3
         },
         "mode": "markers",
         "name": "ancg",
         "scene": "scene",
         "showlegend": false,
         "type": "scatter3d",
         "x": {
          "bdata": "r94AuqAsbsA0cvbQryJswC+wGp376nPAsTS+nZ/dYkBfEXKEaJYxQEuhzBS/5GjAhsBec7ObWEBaRxCqbc45QCvxkQfB3V5AMQcRXTKpLUB4yTwFFSdtwES4WCvog2zASy9cnSoAbsAsveKWy1BvQOgfTOiE2TRAWWcqkqZnYECJedhsPB5EwBILAZS5RGlASki+KR8EEsCQwUGZLpJbQEGPQafrW0bApM/YeW1KccDXiQiiDwxvQLMM1d5X0SxAWXTU+uu4E8BklKxfBddhQErwkD52akPA+MXn+g/jZEB44TvqpppXQELXsT4/NErAZGuZh0OLY0AG0jz18bc1QII9vqQHgGVADjbEDKqBaECowby/u0BkQPJy5gbi5STA6mEeMmp7VcD3NiVXZJJwwFO4UjQuGV1A0gdgUWn6ZUDV9DCN7WVcQAiAqBSwd0zA8CcgIX8hXEDK57jIRuMmQK33kbyiSVlA/LvhFBZOScAxp5c8MjNawJk6L2NB3UvAuTuAOG5lW0DIBLOryhlKwOIr/cqf0FnAXcPFrmSXR0DcbtwZgWFcwBcEZebLkVdAhQ9D/+j6RsDZWfiZPrNQwFAdwKLABlTA93c8JMuBY0ASDW3ok69bwCt3c1gW315ACHpdrL6HRMDmj6LtYOBoQCvCK9LXs3RAxc0nxkF4ZEDJPaqg/8FNwAq056SQF2RA40A5+h0aRMAF133q6l9pQDASh9ucOUjABn3Jq2KJd0CWuFrZWmxgQCr1ZAdnrEFAUO4aCkYKSMDcHczXJ/xmQNZS1UzeD1ZAKSa/3vWLW0BQzqhEYWxXQNXuy+RHlGRAcdVoZkS9SkBbnasamXNlQP+DTWnA/GtA+HmzvyG4b0DcdqfSKcFvQFrkLzDODmtAhEg20GgzbkCEl108zW1nQMFyz4++sjpA6NUL7jjIXECNvCyLLC5XwP4JiRjgTVtAUKgkTyIOYkD9CEove3dgQLV41HBXXTLALci1gcgRZEBOJkuXTjZFQNVGzDO/YFpAhh22FJ+tIEA/pTKMSkViQKSlSHHF80JA/6PZyGLRVEAiu7pyyKEjwKqjFtoy7lVA3aGZQwLiWUCy739QI9ZPQNG0PVt2fVDAtuBbeNv/ZkD+/JDt1bYYQMAHi5sjD1NA6IX7fZ5yN8APjfdT9xhlQJTF1AyEmQJAUAhFcLVBXUAc2lgVjMZIQHqXXlQeaWRAIk4PUsQ4PUBdd9ez6gVNQC+QBp8hU1ZA9bg8wHzUUECml+CMyHg8QLCXKRUCV2VA8mqqGCFxUkA20jCi9b9aQCm4WebfXT5AuNyn8ZdzZ0BqjJkNG59IQKxwMlwdRFhA7aXwJZEAUEA=",
          "dtype": "f8"
         },
         "y": {
          "bdata": "43Ahk1rHIEC5DkkQdkHVv69Y22MkREDAUkJYYiJ6O8Dh8fwRdD0/QLcwzZDUlC7AGXXSpVlZMsAr/7mCjxQ5QJt7wu/EnSdAdlK/NKGnJ0D/k69F41oPwEnEAy9aFyvADHy/2jBOK8DVRQzEBRZDwOq83pqPgTlA3YSsqBbXJ8DIz4FlJIUMQEW2fyuMHhrAhTSy2fwALECUjTVO/bUzwOkk6JIGlTJAEKh8mp1NBMDKcu9V0Ec8wCOFXdMGdkFA1tjlayBaN8B78+fVM6QwQNt3tp8YYALA+6iYbYKiNsAb4DwMldwaQPQmhz4NcSBAzq0B1b4HMcCgzrt1L9AnQEOoow4sVCfAQYHklrB3OsBMi23+tLQgwFZEb++pbzhAuGuXJy2KQMCWhc7RXwQxwNn4x7sp1xfA7cGLvtJlJEA8YzxXvpsowI0BDw4fhCFAFhuOSFl+LUCn4ocghb81QHx54sYXS0HA4G0LIsVwMMAn68VBnplPwGYJlOT+TTHA8h0VdfA6IsBwES/NjJgOwEigmF08dDrAN/YotwsqC0D2OD3LnQcswJmfT3q+TjdA0S/U+tsGLkCBcLpBG/oBwD8A8knFdDvAkfZyoDcNCEAhbBW7G6glwDBTHUtwKiFAyD0pRFsJF8BJaWmZVcQwQH1VJNAnWArApQ7IXCblGUBxvcETBE4RwOQOclsmyi/AxQSC8qduHMAjJlOkvC0FQOsmr2XRsRzACECKFTNVScBZSFhE+Of8PwUUzWEPISjAfU8CLJv0QsB4BFtWxLk5wNz2q/6Pwi/ATw4R8OYs778wIKEsyKACwCv+HvSQpEVA54NuI4a4REDNKmsl294NwHhWuiEOJOA/JXEkjgm5G8A2iVUeAZ0UQHaY/0Vk2ybAW2fMHvtHLkCsT/iPgdw6QEpJ+aTypkNAUKIwOj8QQUAPIAQDfwxCQBrF6dw5oUHAzznIsINkMsCiARx05nJHQKLzPMzh50ZAf1McEaGjRUDUqNwGZHlAQGB9XyYcxDRAaxx53EXDREB3aWJhYpEtQNUChv0i7ENAvT2cikQOPECV1aLxiIhEQB8XNKUjYkFA7mZCzfLEKUDo9jiWVagpQI0GCvLrFhVAAq/EzZ/hQUAY4z0x1LlAQPjHnecx10NA05S5uMqVPkCuwF+aPFw+QEjGKosy8EBAaXF+oym1QkCft768CrVFQK8H7N37GkJAMkULdS1/RkD/gXJN43Y7QGtdk1SMBw/A//GAXDZqP0BjM4CTT68rQBJTDWMqgkRAHNSZTbYRLkAz67bcL5JKQN8StbwOxTNACTpbbeHTREByI8h+CZnUP3AdRWCErUBATPEq34Tf+b8=",
          "dtype": "f8"
         },
         "z": {
          "bdata": "PzLOt53Epr/5MhZgVCrwP/DWhPe7cfE/6+i9Cb/hLMDIIBsLpvc0wMRDv6aKA9U/W88O9MMWKsAuFpsaYOc1wLz0qBjKPijAcmc+JR29NcDijqDPovMBwDUcMI+V0uE/5D76vCbWDUDVw0sGIe4twIJKtc3uNDTAzVvgpnTaJ8AXvpwR62QzwC/kg8DE3SbAaBitDjrAM8Bc5DTAM+ojwI+Wm7JhKTLAnY4DL06wIUCqpLSjYAAswNEjUEy29y3AcOe/lKaRMMA7pr9sY2YmwIiNUieVKDHAk0TGjhRJKMBPjsZl6I4swLLkXejAEDfASAOM/fajKsBwGxVGlfYzwCQm9updeijAwjsSvMJiKcCU26nOEZMswNSTScmMbjTAyfs4rBTCMMCMg86sw9P9P2SqLogY8iHAiMgFkJT1NMAcFkD+ruUnwJ4MDjN0QTPAOOcXEUVQKcB2ebRUvhQ2wJCa17l03irApgz53m5RM8Dz2yy0OzgtwDo+qXw1kTLAVHOffqyMJ8CAbhiFYfg1wG9MWVwNQi/AfFVGeKdvKMC/nSGruP0xwDmMtCM85iXAskaGmQT6NMA7YE6wCbwxwC0RZTCJFDHAeoIeLVJYKsAm1BSd2UoywMBeklbwqyfAlrCDWz7mMcBPx/JaDkMkwLhMgssFlDjANKlQX6EELcCb58fk9Y8ywILVV/pFfSbA7CdlyGGyMcBUoXZSNs0rwOtvNzhbNDPADZrg27J9MMDV+0m5Ld81wLL+WT0hGinAB6p4DLj6NMBpqnuvUj0hwHWRBJQx6zLA4NWEdd5QI8DEs6HUX7czwG4kuT6nDxvAzsEmsqwTMMCGaYYKtqUgwBqLwpTwMzXArOWwEnxLJsAm0mdM34E3wD7CnBhh1ibAj5G+mMJ3NcDA4P+4abglwIHDI2QdDDPArVc5RpePH8DCGPpQ800qwPZK0XlB3yLA47h5CU26NMBM/faNEAUdwAjyWc2ngC3ADr69EpipGMBCjtYi89IxwJ9RjdN1eCHAd1FePs2wMMBqYN3yULcgwMo2OJlQozHAbNppbvjVIcArhNEF2zoywAvilHD8bSLAjkD1imneMcDf2X0fIDkbwJOnvurlTjDAquhUPIJ/JMApa13Y5NAywMBgxCQ7YgPACzyJ6umELMDkZiqrk60ewITYrvy9ATHAT/zDYk41HsAAujsSupcxwOWXsj1a1RnAsCRqOzYgMMAr/Fsf6RIhwAMr50MGIzPAKR9emvojIMDd9WYSbRowwK6M5jRygSHAddzV8otmMcDtv/VmmVAYwPN8KO33ajDA6lpuKLIlJMAR1oLKxBw1wPlmqVfCCiTAsL3A5qi6MsA=",
          "dtype": "f8"
         }
        },
        {
         "marker": {
          "size": 3
         },
         "mode": "markers",
         "name": "cb",
         "scene": "scene2",
         "showlegend": false,
         "type": "scatter3d",
         "x": {
          "bdata": "gW5bVuJGdMDpyZHEwlo/wI6cDbxxNHPACoQeoglcAMCO+OjrDJN1wNcz784JIGDAHAoHUgrwakAuOfTLA25xwCvcVWur+DfAIE8E0v4ba0CZHdggj15lQAj15f9zq2/AcFEMa0TPQsBxzMrrzQ5xwC0ZJ48jwVjAg2bELvzMcMAAOi5cuC9RwCdkzBMAEmFAZ8oHJFcEY0BnneSU8lhcQHJESN8FFURA3/W53av2dsBV2eA1+N1LwNWcHi2nMltAI9WT6GS3TsCDTAvB1j9lQNyph1bDeFBApAVlR3qX/z/IsAa90ONhQFajGYhEWmBAeNbYg/5dWEAFEj29L9pfQPUhpJAmSzxA72MVCl01X0BrLNh25KxfwN9IV2j1sWbA2JgkVVtIYUAp+GM47K9ZQD9qG0HGk0VA2kPWF8ZQZkBxqBaN5XtiQFmQBJkbRmBAJtzEfIa+VsCqMGT8r3AlQO70sRzmS0NAf6dkPecFYsAJ+EMOUJY1wHBVRpOb1kbA2tHhPzADTUA9dalCu0hmQFOEKanZbBjA/Q0oFY1eVsA398JT78w8QEmDGiKozWVAgW5ICnZFUkBwnr2qlQEewHstv+N5oV9ABk48u6G+N0BMOjmPMUpRQP0xsSNwn2RAVeTXljdxaUD8Qm0JHAVGwKjA6GdJzFdARUOkb7A1FMD9HQO3i4UqwP/FtTBygV9AbZi1GEO4XEATNyUdUKdgQHuQ3Qacj2RAk9Zsds5OXEDyfELdgTBjQHlbiXO3imNAA9XVnj0DaEAN/Nd6ULRjQHEchnJm8mtA+XddOh/MW0Bcw/R+PEhjQB3aohjtTV9A93ArC+D4MMDLdBDIePRjQKtjlMgAhlhA",
          "dtype": "f8"
         },
         "y": {
          "bdata": "+/uUGRAnJMD3hBdZ7Dc0wMFG62sDPz3AxdoFRaG/QMCF/+xF0/FBwHK7oIamFUPAxARk7X/3PcCIo/Ho0a0wwEevlfh2ZTTAgtEXvjfSQsB4Xf98Glo5wHnCHoihnSnA9UYM6+KvH8CdIZ95t0wzwBj15ddOtyzACfPpR4nZLcAC+5tRP5MswM9tMV0E4zXAG9SmmpuKRMB2cIXFXl4+wNUGj/buFzLAVcZIzjwpQMCVPoIxxDEuwAVwsVuMpTnA0Ca/tU5WR0AFh6dlPqUqwNjksEHJEj/AMdmEwDK3IUCkH208hGwTQBp4BIVykyzA/OPA/AxKNsA/6iHmM6k0wCXVKjZaZyHAfmZC5jcl6D/45LDCZoRBQCkm7T7U4zzAIPedZvDLMEAyX842py35v+TklZE4+RbAZKXYy3q5NMAzdlYThS0YQNXC3DUBqSbA0yNlQOfeREAIJ/1cwBUxQB4qgbl/pRRAnzozhrAJOEDTEC+VDx4QwH56+wGtbDrAXmLzxBDdOMDYF6tgHjgzwCweuqjzKUXAMExrHsxHPUDLpCVPfV8swMH7T+jjRyTAFH77dWOcQcAPVkgQpy4YQME7Sf3DGh1ASh1FuvyKA0D8UEicKvcsQOKVnHhwlz1Az/VEJlOIIMDB0pe8a+H8v8JLAzcouO+/z6NdphsgI0D57+H2K/siQMkdu7sea/G/uB1NsmEXQkA7GdcWR/ztv5s/aU5uHizAfEgMM51lQUCS+oh2n6gMwEgntFN2cT9AJ2fd2HKOBEBLkNOY5vMzQIxOSjwXYzDAFELIyx4uQkA63/5yim4gQLwR9cVpPEDAC1k9KizTEMAV0yqDzZUwQIpRLIHu3tu/",
          "dtype": "f8"
         },
         "z": {
          "bdata": "lk7+QyqqQkDM/41c99o7QGVM1drpjT1AEFJykpVSNUCRsxEkdao6QI0ydzOtETJABi+DbwiYQUByZVdbfYNCQL+/Go/wlT1AtzdL1tVEQUBiXktgaClCQMQcFK3fh0JAocuBeu2rQECJVwfuv39BQP5XpCA2iD5AxPcJYayFQECyhPBpjWw6QOzep4JH+kJAt41NaTZBQEDHY3nYob9BQIBl67hqqERA0Rtzl27zPkCHdx9c4ghAQBjUgwSqokFAB7VOdm4dTEBwLwVTW9BDQCbfRwrjQT5AOniRZYQVR0DZDklPY99HQIjyOG3rG0RAwObh/0utREDOmYODsJdCQJ8ZY3GRRERAzzC7sFXdRkDxAhP/WJJJQBVZkkaWMjNApQuXThp/SkDfjgKJsxJEQIGzRPizh0RAglZ+tKUiQ0B/tHOamHdIQNCJ8Y1EL0VAjqkgiZ3vSkBgbG4foRNIQNOcZJAdvUdATY1x+4XTTEDiNTO5sM5GQKdaDBDPlTpArZeiDMVGQ0AlYbqHPyhGQC4yxnKa8jpAq6Fa5H0hSkD9nEnU6DhEQCdZkNBYkUZAoRlGfKvUQUA4bypzujlGQLBKdhGCr0dAkywaViYaRUC5KUSeHdlHQGmE+hCW8E5ApGt/yjZsRECeJYtuN4BHQNOphyFO60hAhzZ3UmqiR0ATF+944DJIQEXb0/j5H0dAzqEWwh3MTEALJ/2xAg9EQA+2MBpfb0NAHInDNFq4TkCj+Jyj/wZFQKSagCw5Pk1Ase/qxnWfRECxGsAHKqxMQJhK4RVumkNA0cPWfaX3TkBIOmxPZdNGQIXfN/jolEBAiMVIW4kbQUBR0HPBsf9LQLM47YTrLEVA",
          "dtype": "f8"
         }
        },
        {
         "marker": {
          "size": 3
         },
         "mode": "markers",
         "name": "dlpfc",
         "scene": "scene3",
         "showlegend": false,
         "type": "scatter3d",
         "x": {
          "bdata": "Ek/F9GgYX8B8h3/IVdRgQB7Bv5fF7lDAb5yQb4j7c8CFWQ/0cBMuQHyxtT2hS1zA2ovvmy8LcsBHtyzN848tQM1F3Zo63WDAOHmuD5ygecDLBXR1sUdXwEL04lQ3yFXA06dLC6J9UsCqI7am+2ZQwE/wpwjvQ0PA/DdrUUqrYsCprbkaClJbwD43nmys7jHA8+Vry393XsBKDIIwsBZ1wE3EoQvRvxfAhDQH/8F1VMDspPhzjkE8QMVKRjbduFfApBYB7CvwVcAX5sumuvkhQLl3CsSVpGDAqn9LBop5YcCyBKPs8DUoQJGjqAnyK1DApH0F/FljdcCJ5F7MrHBAwBbCeTKSLFPAXHnXEJN8d8ADredHtdldwLHuC8GQ3VFAMuu3up8HUMC9BOCT1jJ2wBcD1bC9F0vAzuVFj6siZMCQqTY3ued1wBtbfSbBMUlA/Mmz7BGXUsDfFUqRT1RAwLCM2nGBoWbALGiJ104HUMDX4k5A/FVowCGPxnuHBELAJojgLcyiRsAJy+YCZbFhwF6ZTXhl01fAvKq1Nl+ccsBNJCn5IplhwEpYU+1E8lbAPlLWepJZXEBK+aGU/xxAwFef5F+OQHTAPiWqaXc6ScAsk7IjZLRiwE29jTQaFGHALjNL9Y9JYMCtE/Vjn5tgwBQEcneqlSPAZ889TyDpA8BtGVRSdkFaQEooXzfWP1RAaMEIk7y6aEAm4XSHyVJcQFAfOlBtSEXA4lkI2l4cUUAM+V/MX1JWwLKYSJ3Mdk5AhyivYbxCVMDP3GPITYFYQMLVyfrJf0jAetzYdYB/Y8D0vDekllFHwBYNVYSuxFjA0giNXA4LSUCHrjifRVBFwPcpF7uUx1fAb32fuAwwdMAzMzc3E8VhwGWs9uQU40PAtm67+sMMTkCfrkZiGntCQBr47i8TLk1AWUGwnAEtR8DmMPKge/FEQOH1p1Sr6ErAgx35aur4YEDG/+eV8eBCQMtFU4gTAy/AtyobDcM4Z8D2K2H23YhHQAZ4yaPS7zxARloE1K7PXkBEMhU3wfpAQEFANwXK+SXAdtRCNPQzRcBzcGtObABjwKO1PYhpPjBAg+QcPUheY8Cnmof3YFpPwHnR5otwrBDAYkg0vFNkZ8DeC5UGEeZ2QLu3l42myDjAvU7QNnD84r9U3+o9XIZQwGDLB74sTVfAyb2vrwr9VMB1NOVHLQtLwHy+FXxxZF/A0BC1G2HMX8CGyaWj5pw/wOotkqbNvDXARaREU4wYSECpEQbNZN4xQDIrMnvsgC1AnvWT1yWURMC3gmrZbk1WwKMqZ2+hvGfAcsZGKKN4R8DJbPJiUo40wIbtPhaQG0hAdRcRdKXYOcCTx+mUbg5NwOfdFlH3cU7AEm71qyXwNEACe/Za9ldcwDpnPezBbjvAJwvtp/7sBsAB4hYl6BVGQItJKA1dRmjAI5ohI6OBQEDybr2NCX1XwHsTBD9d3GTAzdahPFv/VUBbNIfL45JQQMqxmAL17VjAotj71EsMVUCB+YRGkttZwE2CPfqKs0RALlLr7ZJJREBSvNhonf5swIPHYklK9GBAzOh9BofmMkAhoVJpNIE3QLh0AgE0YW/A09B7FKlqaEDO49ECzRpmwAU09mbxIGBAqAz4NRODacDwC9+HFLFXQN9m7F5KOG3ATCGVndgFXkBs4XVIwJNuwKVMp03AX2JA0XsIJL3T/T9ljAJJcv1uwJx1GoXUeVhAbenlJhOQZsDQ0E6BvKliQD08/R3RK0PAkPwNuD55YUBloOCSfRprwGAszTuTHllA6SfTr2alWMCctegAOJldQJXemMzFnW3A2HOjE0oPYUC3LKnzkJAlQAAXC6VNKkBASv8ot+RERUDE4dj8Pbc7wOSRkS81qU5Ab+fScKjVI0A=",
          "dtype": "f8"
         },
         "y": {
          "bdata": "UX8igne4P0AmxoeBjjo5QEHAC1ZbKjdAzV7qOcJzNcCjUexBcfk0wNU9oYdXKDRAZFWxbqirGsCxmmpWUccowP85oXVsET/Afd9bDxMdSMCWdQTGvmlNwI4X6Zw7xi1AOYhDK3RAK8Ao6R8U1oJAQOI7/hrpMgZAuhg+XAfqHEBZ6MZLk9RMQLO96vhh8Ng/l7yZgv6UHkAsiUfmdbs1wAYuXersOCbA0pohu2rzMUCBAIqI5FInwLueDI8blTvA6AYZXviOP0AzDvhq6XrtP6CzYA/JOzDAzHEpkVQdN0B3mUnlOl8fQEkDxlv2TyxAImeHlKpVFMBa0Ip9XZMywKPiSnGwsRdAr9UhI5mcUMA0h9GeBWMlQGgKuFI4tSDAsvHNMhCrBcBK0/XThZYjwG0mPd9YJRNAVTLSr8KEKcAs6VwaINo3wHO8tKjpp1DAWF6OdbDGQUC3OstizsEqwA5VAVDQeSxAE/YMsZJasr+NcsOMuoU6wO78fIc/m0tAGgqfZmIQFcDv3sf70+Xpv6Rc6/uIgj1AmQtjP2HcPsAY870Ak0wSwPq+ROXJbSxAOl1XohEnLMAcgVTdq4wZQHQsnS+XLBzAoIT8MNBMGMBTXjY8oiI7QFUCWhZ5gTtAxwL8GOa0TMCk2J6EjbkUQKTzxSHrkzfAV8Yqi/yXJMAEufg4Tww5wBz9kHRr1CTAKnD2HboUQ8DkW5hCSZVHwPsBH1rRU0DA727jPFAhQcBusfYB3hojwEOqKtstOv4/HAKHF64IL8C+ALrF2QEqwIQ6Ms3NETRAjamHekJ+VMDkC6tUMYhRwPWLUJuaZyxAhfpYD/KMPMA4q0L9wl1BwH2OrVy2jBpAXYFHPLLIIsBTwxonzRg2QHHQiQfHd0bAHQ0CSw0KGMBwdbTXpSQbQCmhB8GoLDvA40EBZ9t8IUAw3M5M4K4qwKdQoFS6lgBAHMt9fRpNMMCeyRmN390WwK+cJHO4GDrAKiu7kw7CK8DjJKupkx5PwChHjv34q1TAxRV3splbPcDkfH/10qw2wLHoL2H8Xk7AR3SN30MRNMA4n4JUrCwlwNclygSSizDAobzMo1BHLMBIrfockLgWwP5gyq34KEHAMMtoV5leM8DhEj6liJdhwARrs9xQDJm/mXuwbSi9A8AZiudBVhwtQJFuD7e9VSBAbZ49XFpaG0C4yGPG8TsrwFqdMlkceAnAO1hFKJgh4r8Mpuxq4vn/P8fFQ0fg7kHAP0zBzQxNMEBwNBgRgMQnQPXYx9YwJbQ/y+VbhMoGJsBXPvhZHgAcwP/oWQA31j7A+QmGvtayAkCpwvCQoRYxwOKl9jpfIec/P1lZ5pklJ8CKCCDZhxEBQIiV+EBdoD/ARBMnDgsEJ0BydNmq5apJwBbZG931iyrAVNGt5Ed3MMCFmqrOHyAowArr48Gau0XAGDGLc6rxIUBTCmgC/q1BwB4ItU3PHVNAtQ1fuLNzQkAES1LPB4giQOx1pWkbBT/AgnKGd4zH27/3ZlWALIZEwNcx6SDtVilAXHxQLB/yHEBZ/Kjpq2BTQId5Yn9BRBJAUOHcfNyt3T/uVIofOI4xQDkVgY9Sj09AKGCqsNq+KMA+GjpjerxRQLnZ1uibqjJABdxVw9wZUUDEanc8AIk5QN9lftTb1VFA2ABfa8RkSECwKLjPTTVSQNsadaz1HSJAFmBk4H/K8L9rxJwK7P9DQBVK2ecAAxHASv0T/NlQUkCpERu/f8c6QEXAKWTBsqw/v1HZHQbXPUAvWitss3ZSQFZE5t3Moz9AYwIwn9jeUUArPxFEjONBQA2S8TaIr1NASEBtbWoTNEACnMn1cQMvQJIKjhwsDAzAu+iwObBkJ0CUVdv4j8I0QDzuHOhpCzFA46BHqrlwOEA=",
          "dtype": "f8"
         },
         "z": {
          "bdata": "g5JqsGfvAcCCwaN759kSwI2W0Nm1owXAXfYycP3WC0DiP40LeGcxwB99I9dYkNs/2eWLVQp7EECQYlZIpBkwwD3RhFZ8pAXAP2cfrOguIkAFmcjRZyYwwCJAF/Ip9wTABHxBw1zKLMCpGcPXPpEewDCwCfbqbS7A85658DKqMMDMUs1wPjcUwPmSIoVwlDLAMgxfSfiDC8DCXshQSTQSQEbAHzEawDDAcb5GtHkAH8AWq8s0CeIywICx/qfswTDA1+O6VWHwFsAFgVM+Pe4vwE9EA0Nz6DDAhtMJKxCe5b+oQd1JRHwLwDxouUiaGvK/CwdYOyfXFECE50INGL8twKUUNVfvFhLAxaH4nUc1EUDzicWladgEwDlxz35kQBbAwP7B18bqAsAFMqH8JH0RQIaJrVc71C7AvCVBjhZ847/DfYJUSxcaQHMBCgUdLCrA2VwFmROcHcCskXAh/hI1wNs9iC4wfQzAKq6psEAuMMC2+SmJNBUuwEAZsAmAnhDA3f4Cwky6MMCHAFcZjs0wwMEgaxcwsAnAuVwGFdp+/7+U3iS2w5wxwIdZNZotpBXA1CqRBPhuIMDd/ryYH7UOwINP/zAvcQpAkzXZWcbILcDs1WSwusYBwOK4CLKByw9A5Id3defOLMAspi0mHvMRwN8yLQDKSCDA7fLxM0jaM8BrmJPF8YMiwDF2sqCWTTPA9FCvTOszKMCoIVRZfCg0wGRS5cAncBzAsBW5Ogc+I8ByrYm56JIywJiFjFjobiLADpoTpROzMMAX3nhtoAAkwHGh/0qJsRfA8NY9D7XAFEDvzxOGVgohwCeLpgm/JAfACZFG6mwsI8DvMSxufA8xwI1RUAf4Kv2/aS67zProFkBAvkaX1fobwACEQh7PEyHAOTzYZWlaJcDy1mx36LwvwFyS1mYhxBzAepOw+LQKM8A+Q5y2cZYYwJmMtdso1DHAZtHBRaWdKMDuca8/9J0zwBRvhfVjBhXAA1tWz4+iK8A/VSnilcgjwJ+yqC32KzHAyYQtt6AVI8ClCQXM48AxwACebxxQEA3Avj7ir4tLC8AFxOBUuXsuwE/KV8/lpBzAwaeJTG4AMcAWHnhM6AQGwM9qolYMKjDATFtP+34l7z89gpcQuHY0wNkhThPclhrAncob8CNbMcCchBZRlcEKwFy5E+ylyjHACzKc5nQcE8Cyuqs1hnkwwLmgSj3ijtW/oybEvT+bMMAlPAVg1gkVwMgsFgLpjy7AuPCyZyhBIcAmGIKFDFUzwO8ey8moxR3AfKlpNpiVMMC/1MJLFM8twPxmMRr6niDAk/r/E9pBHsAXDggMZ/wzwGDGyQ4A7h3AWTNstdZUMcDtU8QC03MXwImu6MOMeDHAFguz6mRBIsD7at0Zh70UwDH8FB+9bB3AhryS8N5VNMCLmH/SPHgiwFoA2QCP9yDA8dA9YqKWIcD4+uK/M4QowMb5z9t8hhZAWdJWRH9GJ8BYJVD31hMgwPISN/WezCPALlfpqriEJcCSql2q7tgrwFQeNLryph/A+V6Id/ISKcBCwVhYDbkRQCaGkRd9sTHAIIQwT234GcCDCCB9kuYnwIvF8iX2JhJAPFMz5Q9WM8DZaM3JLIz6P45SzX9zwTHAMApmyJElC0BtCzFPRBcwwBL6ZpGNUxRAa7vUJtnRKMBgbfT4HQoSQB+nK/LUhDDAOQQ9/lpXLMB8hH8wqHAWQCmZD/HfjS7ArU2J2n747T8rpRv6jh0zwJhk4WqaswrAoErdDwmeLsCrKWLpXcEHQBfuWXmaIC7AVz6qsjmJvz9Yb1M8/UgwwOcgOUfYUBFA8p4GkdafMMCe4HaV/hkqwIPBthx4VS/Al/n2p39mLcCfjP3U/QsrwLv/KztImS3AQkeH0zxeKcA=",
          "dtype": "f8"
         }
        }
       ],
       "layout": {
        "annotations": [
         {
          "font": {
           "size": 16
          },
          "showarrow": false,
          "text": "ancg",
          "x": 0.14444444444444446,
          "xanchor": "center",
          "xref": "paper",
          "y": 1,
          "yanchor": "bottom",
          "yref": "paper"
         },
         {
          "font": {
           "size": 16
          },
          "showarrow": false,
          "text": "cb",
          "x": 0.5,
          "xanchor": "center",
          "xref": "paper",
          "y": 1,
          "yanchor": "bottom",
          "yref": "paper"
         },
         {
          "font": {
           "size": 16
          },
          "showarrow": false,
          "text": "dlpfc",
          "x": 0.8555555555555556,
          "xanchor": "center",
          "xref": "paper",
          "y": 1,
          "yanchor": "bottom",
          "yref": "paper"
         }
        ],
        "margin": {
         "b": 0,
         "l": 0,
         "r": 0,
         "t": 40
        },
        "scene": {
         "aspectmode": "cube",
         "domain": {
          "x": [
           0,
           0.2888888888888889
          ],
          "y": [
           0,
           1
          ]
         },
         "xaxis": {
          "title": {
           "text": "PC1"
          }
         },
         "yaxis": {
          "title": {
           "text": "PC2"
          }
         },
         "zaxis": {
          "title": {
           "text": "PC3"
          }
         }
        },
        "scene2": {
         "aspectmode": "cube",
         "domain": {
          "x": [
           0.35555555555555557,
           0.6444444444444445
          ],
          "y": [
           0,
           1
          ]
         },
         "xaxis": {
          "title": {
           "text": "PC1"
          }
         },
         "yaxis": {
          "title": {
           "text": "PC2"
          }
         },
         "zaxis": {
          "title": {
           "text": "PC3"
          }
         }
        },
        "scene3": {
         "aspectmode": "cube",
         "domain": {
          "x": [
           0.7111111111111111,
           1
          ],
          "y": [
           0,
           1
          ]
         },
         "xaxis": {
          "title": {
           "text": "PC1"
          }
         },
         "yaxis": {
          "title": {
           "text": "PC2"
          }
         },
         "zaxis": {
          "title": {
           "text": "PC3"
          }
         }
        },
        "template": {
         "data": {
          "bar": [
           {
            "error_x": {
             "color": "#2a3f5f"
            },
            "error_y": {
             "color": "#2a3f5f"
            },
            "marker": {
             "line": {
              "color": "#E5ECF6",
              "width": 0.5
             },
             "pattern": {
              "fillmode": "overlay",
              "size": 10,
              "solidity": 0.2
             }
            },
            "type": "bar"
           }
          ],
          "barpolar": [
           {
            "marker": {
             "line": {
              "color": "#E5ECF6",
              "width": 0.5
             },
             "pattern": {
              "fillmode": "overlay",
              "size": 10,
              "solidity": 0.2
             }
            },
            "type": "barpolar"
           }
          ],
          "carpet": [
           {
            "aaxis": {
             "endlinecolor": "#2a3f5f",
             "gridcolor": "white",
             "linecolor": "white",
             "minorgridcolor": "white",
             "startlinecolor": "#2a3f5f"
            },
            "baxis": {
             "endlinecolor": "#2a3f5f",
             "gridcolor": "white",
             "linecolor": "white",
             "minorgridcolor": "white",
             "startlinecolor": "#2a3f5f"
            },
            "type": "carpet"
           }
          ],
          "choropleth": [
           {
            "colorbar": {
             "outlinewidth": 0,
             "ticks": ""
            },
            "type": "choropleth"
           }
          ],
          "contour": [
           {
            "colorbar": {
             "outlinewidth": 0,
             "ticks": ""
            },
            "colorscale": [
             [
              0,
              "#0d0887"
             ],
             [
              0.1111111111111111,
              "#46039f"
             ],
             [
              0.2222222222222222,
              "#7201a8"
             ],
             [
              0.3333333333333333,
              "#9c179e"
             ],
             [
              0.4444444444444444,
              "#bd3786"
             ],
             [
              0.5555555555555556,
              "#d8576b"
             ],
             [
              0.6666666666666666,
              "#ed7953"
             ],
             [
              0.7777777777777778,
              "#fb9f3a"
             ],
             [
              0.8888888888888888,
              "#fdca26"
             ],
             [
              1,
              "#f0f921"
             ]
            ],
            "type": "contour"
           }
          ],
          "contourcarpet": [
           {
            "colorbar": {
             "outlinewidth": 0,
             "ticks": ""
            },
            "type": "contourcarpet"
           }
          ],
          "heatmap": [
           {
            "colorbar": {
             "outlinewidth": 0,
             "ticks": ""
            },
            "colorscale": [
             [
              0,
              "#0d0887"
             ],
             [
              0.1111111111111111,
              "#46039f"
             ],
             [
              0.2222222222222222,
              "#7201a8"
             ],
             [
              0.3333333333333333,
              "#9c179e"
             ],
             [
              0.4444444444444444,
              "#bd3786"
             ],
             [
              0.5555555555555556,
              "#d8576b"
             ],
             [
              0.6666666666666666,
              "#ed7953"
             ],
             [
              0.7777777777777778,
              "#fb9f3a"
             ],
             [
              0.8888888888888888,
              "#fdca26"
             ],
             [
              1,
              "#f0f921"
             ]
            ],
            "type": "heatmap"
           }
          ],
          "histogram": [
           {
            "marker": {
             "pattern": {
              "fillmode": "overlay",
              "size": 10,
              "solidity": 0.2
             }
            },
            "type": "histogram"
           }
          ],
          "histogram2d": [
           {
            "colorbar": {
             "outlinewidth": 0,
             "ticks": ""
            },
            "colorscale": [
             [
              0,
              "#0d0887"
             ],
             [
              0.1111111111111111,
              "#46039f"
             ],
             [
              0.2222222222222222,
              "#7201a8"
             ],
             [
              0.3333333333333333,
              "#9c179e"
             ],
             [
              0.4444444444444444,
              "#bd3786"
             ],
             [
              0.5555555555555556,
              "#d8576b"
             ],
             [
              0.6666666666666666,
              "#ed7953"
             ],
             [
              0.7777777777777778,
              "#fb9f3a"
             ],
             [
              0.8888888888888888,
              "#fdca26"
             ],
             [
              1,
              "#f0f921"
             ]
            ],
            "type": "histogram2d"
           }
          ],
          "histogram2dcontour": [
           {
            "colorbar": {
             "outlinewidth": 0,
             "ticks": ""
            },
            "colorscale": [
             [
              0,
              "#0d0887"
             ],
             [
              0.1111111111111111,
              "#46039f"
             ],
             [
              0.2222222222222222,
              "#7201a8"
             ],
             [
              0.3333333333333333,
              "#9c179e"
             ],
             [
              0.4444444444444444,
              "#bd3786"
             ],
             [
              0.5555555555555556,
              "#d8576b"
             ],
             [
              0.6666666666666666,
              "#ed7953"
             ],
             [
              0.7777777777777778,
              "#fb9f3a"
             ],
             [
              0.8888888888888888,
              "#fdca26"
             ],
             [
              1,
              "#f0f921"
             ]
            ],
            "type": "histogram2dcontour"
           }
          ],
          "mesh3d": [
           {
            "colorbar": {
             "outlinewidth": 0,
             "ticks": ""
            },
            "type": "mesh3d"
           }
          ],
          "parcoords": [
           {
            "line": {
             "colorbar": {
              "outlinewidth": 0,
              "ticks": ""
             }
            },
            "type": "parcoords"
           }
          ],
          "pie": [
           {
            "automargin": true,
            "type": "pie"
           }
          ],
          "scatter": [
           {
            "fillpattern": {
             "fillmode": "overlay",
             "size": 10,
             "solidity": 0.2
            },
            "type": "scatter"
           }
          ],
          "scatter3d": [
           {
            "line": {
             "colorbar": {
              "outlinewidth": 0,
              "ticks": ""
             }
            },
            "marker": {
             "colorbar": {
              "outlinewidth": 0,
              "ticks": ""
             }
            },
            "type": "scatter3d"
           }
          ],
          "scattercarpet": [
           {
            "marker": {
             "colorbar": {
              "outlinewidth": 0,
              "ticks": ""
             }
            },
            "type": "scattercarpet"
           }
          ],
          "scattergeo": [
           {
            "marker": {
             "colorbar": {
              "outlinewidth": 0,
              "ticks": ""
             }
            },
            "type": "scattergeo"
           }
          ],
          "scattergl": [
           {
            "marker": {
             "colorbar": {
              "outlinewidth": 0,
              "ticks": ""
             }
            },
            "type": "scattergl"
           }
          ],
          "scattermap": [
           {
            "marker": {
             "colorbar": {
              "outlinewidth": 0,
              "ticks": ""
             }
            },
            "type": "scattermap"
           }
          ],
          "scattermapbox": [
           {
            "marker": {
             "colorbar": {
              "outlinewidth": 0,
              "ticks": ""
             }
            },
            "type": "scattermapbox"
           }
          ],
          "scatterpolar": [
           {
            "marker": {
             "colorbar": {
              "outlinewidth": 0,
              "ticks": ""
             }
            },
            "type": "scatterpolar"
           }
          ],
          "scatterpolargl": [
           {
            "marker": {
             "colorbar": {
              "outlinewidth": 0,
              "ticks": ""
             }
            },
            "type": "scatterpolargl"
           }
          ],
          "scatterternary": [
           {
            "marker": {
             "colorbar": {
              "outlinewidth": 0,
              "ticks": ""
             }
            },
            "type": "scatterternary"
           }
          ],
          "surface": [
           {
            "colorbar": {
             "outlinewidth": 0,
             "ticks": ""
            },
            "colorscale": [
             [
              0,
              "#0d0887"
             ],
             [
              0.1111111111111111,
              "#46039f"
             ],
             [
              0.2222222222222222,
              "#7201a8"
             ],
             [
              0.3333333333333333,
              "#9c179e"
             ],
             [
              0.4444444444444444,
              "#bd3786"
             ],
             [
              0.5555555555555556,
              "#d8576b"
             ],
             [
              0.6666666666666666,
              "#ed7953"
             ],
             [
              0.7777777777777778,
              "#fb9f3a"
             ],
             [
              0.8888888888888888,
              "#fdca26"
             ],
             [
              1,
              "#f0f921"
             ]
            ],
            "type": "surface"
           }
          ],
          "table": [
           {
            "cells": {
             "fill": {
              "color": "#EBF0F8"
             },
             "line": {
              "color": "white"
             }
            },
            "header": {
             "fill": {
              "color": "#C8D4E3"
             },
             "line": {
              "color": "white"
             }
            },
            "type": "table"
           }
          ]
         },
         "layout": {
          "annotationdefaults": {
           "arrowcolor": "#2a3f5f",
           "arrowhead": 0,
           "arrowwidth": 1
          },
          "autotypenumbers": "strict",
          "coloraxis": {
           "colorbar": {
            "outlinewidth": 0,
            "ticks": ""
           }
          },
          "colorscale": {
           "diverging": [
            [
             0,
             "#8e0152"
            ],
            [
             0.1,
             "#c51b7d"
            ],
            [
             0.2,
             "#de77ae"
            ],
            [
             0.3,
             "#f1b6da"
            ],
            [
             0.4,
             "#fde0ef"
            ],
            [
             0.5,
             "#f7f7f7"
            ],
            [
             0.6,
             "#e6f5d0"
            ],
            [
             0.7,
             "#b8e186"
            ],
            [
             0.8,
             "#7fbc41"
            ],
            [
             0.9,
             "#4d9221"
            ],
            [
             1,
             "#276419"
            ]
           ],
           "sequential": [
            [
             0,
             "#0d0887"
            ],
            [
             0.1111111111111111,
             "#46039f"
            ],
            [
             0.2222222222222222,
             "#7201a8"
            ],
            [
             0.3333333333333333,
             "#9c179e"
            ],
            [
             0.4444444444444444,
             "#bd3786"
            ],
            [
             0.5555555555555556,
             "#d8576b"
            ],
            [
             0.6666666666666666,
             "#ed7953"
            ],
            [
             0.7777777777777778,
             "#fb9f3a"
            ],
            [
             0.8888888888888888,
             "#fdca26"
            ],
            [
             1,
             "#f0f921"
            ]
           ],
           "sequentialminus": [
            [
             0,
             "#0d0887"
            ],
            [
             0.1111111111111111,
             "#46039f"
            ],
            [
             0.2222222222222222,
             "#7201a8"
            ],
            [
             0.3333333333333333,
             "#9c179e"
            ],
            [
             0.4444444444444444,
             "#bd3786"
            ],
            [
             0.5555555555555556,
             "#d8576b"
            ],
            [
             0.6666666666666666,
             "#ed7953"
            ],
            [
             0.7777777777777778,
             "#fb9f3a"
            ],
            [
             0.8888888888888888,
             "#fdca26"
            ],
            [
             1,
             "#f0f921"
            ]
           ]
          },
          "colorway": [
           "#636efa",
           "#EF553B",
           "#00cc96",
           "#ab63fa",
           "#FFA15A",
           "#19d3f3",
           "#FF6692",
           "#B6E880",
           "#FF97FF",
           "#FECB52"
          ],
          "font": {
           "color": "#2a3f5f"
          },
          "geo": {
           "bgcolor": "white",
           "lakecolor": "white",
           "landcolor": "#E5ECF6",
           "showlakes": true,
           "showland": true,
           "subunitcolor": "white"
          },
          "hoverlabel": {
           "align": "left"
          },
          "hovermode": "closest",
          "mapbox": {
           "style": "light"
          },
          "paper_bgcolor": "white",
          "plot_bgcolor": "#E5ECF6",
          "polar": {
           "angularaxis": {
            "gridcolor": "white",
            "linecolor": "white",
            "ticks": ""
           },
           "bgcolor": "#E5ECF6",
           "radialaxis": {
            "gridcolor": "white",
            "linecolor": "white",
            "ticks": ""
           }
          },
          "scene": {
           "xaxis": {
            "backgroundcolor": "#E5ECF6",
            "gridcolor": "white",
            "gridwidth": 2,
            "linecolor": "white",
            "showbackground": true,
            "ticks": "",
            "zerolinecolor": "white"
           },
           "yaxis": {
            "backgroundcolor": "#E5ECF6",
            "gridcolor": "white",
            "gridwidth": 2,
            "linecolor": "white",
            "showbackground": true,
            "ticks": "",
            "zerolinecolor": "white"
           },
           "zaxis": {
            "backgroundcolor": "#E5ECF6",
            "gridcolor": "white",
            "gridwidth": 2,
            "linecolor": "white",
            "showbackground": true,
            "ticks": "",
            "zerolinecolor": "white"
           }
          },
          "shapedefaults": {
           "line": {
            "color": "#2a3f5f"
           }
          },
          "ternary": {
           "aaxis": {
            "gridcolor": "white",
            "linecolor": "white",
            "ticks": ""
           },
           "baxis": {
            "gridcolor": "white",
            "linecolor": "white",
            "ticks": ""
           },
           "bgcolor": "#E5ECF6",
           "caxis": {
            "gridcolor": "white",
            "linecolor": "white",
            "ticks": ""
           }
          },
          "title": {
           "x": 0.05
          },
          "xaxis": {
           "automargin": true,
           "gridcolor": "white",
           "linecolor": "white",
           "ticks": "",
           "title": {
            "standoff": 15
           },
           "zerolinecolor": "white",
           "zerolinewidth": 2
          },
          "yaxis": {
           "automargin": true,
           "gridcolor": "white",
           "linecolor": "white",
           "ticks": "",
           "title": {
            "standoff": 15
           },
           "zerolinecolor": "white",
           "zerolinewidth": 2
          }
         }
        },
        "title": {
         "text": "Separate PCs by Brain Region"
        }
       }
      }
     },
     "metadata": {},
     "output_type": "display_data"
    }
   ],
   "source": [
    "regions = [\"ancg\", \"cb\", \"dlpfc\"]\n",
    "colors  = {\"ancg\":\"red\", \"cb\":\"green\", \"dlpfc\":\"blue\"}\n",
    "\n",
    "fig = make_subplots(\n",
    "    rows=1, cols=3,\n",
    "    specs=[[{\"type\":\"scene\"}]*3],\n",
    "    subplot_titles=regions\n",
    ")\n",
    "\n",
    "for i, reg in enumerate(regions, start=1):\n",
    "    df = PC_brain_region_df[PC_brain_region_df[\"region\"] == reg]\n",
    "    fig.add_trace(\n",
    "        go.Scatter3d(\n",
    "            x=df[\"PC1\"], y=df[\"PC2\"], z=df[\"PC3\"],\n",
    "            mode=\"markers\",\n",
    "            marker=dict(size=3),\n",
    "            name=reg,\n",
    "            showlegend=False\n",
    "        ),\n",
    "        row=1, col=i\n",
    "    )\n",
    "\n",
    "fig.update_scenes(\n",
    "    xaxis_title=\"PC1\", yaxis_title=\"PC2\", zaxis_title=\"PC3\",\n",
    "    aspectmode=\"cube\"\n",
    ")\n",
    "fig.update_layout(title=\"Separate PCs by Brain Region\", margin=dict(l=0, r=0, b=0, t=40))\n",
    "fig.show()  # drag to rotate each subplot"
   ]
  },
  {
   "cell_type": "code",
   "execution_count": null,
   "id": "361c38ea",
   "metadata": {},
   "outputs": [],
   "source": []
  },
  {
   "cell_type": "code",
   "execution_count": null,
   "id": "b827cf30",
   "metadata": {},
   "outputs": [],
   "source": []
  }
 ],
 "metadata": {
  "kernelspec": {
   "display_name": "Python 3",
   "language": "python",
   "name": "python3"
  },
  "language_info": {
   "codemirror_mode": {
    "name": "ipython",
    "version": 3
   },
   "file_extension": ".py",
   "mimetype": "text/x-python",
   "name": "python",
   "nbconvert_exporter": "python",
   "pygments_lexer": "ipython3",
   "version": "3.12.5"
  }
 },
 "nbformat": 4,
 "nbformat_minor": 5
}
